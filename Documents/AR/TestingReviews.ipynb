{
 "cells": [
  {
   "cell_type": "code",
   "execution_count": 4,
   "metadata": {
    "collapsed": false,
    "nbpresent": {
     "id": "ac8bf680-7b57-4532-8f8b-7ea37be49890"
    }
   },
   "outputs": [
    {
     "name": "stdout",
     "output_type": "stream",
     "text": [
      "   A1EE2E3N7PW666  B000GFDAUG  5.0  1202256000\n",
      "0   AGZ8SM1BGK3CK  B000GFDAUG  5.0  1198195200\n",
      "1  A2VHZ21245KBT7  B000GIOPK2  4.0  1215388800\n",
      "2   ACX8YW2D5EGP6  B000GIOPK2  4.0  1185840000\n",
      "3   A9RNMO9MUSMTJ  B000GIOPK2  2.0  1281052800\n",
      "4  A3STFVPM8NHJ7B  B000GIOPK2  5.0  1203897600\n",
      "    AUI0OLXAB3KKT  B004A9SDD8  5.0  1301184000\n",
      "0  A1ZUSQ3TC3EC4C  B004A9SDD8  5.0  1321574400\n",
      "1   AC05OAXD72X1V  B004A9SDD8  4.0  1367366400\n",
      "2  A2RVMFOKBVM21I  B004A9SDD8  5.0  1350172800\n",
      "3  A3NBSRGUWQGCMZ  B004A9SDD8  1.0  1300838400\n",
      "4  A2KTVCVZJ8GPD2  B004A9SDD8  5.0  1393545600\n"
     ]
    }
   ],
   "source": [
    "import pandas as pd\n",
    "import gzip\n",
    "\n",
    "def parse(path):\n",
    "  g = gzip.open(path, 'rb')\n",
    "  for l in g:\n",
    "    yield eval(l)\n",
    "\n",
    "def getDF(path):\n",
    "  i = 0\n",
    "  df = {}\n",
    "  for d in parse(path):\n",
    "    df[i] = d\n",
    "    i += 1\n",
    "  return pd.DataFrame.from_dict(df, orient='index')\n",
    "\n",
    "''' Reading the Reviews into DataFrames'''\n",
    "\n",
    "df_IV5 = getDF('reviews_Amazon_Instant_Video_5.json.gz')\n",
    "df_AA5 = getDF('reviews_Apps_for_Android_5.json.gz')\n",
    "#\n",
    "#df_AU5 = getDF('reviews_Automotive_5.json.gz')\n",
    "#df_BA5 = getDF('reviews_Baby_5.json.gz')\n",
    "#df_BE5 = getDF('reviews_Beauty_5.json.gz')\n",
    "#df_BO5 = getDF('reviews_Books_5.json.gz')\n",
    "#df_CV5 = getDF('reviews_CDs_and_Vinyl_5.json.gz')\n",
    "#df_CP5 = getDF('reviews_Cell_Phones_and_Accessories_5.json.gz')\n",
    "#df_CJ5 = getDF('reviews_Clothing_Shoes_and_Jewelry_5.json.gz')\n",
    "#df_DM5 = getDF('reviews_Digital_Music_5.json.gz')\n",
    "#df_EL5 = getDF('reviews_Electronics_5.json.gz')\n",
    "#df_GG5 = getDF('reviews_Grocery_and_Gourmet_Food_5.json.gz')\n",
    "#df_HP5 = getDF('reviews_Health_and_Personal_Care_5.json.gz')\n",
    "#df_HK5 = getDF('reviews_Home_and_Kitchen_5.json.gz')\n",
    "#df_KS5 = getDF('reviews_Kindle_Store_5.json.gz')\n",
    "#df_MT5 = getDF('reviews_Movies_and_TV_5.json.gz')\n",
    "#df_MI5 = getDF('reviews_Musical_Instruments_5.json.gz')\n",
    "#df_OP5 = getDF('reviews_Office_Products_5.json.gz')\n",
    "#df_LG5 = getDF('reviews_Patio_Lawn_and_Garden_5.json.gz')\n",
    "#df_PS5 = getDF('reviews_Pet_Supplies_5.json.gz')\n",
    "#df_SO5 = getDF('reviews_Sports_and_Outdoors_5.json.gz')\n",
    "#df_TH5 = getDF('reviews_Tools_and_Home_Improvement_5.json.gz')\n",
    "#df_TG5 = getDF('reviews_Toys_and_Games_5.json.gz')\n",
    "#df_VG5 = getDF('reviews_Video_Games_5.json.gz')\n",
    "#\n",
    "\n",
    "\n",
    "\n",
    "\n",
    "\n",
    "'''Reading the Ratings into DataFrames'''\n",
    "\n",
    "df_RT_IV5 = pd.read_csv('ratings_Amazon_Instant_Video.csv')\n",
    "df_RT_AA5 = pd.read_csv('ratings_Apps_for_Android.csv')\n",
    "#\n",
    "#df_RT_AU5 = pd.read_csv('ratings_Automotive.csv')\n",
    "#df_RT_BA5 = pd.read_csv('ratings_Baby.csv')\n",
    "#df_RT_BE5 = pd.read_csv('ratings_Beauty.csv')\n",
    "#df_RT_BO5 = pd.read_csv('ratings_Books.csv')\n",
    "#df_RT_CV5 = pd.read_csv('ratings_CDs_and_Vinyl.csv')\n",
    "#df_RT_CP5 = pd.read_csv('ratings_Cell_Phones_and_Accessories.csv')\n",
    "#df_RT_CJ5 = pd.read_csv('ratings_Clothing_Shoes_and_Jewelry.csv')\n",
    "#df_RT_DM5 = pd.read_csv('ratings_Digital_Music.csv')\n",
    "#df_RT_EL5 = pd.read_csv('ratings_Electronics.csv')\n",
    "#df_RT_GG5 = pd.read_csv('ratings_Grocery_and_Gourmet_Food.csv')\n",
    "#df_RT_HP5 = pd.read_csv('ratings_Health_and_Personal_Care.csv')\n",
    "#df_RT_HK5 = pd.read_csv('ratings_Home_and_Kitchen.csv')\n",
    "#df_RT_KS5 = pd.read_csv('ratings_Kindle_Store.csv')\n",
    "#df_RT_MT5 = pd.read_csv('ratings_Movies_and_TV.csv')\n",
    "#df_RT_MI5 = pd.read_csv('ratings_Musical_Instruments.csv')\n",
    "#df_RT_OP5 = pd.read_csv('ratings_Office_Products.csv')\n",
    "#df_RT_LG5 = pd.read_csv('ratings_Patio_Lawn_and_Garden.csv')\n",
    "#df_RT_PS5 = pd.read_csv('ratings_Pet_Supplies.csv')\n",
    "#df_RT_SO5 = pd.read_csv('ratings_Sports_and_Outdoors.csv')\n",
    "#df_RT_TH5 = pd.read_csv('ratings_Tools_and_Home_Improvement.csv')\n",
    "#df_RT_TG5 = pd.read_csv('ratings_Toys_and_Games.csv')\n",
    "#df_RT_VG5 = pd.read_csv('ratings_Video_Games.csv')\n",
    "#\n",
    "print(df_RT_IV5.head())\n",
    "print(df_RT_AA5.head())\n",
    "#print(df_IV5.head())\n",
    "#print(df_AA5.head())\n",
    "\n"
   ]
  },
  {
   "cell_type": "code",
   "execution_count": 5,
   "metadata": {
    "collapsed": false,
    "nbpresent": {
     "id": "25848b1d-4537-412d-b89b-c6857a128ac7"
    }
   },
   "outputs": [],
   "source": [
    "df_IV5 = getDF('reviews_Amazon_Instant_Video_5.json.gz')\n",
    "df_AA5 = getDF('reviews_Apps_for_Android_5.json.gz')"
   ]
  },
  {
   "cell_type": "code",
   "execution_count": 8,
   "metadata": {
    "collapsed": false,
    "nbpresent": {
     "id": "4adfcfc7-2ce5-4b3a-9e34-479afdf4b509"
    }
   },
   "outputs": [
    {
     "name": "stdout",
     "output_type": "stream",
     "text": [
      "<class 'pandas.core.frame.DataFrame'>\n",
      "Int64Index: 37126 entries, 0 to 37125\n",
      "Data columns (total 9 columns):\n",
      "reviewerID        37126 non-null object\n",
      "asin              37126 non-null object\n",
      "reviewerName      36797 non-null object\n",
      "helpful           37126 non-null object\n",
      "reviewText        37126 non-null object\n",
      "overall           37126 non-null float64\n",
      "summary           37126 non-null object\n",
      "unixReviewTime    37126 non-null int64\n",
      "reviewTime        37126 non-null object\n",
      "dtypes: float64(1), int64(1), object(7)\n",
      "memory usage: 2.8+ MB\n"
     ]
    }
   ],
   "source": [
    "df_IV5.info()"
   ]
  },
  {
   "cell_type": "code",
   "execution_count": 9,
   "metadata": {
    "collapsed": false,
    "nbpresent": {
     "id": "ad50db2e-f39a-43a0-a6e9-2cdcfc983082"
    }
   },
   "outputs": [
    {
     "name": "stdout",
     "output_type": "stream",
     "text": [
      "<class 'pandas.core.frame.DataFrame'>\n",
      "Int64Index: 752937 entries, 0 to 752936\n",
      "Data columns (total 9 columns):\n",
      "reviewerID        752937 non-null object\n",
      "asin              752937 non-null object\n",
      "reviewerName      694739 non-null object\n",
      "helpful           752937 non-null object\n",
      "reviewText        752937 non-null object\n",
      "overall           752937 non-null float64\n",
      "summary           752937 non-null object\n",
      "unixReviewTime    752937 non-null int64\n",
      "reviewTime        752937 non-null object\n",
      "dtypes: float64(1), int64(1), object(7)\n",
      "memory usage: 57.4+ MB\n"
     ]
    }
   ],
   "source": [
    "df_AA5.info()"
   ]
  },
  {
   "cell_type": "code",
   "execution_count": 6,
   "metadata": {
    "collapsed": false,
    "nbpresent": {
     "id": "bae6a2c8-e783-4b9a-80f3-f85991b3c95c"
    }
   },
   "outputs": [
    {
     "name": "stdout",
     "output_type": "stream",
     "text": [
      "<class 'pandas.core.frame.DataFrame'>\n",
      "Int64Index: 694739 entries, 0 to 752936\n",
      "Data columns (total 9 columns):\n",
      "reviewTime        694739 non-null object\n",
      "asin              694739 non-null object\n",
      "reviewerID        694739 non-null object\n",
      "overall           694739 non-null float64\n",
      "reviewerName      694739 non-null object\n",
      "reviewText        694739 non-null object\n",
      "unixReviewTime    694739 non-null int64\n",
      "helpful           694739 non-null object\n",
      "summary           694739 non-null object\n",
      "dtypes: float64(1), int64(1), object(7)\n",
      "memory usage: 53.0+ MB\n"
     ]
    }
   ],
   "source": [
    "df_AA5.dropna(how=\"any\",inplace = True)\n",
    "df_AA5.info()"
   ]
  },
  {
   "cell_type": "code",
   "execution_count": 11,
   "metadata": {
    "collapsed": false,
    "nbpresent": {
     "id": "e0405820-3650-4052-81ca-5ada0a4b8fb8"
    }
   },
   "outputs": [
    {
     "name": "stdout",
     "output_type": "stream",
     "text": [
      "<class 'pandas.core.frame.DataFrame'>\n",
      "RangeIndex: 2638171 entries, 0 to 2638170\n",
      "Data columns (total 4 columns):\n",
      "AUI0OLXAB3KKT    object\n",
      "B004A9SDD8       object\n",
      "5.0              float64\n",
      "1301184000       int64\n",
      "dtypes: float64(1), int64(1), object(2)\n",
      "memory usage: 80.5+ MB\n"
     ]
    }
   ],
   "source": [
    "df_RT_AA5.info()"
   ]
  },
  {
   "cell_type": "code",
   "execution_count": 7,
   "metadata": {
    "collapsed": false,
    "nbpresent": {
     "id": "145e504e-2cdf-40fb-8e03-e8b044829539"
    }
   },
   "outputs": [
    {
     "name": "stdout",
     "output_type": "stream",
     "text": [
      "<class 'pandas.core.frame.DataFrame'>\n",
      "Int64Index: 2638171 entries, 0 to 2638170\n",
      "Data columns (total 4 columns):\n",
      "AUI0OLXAB3KKT    object\n",
      "B004A9SDD8       object\n",
      "5.0              float64\n",
      "1301184000       int64\n",
      "dtypes: float64(1), int64(1), object(2)\n",
      "memory usage: 100.6+ MB\n"
     ]
    }
   ],
   "source": [
    "df_RT_AA5.dropna(how=\"any\",inplace = True)\n",
    "df_RT_AA5.info()"
   ]
  },
  {
   "cell_type": "code",
   "execution_count": 9,
   "metadata": {
    "collapsed": false,
    "nbpresent": {
     "id": "499ebb32-f99d-4224-ac0e-b53c06c5468b"
    }
   },
   "outputs": [
    {
     "name": "stdout",
     "output_type": "stream",
     "text": [
      "        A1EE2E3N7PW666  B000GFDAUG  5.0  1202256000\n",
      "583927   A9MBSKL8LTFN9  B00LTMHUW4  5.0  1405987200\n",
      "583928  A3U3RFL0XE4F7V  B00LTMJ29S  4.0  1405382400\n",
      "583929   AEO407GROR6JB  B00LU8ONBI  1.0  1405468800\n",
      "583930  A2YXWWVABHWIXN  B00LU8ONBI  5.0  1405728000\n",
      "583931   ANZJEQZRYUCBC  B00LXQXLGU  4.0  1405900800\n",
      "          AUI0OLXAB3KKT  B004A9SDD8  5.0  1301184000\n",
      "2638166  A1WKBCDSH3AORB  B00LY9GOLU  5.0  1405900800\n",
      "2638167  A1WKBCDSH3AORB  B00LY9HZ3G  5.0  1405900800\n",
      "2638168   AO7VN21R9P2MM  B00LZ9DVEM  5.0  1405987200\n",
      "2638169  A3I9KEWNIJKOT0  B00M07JQQK  5.0  1405987200\n",
      "2638170  A27OTO46BZUF83  B00M0DLUIQ  5.0  1405987200\n",
      "2008-02-06 00:00:00\n",
      "2008\n",
      "2\n",
      "6\n"
     ]
    }
   ],
   "source": [
    "import datetime\n",
    "\n",
    "print(df_RT_IV5.tail())\n",
    "print(df_RT_AA5.tail())\n",
    "date = datetime.datetime.utcfromtimestamp(1202256000)\n",
    "print(date)\n",
    "print(date.year)\n",
    "print(date.month)\n",
    "print(date.day)"
   ]
  },
  {
   "cell_type": "code",
   "execution_count": 14,
   "metadata": {
    "collapsed": false,
    "nbpresent": {
     "id": "ed14a0be-5d86-46ef-bfea-a495dcc78865"
    }
   },
   "outputs": [
    {
     "name": "stdout",
     "output_type": "stream",
     "text": [
      "           reviewerID        asin             reviewerName   helpful  \\\n",
      "37121  A1ELO9LMSE1CQ7  B00LPWPMCS                    Mpr90    [0, 0]   \n",
      "37122   AGOEKVIJV9UX6  B00LPWPMCS             Mr. Markster  [13, 15]   \n",
      "37123  A3I291BE0RNZCU  B00LPWPMCS      Rating My Best Pick    [0, 2]   \n",
      "37124  A1MNITZRYU71IO  B00LPWPMCS  Sherry \"trying in ohio\"    [1, 1]   \n",
      "37125  A1XMHK9HN5MW2H  B00LPWPMCS     Victoria J. Dennison    [3, 4]   \n",
      "\n",
      "                                              reviewText  overall  \\\n",
      "37121  I love the books! The show is amazing so far. ...      5.0   \n",
      "37122  \"The Strain\" has potential to be an excellent ...      5.0   \n",
      "37123  I'm not real sure on how, I should rate this s...      3.0   \n",
      "37124  episode one so far makes me want to watch more...      4.0   \n",
      "37125  I watched the pilot.  I guess I've just seen t...      3.0   \n",
      "\n",
      "                                                 summary  unixReviewTime  \\\n",
      "37121                                      Great Series!      1405728000   \n",
      "37122  Forget the Vampire Diaries -- This is a REAL V...      1405296000   \n",
      "37123  It's only the first episode so I'm not real su...      1405296000   \n",
      "37124  and that is good. The accents are a bit much h...      1405296000   \n",
      "37125                  I may have paid towatch the pilot      1405468800   \n",
      "\n",
      "        reviewTime  \n",
      "37121  07 19, 2014  \n",
      "37122  07 14, 2014  \n",
      "37123  07 14, 2014  \n",
      "37124  07 14, 2014  \n",
      "37125  07 16, 2014  \n",
      "            reviewerID        asin                reviewerName helpful  \\\n",
      "752932   AZJ11YS0E52AI  B00LUEMK44                    K. Perna  [0, 0]   \n",
      "752933  A2550XGZEFDH2Y  B00LUEMK44  Melanie G. Nihart \"Grammy\"  [0, 0]   \n",
      "752934  A1KNDB16TG5QXD  B00LUEMK44                 P. O'Reilly  [0, 0]   \n",
      "752935  A1IHFHA5LI9SGI  B00LUEMK44               redhatflusher  [0, 0]   \n",
      "752936  A3GVFRVK9RYGTV  B00LUEMK44                      Smiley  [0, 0]   \n",
      "\n",
      "                                               reviewText  overall  \\\n",
      "752932  I love it!!!!!!!!!!  really keeps your attenti...      5.0   \n",
      "752933  Okay but there are so many free ones that are ...      3.0   \n",
      "752934  Another great jewels game that just keeps you ...      4.0   \n",
      "752935  I find this the best jewels star ever. There s...      5.0   \n",
      "752936  This game was fun to play but was not as good ...      4.0   \n",
      "\n",
      "                                                  summary  unixReviewTime  \\\n",
      "752932                                         Five Stars      1405814400   \n",
      "752933  ... are so many free ones that are so much bet...      1405900800   \n",
      "752934                                          Enjoyable      1405900800   \n",
      "752935                                       entertaining      1405814400   \n",
      "752936  This game was fun to play but was not as good ...      1405728000   \n",
      "\n",
      "         reviewTime  \n",
      "752932  07 20, 2014  \n",
      "752933  07 21, 2014  \n",
      "752934  07 21, 2014  \n",
      "752935  07 20, 2014  \n",
      "752936  07 19, 2014  \n"
     ]
    }
   ],
   "source": [
    "print(df_IV5.tail())\n",
    "print(df_AA5.tail())"
   ]
  },
  {
   "cell_type": "code",
   "execution_count": 10,
   "metadata": {
    "collapsed": false,
    "nbpresent": {
     "id": "5b6b19db-f06b-46e1-8a7e-497ee9f386e8"
    }
   },
   "outputs": [
    {
     "name": "stdout",
     "output_type": "stream",
     "text": [
      "2014-07-20 00:00:00\n",
      "2014\n",
      "7\n",
      "20\n"
     ]
    }
   ],
   "source": [
    "import datetime\n",
    "date = datetime.datetime.utcfromtimestamp(1405814400)\n",
    "print(date)\n",
    "print(date.year)\n",
    "print(date.month)\n",
    "print(date.day)"
   ]
  },
  {
   "cell_type": "code",
   "execution_count": 61,
   "metadata": {
    "collapsed": false,
    "nbpresent": {
     "id": "2e6c643a-42d9-4666-89b1-ae8209f13f8c"
    }
   },
   "outputs": [
    {
     "name": "stdout",
     "output_type": "stream",
     "text": [
      "       reviewerID        asin                    reviewerName helpful  \\\n",
      "0  A11N155CW1UV02  B000H00VBQ                        AdrianaM  [0, 0]   \n",
      "1  A3BC8O2KCL29V2  B000H00VBQ                         Carol T  [0, 0]   \n",
      "2   A60D5HQFOTSOM  B000H00VBQ  Daniel Cooper \"dancoopermedia\"  [0, 1]   \n",
      "3  A1RJPIGRSNX4PW  B000H00VBQ                  J. Kaplan \"JJ\"  [0, 0]   \n",
      "4  A16XRPF40679KG  B000H00VBQ                   Michael Dobey  [1, 1]   \n",
      "\n",
      "                                          reviewText  overall  \\\n",
      "0  I had big expectations because I love English ...      2.0   \n",
      "1  I highly recommend this series. It is a must f...      5.0   \n",
      "2  This one is a real snoozer. Don't believe anyt...      1.0   \n",
      "3  Mysteries are interesting.  The tension betwee...      4.0   \n",
      "4  This show always is excellent, as far as briti...      5.0   \n",
      "\n",
      "                          summary  unixReviewTime   reviewTime  \n",
      "0      A little bit boring for me      1399075200   05 3, 2014  \n",
      "1           Excellent Grown Up TV      1346630400   09 3, 2012  \n",
      "2           Way too boring for me      1381881600  10 16, 2013  \n",
      "3     Robson Green is mesmerizing      1383091200  10 30, 2013  \n",
      "4  Robson green and great writing      1234310400  02 11, 2009  \n",
      "       reviewerID        asin                   reviewerName helpful  \\\n",
      "0  A1N4O8VOJZTDVB  B004A9SDD8                 Annette Yancey  [1, 1]   \n",
      "1  A2HQWU6HUKIEC7  B004A9SDD8        Audiobook lover \"Kathy\"  [0, 0]   \n",
      "2  A1SXASF6GYG96I  B004A9SDD8                  Barbara Gibbs  [0, 0]   \n",
      "3  A2B54P9ZDYH167  B004A9SDD8  Brooke Greenstreet \"Babylove\"  [3, 4]   \n",
      "4   AFOFZDTX5UC6D  B004A9SDD8                     C. Galindo  [1, 1]   \n",
      "\n",
      "                                          reviewText  overall  \\\n",
      "0  Loves the song, so he really couldn't wait to ...      3.0   \n",
      "1  Oh, how my little grandson loves this app. He'...      5.0   \n",
      "2  I found this at a perfect time since my daught...      5.0   \n",
      "3  My 1 year old goes back to this game over and ...      5.0   \n",
      "4  There are three different versions of the song...      5.0   \n",
      "\n",
      "                                             summary  unixReviewTime  \\\n",
      "0                                        Really cute      1383350400   \n",
      "1                                2-year-old loves it      1323043200   \n",
      "2                                           Fun game      1337558400   \n",
      "3                               We love our Monkeys!      1354752000   \n",
      "4  This is my granddaughters favorite app on my K...      1391212800   \n",
      "\n",
      "    reviewTime  \n",
      "0   11 2, 2013  \n",
      "1   12 5, 2011  \n",
      "2  05 21, 2012  \n",
      "3   12 6, 2012  \n",
      "4   02 1, 2014  \n"
     ]
    }
   ],
   "source": [
    "print(df_IV5.head())\n",
    "print(df_AA5.head())"
   ]
  },
  {
   "cell_type": "code",
   "execution_count": 63,
   "metadata": {
    "collapsed": false,
    "nbpresent": {
     "id": "f8c9b61b-27a7-4bcb-83a6-4efe3c59d6fc"
    }
   },
   "outputs": [
    {
     "name": "stdout",
     "output_type": "stream",
     "text": [
      "0    I had big expectations because I love English ...\n",
      "1    I highly recommend this series. It is a must f...\n",
      "2    This one is a real snoozer. Don't believe anyt...\n",
      "3    Mysteries are interesting.  The tension betwee...\n",
      "4    This show always is excellent, as far as briti...\n",
      "Name: reviewText, dtype: object\n"
     ]
    }
   ],
   "source": [
    "print(df_IV5['reviewText'].head())"
   ]
  },
  {
   "cell_type": "code",
   "execution_count": 65,
   "metadata": {
    "collapsed": true,
    "nbpresent": {
     "id": "e50adfc6-d468-4b51-aa31-3ea215e9080d"
    }
   },
   "outputs": [],
   "source": [
    "df_IV5 = getDF('reviews_Amazon_Instant_Video_5.json.gz')\n",
    "df_AA5 = getDF('reviews_Apps_for_Android_5.json.gz')"
   ]
  },
  {
   "cell_type": "code",
   "execution_count": 67,
   "metadata": {
    "collapsed": false,
    "nbpresent": {
     "id": "40c074bc-bc7f-4f7f-a4e4-b76f8b5570fa"
    }
   },
   "outputs": [
    {
     "name": "stdout",
     "output_type": "stream",
     "text": [
      "0    Loves the song, so he really couldn't wait to ...\n",
      "1    Oh, how my little grandson loves this app. He'...\n",
      "2    I found this at a perfect time since my daught...\n",
      "3    My 1 year old goes back to this game over and ...\n",
      "4    There are three different versions of the song...\n",
      "Name: reviewText, dtype: object\n"
     ]
    }
   ],
   "source": [
    "print(df_AA5['reviewText'].head())"
   ]
  },
  {
   "cell_type": "code",
   "execution_count": 69,
   "metadata": {
    "collapsed": false,
    "nbpresent": {
     "id": "736632ff-e0e0-40bd-bbed-702ea063fa68"
    }
   },
   "outputs": [
    {
     "name": "stdout",
     "output_type": "stream",
     "text": [
      "Loves the song, so he really couldn't wait to play this. A little less interesting for him so he doesn't play long, but he is almost 3 and likes to play the older games, but really cute for a younger child.\n"
     ]
    }
   ],
   "source": [
    "print(df_AA5['reviewText'][0])"
   ]
  },
  {
   "cell_type": "code",
   "execution_count": 71,
   "metadata": {
    "collapsed": false,
    "nbpresent": {
     "id": "22834e59-a013-41fe-b68f-aa492750633d"
    }
   },
   "outputs": [
    {
     "name": "stdout",
     "output_type": "stream",
     "text": [
      "206\n"
     ]
    }
   ],
   "source": [
    "print(len(df_AA5['reviewText'][0]))"
   ]
  },
  {
   "cell_type": "code",
   "execution_count": 73,
   "metadata": {
    "collapsed": false,
    "nbpresent": {
     "id": "0d843915-f4f3-40e9-8162-378ae2207385"
    }
   },
   "outputs": [
    {
     "name": "stdout",
     "output_type": "stream",
     "text": [
      "Oh, how my little grandson loves this app. He's always asking for \"Monkey.\" Grandma has tired of it long before he has. Finding the items on each page that he can touch and activate is endlessly entertaining for him, at least for now. Well worth the $.99.\n"
     ]
    }
   ],
   "source": [
    "print(df_AA5['reviewText'][1])"
   ]
  },
  {
   "cell_type": "code",
   "execution_count": 75,
   "metadata": {
    "collapsed": false,
    "nbpresent": {
     "id": "31e0837e-675a-4b31-87e4-d1738cab3960"
    }
   },
   "outputs": [
    {
     "name": "stdout",
     "output_type": "stream",
     "text": [
      "255\n"
     ]
    }
   ],
   "source": [
    "print(len(df_AA5['reviewText'][1]))"
   ]
  },
  {
   "cell_type": "code",
   "execution_count": 77,
   "metadata": {
    "collapsed": false,
    "nbpresent": {
     "id": "605e5874-75f3-48da-9351-317c533417a9"
    }
   },
   "outputs": [
    {
     "name": "stdout",
     "output_type": "stream",
     "text": [
      "3.0\n"
     ]
    }
   ],
   "source": [
    "print(df_AA5['overall'][0])"
   ]
  },
  {
   "cell_type": "code",
   "execution_count": 79,
   "metadata": {
    "collapsed": false,
    "nbpresent": {
     "id": "740f89f3-ec29-4027-847f-5be89ccf451b"
    }
   },
   "outputs": [
    {
     "name": "stdout",
     "output_type": "stream",
     "text": [
      "5.0\n"
     ]
    }
   ],
   "source": [
    "print(df_AA5['overall'][1])"
   ]
  },
  {
   "cell_type": "code",
   "execution_count": 81,
   "metadata": {
    "collapsed": false,
    "nbpresent": {
     "id": "9f746b8a-fc87-404c-a723-13a817b59791"
    }
   },
   "outputs": [
    {
     "name": "stdout",
     "output_type": "stream",
     "text": [
      "5.0\n"
     ]
    }
   ],
   "source": [
    "print(df_AA5['overall'][1])"
   ]
  },
  {
   "cell_type": "code",
   "execution_count": 195,
   "metadata": {
    "collapsed": true,
    "nbpresent": {
     "id": "d3d797b6-a4f1-40b4-8960-75882778c725"
    }
   },
   "outputs": [],
   "source": [
    "df_AA5_head = df_AA5.head()\n",
    "df_IV5_head = df_IV5.head()"
   ]
  },
  {
   "cell_type": "code",
   "execution_count": 194,
   "metadata": {
    "collapsed": true,
    "nbpresent": {
     "id": "dab2d2b2-f38b-4b1c-a3f7-6e7fbbe2e0de"
    }
   },
   "outputs": [],
   "source": [
    "df_RT_AA5_head = df_RT_AA5.head()\n",
    "df_RT_IV5_head = df_RT_IV5.head()"
   ]
  },
  {
   "cell_type": "code",
   "execution_count": 84,
   "metadata": {
    "collapsed": false,
    "nbpresent": {
     "id": "27f8139f-3f69-4fc4-b7da-d7e882c28281"
    }
   },
   "outputs": [
    {
     "ename": "MergeError",
     "evalue": "No common columns to perform merge on",
     "output_type": "error",
     "traceback": [
      "\u001b[1;31m---------------------------------------------------------------------------\u001b[0m",
      "\u001b[1;31mMergeError\u001b[0m                                Traceback (most recent call last)",
      "\u001b[1;32m<ipython-input-84-cfc206a40d1e>\u001b[0m in \u001b[0;36m<module>\u001b[1;34m()\u001b[0m\n\u001b[1;32m----> 1\u001b[1;33m \u001b[0mmerged_df_AA5\u001b[0m \u001b[1;33m=\u001b[0m \u001b[0mpd\u001b[0m\u001b[1;33m.\u001b[0m\u001b[0mmerge\u001b[0m\u001b[1;33m(\u001b[0m\u001b[0mdf_AA5_head\u001b[0m\u001b[1;33m,\u001b[0m \u001b[0mdf_RT_AA5_head\u001b[0m\u001b[1;33m)\u001b[0m\u001b[1;33m\u001b[0m\u001b[0m\n\u001b[0m\u001b[0;32m      2\u001b[0m \u001b[0mmerged_df_IV5\u001b[0m \u001b[1;33m=\u001b[0m \u001b[0mpd\u001b[0m\u001b[1;33m.\u001b[0m\u001b[0mmerge\u001b[0m\u001b[1;33m(\u001b[0m\u001b[0mdf_IV5_head\u001b[0m\u001b[1;33m,\u001b[0m \u001b[0mdf_RT_IV5_head\u001b[0m\u001b[1;33m)\u001b[0m\u001b[1;33m\u001b[0m\u001b[0m\n\u001b[0;32m      3\u001b[0m \u001b[0mprint\u001b[0m\u001b[1;33m(\u001b[0m\u001b[0mmerged_df_AA5\u001b[0m\u001b[1;33m)\u001b[0m\u001b[1;33m\u001b[0m\u001b[0m\n\u001b[0;32m      4\u001b[0m \u001b[0mprint\u001b[0m\u001b[1;33m(\u001b[0m\u001b[0mmerged_df_IV5\u001b[0m\u001b[1;33m)\u001b[0m\u001b[1;33m\u001b[0m\u001b[0m\n",
      "\u001b[1;32mC:\\ProgramData\\Anaconda3\\lib\\site-packages\\pandas\\core\\reshape\\merge.py\u001b[0m in \u001b[0;36mmerge\u001b[1;34m(left, right, how, on, left_on, right_on, left_index, right_index, sort, suffixes, copy, indicator)\u001b[0m\n\u001b[0;32m     51\u001b[0m                          \u001b[0mright_on\u001b[0m\u001b[1;33m=\u001b[0m\u001b[0mright_on\u001b[0m\u001b[1;33m,\u001b[0m \u001b[0mleft_index\u001b[0m\u001b[1;33m=\u001b[0m\u001b[0mleft_index\u001b[0m\u001b[1;33m,\u001b[0m\u001b[1;33m\u001b[0m\u001b[0m\n\u001b[0;32m     52\u001b[0m                          \u001b[0mright_index\u001b[0m\u001b[1;33m=\u001b[0m\u001b[0mright_index\u001b[0m\u001b[1;33m,\u001b[0m \u001b[0msort\u001b[0m\u001b[1;33m=\u001b[0m\u001b[0msort\u001b[0m\u001b[1;33m,\u001b[0m \u001b[0msuffixes\u001b[0m\u001b[1;33m=\u001b[0m\u001b[0msuffixes\u001b[0m\u001b[1;33m,\u001b[0m\u001b[1;33m\u001b[0m\u001b[0m\n\u001b[1;32m---> 53\u001b[1;33m                          copy=copy, indicator=indicator)\n\u001b[0m\u001b[0;32m     54\u001b[0m     \u001b[1;32mreturn\u001b[0m \u001b[0mop\u001b[0m\u001b[1;33m.\u001b[0m\u001b[0mget_result\u001b[0m\u001b[1;33m(\u001b[0m\u001b[1;33m)\u001b[0m\u001b[1;33m\u001b[0m\u001b[0m\n\u001b[0;32m     55\u001b[0m \u001b[1;33m\u001b[0m\u001b[0m\n",
      "\u001b[1;32mC:\\ProgramData\\Anaconda3\\lib\\site-packages\\pandas\\core\\reshape\\merge.py\u001b[0m in \u001b[0;36m__init__\u001b[1;34m(self, left, right, how, on, left_on, right_on, axis, left_index, right_index, sort, suffixes, copy, indicator)\u001b[0m\n\u001b[0;32m    551\u001b[0m             \u001b[0mwarnings\u001b[0m\u001b[1;33m.\u001b[0m\u001b[0mwarn\u001b[0m\u001b[1;33m(\u001b[0m\u001b[0mmsg\u001b[0m\u001b[1;33m,\u001b[0m \u001b[0mUserWarning\u001b[0m\u001b[1;33m)\u001b[0m\u001b[1;33m\u001b[0m\u001b[0m\n\u001b[0;32m    552\u001b[0m \u001b[1;33m\u001b[0m\u001b[0m\n\u001b[1;32m--> 553\u001b[1;33m         \u001b[0mself\u001b[0m\u001b[1;33m.\u001b[0m\u001b[0m_validate_specification\u001b[0m\u001b[1;33m(\u001b[0m\u001b[1;33m)\u001b[0m\u001b[1;33m\u001b[0m\u001b[0m\n\u001b[0m\u001b[0;32m    554\u001b[0m \u001b[1;33m\u001b[0m\u001b[0m\n\u001b[0;32m    555\u001b[0m         \u001b[1;31m# note this function has side effects\u001b[0m\u001b[1;33m\u001b[0m\u001b[1;33m\u001b[0m\u001b[0m\n",
      "\u001b[1;32mC:\\ProgramData\\Anaconda3\\lib\\site-packages\\pandas\\core\\reshape\\merge.py\u001b[0m in \u001b[0;36m_validate_specification\u001b[1;34m(self)\u001b[0m\n\u001b[0;32m    926\u001b[0m                     self.right.columns)\n\u001b[0;32m    927\u001b[0m                 \u001b[1;32mif\u001b[0m \u001b[0mlen\u001b[0m\u001b[1;33m(\u001b[0m\u001b[0mcommon_cols\u001b[0m\u001b[1;33m)\u001b[0m \u001b[1;33m==\u001b[0m \u001b[1;36m0\u001b[0m\u001b[1;33m:\u001b[0m\u001b[1;33m\u001b[0m\u001b[0m\n\u001b[1;32m--> 928\u001b[1;33m                     \u001b[1;32mraise\u001b[0m \u001b[0mMergeError\u001b[0m\u001b[1;33m(\u001b[0m\u001b[1;34m'No common columns to perform merge on'\u001b[0m\u001b[1;33m)\u001b[0m\u001b[1;33m\u001b[0m\u001b[0m\n\u001b[0m\u001b[0;32m    929\u001b[0m                 \u001b[1;32mif\u001b[0m \u001b[1;32mnot\u001b[0m \u001b[0mcommon_cols\u001b[0m\u001b[1;33m.\u001b[0m\u001b[0mis_unique\u001b[0m\u001b[1;33m:\u001b[0m\u001b[1;33m\u001b[0m\u001b[0m\n\u001b[0;32m    930\u001b[0m                     raise MergeError(\"Data columns not unique: %s\"\n",
      "\u001b[1;31mMergeError\u001b[0m: No common columns to perform merge on"
     ]
    }
   ],
   "source": [
    "merged_df_AA5 = pd.merge(df_AA5_head, df_RT_AA5_head)\n",
    "merged_df_IV5 = pd.merge(df_IV5_head, df_RT_IV5_head)\n",
    "print(merged_df_AA5)\n",
    "print(merged_df_IV5)"
   ]
  },
  {
   "cell_type": "code",
   "execution_count": 196,
   "metadata": {
    "collapsed": false,
    "nbpresent": {
     "id": "445bc45f-f416-4881-9021-9e0e96851ce4"
    }
   },
   "outputs": [
    {
     "name": "stdout",
     "output_type": "stream",
     "text": [
      "       reviewerID        asin                   reviewerName helpful  \\\n",
      "0  A1N4O8VOJZTDVB  B004A9SDD8                 Annette Yancey  [1, 1]   \n",
      "1  A2HQWU6HUKIEC7  B004A9SDD8        Audiobook lover \"Kathy\"  [0, 0]   \n",
      "2  A1SXASF6GYG96I  B004A9SDD8                  Barbara Gibbs  [0, 0]   \n",
      "3  A2B54P9ZDYH167  B004A9SDD8  Brooke Greenstreet \"Babylove\"  [3, 4]   \n",
      "4   AFOFZDTX5UC6D  B004A9SDD8                     C. Galindo  [1, 1]   \n",
      "\n",
      "                                          reviewText  overall  \\\n",
      "0  Loves the song, so he really couldn't wait to ...      3.0   \n",
      "1  Oh, how my little grandson loves this app. He'...      5.0   \n",
      "2  I found this at a perfect time since my daught...      5.0   \n",
      "3  My 1 year old goes back to this game over and ...      5.0   \n",
      "4  There are three different versions of the song...      5.0   \n",
      "\n",
      "                                             summary  unixReviewTime  \\\n",
      "0                                        Really cute      1383350400   \n",
      "1                                2-year-old loves it      1323043200   \n",
      "2                                           Fun game      1337558400   \n",
      "3                               We love our Monkeys!      1354752000   \n",
      "4  This is my granddaughters favorite app on my K...      1391212800   \n",
      "\n",
      "    reviewTime  \n",
      "0   11 2, 2013  \n",
      "1   12 5, 2011  \n",
      "2  05 21, 2012  \n",
      "3   12 6, 2012  \n",
      "4   02 1, 2014  \n"
     ]
    }
   ],
   "source": [
    "print(df_AA5_head)"
   ]
  },
  {
   "cell_type": "code",
   "execution_count": 197,
   "metadata": {
    "collapsed": false,
    "nbpresent": {
     "id": "50a99de6-ff9e-4add-82be-6e228f0e809a"
    }
   },
   "outputs": [
    {
     "name": "stdout",
     "output_type": "stream",
     "text": [
      "       reviewerID        asin  overall  unixReviewTime\n",
      "0  A1ZUSQ3TC3EC4C  B004A9SDD8      5.0      1321574400\n",
      "1   AC05OAXD72X1V  B004A9SDD8      4.0      1367366400\n",
      "2  A2RVMFOKBVM21I  B004A9SDD8      5.0      1350172800\n",
      "3  A3NBSRGUWQGCMZ  B004A9SDD8      1.0      1300838400\n",
      "4  A2KTVCVZJ8GPD2  B004A9SDD8      5.0      1393545600\n"
     ]
    }
   ],
   "source": [
    "print(df_RT_AA5_head)"
   ]
  },
  {
   "cell_type": "code",
   "execution_count": 87,
   "metadata": {
    "collapsed": false,
    "nbpresent": {
     "id": "cb26f707-5249-4ce3-a9f7-6351716c3f44"
    }
   },
   "outputs": [
    {
     "data": {
      "text/html": [
       "<div>\n",
       "<style>\n",
       "    .dataframe thead tr:only-child th {\n",
       "        text-align: right;\n",
       "    }\n",
       "\n",
       "    .dataframe thead th {\n",
       "        text-align: left;\n",
       "    }\n",
       "\n",
       "    .dataframe tbody tr th {\n",
       "        vertical-align: top;\n",
       "    }\n",
       "</style>\n",
       "<table border=\"1\" class=\"dataframe\">\n",
       "  <thead>\n",
       "    <tr style=\"text-align: right;\">\n",
       "      <th></th>\n",
       "      <th>AUI0OLXAB3KKT</th>\n",
       "      <th>B004A9SDD8</th>\n",
       "      <th>5.0</th>\n",
       "      <th>1301184000</th>\n",
       "    </tr>\n",
       "  </thead>\n",
       "  <tbody>\n",
       "    <tr>\n",
       "      <th>0</th>\n",
       "      <td>A1ZUSQ3TC3EC4C</td>\n",
       "      <td>B004A9SDD8</td>\n",
       "      <td>5.0</td>\n",
       "      <td>1321574400</td>\n",
       "    </tr>\n",
       "    <tr>\n",
       "      <th>1</th>\n",
       "      <td>AC05OAXD72X1V</td>\n",
       "      <td>B004A9SDD8</td>\n",
       "      <td>4.0</td>\n",
       "      <td>1367366400</td>\n",
       "    </tr>\n",
       "    <tr>\n",
       "      <th>2</th>\n",
       "      <td>A2RVMFOKBVM21I</td>\n",
       "      <td>B004A9SDD8</td>\n",
       "      <td>5.0</td>\n",
       "      <td>1350172800</td>\n",
       "    </tr>\n",
       "    <tr>\n",
       "      <th>3</th>\n",
       "      <td>A3NBSRGUWQGCMZ</td>\n",
       "      <td>B004A9SDD8</td>\n",
       "      <td>1.0</td>\n",
       "      <td>1300838400</td>\n",
       "    </tr>\n",
       "    <tr>\n",
       "      <th>4</th>\n",
       "      <td>A2KTVCVZJ8GPD2</td>\n",
       "      <td>B004A9SDD8</td>\n",
       "      <td>5.0</td>\n",
       "      <td>1393545600</td>\n",
       "    </tr>\n",
       "  </tbody>\n",
       "</table>\n",
       "</div>"
      ],
      "text/plain": [
       "    AUI0OLXAB3KKT  B004A9SDD8  5.0  1301184000\n",
       "0  A1ZUSQ3TC3EC4C  B004A9SDD8  5.0  1321574400\n",
       "1   AC05OAXD72X1V  B004A9SDD8  4.0  1367366400\n",
       "2  A2RVMFOKBVM21I  B004A9SDD8  5.0  1350172800\n",
       "3  A3NBSRGUWQGCMZ  B004A9SDD8  1.0  1300838400\n",
       "4  A2KTVCVZJ8GPD2  B004A9SDD8  5.0  1393545600"
      ]
     },
     "execution_count": 87,
     "metadata": {},
     "output_type": "execute_result"
    }
   ],
   "source": [
    "df_RT_AA5_head"
   ]
  },
  {
   "cell_type": "code",
   "execution_count": 88,
   "metadata": {
    "collapsed": false,
    "nbpresent": {
     "id": "4c0ba792-7b09-481f-a14c-8bacc93fa5cf"
    }
   },
   "outputs": [
    {
     "data": {
      "text/html": [
       "<div>\n",
       "<style>\n",
       "    .dataframe thead tr:only-child th {\n",
       "        text-align: right;\n",
       "    }\n",
       "\n",
       "    .dataframe thead th {\n",
       "        text-align: left;\n",
       "    }\n",
       "\n",
       "    .dataframe tbody tr th {\n",
       "        vertical-align: top;\n",
       "    }\n",
       "</style>\n",
       "<table border=\"1\" class=\"dataframe\">\n",
       "  <thead>\n",
       "    <tr style=\"text-align: right;\">\n",
       "      <th></th>\n",
       "      <th>reviewerID</th>\n",
       "      <th>asin</th>\n",
       "      <th>reviewerName</th>\n",
       "      <th>helpful</th>\n",
       "      <th>reviewText</th>\n",
       "      <th>overall</th>\n",
       "      <th>summary</th>\n",
       "      <th>unixReviewTime</th>\n",
       "      <th>reviewTime</th>\n",
       "    </tr>\n",
       "  </thead>\n",
       "  <tbody>\n",
       "    <tr>\n",
       "      <th>0</th>\n",
       "      <td>A1N4O8VOJZTDVB</td>\n",
       "      <td>B004A9SDD8</td>\n",
       "      <td>Annette Yancey</td>\n",
       "      <td>[1, 1]</td>\n",
       "      <td>Loves the song, so he really couldn't wait to ...</td>\n",
       "      <td>3.0</td>\n",
       "      <td>Really cute</td>\n",
       "      <td>1383350400</td>\n",
       "      <td>11 2, 2013</td>\n",
       "    </tr>\n",
       "    <tr>\n",
       "      <th>1</th>\n",
       "      <td>A2HQWU6HUKIEC7</td>\n",
       "      <td>B004A9SDD8</td>\n",
       "      <td>Audiobook lover \"Kathy\"</td>\n",
       "      <td>[0, 0]</td>\n",
       "      <td>Oh, how my little grandson loves this app. He'...</td>\n",
       "      <td>5.0</td>\n",
       "      <td>2-year-old loves it</td>\n",
       "      <td>1323043200</td>\n",
       "      <td>12 5, 2011</td>\n",
       "    </tr>\n",
       "    <tr>\n",
       "      <th>2</th>\n",
       "      <td>A1SXASF6GYG96I</td>\n",
       "      <td>B004A9SDD8</td>\n",
       "      <td>Barbara Gibbs</td>\n",
       "      <td>[0, 0]</td>\n",
       "      <td>I found this at a perfect time since my daught...</td>\n",
       "      <td>5.0</td>\n",
       "      <td>Fun game</td>\n",
       "      <td>1337558400</td>\n",
       "      <td>05 21, 2012</td>\n",
       "    </tr>\n",
       "    <tr>\n",
       "      <th>3</th>\n",
       "      <td>A2B54P9ZDYH167</td>\n",
       "      <td>B004A9SDD8</td>\n",
       "      <td>Brooke Greenstreet \"Babylove\"</td>\n",
       "      <td>[3, 4]</td>\n",
       "      <td>My 1 year old goes back to this game over and ...</td>\n",
       "      <td>5.0</td>\n",
       "      <td>We love our Monkeys!</td>\n",
       "      <td>1354752000</td>\n",
       "      <td>12 6, 2012</td>\n",
       "    </tr>\n",
       "    <tr>\n",
       "      <th>4</th>\n",
       "      <td>AFOFZDTX5UC6D</td>\n",
       "      <td>B004A9SDD8</td>\n",
       "      <td>C. Galindo</td>\n",
       "      <td>[1, 1]</td>\n",
       "      <td>There are three different versions of the song...</td>\n",
       "      <td>5.0</td>\n",
       "      <td>This is my granddaughters favorite app on my K...</td>\n",
       "      <td>1391212800</td>\n",
       "      <td>02 1, 2014</td>\n",
       "    </tr>\n",
       "  </tbody>\n",
       "</table>\n",
       "</div>"
      ],
      "text/plain": [
       "       reviewerID        asin                   reviewerName helpful  \\\n",
       "0  A1N4O8VOJZTDVB  B004A9SDD8                 Annette Yancey  [1, 1]   \n",
       "1  A2HQWU6HUKIEC7  B004A9SDD8        Audiobook lover \"Kathy\"  [0, 0]   \n",
       "2  A1SXASF6GYG96I  B004A9SDD8                  Barbara Gibbs  [0, 0]   \n",
       "3  A2B54P9ZDYH167  B004A9SDD8  Brooke Greenstreet \"Babylove\"  [3, 4]   \n",
       "4   AFOFZDTX5UC6D  B004A9SDD8                     C. Galindo  [1, 1]   \n",
       "\n",
       "                                          reviewText  overall  \\\n",
       "0  Loves the song, so he really couldn't wait to ...      3.0   \n",
       "1  Oh, how my little grandson loves this app. He'...      5.0   \n",
       "2  I found this at a perfect time since my daught...      5.0   \n",
       "3  My 1 year old goes back to this game over and ...      5.0   \n",
       "4  There are three different versions of the song...      5.0   \n",
       "\n",
       "                                             summary  unixReviewTime  \\\n",
       "0                                        Really cute      1383350400   \n",
       "1                                2-year-old loves it      1323043200   \n",
       "2                                           Fun game      1337558400   \n",
       "3                               We love our Monkeys!      1354752000   \n",
       "4  This is my granddaughters favorite app on my K...      1391212800   \n",
       "\n",
       "    reviewTime  \n",
       "0   11 2, 2013  \n",
       "1   12 5, 2011  \n",
       "2  05 21, 2012  \n",
       "3   12 6, 2012  \n",
       "4   02 1, 2014  "
      ]
     },
     "execution_count": 88,
     "metadata": {},
     "output_type": "execute_result"
    }
   ],
   "source": [
    "df_AA5_head"
   ]
  },
  {
   "cell_type": "code",
   "execution_count": 89,
   "metadata": {
    "collapsed": true,
    "nbpresent": {
     "id": "f5ea014b-bbcc-428d-9406-c61b1688f2bd"
    }
   },
   "outputs": [],
   "source": [
    "df_RT_AA5_head.columns = [' reviewerID','asin','overall','unixReviewTime']"
   ]
  },
  {
   "cell_type": "code",
   "execution_count": 90,
   "metadata": {
    "collapsed": false,
    "nbpresent": {
     "id": "860b137d-a1d3-4cee-9f86-19ae93b13fa6"
    }
   },
   "outputs": [
    {
     "data": {
      "text/html": [
       "<div>\n",
       "<style>\n",
       "    .dataframe thead tr:only-child th {\n",
       "        text-align: right;\n",
       "    }\n",
       "\n",
       "    .dataframe thead th {\n",
       "        text-align: left;\n",
       "    }\n",
       "\n",
       "    .dataframe tbody tr th {\n",
       "        vertical-align: top;\n",
       "    }\n",
       "</style>\n",
       "<table border=\"1\" class=\"dataframe\">\n",
       "  <thead>\n",
       "    <tr style=\"text-align: right;\">\n",
       "      <th></th>\n",
       "      <th>reviewerID</th>\n",
       "      <th>asin</th>\n",
       "      <th>overall</th>\n",
       "      <th>unixReviewTime</th>\n",
       "    </tr>\n",
       "  </thead>\n",
       "  <tbody>\n",
       "    <tr>\n",
       "      <th>0</th>\n",
       "      <td>A1ZUSQ3TC3EC4C</td>\n",
       "      <td>B004A9SDD8</td>\n",
       "      <td>5.0</td>\n",
       "      <td>1321574400</td>\n",
       "    </tr>\n",
       "    <tr>\n",
       "      <th>1</th>\n",
       "      <td>AC05OAXD72X1V</td>\n",
       "      <td>B004A9SDD8</td>\n",
       "      <td>4.0</td>\n",
       "      <td>1367366400</td>\n",
       "    </tr>\n",
       "    <tr>\n",
       "      <th>2</th>\n",
       "      <td>A2RVMFOKBVM21I</td>\n",
       "      <td>B004A9SDD8</td>\n",
       "      <td>5.0</td>\n",
       "      <td>1350172800</td>\n",
       "    </tr>\n",
       "    <tr>\n",
       "      <th>3</th>\n",
       "      <td>A3NBSRGUWQGCMZ</td>\n",
       "      <td>B004A9SDD8</td>\n",
       "      <td>1.0</td>\n",
       "      <td>1300838400</td>\n",
       "    </tr>\n",
       "    <tr>\n",
       "      <th>4</th>\n",
       "      <td>A2KTVCVZJ8GPD2</td>\n",
       "      <td>B004A9SDD8</td>\n",
       "      <td>5.0</td>\n",
       "      <td>1393545600</td>\n",
       "    </tr>\n",
       "  </tbody>\n",
       "</table>\n",
       "</div>"
      ],
      "text/plain": [
       "       reviewerID        asin  overall  unixReviewTime\n",
       "0  A1ZUSQ3TC3EC4C  B004A9SDD8      5.0      1321574400\n",
       "1   AC05OAXD72X1V  B004A9SDD8      4.0      1367366400\n",
       "2  A2RVMFOKBVM21I  B004A9SDD8      5.0      1350172800\n",
       "3  A3NBSRGUWQGCMZ  B004A9SDD8      1.0      1300838400\n",
       "4  A2KTVCVZJ8GPD2  B004A9SDD8      5.0      1393545600"
      ]
     },
     "execution_count": 90,
     "metadata": {},
     "output_type": "execute_result"
    }
   ],
   "source": [
    "df_RT_AA5_head"
   ]
  },
  {
   "cell_type": "code",
   "execution_count": 91,
   "metadata": {
    "collapsed": false,
    "nbpresent": {
     "id": "3d3f0dea-f271-4022-a36c-2ab0cbdd3fa2"
    }
   },
   "outputs": [
    {
     "data": {
      "text/plain": [
       "(5, 4)"
      ]
     },
     "execution_count": 91,
     "metadata": {},
     "output_type": "execute_result"
    }
   ],
   "source": [
    "df_RT_AA5_head.shape"
   ]
  },
  {
   "cell_type": "code",
   "execution_count": 92,
   "metadata": {
    "collapsed": false,
    "nbpresent": {
     "id": "415fe6ac-b6b1-4eb8-bf65-8cbd424645ea"
    }
   },
   "outputs": [
    {
     "data": {
      "text/plain": [
       "<bound method DataFrame.info of        reviewerID        asin  overall  unixReviewTime\n",
       "0  A1ZUSQ3TC3EC4C  B004A9SDD8      5.0      1321574400\n",
       "1   AC05OAXD72X1V  B004A9SDD8      4.0      1367366400\n",
       "2  A2RVMFOKBVM21I  B004A9SDD8      5.0      1350172800\n",
       "3  A3NBSRGUWQGCMZ  B004A9SDD8      1.0      1300838400\n",
       "4  A2KTVCVZJ8GPD2  B004A9SDD8      5.0      1393545600>"
      ]
     },
     "execution_count": 92,
     "metadata": {},
     "output_type": "execute_result"
    }
   ],
   "source": [
    "df_RT_AA5_head.info"
   ]
  },
  {
   "cell_type": "code",
   "execution_count": 93,
   "metadata": {
    "collapsed": false,
    "nbpresent": {
     "id": "0ce4c0c1-f9c8-4a39-830c-3b947dac0be7"
    }
   },
   "outputs": [
    {
     "data": {
      "text/plain": [
       "<bound method NDFrame.describe of        reviewerID        asin  overall  unixReviewTime\n",
       "0  A1ZUSQ3TC3EC4C  B004A9SDD8      5.0      1321574400\n",
       "1   AC05OAXD72X1V  B004A9SDD8      4.0      1367366400\n",
       "2  A2RVMFOKBVM21I  B004A9SDD8      5.0      1350172800\n",
       "3  A3NBSRGUWQGCMZ  B004A9SDD8      1.0      1300838400\n",
       "4  A2KTVCVZJ8GPD2  B004A9SDD8      5.0      1393545600>"
      ]
     },
     "execution_count": 93,
     "metadata": {},
     "output_type": "execute_result"
    }
   ],
   "source": [
    "df_RT_AA5_head.describe"
   ]
  },
  {
   "cell_type": "code",
   "execution_count": 95,
   "metadata": {
    "collapsed": false,
    "nbpresent": {
     "id": "147c4f04-50cb-478d-b3ea-807e8b60496c"
    }
   },
   "outputs": [
    {
     "data": {
      "text/plain": [
       "RangeIndex(start=0, stop=5, step=1)"
      ]
     },
     "execution_count": 95,
     "metadata": {},
     "output_type": "execute_result"
    }
   ],
   "source": [
    "df_RT_AA5_head.index"
   ]
  },
  {
   "cell_type": "code",
   "execution_count": 96,
   "metadata": {
    "collapsed": false,
    "nbpresent": {
     "id": "eed894db-d3c7-4e25-b66b-ca257dc091b1"
    }
   },
   "outputs": [
    {
     "data": {
      "text/html": [
       "<div>\n",
       "<style>\n",
       "    .dataframe thead tr:only-child th {\n",
       "        text-align: right;\n",
       "    }\n",
       "\n",
       "    .dataframe thead th {\n",
       "        text-align: left;\n",
       "    }\n",
       "\n",
       "    .dataframe tbody tr th {\n",
       "        vertical-align: top;\n",
       "    }\n",
       "</style>\n",
       "<table border=\"1\" class=\"dataframe\">\n",
       "  <thead>\n",
       "    <tr style=\"text-align: right;\">\n",
       "      <th></th>\n",
       "      <th>reviewID</th>\n",
       "    </tr>\n",
       "  </thead>\n",
       "  <tbody>\n",
       "    <tr>\n",
       "      <th>0</th>\n",
       "      <td>NaN</td>\n",
       "    </tr>\n",
       "    <tr>\n",
       "      <th>1</th>\n",
       "      <td>NaN</td>\n",
       "    </tr>\n",
       "    <tr>\n",
       "      <th>2</th>\n",
       "      <td>NaN</td>\n",
       "    </tr>\n",
       "    <tr>\n",
       "      <th>3</th>\n",
       "      <td>NaN</td>\n",
       "    </tr>\n",
       "    <tr>\n",
       "      <th>4</th>\n",
       "      <td>NaN</td>\n",
       "    </tr>\n",
       "  </tbody>\n",
       "</table>\n",
       "</div>"
      ],
      "text/plain": [
       "   reviewID\n",
       "0       NaN\n",
       "1       NaN\n",
       "2       NaN\n",
       "3       NaN\n",
       "4       NaN"
      ]
     },
     "execution_count": 96,
     "metadata": {},
     "output_type": "execute_result"
    }
   ],
   "source": [
    "df_RT_AA5_head.reindex(columns=['reviewID'])"
   ]
  },
  {
   "cell_type": "code",
   "execution_count": 193,
   "metadata": {
    "collapsed": false,
    "nbpresent": {
     "id": "0b156049-8b90-4b19-bc6b-7e3d2f484581"
    }
   },
   "outputs": [
    {
     "data": {
      "text/html": [
       "<div>\n",
       "<style>\n",
       "    .dataframe thead tr:only-child th {\n",
       "        text-align: right;\n",
       "    }\n",
       "\n",
       "    .dataframe thead th {\n",
       "        text-align: left;\n",
       "    }\n",
       "\n",
       "    .dataframe tbody tr th {\n",
       "        vertical-align: top;\n",
       "    }\n",
       "</style>\n",
       "<table border=\"1\" class=\"dataframe\">\n",
       "  <thead>\n",
       "    <tr style=\"text-align: right;\">\n",
       "      <th></th>\n",
       "      <th>asin</th>\n",
       "      <th>overall</th>\n",
       "      <th>unixReviewTime</th>\n",
       "    </tr>\n",
       "    <tr>\n",
       "      <th>reviewerID</th>\n",
       "      <th></th>\n",
       "      <th></th>\n",
       "      <th></th>\n",
       "    </tr>\n",
       "  </thead>\n",
       "  <tbody>\n",
       "    <tr>\n",
       "      <th>A1ZUSQ3TC3EC4C</th>\n",
       "      <td>B004A9SDD8</td>\n",
       "      <td>5.0</td>\n",
       "      <td>1321574400</td>\n",
       "    </tr>\n",
       "    <tr>\n",
       "      <th>AC05OAXD72X1V</th>\n",
       "      <td>B004A9SDD8</td>\n",
       "      <td>4.0</td>\n",
       "      <td>1367366400</td>\n",
       "    </tr>\n",
       "    <tr>\n",
       "      <th>A2RVMFOKBVM21I</th>\n",
       "      <td>B004A9SDD8</td>\n",
       "      <td>5.0</td>\n",
       "      <td>1350172800</td>\n",
       "    </tr>\n",
       "    <tr>\n",
       "      <th>A3NBSRGUWQGCMZ</th>\n",
       "      <td>B004A9SDD8</td>\n",
       "      <td>1.0</td>\n",
       "      <td>1300838400</td>\n",
       "    </tr>\n",
       "    <tr>\n",
       "      <th>A2KTVCVZJ8GPD2</th>\n",
       "      <td>B004A9SDD8</td>\n",
       "      <td>5.0</td>\n",
       "      <td>1393545600</td>\n",
       "    </tr>\n",
       "  </tbody>\n",
       "</table>\n",
       "</div>"
      ],
      "text/plain": [
       "                      asin  overall  unixReviewTime\n",
       " reviewerID                                        \n",
       "A1ZUSQ3TC3EC4C  B004A9SDD8      5.0      1321574400\n",
       "AC05OAXD72X1V   B004A9SDD8      4.0      1367366400\n",
       "A2RVMFOKBVM21I  B004A9SDD8      5.0      1350172800\n",
       "A3NBSRGUWQGCMZ  B004A9SDD8      1.0      1300838400\n",
       "A2KTVCVZJ8GPD2  B004A9SDD8      5.0      1393545600"
      ]
     },
     "execution_count": 193,
     "metadata": {},
     "output_type": "execute_result"
    }
   ],
   "source": [
    "df_RT_AA5_head"
   ]
  },
  {
   "cell_type": "code",
   "execution_count": 192,
   "metadata": {
    "collapsed": true,
    "nbpresent": {
     "id": "8996ceba-1303-4c64-95c7-9020e68121c6"
    }
   },
   "outputs": [],
   "source": [
    "#df_RT_AA5_head.reindex(index=['reviewerID'])"
   ]
  },
  {
   "cell_type": "code",
   "execution_count": 191,
   "metadata": {
    "collapsed": false,
    "nbpresent": {
     "id": "48cac050-5fb6-4e4a-a226-d29f968fce50"
    }
   },
   "outputs": [
    {
     "data": {
      "text/html": [
       "<div>\n",
       "<style>\n",
       "    .dataframe thead tr:only-child th {\n",
       "        text-align: right;\n",
       "    }\n",
       "\n",
       "    .dataframe thead th {\n",
       "        text-align: left;\n",
       "    }\n",
       "\n",
       "    .dataframe tbody tr th {\n",
       "        vertical-align: top;\n",
       "    }\n",
       "</style>\n",
       "<table border=\"1\" class=\"dataframe\">\n",
       "  <thead>\n",
       "    <tr style=\"text-align: right;\">\n",
       "      <th></th>\n",
       "      <th>asin</th>\n",
       "      <th>overall</th>\n",
       "      <th>unixReviewTime</th>\n",
       "    </tr>\n",
       "    <tr>\n",
       "      <th>reviewerID</th>\n",
       "      <th></th>\n",
       "      <th></th>\n",
       "      <th></th>\n",
       "    </tr>\n",
       "  </thead>\n",
       "  <tbody>\n",
       "    <tr>\n",
       "      <th>A1ZUSQ3TC3EC4C</th>\n",
       "      <td>B004A9SDD8</td>\n",
       "      <td>5.0</td>\n",
       "      <td>1321574400</td>\n",
       "    </tr>\n",
       "    <tr>\n",
       "      <th>AC05OAXD72X1V</th>\n",
       "      <td>B004A9SDD8</td>\n",
       "      <td>4.0</td>\n",
       "      <td>1367366400</td>\n",
       "    </tr>\n",
       "    <tr>\n",
       "      <th>A2RVMFOKBVM21I</th>\n",
       "      <td>B004A9SDD8</td>\n",
       "      <td>5.0</td>\n",
       "      <td>1350172800</td>\n",
       "    </tr>\n",
       "    <tr>\n",
       "      <th>A3NBSRGUWQGCMZ</th>\n",
       "      <td>B004A9SDD8</td>\n",
       "      <td>1.0</td>\n",
       "      <td>1300838400</td>\n",
       "    </tr>\n",
       "    <tr>\n",
       "      <th>A2KTVCVZJ8GPD2</th>\n",
       "      <td>B004A9SDD8</td>\n",
       "      <td>5.0</td>\n",
       "      <td>1393545600</td>\n",
       "    </tr>\n",
       "  </tbody>\n",
       "</table>\n",
       "</div>"
      ],
      "text/plain": [
       "                      asin  overall  unixReviewTime\n",
       " reviewerID                                        \n",
       "A1ZUSQ3TC3EC4C  B004A9SDD8      5.0      1321574400\n",
       "AC05OAXD72X1V   B004A9SDD8      4.0      1367366400\n",
       "A2RVMFOKBVM21I  B004A9SDD8      5.0      1350172800\n",
       "A3NBSRGUWQGCMZ  B004A9SDD8      1.0      1300838400\n",
       "A2KTVCVZJ8GPD2  B004A9SDD8      5.0      1393545600"
      ]
     },
     "execution_count": 191,
     "metadata": {},
     "output_type": "execute_result"
    }
   ],
   "source": [
    "df_RT_AA5_head"
   ]
  },
  {
   "cell_type": "code",
   "execution_count": 190,
   "metadata": {
    "collapsed": false,
    "nbpresent": {
     "id": "4d937ead-d71f-468d-960b-ab08bf3c9c20"
    }
   },
   "outputs": [
    {
     "name": "stdout",
     "output_type": "stream",
     "text": [
      " reviewerID\n"
     ]
    }
   ],
   "source": [
    "print(df_RT_AA5_head.index.name)"
   ]
  },
  {
   "cell_type": "code",
   "execution_count": 189,
   "metadata": {
    "collapsed": true,
    "nbpresent": {
     "id": "f2d39889-632d-41b5-ab32-5b8ce7123a65"
    }
   },
   "outputs": [],
   "source": [
    "#df_RT_AA5_head.index.name ='reviewerID'"
   ]
  },
  {
   "cell_type": "code",
   "execution_count": 102,
   "metadata": {
    "collapsed": false,
    "nbpresent": {
     "id": "f3fb49fd-7a49-4141-bb7b-34ac22ab3621"
    }
   },
   "outputs": [
    {
     "name": "stdout",
     "output_type": "stream",
     "text": [
      "<bound method DataFrame.info of                 reviewerID        asin  overall  unixReviewTime\n",
      "reviewerID                                                     \n",
      "0           A1ZUSQ3TC3EC4C  B004A9SDD8      5.0      1321574400\n",
      "1            AC05OAXD72X1V  B004A9SDD8      4.0      1367366400\n",
      "2           A2RVMFOKBVM21I  B004A9SDD8      5.0      1350172800\n",
      "3           A3NBSRGUWQGCMZ  B004A9SDD8      1.0      1300838400\n",
      "4           A2KTVCVZJ8GPD2  B004A9SDD8      5.0      1393545600>\n"
     ]
    }
   ],
   "source": [
    "print(df_RT_AA5_head.info)"
   ]
  },
  {
   "cell_type": "code",
   "execution_count": 103,
   "metadata": {
    "collapsed": true,
    "nbpresent": {
     "id": "8aa319e8-451e-4fe6-939f-1fa5e41a53b6"
    }
   },
   "outputs": [],
   "source": [
    "df_RT_AA5_head.index.name =''"
   ]
  },
  {
   "cell_type": "code",
   "execution_count": 104,
   "metadata": {
    "collapsed": false,
    "nbpresent": {
     "id": "cc65707c-7a03-445d-93b4-570db848a45f"
    }
   },
   "outputs": [
    {
     "name": "stdout",
     "output_type": "stream",
     "text": [
      "RangeIndex(start=0, stop=5, step=1, name='')\n"
     ]
    }
   ],
   "source": [
    "print(df_RT_AA5_head.index)"
   ]
  },
  {
   "cell_type": "code",
   "execution_count": 105,
   "metadata": {
    "collapsed": true,
    "nbpresent": {
     "id": "bcb6e6c7-5b12-4efc-86d0-464cec8c3562"
    }
   },
   "outputs": [],
   "source": [
    "df_RT_AA5_head.set_index(df_RT_AA5_head.columns[0],inplace=True)"
   ]
  },
  {
   "cell_type": "code",
   "execution_count": 106,
   "metadata": {
    "collapsed": false,
    "nbpresent": {
     "id": "83aab36d-60ec-40c4-8f50-d59fe8a532e5"
    }
   },
   "outputs": [
    {
     "data": {
      "text/plain": [
       "Index(['A1ZUSQ3TC3EC4C', 'AC05OAXD72X1V', 'A2RVMFOKBVM21I', 'A3NBSRGUWQGCMZ',\n",
       "       'A2KTVCVZJ8GPD2'],\n",
       "      dtype='object', name=' reviewerID')"
      ]
     },
     "execution_count": 106,
     "metadata": {},
     "output_type": "execute_result"
    }
   ],
   "source": [
    "df_RT_AA5_head.index"
   ]
  },
  {
   "cell_type": "code",
   "execution_count": 107,
   "metadata": {
    "collapsed": false,
    "nbpresent": {
     "id": "6ee6ef1b-40c6-4983-b77a-d0baac07ebcc"
    }
   },
   "outputs": [
    {
     "name": "stdout",
     "output_type": "stream",
     "text": [
      "                      asin  overall  unixReviewTime\n",
      " reviewerID                                        \n",
      "A1ZUSQ3TC3EC4C  B004A9SDD8      5.0      1321574400\n",
      "AC05OAXD72X1V   B004A9SDD8      4.0      1367366400\n",
      "A2RVMFOKBVM21I  B004A9SDD8      5.0      1350172800\n",
      "A3NBSRGUWQGCMZ  B004A9SDD8      1.0      1300838400\n",
      "A2KTVCVZJ8GPD2  B004A9SDD8      5.0      1393545600\n"
     ]
    }
   ],
   "source": [
    "print(df_RT_AA5_head)"
   ]
  },
  {
   "cell_type": "code",
   "execution_count": 108,
   "metadata": {
    "collapsed": false,
    "nbpresent": {
     "id": "ad8db883-7df3-4dcf-bc99-e328fdcb3bd0"
    }
   },
   "outputs": [
    {
     "name": "stdout",
     "output_type": "stream",
     "text": [
      "Int64Index([0, 1, 2, 3, 4], dtype='int64')\n"
     ]
    }
   ],
   "source": [
    "print(df_AA5_head.index)"
   ]
  },
  {
   "cell_type": "code",
   "execution_count": 109,
   "metadata": {
    "collapsed": true,
    "nbpresent": {
     "id": "f2133715-8f17-48c2-abb9-55d1ffad2c77"
    }
   },
   "outputs": [],
   "source": [
    "df_AA5_head.set_index(df_AA5_head.columns[0],inplace=True)"
   ]
  },
  {
   "cell_type": "code",
   "execution_count": 110,
   "metadata": {
    "collapsed": false,
    "nbpresent": {
     "id": "8b57d2ca-6c6a-4150-b9cf-848e4a547a6b"
    }
   },
   "outputs": [
    {
     "name": "stdout",
     "output_type": "stream",
     "text": [
      "Index(['A1N4O8VOJZTDVB', 'A2HQWU6HUKIEC7', 'A1SXASF6GYG96I', 'A2B54P9ZDYH167',\n",
      "       'AFOFZDTX5UC6D'],\n",
      "      dtype='object', name='reviewerID')\n"
     ]
    }
   ],
   "source": [
    "print(df_AA5_head.index)"
   ]
  },
  {
   "cell_type": "code",
   "execution_count": 111,
   "metadata": {
    "collapsed": false,
    "nbpresent": {
     "id": "ad1ea4a4-26e8-4b2a-8847-7e1b6f530ab2"
    }
   },
   "outputs": [
    {
     "name": "stdout",
     "output_type": "stream",
     "text": [
      "                      asin  overall  unixReviewTime\n",
      " reviewerID                                        \n",
      "A1ZUSQ3TC3EC4C  B004A9SDD8      5.0      1321574400\n",
      "AC05OAXD72X1V   B004A9SDD8      4.0      1367366400\n",
      "A2RVMFOKBVM21I  B004A9SDD8      5.0      1350172800\n",
      "A3NBSRGUWQGCMZ  B004A9SDD8      1.0      1300838400\n",
      "A2KTVCVZJ8GPD2  B004A9SDD8      5.0      1393545600\n"
     ]
    }
   ],
   "source": [
    "print(df_RT_AA5_head)"
   ]
  },
  {
   "cell_type": "code",
   "execution_count": 176,
   "metadata": {
    "collapsed": false,
    "nbpresent": {
     "id": "0e0e71bb-1ff4-4fbb-831f-436123a9a57d"
    }
   },
   "outputs": [
    {
     "ename": "TypeError",
     "evalue": "merge() got an unexpected keyword argument 'index'",
     "output_type": "error",
     "traceback": [
      "\u001b[1;31m---------------------------------------------------------------------------\u001b[0m",
      "\u001b[1;31mTypeError\u001b[0m                                 Traceback (most recent call last)",
      "\u001b[1;32m<ipython-input-176-e647d2972614>\u001b[0m in \u001b[0;36m<module>\u001b[1;34m()\u001b[0m\n\u001b[1;32m----> 1\u001b[1;33m \u001b[0mmerged_df_AA5\u001b[0m \u001b[1;33m=\u001b[0m \u001b[0mpd\u001b[0m\u001b[1;33m.\u001b[0m\u001b[0mmerge\u001b[0m\u001b[1;33m(\u001b[0m\u001b[0mdf_AA5_head\u001b[0m\u001b[1;33m,\u001b[0m \u001b[0mdf_RT_AA5_head\u001b[0m\u001b[1;33m,\u001b[0m \u001b[0mindex\u001b[0m \u001b[1;33m=\u001b[0m \u001b[1;34m'reviewerID'\u001b[0m\u001b[1;33m,\u001b[0m \u001b[0mhow\u001b[0m\u001b[1;33m=\u001b[0m\u001b[1;34m'outer'\u001b[0m\u001b[1;33m)\u001b[0m\u001b[1;33m\u001b[0m\u001b[0m\n\u001b[0m",
      "\u001b[1;31mTypeError\u001b[0m: merge() got an unexpected keyword argument 'index'"
     ]
    }
   ],
   "source": [
    "merged_df_AA5 = pd.merge(df_AA5_head, df_RT_AA5_head, how='outer')"
   ]
  },
  {
   "cell_type": "code",
   "execution_count": 113,
   "metadata": {
    "collapsed": false,
    "nbpresent": {
     "id": "74c87caf-001f-4597-b479-8652166d0e87"
    }
   },
   "outputs": [
    {
     "data": {
      "text/html": [
       "<div>\n",
       "<style>\n",
       "    .dataframe thead tr:only-child th {\n",
       "        text-align: right;\n",
       "    }\n",
       "\n",
       "    .dataframe thead th {\n",
       "        text-align: left;\n",
       "    }\n",
       "\n",
       "    .dataframe tbody tr th {\n",
       "        vertical-align: top;\n",
       "    }\n",
       "</style>\n",
       "<table border=\"1\" class=\"dataframe\">\n",
       "  <thead>\n",
       "    <tr style=\"text-align: right;\">\n",
       "      <th></th>\n",
       "      <th>asin</th>\n",
       "      <th>reviewerName</th>\n",
       "      <th>helpful</th>\n",
       "      <th>reviewText</th>\n",
       "      <th>overall</th>\n",
       "      <th>summary</th>\n",
       "      <th>unixReviewTime</th>\n",
       "      <th>reviewTime</th>\n",
       "    </tr>\n",
       "  </thead>\n",
       "  <tbody>\n",
       "    <tr>\n",
       "      <th>0</th>\n",
       "      <td>B004A9SDD8</td>\n",
       "      <td>Annette Yancey</td>\n",
       "      <td>[1, 1]</td>\n",
       "      <td>Loves the song, so he really couldn't wait to ...</td>\n",
       "      <td>3.0</td>\n",
       "      <td>Really cute</td>\n",
       "      <td>1383350400</td>\n",
       "      <td>11 2, 2013</td>\n",
       "    </tr>\n",
       "    <tr>\n",
       "      <th>1</th>\n",
       "      <td>B004A9SDD8</td>\n",
       "      <td>Audiobook lover \"Kathy\"</td>\n",
       "      <td>[0, 0]</td>\n",
       "      <td>Oh, how my little grandson loves this app. He'...</td>\n",
       "      <td>5.0</td>\n",
       "      <td>2-year-old loves it</td>\n",
       "      <td>1323043200</td>\n",
       "      <td>12 5, 2011</td>\n",
       "    </tr>\n",
       "    <tr>\n",
       "      <th>2</th>\n",
       "      <td>B004A9SDD8</td>\n",
       "      <td>Barbara Gibbs</td>\n",
       "      <td>[0, 0]</td>\n",
       "      <td>I found this at a perfect time since my daught...</td>\n",
       "      <td>5.0</td>\n",
       "      <td>Fun game</td>\n",
       "      <td>1337558400</td>\n",
       "      <td>05 21, 2012</td>\n",
       "    </tr>\n",
       "    <tr>\n",
       "      <th>3</th>\n",
       "      <td>B004A9SDD8</td>\n",
       "      <td>Brooke Greenstreet \"Babylove\"</td>\n",
       "      <td>[3, 4]</td>\n",
       "      <td>My 1 year old goes back to this game over and ...</td>\n",
       "      <td>5.0</td>\n",
       "      <td>We love our Monkeys!</td>\n",
       "      <td>1354752000</td>\n",
       "      <td>12 6, 2012</td>\n",
       "    </tr>\n",
       "    <tr>\n",
       "      <th>4</th>\n",
       "      <td>B004A9SDD8</td>\n",
       "      <td>C. Galindo</td>\n",
       "      <td>[1, 1]</td>\n",
       "      <td>There are three different versions of the song...</td>\n",
       "      <td>5.0</td>\n",
       "      <td>This is my granddaughters favorite app on my K...</td>\n",
       "      <td>1391212800</td>\n",
       "      <td>02 1, 2014</td>\n",
       "    </tr>\n",
       "    <tr>\n",
       "      <th>5</th>\n",
       "      <td>B004A9SDD8</td>\n",
       "      <td>NaN</td>\n",
       "      <td>NaN</td>\n",
       "      <td>NaN</td>\n",
       "      <td>5.0</td>\n",
       "      <td>NaN</td>\n",
       "      <td>1321574400</td>\n",
       "      <td>NaN</td>\n",
       "    </tr>\n",
       "    <tr>\n",
       "      <th>6</th>\n",
       "      <td>B004A9SDD8</td>\n",
       "      <td>NaN</td>\n",
       "      <td>NaN</td>\n",
       "      <td>NaN</td>\n",
       "      <td>4.0</td>\n",
       "      <td>NaN</td>\n",
       "      <td>1367366400</td>\n",
       "      <td>NaN</td>\n",
       "    </tr>\n",
       "    <tr>\n",
       "      <th>7</th>\n",
       "      <td>B004A9SDD8</td>\n",
       "      <td>NaN</td>\n",
       "      <td>NaN</td>\n",
       "      <td>NaN</td>\n",
       "      <td>5.0</td>\n",
       "      <td>NaN</td>\n",
       "      <td>1350172800</td>\n",
       "      <td>NaN</td>\n",
       "    </tr>\n",
       "    <tr>\n",
       "      <th>8</th>\n",
       "      <td>B004A9SDD8</td>\n",
       "      <td>NaN</td>\n",
       "      <td>NaN</td>\n",
       "      <td>NaN</td>\n",
       "      <td>1.0</td>\n",
       "      <td>NaN</td>\n",
       "      <td>1300838400</td>\n",
       "      <td>NaN</td>\n",
       "    </tr>\n",
       "    <tr>\n",
       "      <th>9</th>\n",
       "      <td>B004A9SDD8</td>\n",
       "      <td>NaN</td>\n",
       "      <td>NaN</td>\n",
       "      <td>NaN</td>\n",
       "      <td>5.0</td>\n",
       "      <td>NaN</td>\n",
       "      <td>1393545600</td>\n",
       "      <td>NaN</td>\n",
       "    </tr>\n",
       "  </tbody>\n",
       "</table>\n",
       "</div>"
      ],
      "text/plain": [
       "         asin                   reviewerName helpful  \\\n",
       "0  B004A9SDD8                 Annette Yancey  [1, 1]   \n",
       "1  B004A9SDD8        Audiobook lover \"Kathy\"  [0, 0]   \n",
       "2  B004A9SDD8                  Barbara Gibbs  [0, 0]   \n",
       "3  B004A9SDD8  Brooke Greenstreet \"Babylove\"  [3, 4]   \n",
       "4  B004A9SDD8                     C. Galindo  [1, 1]   \n",
       "5  B004A9SDD8                            NaN     NaN   \n",
       "6  B004A9SDD8                            NaN     NaN   \n",
       "7  B004A9SDD8                            NaN     NaN   \n",
       "8  B004A9SDD8                            NaN     NaN   \n",
       "9  B004A9SDD8                            NaN     NaN   \n",
       "\n",
       "                                          reviewText  overall  \\\n",
       "0  Loves the song, so he really couldn't wait to ...      3.0   \n",
       "1  Oh, how my little grandson loves this app. He'...      5.0   \n",
       "2  I found this at a perfect time since my daught...      5.0   \n",
       "3  My 1 year old goes back to this game over and ...      5.0   \n",
       "4  There are three different versions of the song...      5.0   \n",
       "5                                                NaN      5.0   \n",
       "6                                                NaN      4.0   \n",
       "7                                                NaN      5.0   \n",
       "8                                                NaN      1.0   \n",
       "9                                                NaN      5.0   \n",
       "\n",
       "                                             summary  unixReviewTime  \\\n",
       "0                                        Really cute      1383350400   \n",
       "1                                2-year-old loves it      1323043200   \n",
       "2                                           Fun game      1337558400   \n",
       "3                               We love our Monkeys!      1354752000   \n",
       "4  This is my granddaughters favorite app on my K...      1391212800   \n",
       "5                                                NaN      1321574400   \n",
       "6                                                NaN      1367366400   \n",
       "7                                                NaN      1350172800   \n",
       "8                                                NaN      1300838400   \n",
       "9                                                NaN      1393545600   \n",
       "\n",
       "    reviewTime  \n",
       "0   11 2, 2013  \n",
       "1   12 5, 2011  \n",
       "2  05 21, 2012  \n",
       "3   12 6, 2012  \n",
       "4   02 1, 2014  \n",
       "5          NaN  \n",
       "6          NaN  \n",
       "7          NaN  \n",
       "8          NaN  \n",
       "9          NaN  "
      ]
     },
     "execution_count": 113,
     "metadata": {},
     "output_type": "execute_result"
    }
   ],
   "source": [
    "merged_df_AA5"
   ]
  },
  {
   "cell_type": "code",
   "execution_count": 202,
   "metadata": {
    "collapsed": false,
    "nbpresent": {
     "id": "585ee428-331e-4aac-a858-80b6bc09d411"
    }
   },
   "outputs": [
    {
     "data": {
      "text/html": [
       "<div>\n",
       "<style>\n",
       "    .dataframe thead tr:only-child th {\n",
       "        text-align: right;\n",
       "    }\n",
       "\n",
       "    .dataframe thead th {\n",
       "        text-align: left;\n",
       "    }\n",
       "\n",
       "    .dataframe tbody tr th {\n",
       "        vertical-align: top;\n",
       "    }\n",
       "</style>\n",
       "<table border=\"1\" class=\"dataframe\">\n",
       "  <thead>\n",
       "    <tr style=\"text-align: right;\">\n",
       "      <th></th>\n",
       "      <th>reviewerID</th>\n",
       "      <th>asin</th>\n",
       "      <th>reviewerName</th>\n",
       "      <th>helpful</th>\n",
       "      <th>reviewText</th>\n",
       "      <th>overall</th>\n",
       "      <th>summary</th>\n",
       "      <th>unixReviewTime</th>\n",
       "      <th>reviewTime</th>\n",
       "      <th>reviewerID</th>\n",
       "    </tr>\n",
       "  </thead>\n",
       "  <tbody>\n",
       "    <tr>\n",
       "      <th>0</th>\n",
       "      <td>A1N4O8VOJZTDVB</td>\n",
       "      <td>B004A9SDD8</td>\n",
       "      <td>Annette Yancey</td>\n",
       "      <td>[1, 1]</td>\n",
       "      <td>Loves the song, so he really couldn't wait to ...</td>\n",
       "      <td>3.0</td>\n",
       "      <td>Really cute</td>\n",
       "      <td>1383350400</td>\n",
       "      <td>11 2, 2013</td>\n",
       "      <td>NaN</td>\n",
       "    </tr>\n",
       "    <tr>\n",
       "      <th>1</th>\n",
       "      <td>A2HQWU6HUKIEC7</td>\n",
       "      <td>B004A9SDD8</td>\n",
       "      <td>Audiobook lover \"Kathy\"</td>\n",
       "      <td>[0, 0]</td>\n",
       "      <td>Oh, how my little grandson loves this app. He'...</td>\n",
       "      <td>5.0</td>\n",
       "      <td>2-year-old loves it</td>\n",
       "      <td>1323043200</td>\n",
       "      <td>12 5, 2011</td>\n",
       "      <td>NaN</td>\n",
       "    </tr>\n",
       "    <tr>\n",
       "      <th>2</th>\n",
       "      <td>A1SXASF6GYG96I</td>\n",
       "      <td>B004A9SDD8</td>\n",
       "      <td>Barbara Gibbs</td>\n",
       "      <td>[0, 0]</td>\n",
       "      <td>I found this at a perfect time since my daught...</td>\n",
       "      <td>5.0</td>\n",
       "      <td>Fun game</td>\n",
       "      <td>1337558400</td>\n",
       "      <td>05 21, 2012</td>\n",
       "      <td>NaN</td>\n",
       "    </tr>\n",
       "    <tr>\n",
       "      <th>3</th>\n",
       "      <td>A2B54P9ZDYH167</td>\n",
       "      <td>B004A9SDD8</td>\n",
       "      <td>Brooke Greenstreet \"Babylove\"</td>\n",
       "      <td>[3, 4]</td>\n",
       "      <td>My 1 year old goes back to this game over and ...</td>\n",
       "      <td>5.0</td>\n",
       "      <td>We love our Monkeys!</td>\n",
       "      <td>1354752000</td>\n",
       "      <td>12 6, 2012</td>\n",
       "      <td>NaN</td>\n",
       "    </tr>\n",
       "    <tr>\n",
       "      <th>4</th>\n",
       "      <td>AFOFZDTX5UC6D</td>\n",
       "      <td>B004A9SDD8</td>\n",
       "      <td>C. Galindo</td>\n",
       "      <td>[1, 1]</td>\n",
       "      <td>There are three different versions of the song...</td>\n",
       "      <td>5.0</td>\n",
       "      <td>This is my granddaughters favorite app on my K...</td>\n",
       "      <td>1391212800</td>\n",
       "      <td>02 1, 2014</td>\n",
       "      <td>NaN</td>\n",
       "    </tr>\n",
       "    <tr>\n",
       "      <th>5</th>\n",
       "      <td>NaN</td>\n",
       "      <td>B004A9SDD8</td>\n",
       "      <td>NaN</td>\n",
       "      <td>NaN</td>\n",
       "      <td>NaN</td>\n",
       "      <td>5.0</td>\n",
       "      <td>NaN</td>\n",
       "      <td>1321574400</td>\n",
       "      <td>NaN</td>\n",
       "      <td>A1ZUSQ3TC3EC4C</td>\n",
       "    </tr>\n",
       "    <tr>\n",
       "      <th>6</th>\n",
       "      <td>NaN</td>\n",
       "      <td>B004A9SDD8</td>\n",
       "      <td>NaN</td>\n",
       "      <td>NaN</td>\n",
       "      <td>NaN</td>\n",
       "      <td>4.0</td>\n",
       "      <td>NaN</td>\n",
       "      <td>1367366400</td>\n",
       "      <td>NaN</td>\n",
       "      <td>AC05OAXD72X1V</td>\n",
       "    </tr>\n",
       "    <tr>\n",
       "      <th>7</th>\n",
       "      <td>NaN</td>\n",
       "      <td>B004A9SDD8</td>\n",
       "      <td>NaN</td>\n",
       "      <td>NaN</td>\n",
       "      <td>NaN</td>\n",
       "      <td>5.0</td>\n",
       "      <td>NaN</td>\n",
       "      <td>1350172800</td>\n",
       "      <td>NaN</td>\n",
       "      <td>A2RVMFOKBVM21I</td>\n",
       "    </tr>\n",
       "    <tr>\n",
       "      <th>8</th>\n",
       "      <td>NaN</td>\n",
       "      <td>B004A9SDD8</td>\n",
       "      <td>NaN</td>\n",
       "      <td>NaN</td>\n",
       "      <td>NaN</td>\n",
       "      <td>1.0</td>\n",
       "      <td>NaN</td>\n",
       "      <td>1300838400</td>\n",
       "      <td>NaN</td>\n",
       "      <td>A3NBSRGUWQGCMZ</td>\n",
       "    </tr>\n",
       "    <tr>\n",
       "      <th>9</th>\n",
       "      <td>NaN</td>\n",
       "      <td>B004A9SDD8</td>\n",
       "      <td>NaN</td>\n",
       "      <td>NaN</td>\n",
       "      <td>NaN</td>\n",
       "      <td>5.0</td>\n",
       "      <td>NaN</td>\n",
       "      <td>1393545600</td>\n",
       "      <td>NaN</td>\n",
       "      <td>A2KTVCVZJ8GPD2</td>\n",
       "    </tr>\n",
       "  </tbody>\n",
       "</table>\n",
       "</div>"
      ],
      "text/plain": [
       "       reviewerID        asin                   reviewerName helpful  \\\n",
       "0  A1N4O8VOJZTDVB  B004A9SDD8                 Annette Yancey  [1, 1]   \n",
       "1  A2HQWU6HUKIEC7  B004A9SDD8        Audiobook lover \"Kathy\"  [0, 0]   \n",
       "2  A1SXASF6GYG96I  B004A9SDD8                  Barbara Gibbs  [0, 0]   \n",
       "3  A2B54P9ZDYH167  B004A9SDD8  Brooke Greenstreet \"Babylove\"  [3, 4]   \n",
       "4   AFOFZDTX5UC6D  B004A9SDD8                     C. Galindo  [1, 1]   \n",
       "5             NaN  B004A9SDD8                            NaN     NaN   \n",
       "6             NaN  B004A9SDD8                            NaN     NaN   \n",
       "7             NaN  B004A9SDD8                            NaN     NaN   \n",
       "8             NaN  B004A9SDD8                            NaN     NaN   \n",
       "9             NaN  B004A9SDD8                            NaN     NaN   \n",
       "\n",
       "                                          reviewText  overall  \\\n",
       "0  Loves the song, so he really couldn't wait to ...      3.0   \n",
       "1  Oh, how my little grandson loves this app. He'...      5.0   \n",
       "2  I found this at a perfect time since my daught...      5.0   \n",
       "3  My 1 year old goes back to this game over and ...      5.0   \n",
       "4  There are three different versions of the song...      5.0   \n",
       "5                                                NaN      5.0   \n",
       "6                                                NaN      4.0   \n",
       "7                                                NaN      5.0   \n",
       "8                                                NaN      1.0   \n",
       "9                                                NaN      5.0   \n",
       "\n",
       "                                             summary  unixReviewTime  \\\n",
       "0                                        Really cute      1383350400   \n",
       "1                                2-year-old loves it      1323043200   \n",
       "2                                           Fun game      1337558400   \n",
       "3                               We love our Monkeys!      1354752000   \n",
       "4  This is my granddaughters favorite app on my K...      1391212800   \n",
       "5                                                NaN      1321574400   \n",
       "6                                                NaN      1367366400   \n",
       "7                                                NaN      1350172800   \n",
       "8                                                NaN      1300838400   \n",
       "9                                                NaN      1393545600   \n",
       "\n",
       "    reviewTime      reviewerID  \n",
       "0   11 2, 2013             NaN  \n",
       "1   12 5, 2011             NaN  \n",
       "2  05 21, 2012             NaN  \n",
       "3   12 6, 2012             NaN  \n",
       "4   02 1, 2014             NaN  \n",
       "5          NaN  A1ZUSQ3TC3EC4C  \n",
       "6          NaN   AC05OAXD72X1V  \n",
       "7          NaN  A2RVMFOKBVM21I  \n",
       "8          NaN  A3NBSRGUWQGCMZ  \n",
       "9          NaN  A2KTVCVZJ8GPD2  "
      ]
     },
     "execution_count": 202,
     "metadata": {},
     "output_type": "execute_result"
    }
   ],
   "source": [
    "merged_df_AA5_head = pd.merge(df_AA5_head, df_RT_AA5_head, how='outer')\n",
    "merged_df_AA5_head"
   ]
  },
  {
   "cell_type": "code",
   "execution_count": 173,
   "metadata": {
    "collapsed": false,
    "nbpresent": {
     "id": "5dc19195-9cf6-40d0-9b83-1023478202fc"
    }
   },
   "outputs": [
    {
     "data": {
      "text/plain": [
       "Int64Index([0, 1, 2, 3, 4, 5, 6, 7, 8, 9], dtype='int64')"
      ]
     },
     "execution_count": 173,
     "metadata": {},
     "output_type": "execute_result"
    }
   ],
   "source": [
    "merged_df_AA5.index"
   ]
  },
  {
   "cell_type": "code",
   "execution_count": 204,
   "metadata": {
    "collapsed": false,
    "nbpresent": {
     "id": "88253cea-e327-4423-8241-f82431c5db90"
    }
   },
   "outputs": [
    {
     "data": {
      "text/html": [
       "<div>\n",
       "<style>\n",
       "    .dataframe thead tr:only-child th {\n",
       "        text-align: right;\n",
       "    }\n",
       "\n",
       "    .dataframe thead th {\n",
       "        text-align: left;\n",
       "    }\n",
       "\n",
       "    .dataframe tbody tr th {\n",
       "        vertical-align: top;\n",
       "    }\n",
       "</style>\n",
       "<table border=\"1\" class=\"dataframe\">\n",
       "  <thead>\n",
       "    <tr style=\"text-align: right;\">\n",
       "      <th></th>\n",
       "      <th>reviewerID</th>\n",
       "      <th>asin</th>\n",
       "      <th>reviewerName</th>\n",
       "      <th>helpful</th>\n",
       "      <th>reviewText</th>\n",
       "      <th>overall</th>\n",
       "      <th>summary</th>\n",
       "      <th>unixReviewTime</th>\n",
       "      <th>reviewTime</th>\n",
       "      <th>reviewerID</th>\n",
       "      <th>wc_reviewtext</th>\n",
       "    </tr>\n",
       "  </thead>\n",
       "  <tbody>\n",
       "    <tr>\n",
       "      <th>0</th>\n",
       "      <td>A1N4O8VOJZTDVB</td>\n",
       "      <td>B004A9SDD8</td>\n",
       "      <td>Annette Yancey</td>\n",
       "      <td>[1, 1]</td>\n",
       "      <td>Loves the song, so he really couldn't wait to ...</td>\n",
       "      <td>3.0</td>\n",
       "      <td>Really cute</td>\n",
       "      <td>1383350400</td>\n",
       "      <td>11 2, 2013</td>\n",
       "      <td>NaN</td>\n",
       "      <td>206.0</td>\n",
       "    </tr>\n",
       "    <tr>\n",
       "      <th>1</th>\n",
       "      <td>A2HQWU6HUKIEC7</td>\n",
       "      <td>B004A9SDD8</td>\n",
       "      <td>Audiobook lover \"Kathy\"</td>\n",
       "      <td>[0, 0]</td>\n",
       "      <td>Oh, how my little grandson loves this app. He'...</td>\n",
       "      <td>5.0</td>\n",
       "      <td>2-year-old loves it</td>\n",
       "      <td>1323043200</td>\n",
       "      <td>12 5, 2011</td>\n",
       "      <td>NaN</td>\n",
       "      <td>255.0</td>\n",
       "    </tr>\n",
       "    <tr>\n",
       "      <th>2</th>\n",
       "      <td>A1SXASF6GYG96I</td>\n",
       "      <td>B004A9SDD8</td>\n",
       "      <td>Barbara Gibbs</td>\n",
       "      <td>[0, 0]</td>\n",
       "      <td>I found this at a perfect time since my daught...</td>\n",
       "      <td>5.0</td>\n",
       "      <td>Fun game</td>\n",
       "      <td>1337558400</td>\n",
       "      <td>05 21, 2012</td>\n",
       "      <td>NaN</td>\n",
       "      <td>288.0</td>\n",
       "    </tr>\n",
       "    <tr>\n",
       "      <th>3</th>\n",
       "      <td>A2B54P9ZDYH167</td>\n",
       "      <td>B004A9SDD8</td>\n",
       "      <td>Brooke Greenstreet \"Babylove\"</td>\n",
       "      <td>[3, 4]</td>\n",
       "      <td>My 1 year old goes back to this game over and ...</td>\n",
       "      <td>5.0</td>\n",
       "      <td>We love our Monkeys!</td>\n",
       "      <td>1354752000</td>\n",
       "      <td>12 6, 2012</td>\n",
       "      <td>NaN</td>\n",
       "      <td>186.0</td>\n",
       "    </tr>\n",
       "    <tr>\n",
       "      <th>4</th>\n",
       "      <td>AFOFZDTX5UC6D</td>\n",
       "      <td>B004A9SDD8</td>\n",
       "      <td>C. Galindo</td>\n",
       "      <td>[1, 1]</td>\n",
       "      <td>There are three different versions of the song...</td>\n",
       "      <td>5.0</td>\n",
       "      <td>This is my granddaughters favorite app on my K...</td>\n",
       "      <td>1391212800</td>\n",
       "      <td>02 1, 2014</td>\n",
       "      <td>NaN</td>\n",
       "      <td>746.0</td>\n",
       "    </tr>\n",
       "    <tr>\n",
       "      <th>5</th>\n",
       "      <td>NaN</td>\n",
       "      <td>B004A9SDD8</td>\n",
       "      <td>NaN</td>\n",
       "      <td>NaN</td>\n",
       "      <td>NaN</td>\n",
       "      <td>5.0</td>\n",
       "      <td>NaN</td>\n",
       "      <td>1321574400</td>\n",
       "      <td>NaN</td>\n",
       "      <td>A1ZUSQ3TC3EC4C</td>\n",
       "      <td>NaN</td>\n",
       "    </tr>\n",
       "    <tr>\n",
       "      <th>6</th>\n",
       "      <td>NaN</td>\n",
       "      <td>B004A9SDD8</td>\n",
       "      <td>NaN</td>\n",
       "      <td>NaN</td>\n",
       "      <td>NaN</td>\n",
       "      <td>4.0</td>\n",
       "      <td>NaN</td>\n",
       "      <td>1367366400</td>\n",
       "      <td>NaN</td>\n",
       "      <td>AC05OAXD72X1V</td>\n",
       "      <td>NaN</td>\n",
       "    </tr>\n",
       "    <tr>\n",
       "      <th>7</th>\n",
       "      <td>NaN</td>\n",
       "      <td>B004A9SDD8</td>\n",
       "      <td>NaN</td>\n",
       "      <td>NaN</td>\n",
       "      <td>NaN</td>\n",
       "      <td>5.0</td>\n",
       "      <td>NaN</td>\n",
       "      <td>1350172800</td>\n",
       "      <td>NaN</td>\n",
       "      <td>A2RVMFOKBVM21I</td>\n",
       "      <td>NaN</td>\n",
       "    </tr>\n",
       "    <tr>\n",
       "      <th>8</th>\n",
       "      <td>NaN</td>\n",
       "      <td>B004A9SDD8</td>\n",
       "      <td>NaN</td>\n",
       "      <td>NaN</td>\n",
       "      <td>NaN</td>\n",
       "      <td>1.0</td>\n",
       "      <td>NaN</td>\n",
       "      <td>1300838400</td>\n",
       "      <td>NaN</td>\n",
       "      <td>A3NBSRGUWQGCMZ</td>\n",
       "      <td>NaN</td>\n",
       "    </tr>\n",
       "    <tr>\n",
       "      <th>9</th>\n",
       "      <td>NaN</td>\n",
       "      <td>B004A9SDD8</td>\n",
       "      <td>NaN</td>\n",
       "      <td>NaN</td>\n",
       "      <td>NaN</td>\n",
       "      <td>5.0</td>\n",
       "      <td>NaN</td>\n",
       "      <td>1393545600</td>\n",
       "      <td>NaN</td>\n",
       "      <td>A2KTVCVZJ8GPD2</td>\n",
       "      <td>NaN</td>\n",
       "    </tr>\n",
       "  </tbody>\n",
       "</table>\n",
       "</div>"
      ],
      "text/plain": [
       "       reviewerID        asin                   reviewerName helpful  \\\n",
       "0  A1N4O8VOJZTDVB  B004A9SDD8                 Annette Yancey  [1, 1]   \n",
       "1  A2HQWU6HUKIEC7  B004A9SDD8        Audiobook lover \"Kathy\"  [0, 0]   \n",
       "2  A1SXASF6GYG96I  B004A9SDD8                  Barbara Gibbs  [0, 0]   \n",
       "3  A2B54P9ZDYH167  B004A9SDD8  Brooke Greenstreet \"Babylove\"  [3, 4]   \n",
       "4   AFOFZDTX5UC6D  B004A9SDD8                     C. Galindo  [1, 1]   \n",
       "5             NaN  B004A9SDD8                            NaN     NaN   \n",
       "6             NaN  B004A9SDD8                            NaN     NaN   \n",
       "7             NaN  B004A9SDD8                            NaN     NaN   \n",
       "8             NaN  B004A9SDD8                            NaN     NaN   \n",
       "9             NaN  B004A9SDD8                            NaN     NaN   \n",
       "\n",
       "                                          reviewText  overall  \\\n",
       "0  Loves the song, so he really couldn't wait to ...      3.0   \n",
       "1  Oh, how my little grandson loves this app. He'...      5.0   \n",
       "2  I found this at a perfect time since my daught...      5.0   \n",
       "3  My 1 year old goes back to this game over and ...      5.0   \n",
       "4  There are three different versions of the song...      5.0   \n",
       "5                                                NaN      5.0   \n",
       "6                                                NaN      4.0   \n",
       "7                                                NaN      5.0   \n",
       "8                                                NaN      1.0   \n",
       "9                                                NaN      5.0   \n",
       "\n",
       "                                             summary  unixReviewTime  \\\n",
       "0                                        Really cute      1383350400   \n",
       "1                                2-year-old loves it      1323043200   \n",
       "2                                           Fun game      1337558400   \n",
       "3                               We love our Monkeys!      1354752000   \n",
       "4  This is my granddaughters favorite app on my K...      1391212800   \n",
       "5                                                NaN      1321574400   \n",
       "6                                                NaN      1367366400   \n",
       "7                                                NaN      1350172800   \n",
       "8                                                NaN      1300838400   \n",
       "9                                                NaN      1393545600   \n",
       "\n",
       "    reviewTime      reviewerID  wc_reviewtext  \n",
       "0   11 2, 2013             NaN          206.0  \n",
       "1   12 5, 2011             NaN          255.0  \n",
       "2  05 21, 2012             NaN          288.0  \n",
       "3   12 6, 2012             NaN          186.0  \n",
       "4   02 1, 2014             NaN          746.0  \n",
       "5          NaN  A1ZUSQ3TC3EC4C            NaN  \n",
       "6          NaN   AC05OAXD72X1V            NaN  \n",
       "7          NaN  A2RVMFOKBVM21I            NaN  \n",
       "8          NaN  A3NBSRGUWQGCMZ            NaN  \n",
       "9          NaN  A2KTVCVZJ8GPD2            NaN  "
      ]
     },
     "execution_count": 204,
     "metadata": {},
     "output_type": "execute_result"
    }
   ],
   "source": [
    "def calculate_charlen(row):\n",
    "    return len(row['reviewText'])\n",
    "sus = (merged_df_AA5_head['reviewText'].notnull())\n",
    "# Create a DataFrame with the suspicious row: susmerged_df_AA5['helpful'].str[1] != 0.0pect\n",
    "suspect = merged_df_AA5_head[sus]\n",
    "merged_df_AA5_head['wc_reviewtext'] = suspect.apply(calculate_charlen,axis=1)\n",
    "merged_df_AA5_head                                                    "
   ]
  },
  {
   "cell_type": "code",
   "execution_count": 216,
   "metadata": {
    "collapsed": false,
    "nbpresent": {
     "id": "ce84d494-c97a-4a86-880a-d09b303ec32d"
    }
   },
   "outputs": [
    {
     "name": "stdout",
     "output_type": "stream",
     "text": [
      "0    [1, 1]\n",
      "3    [3, 4]\n",
      "4    [1, 1]\n",
      "Name: helpful, dtype: object\n",
      "       reviewerID        asin                   reviewerName helpful  \\\n",
      "0  A1N4O8VOJZTDVB  B004A9SDD8                 Annette Yancey  [1, 1]   \n",
      "3  A2B54P9ZDYH167  B004A9SDD8  Brooke Greenstreet \"Babylove\"  [3, 4]   \n",
      "4   AFOFZDTX5UC6D  B004A9SDD8                     C. Galindo  [1, 1]   \n",
      "\n",
      "                                          reviewText  overall  \\\n",
      "0  Loves the song, so he really couldn't wait to ...      3.0   \n",
      "3  My 1 year old goes back to this game over and ...      5.0   \n",
      "4  There are three different versions of the song...      5.0   \n",
      "\n",
      "                                             summary  unixReviewTime  \\\n",
      "0                                        Really cute      1383350400   \n",
      "3                               We love our Monkeys!      1354752000   \n",
      "4  This is my granddaughters favorite app on my K...      1391212800   \n",
      "\n",
      "   reviewTime  reviewerID  wc_reviewtext  helpfulpercentage  \\\n",
      "0  11 2, 2013         NaN          206.0              100.0   \n",
      "3  12 6, 2012         NaN          186.0               75.0   \n",
      "4  02 1, 2014         NaN          746.0              100.0   \n",
      "\n",
      "   helpful_numerator  helpful_denominator  \n",
      "0                1.0                  1.0  \n",
      "3                3.0                  4.0  \n",
      "4                1.0                  1.0  \n",
      "       reviewerID        asin                   reviewerName helpful  \\\n",
      "0  A1N4O8VOJZTDVB  B004A9SDD8                 Annette Yancey  [1, 1]   \n",
      "1  A2HQWU6HUKIEC7  B004A9SDD8        Audiobook lover \"Kathy\"  [0, 0]   \n",
      "2  A1SXASF6GYG96I  B004A9SDD8                  Barbara Gibbs  [0, 0]   \n",
      "3  A2B54P9ZDYH167  B004A9SDD8  Brooke Greenstreet \"Babylove\"  [3, 4]   \n",
      "4   AFOFZDTX5UC6D  B004A9SDD8                     C. Galindo  [1, 1]   \n",
      "5             NaN  B004A9SDD8                            NaN     NaN   \n",
      "6             NaN  B004A9SDD8                            NaN     NaN   \n",
      "7             NaN  B004A9SDD8                            NaN     NaN   \n",
      "8             NaN  B004A9SDD8                            NaN     NaN   \n",
      "9             NaN  B004A9SDD8                            NaN     NaN   \n",
      "\n",
      "                                          reviewText  overall  \\\n",
      "0  Loves the song, so he really couldn't wait to ...      3.0   \n",
      "1  Oh, how my little grandson loves this app. He'...      5.0   \n",
      "2  I found this at a perfect time since my daught...      5.0   \n",
      "3  My 1 year old goes back to this game over and ...      5.0   \n",
      "4  There are three different versions of the song...      5.0   \n",
      "5                                                NaN      5.0   \n",
      "6                                                NaN      4.0   \n",
      "7                                                NaN      5.0   \n",
      "8                                                NaN      1.0   \n",
      "9                                                NaN      5.0   \n",
      "\n",
      "                                             summary  unixReviewTime  \\\n",
      "0                                        Really cute      1383350400   \n",
      "1                                2-year-old loves it      1323043200   \n",
      "2                                           Fun game      1337558400   \n",
      "3                               We love our Monkeys!      1354752000   \n",
      "4  This is my granddaughters favorite app on my K...      1391212800   \n",
      "5                                                NaN      1321574400   \n",
      "6                                                NaN      1367366400   \n",
      "7                                                NaN      1350172800   \n",
      "8                                                NaN      1300838400   \n",
      "9                                                NaN      1393545600   \n",
      "\n",
      "    reviewTime      reviewerID  wc_reviewtext  helpfulpercentage  \\\n",
      "0   11 2, 2013             NaN          206.0              100.0   \n",
      "1   12 5, 2011             NaN          255.0                NaN   \n",
      "2  05 21, 2012             NaN          288.0                NaN   \n",
      "3   12 6, 2012             NaN          186.0               75.0   \n",
      "4   02 1, 2014             NaN          746.0              100.0   \n",
      "5          NaN  A1ZUSQ3TC3EC4C            NaN                NaN   \n",
      "6          NaN   AC05OAXD72X1V            NaN                NaN   \n",
      "7          NaN  A2RVMFOKBVM21I            NaN                NaN   \n",
      "8          NaN  A3NBSRGUWQGCMZ            NaN                NaN   \n",
      "9          NaN  A2KTVCVZJ8GPD2            NaN                NaN   \n",
      "\n",
      "   helpful_numerator  helpful_denominator  \n",
      "0                1.0                  1.0  \n",
      "1                NaN                  NaN  \n",
      "2                NaN                  NaN  \n",
      "3                3.0                  4.0  \n",
      "4                1.0                  1.0  \n",
      "5                NaN                  NaN  \n",
      "6                NaN                  NaN  \n",
      "7                NaN                  NaN  \n",
      "8                NaN                  NaN  \n",
      "9                NaN                  NaN  \n"
     ]
    },
    {
     "data": {
      "text/plain": [
       "<function matplotlib.pyplot.show>"
      ]
     },
     "execution_count": 216,
     "metadata": {},
     "output_type": "execute_result"
    },
    {
     "data": {
      "image/png": "[encoded data removed]",
      "text/plain": [
       "<matplotlib.figure.Figure at 0x2412e94c9e8>"
      ]
     },
     "metadata": {},
     "output_type": "display_data"
    },
    {
     "data": {
      "image/png": "[encoded data removed]",
      "text/plain": [
       "<matplotlib.figure.Figure at 0x24139b76390>"
      ]
     },
     "metadata": {},
     "output_type": "display_data"
    }
   ],
   "source": [
    "import numpy as np\n",
    "import matplotlib.pyplot as plt\n",
    "\n",
    "sus1 = (merged_df_AA5_head['helpful'].str[1] != 0.0) & (merged_df_AA5_head['helpful'].dropna()) \n",
    "# Create a DataFrame with the suspicious row: susmerged_df_AA5['helpful'].str[1] != 0.0pect\n",
    "suspect = merged_df_AA5_head.loc[sus1]\n",
    "print(suspect['helpful'])\n",
    "print(suspect)\n",
    "merged_df_AA5_head['helpfulpercentage'] = (np.divide(suspect['helpful'].str[0],suspect['helpful'].str[1])* 100).astype(np.int64)\n",
    "merged_df_AA5_head['helpful_numerator'] = suspect['helpful'].str[0].astype(np.int64)\n",
    "merged_df_AA5_head['helpful_denominator'] = suspect['helpful'].str[1].astype(np.int64)\n",
    "print(merged_df_AA5_head)\n",
    "\n",
    "\n",
    "fig, ax = plt.subplots()\n",
    "ax.scatter(merged_df_AA5_head['wc_reviewtext'], merged_df_AA5_head['overall'], color = 'darkgreen', marker='^')\n",
    "plt.show\n",
    "\n",
    "fig, ax = plt.subplots()\n",
    "ax.scatter( merged_df_AA5_head['helpful_denominator'], merged_df_AA5_head['overall'], color = 'darkgreen', marker='^')\n",
    "plt.show"
   ]
  },
  {
   "cell_type": "code",
   "execution_count": 115,
   "metadata": {
    "collapsed": false,
    "nbpresent": {
     "id": "ca0b98b3-da89-4bd0-b079-229cf72f133e"
    }
   },
   "outputs": [
    {
     "data": {
      "text/plain": [
       "0    1.0\n",
       "1    0.0\n",
       "2    0.0\n",
       "3    3.0\n",
       "4    1.0\n",
       "5    NaN\n",
       "6    NaN\n",
       "7    NaN\n",
       "8    NaN\n",
       "9    NaN\n",
       "Name: helpful, dtype: float64"
      ]
     },
     "execution_count": 115,
     "metadata": {},
     "output_type": "execute_result"
    }
   ],
   "source": [
    "merged_df_AA5['helpful'].str[0]"
   ]
  },
  {
   "cell_type": "code",
   "execution_count": 116,
   "metadata": {
    "collapsed": false,
    "nbpresent": {
     "id": "46ca49d6-c61f-4292-9cbd-1df28dc86720"
    }
   },
   "outputs": [
    {
     "data": {
      "text/plain": [
       "0    1.0\n",
       "1    0.0\n",
       "2    0.0\n",
       "3    4.0\n",
       "4    1.0\n",
       "5    NaN\n",
       "6    NaN\n",
       "7    NaN\n",
       "8    NaN\n",
       "9    NaN\n",
       "Name: helpful, dtype: float64"
      ]
     },
     "execution_count": 116,
     "metadata": {},
     "output_type": "execute_result"
    }
   ],
   "source": [
    "merged_df_AA5['helpful'].str[1]"
   ]
  },
  {
   "cell_type": "raw",
   "metadata": {
    "nbpresent": {
     "id": "5d9169a3-762b-4f46-8fc6-89043e271fcf"
    }
   },
   "source": [
    "merged_df_AA5['helpful'].str.split(',')"
   ]
  },
  {
   "cell_type": "code",
   "execution_count": 117,
   "metadata": {
    "collapsed": false,
    "nbpresent": {
     "id": "e3a0b808-9be5-4ea0-b878-033506303738"
    }
   },
   "outputs": [
    {
     "name": "stdout",
     "output_type": "stream",
     "text": [
      "    0\n",
      "0 NaN\n",
      "1 NaN\n",
      "2 NaN\n",
      "3 NaN\n",
      "4 NaN\n",
      "5 NaN\n",
      "6 NaN\n",
      "7 NaN\n",
      "8 NaN\n",
      "9 NaN\n"
     ]
    }
   ],
   "source": [
    "print(merged_df_AA5['helpful'].str.split(',', expand=True, n=1))"
   ]
  },
  {
   "cell_type": "code",
   "execution_count": 178,
   "metadata": {
    "collapsed": false,
    "nbpresent": {
     "id": "baeaa18f-f176-433f-866b-afde5e859141"
    }
   },
   "outputs": [
    {
     "data": {
      "text/html": [
       "<div>\n",
       "<style>\n",
       "    .dataframe thead tr:only-child th {\n",
       "        text-align: right;\n",
       "    }\n",
       "\n",
       "    .dataframe thead th {\n",
       "        text-align: left;\n",
       "    }\n",
       "\n",
       "    .dataframe tbody tr th {\n",
       "        vertical-align: top;\n",
       "    }\n",
       "</style>\n",
       "<table border=\"1\" class=\"dataframe\">\n",
       "  <thead>\n",
       "    <tr style=\"text-align: right;\">\n",
       "      <th></th>\n",
       "      <th>asin</th>\n",
       "      <th>reviewerName</th>\n",
       "      <th>helpful</th>\n",
       "      <th>reviewText</th>\n",
       "      <th>overall</th>\n",
       "      <th>summary</th>\n",
       "      <th>unixReviewTime</th>\n",
       "      <th>reviewTime</th>\n",
       "      <th>wc_reviewtext</th>\n",
       "      <th>helpfulpercentage</th>\n",
       "      <th>helpful_numerator</th>\n",
       "      <th>helpful_denominator</th>\n",
       "    </tr>\n",
       "  </thead>\n",
       "  <tbody>\n",
       "    <tr>\n",
       "      <th>0</th>\n",
       "      <td>B004A9SDD8</td>\n",
       "      <td>Annette Yancey</td>\n",
       "      <td>[1, 1]</td>\n",
       "      <td>Loves the song, so he really couldn't wait to ...</td>\n",
       "      <td>3.0</td>\n",
       "      <td>Really cute</td>\n",
       "      <td>1383350400</td>\n",
       "      <td>11 2, 2013</td>\n",
       "      <td>10</td>\n",
       "      <td>100.0</td>\n",
       "      <td>1.0</td>\n",
       "      <td>1.0</td>\n",
       "    </tr>\n",
       "    <tr>\n",
       "      <th>1</th>\n",
       "      <td>B004A9SDD8</td>\n",
       "      <td>Audiobook lover \"Kathy\"</td>\n",
       "      <td>[0, 0]</td>\n",
       "      <td>Oh, how my little grandson loves this app. He'...</td>\n",
       "      <td>5.0</td>\n",
       "      <td>2-year-old loves it</td>\n",
       "      <td>1323043200</td>\n",
       "      <td>12 5, 2011</td>\n",
       "      <td>10</td>\n",
       "      <td>NaN</td>\n",
       "      <td>NaN</td>\n",
       "      <td>NaN</td>\n",
       "    </tr>\n",
       "    <tr>\n",
       "      <th>2</th>\n",
       "      <td>B004A9SDD8</td>\n",
       "      <td>Barbara Gibbs</td>\n",
       "      <td>[0, 0]</td>\n",
       "      <td>I found this at a perfect time since my daught...</td>\n",
       "      <td>5.0</td>\n",
       "      <td>Fun game</td>\n",
       "      <td>1337558400</td>\n",
       "      <td>05 21, 2012</td>\n",
       "      <td>10</td>\n",
       "      <td>NaN</td>\n",
       "      <td>NaN</td>\n",
       "      <td>NaN</td>\n",
       "    </tr>\n",
       "    <tr>\n",
       "      <th>3</th>\n",
       "      <td>B004A9SDD8</td>\n",
       "      <td>Brooke Greenstreet \"Babylove\"</td>\n",
       "      <td>[3, 4]</td>\n",
       "      <td>My 1 year old goes back to this game over and ...</td>\n",
       "      <td>5.0</td>\n",
       "      <td>We love our Monkeys!</td>\n",
       "      <td>1354752000</td>\n",
       "      <td>12 6, 2012</td>\n",
       "      <td>10</td>\n",
       "      <td>75.0</td>\n",
       "      <td>3.0</td>\n",
       "      <td>4.0</td>\n",
       "    </tr>\n",
       "    <tr>\n",
       "      <th>4</th>\n",
       "      <td>B004A9SDD8</td>\n",
       "      <td>C. Galindo</td>\n",
       "      <td>[1, 1]</td>\n",
       "      <td>There are three different versions of the song...</td>\n",
       "      <td>5.0</td>\n",
       "      <td>This is my granddaughters favorite app on my K...</td>\n",
       "      <td>1391212800</td>\n",
       "      <td>02 1, 2014</td>\n",
       "      <td>10</td>\n",
       "      <td>100.0</td>\n",
       "      <td>1.0</td>\n",
       "      <td>1.0</td>\n",
       "    </tr>\n",
       "    <tr>\n",
       "      <th>5</th>\n",
       "      <td>B004A9SDD8</td>\n",
       "      <td>NaN</td>\n",
       "      <td>NaN</td>\n",
       "      <td>NaN</td>\n",
       "      <td>5.0</td>\n",
       "      <td>NaN</td>\n",
       "      <td>1321574400</td>\n",
       "      <td>NaN</td>\n",
       "      <td>10</td>\n",
       "      <td>NaN</td>\n",
       "      <td>NaN</td>\n",
       "      <td>NaN</td>\n",
       "    </tr>\n",
       "    <tr>\n",
       "      <th>6</th>\n",
       "      <td>B004A9SDD8</td>\n",
       "      <td>NaN</td>\n",
       "      <td>NaN</td>\n",
       "      <td>NaN</td>\n",
       "      <td>4.0</td>\n",
       "      <td>NaN</td>\n",
       "      <td>1367366400</td>\n",
       "      <td>NaN</td>\n",
       "      <td>10</td>\n",
       "      <td>NaN</td>\n",
       "      <td>NaN</td>\n",
       "      <td>NaN</td>\n",
       "    </tr>\n",
       "    <tr>\n",
       "      <th>7</th>\n",
       "      <td>B004A9SDD8</td>\n",
       "      <td>NaN</td>\n",
       "      <td>NaN</td>\n",
       "      <td>NaN</td>\n",
       "      <td>5.0</td>\n",
       "      <td>NaN</td>\n",
       "      <td>1350172800</td>\n",
       "      <td>NaN</td>\n",
       "      <td>10</td>\n",
       "      <td>NaN</td>\n",
       "      <td>NaN</td>\n",
       "      <td>NaN</td>\n",
       "    </tr>\n",
       "    <tr>\n",
       "      <th>8</th>\n",
       "      <td>B004A9SDD8</td>\n",
       "      <td>NaN</td>\n",
       "      <td>NaN</td>\n",
       "      <td>NaN</td>\n",
       "      <td>1.0</td>\n",
       "      <td>NaN</td>\n",
       "      <td>1300838400</td>\n",
       "      <td>NaN</td>\n",
       "      <td>10</td>\n",
       "      <td>NaN</td>\n",
       "      <td>NaN</td>\n",
       "      <td>NaN</td>\n",
       "    </tr>\n",
       "    <tr>\n",
       "      <th>9</th>\n",
       "      <td>B004A9SDD8</td>\n",
       "      <td>NaN</td>\n",
       "      <td>NaN</td>\n",
       "      <td>NaN</td>\n",
       "      <td>5.0</td>\n",
       "      <td>NaN</td>\n",
       "      <td>1393545600</td>\n",
       "      <td>NaN</td>\n",
       "      <td>10</td>\n",
       "      <td>NaN</td>\n",
       "      <td>NaN</td>\n",
       "      <td>NaN</td>\n",
       "    </tr>\n",
       "  </tbody>\n",
       "</table>\n",
       "</div>"
      ],
      "text/plain": [
       "         asin                   reviewerName helpful  \\\n",
       "0  B004A9SDD8                 Annette Yancey  [1, 1]   \n",
       "1  B004A9SDD8        Audiobook lover \"Kathy\"  [0, 0]   \n",
       "2  B004A9SDD8                  Barbara Gibbs  [0, 0]   \n",
       "3  B004A9SDD8  Brooke Greenstreet \"Babylove\"  [3, 4]   \n",
       "4  B004A9SDD8                     C. Galindo  [1, 1]   \n",
       "5  B004A9SDD8                            NaN     NaN   \n",
       "6  B004A9SDD8                            NaN     NaN   \n",
       "7  B004A9SDD8                            NaN     NaN   \n",
       "8  B004A9SDD8                            NaN     NaN   \n",
       "9  B004A9SDD8                            NaN     NaN   \n",
       "\n",
       "                                          reviewText  overall  \\\n",
       "0  Loves the song, so he really couldn't wait to ...      3.0   \n",
       "1  Oh, how my little grandson loves this app. He'...      5.0   \n",
       "2  I found this at a perfect time since my daught...      5.0   \n",
       "3  My 1 year old goes back to this game over and ...      5.0   \n",
       "4  There are three different versions of the song...      5.0   \n",
       "5                                                NaN      5.0   \n",
       "6                                                NaN      4.0   \n",
       "7                                                NaN      5.0   \n",
       "8                                                NaN      1.0   \n",
       "9                                                NaN      5.0   \n",
       "\n",
       "                                             summary  unixReviewTime  \\\n",
       "0                                        Really cute      1383350400   \n",
       "1                                2-year-old loves it      1323043200   \n",
       "2                                           Fun game      1337558400   \n",
       "3                               We love our Monkeys!      1354752000   \n",
       "4  This is my granddaughters favorite app on my K...      1391212800   \n",
       "5                                                NaN      1321574400   \n",
       "6                                                NaN      1367366400   \n",
       "7                                                NaN      1350172800   \n",
       "8                                                NaN      1300838400   \n",
       "9                                                NaN      1393545600   \n",
       "\n",
       "    reviewTime  wc_reviewtext  helpfulpercentage  helpful_numerator  \\\n",
       "0   11 2, 2013             10              100.0                1.0   \n",
       "1   12 5, 2011             10                NaN                NaN   \n",
       "2  05 21, 2012             10                NaN                NaN   \n",
       "3   12 6, 2012             10               75.0                3.0   \n",
       "4   02 1, 2014             10              100.0                1.0   \n",
       "5          NaN             10                NaN                NaN   \n",
       "6          NaN             10                NaN                NaN   \n",
       "7          NaN             10                NaN                NaN   \n",
       "8          NaN             10                NaN                NaN   \n",
       "9          NaN             10                NaN                NaN   \n",
       "\n",
       "   helpful_denominator  \n",
       "0                  1.0  \n",
       "1                  NaN  \n",
       "2                  NaN  \n",
       "3                  4.0  \n",
       "4                  1.0  \n",
       "5                  NaN  \n",
       "6                  NaN  \n",
       "7                  NaN  \n",
       "8                  NaN  \n",
       "9                  NaN  "
      ]
     },
     "execution_count": 178,
     "metadata": {},
     "output_type": "execute_result"
    }
   ],
   "source": [
    "merged_df_AA5"
   ]
  },
  {
   "cell_type": "code",
   "execution_count": 119,
   "metadata": {
    "collapsed": false,
    "nbpresent": {
     "id": "c008351c-4495-4dde-a9d7-34e03bf82d6d"
    }
   },
   "outputs": [
    {
     "ename": "TypeError",
     "evalue": "'function' object is not iterable",
     "output_type": "error",
     "traceback": [
      "\u001b[1;31m---------------------------------------------------------------------------\u001b[0m",
      "\u001b[1;31mTypeError\u001b[0m                                 Traceback (most recent call last)",
      "\u001b[1;32m<ipython-input-119-9378a3788a95>\u001b[0m in \u001b[0;36m<module>\u001b[1;34m()\u001b[0m\n\u001b[1;32m----> 1\u001b[1;33m \u001b[0mmerged_df_AA5\u001b[0m\u001b[1;33m.\u001b[0m\u001b[0mfilter\u001b[0m\u001b[1;33m(\u001b[0m\u001b[1;32mlambda\u001b[0m \u001b[0mg\u001b[0m\u001b[1;33m:\u001b[0m\u001b[0mg\u001b[0m\u001b[1;33m[\u001b[0m\u001b[1;34m'helpful'\u001b[0m\u001b[1;33m]\u001b[0m \u001b[1;33m!=\u001b[0m \u001b[1;34m'[0, 0]'\u001b[0m\u001b[1;33m)\u001b[0m\u001b[1;33m\u001b[0m\u001b[0m\n\u001b[0m",
      "\u001b[1;32mC:\\ProgramData\\Anaconda3\\lib\\site-packages\\pandas\\core\\generic.py\u001b[0m in \u001b[0;36mfilter\u001b[1;34m(self, items, like, regex, axis)\u001b[0m\n\u001b[0;32m   2715\u001b[0m         \u001b[1;32mif\u001b[0m \u001b[0mitems\u001b[0m \u001b[1;32mis\u001b[0m \u001b[1;32mnot\u001b[0m \u001b[1;32mNone\u001b[0m\u001b[1;33m:\u001b[0m\u001b[1;33m\u001b[0m\u001b[0m\n\u001b[0;32m   2716\u001b[0m             return self.reindex(**{axis_name:\n\u001b[1;32m-> 2717\u001b[1;33m                                    [r for r in items if r in axis_values]})\n\u001b[0m\u001b[0;32m   2718\u001b[0m         \u001b[1;32melif\u001b[0m \u001b[0mlike\u001b[0m\u001b[1;33m:\u001b[0m\u001b[1;33m\u001b[0m\u001b[0m\n\u001b[0;32m   2719\u001b[0m             matchf = lambda x: (like in x if isinstance(x, string_types) else\n",
      "\u001b[1;31mTypeError\u001b[0m: 'function' object is not iterable"
     ]
    }
   ],
   "source": [
    "merged_df_AA5.filter(lambda g:g['helpful'] != '[0, 0]')"
   ]
  },
  {
   "cell_type": "code",
   "execution_count": 120,
   "metadata": {
    "collapsed": false,
    "nbpresent": {
     "id": "bdeb7802-26a4-4bc9-a050-c8b581a3d8fe"
    }
   },
   "outputs": [
    {
     "data": {
      "text/plain": [
       "[0, 0]"
      ]
     },
     "execution_count": 120,
     "metadata": {},
     "output_type": "execute_result"
    }
   ],
   "source": [
    "merged_df_AA5.helpful[2]"
   ]
  },
  {
   "cell_type": "code",
   "execution_count": 121,
   "metadata": {
    "collapsed": false,
    "nbpresent": {
     "id": "7d83cdac-5f53-46b6-a181-225731c75cc8"
    }
   },
   "outputs": [
    {
     "name": "stdout",
     "output_type": "stream",
     "text": [
      "         asin                   reviewerName helpful  \\\n",
      "0  B004A9SDD8                 Annette Yancey  [1, 1]   \n",
      "1  B004A9SDD8        Audiobook lover \"Kathy\"  [0, 0]   \n",
      "2  B004A9SDD8                  Barbara Gibbs  [0, 0]   \n",
      "3  B004A9SDD8  Brooke Greenstreet \"Babylove\"  [3, 4]   \n",
      "4  B004A9SDD8                     C. Galindo  [1, 1]   \n",
      "\n",
      "                                          reviewText  overall  \\\n",
      "0  Loves the song, so he really couldn't wait to ...      3.0   \n",
      "1  Oh, how my little grandson loves this app. He'...      5.0   \n",
      "2  I found this at a perfect time since my daught...      5.0   \n",
      "3  My 1 year old goes back to this game over and ...      5.0   \n",
      "4  There are three different versions of the song...      5.0   \n",
      "\n",
      "                                             summary  unixReviewTime  \\\n",
      "0                                        Really cute      1383350400   \n",
      "1                                2-year-old loves it      1323043200   \n",
      "2                                           Fun game      1337558400   \n",
      "3                               We love our Monkeys!      1354752000   \n",
      "4  This is my granddaughters favorite app on my K...      1391212800   \n",
      "\n",
      "    reviewTime  wc_reviewtext  \n",
      "0   11 2, 2013             10  \n",
      "1   12 5, 2011             10  \n",
      "2  05 21, 2012             10  \n",
      "3   12 6, 2012             10  \n",
      "4   02 1, 2014             10  \n"
     ]
    }
   ],
   "source": [
    "sus = (merged_df_AA5['helpful'].notnull())\n",
    "# Create a DataFrame with the suspicious row: susmerged_df_AA5['helpful'].str[1] != 0.0pect\n",
    "suspect = merged_df_AA5[sus]\n",
    "print(suspect)"
   ]
  },
  {
   "cell_type": "code",
   "execution_count": 122,
   "metadata": {
    "collapsed": false,
    "nbpresent": {
     "id": "0010f661-3b1b-4798-b3a1-22baea77772d"
    }
   },
   "outputs": [
    {
     "name": "stdout",
     "output_type": "stream",
     "text": [
      "0    False\n",
      "1    False\n",
      "2    False\n",
      "3    False\n",
      "4    False\n",
      "5     True\n",
      "6     True\n",
      "7     True\n",
      "8     True\n",
      "9     True\n",
      "Name: helpful, dtype: bool\n"
     ]
    }
   ],
   "source": [
    "sus2 = (merged_df_AA5['helpful'].isnull()) \n",
    "print(sus2)"
   ]
  },
  {
   "cell_type": "code",
   "execution_count": 22,
   "metadata": {
    "collapsed": false,
    "nbpresent": {
     "id": "ae456360-4967-46e2-8f39-0fad3af4dea3"
    }
   },
   "outputs": [
    {
     "ename": "NameError",
     "evalue": "name 'merged_df_AA5' is not defined",
     "output_type": "error",
     "traceback": [
      "\u001b[0;31m---------------------------------------------------------------------------\u001b[0m",
      "\u001b[0;31mNameError\u001b[0m                                 Traceback (most recent call last)",
      "\u001b[0;32m<ipython-input-22-7950e7283dd1>\u001b[0m in \u001b[0;36m<module>\u001b[0;34m()\u001b[0m\n\u001b[1;32m      2\u001b[0m \u001b[1;32mimport\u001b[0m \u001b[0mmatplotlib\u001b[0m\u001b[1;33m.\u001b[0m\u001b[0mpyplot\u001b[0m \u001b[1;32mas\u001b[0m \u001b[0mplt\u001b[0m\u001b[1;33m\u001b[0m\u001b[0m\n\u001b[1;32m      3\u001b[0m \u001b[1;33m\u001b[0m\u001b[0m\n\u001b[0;32m----> 4\u001b[0;31m \u001b[0msus1\u001b[0m \u001b[1;33m=\u001b[0m \u001b[1;33m(\u001b[0m\u001b[0mmerged_df_AA5\u001b[0m\u001b[1;33m[\u001b[0m\u001b[1;34m'helpful'\u001b[0m\u001b[1;33m]\u001b[0m\u001b[1;33m.\u001b[0m\u001b[0mstr\u001b[0m\u001b[1;33m[\u001b[0m\u001b[1;36m1\u001b[0m\u001b[1;33m]\u001b[0m \u001b[1;33m!=\u001b[0m \u001b[1;36m0.0\u001b[0m\u001b[1;33m)\u001b[0m \u001b[1;33m&\u001b[0m \u001b[1;33m(\u001b[0m\u001b[0mmerged_df_AA5\u001b[0m\u001b[1;33m[\u001b[0m\u001b[1;34m'helpful'\u001b[0m\u001b[1;33m]\u001b[0m\u001b[1;33m.\u001b[0m\u001b[0mdropna\u001b[0m\u001b[1;33m(\u001b[0m\u001b[1;33m)\u001b[0m\u001b[1;33m)\u001b[0m\u001b[1;33m\u001b[0m\u001b[0m\n\u001b[0m\u001b[1;32m      5\u001b[0m \u001b[1;31m# Create a DataFrame with the suspicious row: susmerged_df_AA5['helpful'].str[1] != 0.0pect\u001b[0m\u001b[1;33m\u001b[0m\u001b[1;33m\u001b[0m\u001b[0m\n\u001b[1;32m      6\u001b[0m \u001b[0msuspect\u001b[0m \u001b[1;33m=\u001b[0m \u001b[0mmerged_df_AA5\u001b[0m\u001b[1;33m.\u001b[0m\u001b[0mloc\u001b[0m\u001b[1;33m[\u001b[0m\u001b[0msus1\u001b[0m\u001b[1;33m]\u001b[0m\u001b[1;33m\u001b[0m\u001b[0m\n",
      "\u001b[0;31mNameError\u001b[0m: name 'merged_df_AA5' is not defined"
     ]
    }
   ],
   "source": [
    "import numpy as np\n",
    "import matplotlib.pyplot as plt\n",
    "\n",
    "sus1 = (merged_df_AA5['helpful'].str[1] != 0.0) & (merged_df_AA5['helpful'].dropna()) \n",
    "# Create a DataFrame with the suspicious row: susmerged_df_AA5['helpful'].str[1] != 0.0pect\n",
    "suspect = merged_df_AA5.loc[sus1]\n",
    "#print(suspect['helpful'])\n",
    "#print(suspect)\n",
    "merged_df_AA5['helpfulpercentage'] = (np.divide(suspect['helpful'].str[0],suspect['helpful'].str[1])* 100).astype(np.int64)\n",
    "merged_df_AA5['helpful_numerator'] = suspect['helpful'].str[0].astype(np.int64)\n",
    "merged_df_AA5['helpful_denominator'] = suspect['helpful'].str[1].astype(np.int64)\n",
    "print(merged_df_AA5.dropna())\n",
    "\n",
    "\n",
    "fig, ax = plt.subplots()\n",
    "ax.scatter(merged_df_AA5.dropna()['helpful_denominator'], merged_df_AA5.dropna()['overall'],color = 'darkgreen', marker='^')\n",
    "plt.show"
   ]
  },
  {
   "cell_type": "code",
   "execution_count": 205,
   "metadata": {
    "collapsed": false,
    "nbpresent": {
     "id": "08cdb599-0113-427c-9b8e-a47d3313a4bc"
    }
   },
   "outputs": [
    {
     "ename": "KeyError",
     "evalue": "'helpfulpercentage'",
     "output_type": "error",
     "traceback": [
      "\u001b[1;31m---------------------------------------------------------------------------\u001b[0m",
      "\u001b[1;31mKeyError\u001b[0m                                  Traceback (most recent call last)",
      "\u001b[1;32mC:\\ProgramData\\Anaconda3\\lib\\site-packages\\pandas\\core\\indexes\\base.py\u001b[0m in \u001b[0;36mget_loc\u001b[1;34m(self, key, method, tolerance)\u001b[0m\n\u001b[0;32m   2441\u001b[0m             \u001b[1;32mtry\u001b[0m\u001b[1;33m:\u001b[0m\u001b[1;33m\u001b[0m\u001b[0m\n\u001b[1;32m-> 2442\u001b[1;33m                 \u001b[1;32mreturn\u001b[0m \u001b[0mself\u001b[0m\u001b[1;33m.\u001b[0m\u001b[0m_engine\u001b[0m\u001b[1;33m.\u001b[0m\u001b[0mget_loc\u001b[0m\u001b[1;33m(\u001b[0m\u001b[0mkey\u001b[0m\u001b[1;33m)\u001b[0m\u001b[1;33m\u001b[0m\u001b[0m\n\u001b[0m\u001b[0;32m   2443\u001b[0m             \u001b[1;32mexcept\u001b[0m \u001b[0mKeyError\u001b[0m\u001b[1;33m:\u001b[0m\u001b[1;33m\u001b[0m\u001b[0m\n",
      "\u001b[1;32mpandas\\_libs\\index.pyx\u001b[0m in \u001b[0;36mpandas._libs.index.IndexEngine.get_loc\u001b[1;34m()\u001b[0m\n",
      "\u001b[1;32mpandas\\_libs\\index.pyx\u001b[0m in \u001b[0;36mpandas._libs.index.IndexEngine.get_loc\u001b[1;34m()\u001b[0m\n",
      "\u001b[1;32mpandas\\_libs\\hashtable_class_helper.pxi\u001b[0m in \u001b[0;36mpandas._libs.hashtable.PyObjectHashTable.get_item\u001b[1;34m()\u001b[0m\n",
      "\u001b[1;32mpandas\\_libs\\hashtable_class_helper.pxi\u001b[0m in \u001b[0;36mpandas._libs.hashtable.PyObjectHashTable.get_item\u001b[1;34m()\u001b[0m\n",
      "\u001b[1;31mKeyError\u001b[0m: 'helpfulpercentage'",
      "\nDuring handling of the above exception, another exception occurred:\n",
      "\u001b[1;31mKeyError\u001b[0m                                  Traceback (most recent call last)",
      "\u001b[1;32m<ipython-input-205-9fb765b6bd74>\u001b[0m in \u001b[0;36m<module>\u001b[1;34m()\u001b[0m\n\u001b[1;32m----> 1\u001b[1;33m \u001b[0mNewDataSet\u001b[0m \u001b[1;33m=\u001b[0m \u001b[0mlist\u001b[0m\u001b[1;33m(\u001b[0m\u001b[0mzip\u001b[0m\u001b[1;33m(\u001b[0m\u001b[0mmerged_df_AA5_head\u001b[0m\u001b[1;33m[\u001b[0m\u001b[1;34m'helpfulpercentage'\u001b[0m\u001b[1;33m]\u001b[0m\u001b[1;33m,\u001b[0m\u001b[0mmerged_df_AA5_head\u001b[0m\u001b[1;33m[\u001b[0m\u001b[1;34m'helpful_numerator'\u001b[0m\u001b[1;33m]\u001b[0m\u001b[1;33m,\u001b[0m\u001b[0mmerged_df_AA5_head\u001b[0m\u001b[1;33m[\u001b[0m\u001b[1;34m'helpful_denominator'\u001b[0m\u001b[1;33m]\u001b[0m\u001b[1;33m)\u001b[0m\u001b[1;33m)\u001b[0m\u001b[1;33m\u001b[0m\u001b[0m\n\u001b[0m\u001b[0;32m      2\u001b[0m \u001b[0mNewDataSet\u001b[0m\u001b[1;33m[\u001b[0m\u001b[1;33m:\u001b[0m\u001b[1;36m10\u001b[0m\u001b[1;33m]\u001b[0m\u001b[1;33m\u001b[0m\u001b[0m\n\u001b[0;32m      3\u001b[0m \u001b[1;33m\u001b[0m\u001b[0m\n\u001b[0;32m      4\u001b[0m \u001b[0mdf\u001b[0m \u001b[1;33m=\u001b[0m \u001b[0mpd\u001b[0m\u001b[1;33m.\u001b[0m\u001b[0mDataFrame\u001b[0m\u001b[1;33m(\u001b[0m\u001b[0mdata\u001b[0m \u001b[1;33m=\u001b[0m \u001b[0mNewDataSet\u001b[0m\u001b[1;33m,\u001b[0m \u001b[0mcolumns\u001b[0m\u001b[1;33m=\u001b[0m\u001b[1;33m[\u001b[0m\u001b[1;34m'helpfulpercentage'\u001b[0m\u001b[1;33m,\u001b[0m \u001b[1;34m'helpful_numerator'\u001b[0m\u001b[1;33m,\u001b[0m \u001b[1;34m'helpful_denominator'\u001b[0m\u001b[1;33m]\u001b[0m\u001b[1;33m)\u001b[0m\u001b[1;33m\u001b[0m\u001b[0m\n\u001b[0;32m      5\u001b[0m \u001b[0mdf\u001b[0m\u001b[1;33m[\u001b[0m\u001b[1;33m:\u001b[0m\u001b[1;36m10\u001b[0m\u001b[1;33m]\u001b[0m\u001b[1;33m\u001b[0m\u001b[0m\n",
      "\u001b[1;32mC:\\ProgramData\\Anaconda3\\lib\\site-packages\\pandas\\core\\frame.py\u001b[0m in \u001b[0;36m__getitem__\u001b[1;34m(self, key)\u001b[0m\n\u001b[0;32m   1962\u001b[0m             \u001b[1;32mreturn\u001b[0m \u001b[0mself\u001b[0m\u001b[1;33m.\u001b[0m\u001b[0m_getitem_multilevel\u001b[0m\u001b[1;33m(\u001b[0m\u001b[0mkey\u001b[0m\u001b[1;33m)\u001b[0m\u001b[1;33m\u001b[0m\u001b[0m\n\u001b[0;32m   1963\u001b[0m         \u001b[1;32melse\u001b[0m\u001b[1;33m:\u001b[0m\u001b[1;33m\u001b[0m\u001b[0m\n\u001b[1;32m-> 1964\u001b[1;33m             \u001b[1;32mreturn\u001b[0m \u001b[0mself\u001b[0m\u001b[1;33m.\u001b[0m\u001b[0m_getitem_column\u001b[0m\u001b[1;33m(\u001b[0m\u001b[0mkey\u001b[0m\u001b[1;33m)\u001b[0m\u001b[1;33m\u001b[0m\u001b[0m\n\u001b[0m\u001b[0;32m   1965\u001b[0m \u001b[1;33m\u001b[0m\u001b[0m\n\u001b[0;32m   1966\u001b[0m     \u001b[1;32mdef\u001b[0m \u001b[0m_getitem_column\u001b[0m\u001b[1;33m(\u001b[0m\u001b[0mself\u001b[0m\u001b[1;33m,\u001b[0m \u001b[0mkey\u001b[0m\u001b[1;33m)\u001b[0m\u001b[1;33m:\u001b[0m\u001b[1;33m\u001b[0m\u001b[0m\n",
      "\u001b[1;32mC:\\ProgramData\\Anaconda3\\lib\\site-packages\\pandas\\core\\frame.py\u001b[0m in \u001b[0;36m_getitem_column\u001b[1;34m(self, key)\u001b[0m\n\u001b[0;32m   1969\u001b[0m         \u001b[1;31m# get column\u001b[0m\u001b[1;33m\u001b[0m\u001b[1;33m\u001b[0m\u001b[0m\n\u001b[0;32m   1970\u001b[0m         \u001b[1;32mif\u001b[0m \u001b[0mself\u001b[0m\u001b[1;33m.\u001b[0m\u001b[0mcolumns\u001b[0m\u001b[1;33m.\u001b[0m\u001b[0mis_unique\u001b[0m\u001b[1;33m:\u001b[0m\u001b[1;33m\u001b[0m\u001b[0m\n\u001b[1;32m-> 1971\u001b[1;33m             \u001b[1;32mreturn\u001b[0m \u001b[0mself\u001b[0m\u001b[1;33m.\u001b[0m\u001b[0m_get_item_cache\u001b[0m\u001b[1;33m(\u001b[0m\u001b[0mkey\u001b[0m\u001b[1;33m)\u001b[0m\u001b[1;33m\u001b[0m\u001b[0m\n\u001b[0m\u001b[0;32m   1972\u001b[0m \u001b[1;33m\u001b[0m\u001b[0m\n\u001b[0;32m   1973\u001b[0m         \u001b[1;31m# duplicate columns & possible reduce dimensionality\u001b[0m\u001b[1;33m\u001b[0m\u001b[1;33m\u001b[0m\u001b[0m\n",
      "\u001b[1;32mC:\\ProgramData\\Anaconda3\\lib\\site-packages\\pandas\\core\\generic.py\u001b[0m in \u001b[0;36m_get_item_cache\u001b[1;34m(self, item)\u001b[0m\n\u001b[0;32m   1643\u001b[0m         \u001b[0mres\u001b[0m \u001b[1;33m=\u001b[0m \u001b[0mcache\u001b[0m\u001b[1;33m.\u001b[0m\u001b[0mget\u001b[0m\u001b[1;33m(\u001b[0m\u001b[0mitem\u001b[0m\u001b[1;33m)\u001b[0m\u001b[1;33m\u001b[0m\u001b[0m\n\u001b[0;32m   1644\u001b[0m         \u001b[1;32mif\u001b[0m \u001b[0mres\u001b[0m \u001b[1;32mis\u001b[0m \u001b[1;32mNone\u001b[0m\u001b[1;33m:\u001b[0m\u001b[1;33m\u001b[0m\u001b[0m\n\u001b[1;32m-> 1645\u001b[1;33m             \u001b[0mvalues\u001b[0m \u001b[1;33m=\u001b[0m \u001b[0mself\u001b[0m\u001b[1;33m.\u001b[0m\u001b[0m_data\u001b[0m\u001b[1;33m.\u001b[0m\u001b[0mget\u001b[0m\u001b[1;33m(\u001b[0m\u001b[0mitem\u001b[0m\u001b[1;33m)\u001b[0m\u001b[1;33m\u001b[0m\u001b[0m\n\u001b[0m\u001b[0;32m   1646\u001b[0m             \u001b[0mres\u001b[0m \u001b[1;33m=\u001b[0m \u001b[0mself\u001b[0m\u001b[1;33m.\u001b[0m\u001b[0m_box_item_values\u001b[0m\u001b[1;33m(\u001b[0m\u001b[0mitem\u001b[0m\u001b[1;33m,\u001b[0m \u001b[0mvalues\u001b[0m\u001b[1;33m)\u001b[0m\u001b[1;33m\u001b[0m\u001b[0m\n\u001b[0;32m   1647\u001b[0m             \u001b[0mcache\u001b[0m\u001b[1;33m[\u001b[0m\u001b[0mitem\u001b[0m\u001b[1;33m]\u001b[0m \u001b[1;33m=\u001b[0m \u001b[0mres\u001b[0m\u001b[1;33m\u001b[0m\u001b[0m\n",
      "\u001b[1;32mC:\\ProgramData\\Anaconda3\\lib\\site-packages\\pandas\\core\\internals.py\u001b[0m in \u001b[0;36mget\u001b[1;34m(self, item, fastpath)\u001b[0m\n\u001b[0;32m   3588\u001b[0m \u001b[1;33m\u001b[0m\u001b[0m\n\u001b[0;32m   3589\u001b[0m             \u001b[1;32mif\u001b[0m \u001b[1;32mnot\u001b[0m \u001b[0misnull\u001b[0m\u001b[1;33m(\u001b[0m\u001b[0mitem\u001b[0m\u001b[1;33m)\u001b[0m\u001b[1;33m:\u001b[0m\u001b[1;33m\u001b[0m\u001b[0m\n\u001b[1;32m-> 3590\u001b[1;33m                 \u001b[0mloc\u001b[0m \u001b[1;33m=\u001b[0m \u001b[0mself\u001b[0m\u001b[1;33m.\u001b[0m\u001b[0mitems\u001b[0m\u001b[1;33m.\u001b[0m\u001b[0mget_loc\u001b[0m\u001b[1;33m(\u001b[0m\u001b[0mitem\u001b[0m\u001b[1;33m)\u001b[0m\u001b[1;33m\u001b[0m\u001b[0m\n\u001b[0m\u001b[0;32m   3591\u001b[0m             \u001b[1;32melse\u001b[0m\u001b[1;33m:\u001b[0m\u001b[1;33m\u001b[0m\u001b[0m\n\u001b[0;32m   3592\u001b[0m                 \u001b[0mindexer\u001b[0m \u001b[1;33m=\u001b[0m \u001b[0mnp\u001b[0m\u001b[1;33m.\u001b[0m\u001b[0marange\u001b[0m\u001b[1;33m(\u001b[0m\u001b[0mlen\u001b[0m\u001b[1;33m(\u001b[0m\u001b[0mself\u001b[0m\u001b[1;33m.\u001b[0m\u001b[0mitems\u001b[0m\u001b[1;33m)\u001b[0m\u001b[1;33m)\u001b[0m\u001b[1;33m[\u001b[0m\u001b[0misnull\u001b[0m\u001b[1;33m(\u001b[0m\u001b[0mself\u001b[0m\u001b[1;33m.\u001b[0m\u001b[0mitems\u001b[0m\u001b[1;33m)\u001b[0m\u001b[1;33m]\u001b[0m\u001b[1;33m\u001b[0m\u001b[0m\n",
      "\u001b[1;32mC:\\ProgramData\\Anaconda3\\lib\\site-packages\\pandas\\core\\indexes\\base.py\u001b[0m in \u001b[0;36mget_loc\u001b[1;34m(self, key, method, tolerance)\u001b[0m\n\u001b[0;32m   2442\u001b[0m                 \u001b[1;32mreturn\u001b[0m \u001b[0mself\u001b[0m\u001b[1;33m.\u001b[0m\u001b[0m_engine\u001b[0m\u001b[1;33m.\u001b[0m\u001b[0mget_loc\u001b[0m\u001b[1;33m(\u001b[0m\u001b[0mkey\u001b[0m\u001b[1;33m)\u001b[0m\u001b[1;33m\u001b[0m\u001b[0m\n\u001b[0;32m   2443\u001b[0m             \u001b[1;32mexcept\u001b[0m \u001b[0mKeyError\u001b[0m\u001b[1;33m:\u001b[0m\u001b[1;33m\u001b[0m\u001b[0m\n\u001b[1;32m-> 2444\u001b[1;33m                 \u001b[1;32mreturn\u001b[0m \u001b[0mself\u001b[0m\u001b[1;33m.\u001b[0m\u001b[0m_engine\u001b[0m\u001b[1;33m.\u001b[0m\u001b[0mget_loc\u001b[0m\u001b[1;33m(\u001b[0m\u001b[0mself\u001b[0m\u001b[1;33m.\u001b[0m\u001b[0m_maybe_cast_indexer\u001b[0m\u001b[1;33m(\u001b[0m\u001b[0mkey\u001b[0m\u001b[1;33m)\u001b[0m\u001b[1;33m)\u001b[0m\u001b[1;33m\u001b[0m\u001b[0m\n\u001b[0m\u001b[0;32m   2445\u001b[0m \u001b[1;33m\u001b[0m\u001b[0m\n\u001b[0;32m   2446\u001b[0m         \u001b[0mindexer\u001b[0m \u001b[1;33m=\u001b[0m \u001b[0mself\u001b[0m\u001b[1;33m.\u001b[0m\u001b[0mget_indexer\u001b[0m\u001b[1;33m(\u001b[0m\u001b[1;33m[\u001b[0m\u001b[0mkey\u001b[0m\u001b[1;33m]\u001b[0m\u001b[1;33m,\u001b[0m \u001b[0mmethod\u001b[0m\u001b[1;33m=\u001b[0m\u001b[0mmethod\u001b[0m\u001b[1;33m,\u001b[0m \u001b[0mtolerance\u001b[0m\u001b[1;33m=\u001b[0m\u001b[0mtolerance\u001b[0m\u001b[1;33m)\u001b[0m\u001b[1;33m\u001b[0m\u001b[0m\n",
      "\u001b[1;32mpandas\\_libs\\index.pyx\u001b[0m in \u001b[0;36mpandas._libs.index.IndexEngine.get_loc\u001b[1;34m()\u001b[0m\n",
      "\u001b[1;32mpandas\\_libs\\index.pyx\u001b[0m in \u001b[0;36mpandas._libs.index.IndexEngine.get_loc\u001b[1;34m()\u001b[0m\n",
      "\u001b[1;32mpandas\\_libs\\hashtable_class_helper.pxi\u001b[0m in \u001b[0;36mpandas._libs.hashtable.PyObjectHashTable.get_item\u001b[1;34m()\u001b[0m\n",
      "\u001b[1;32mpandas\\_libs\\hashtable_class_helper.pxi\u001b[0m in \u001b[0;36mpandas._libs.hashtable.PyObjectHashTable.get_item\u001b[1;34m()\u001b[0m\n",
      "\u001b[1;31mKeyError\u001b[0m: 'helpfulpercentage'"
     ]
    }
   ],
   "source": [
    "NewDataSet = list(zip(merged_df_AA5_head['helpfulpercentage'],merged_df_AA5_head['helpful_numerator'],merged_df_AA5_head['helpful_denominator']))\n",
    "NewDataSet[:10]\n",
    "\n",
    "df = pd.DataFrame(data = NewDataSet, columns=['helpfulpercentage', 'helpful_numerator', 'helpful_denominator'])\n",
    "df[:10]"
   ]
  },
  {
   "cell_type": "code",
   "execution_count": 136,
   "metadata": {
    "collapsed": false,
    "nbpresent": {
     "id": "774fef7e-89ea-4a30-b0fd-899fc07d4959"
    }
   },
   "outputs": [
    {
     "name": "stdout",
     "output_type": "stream",
     "text": [
      "0    [1, 1]\n",
      "3    [3, 4]\n",
      "4    [1, 1]\n",
      "Name: helpful, dtype: object\n",
      "         asin                   reviewerName helpful  \\\n",
      "0  B004A9SDD8                 Annette Yancey  [1, 1]   \n",
      "3  B004A9SDD8  Brooke Greenstreet \"Babylove\"  [3, 4]   \n",
      "4  B004A9SDD8                     C. Galindo  [1, 1]   \n",
      "\n",
      "                                          reviewText  overall  \\\n",
      "0  Loves the song, so he really couldn't wait to ...      3.0   \n",
      "3  My 1 year old goes back to this game over and ...      5.0   \n",
      "4  There are three different versions of the song...      5.0   \n",
      "\n",
      "                                             summary  unixReviewTime  \\\n",
      "0                                        Really cute      1383350400   \n",
      "3                               We love our Monkeys!      1354752000   \n",
      "4  This is my granddaughters favorite app on my K...      1391212800   \n",
      "\n",
      "   reviewTime  wc_reviewtext  helpfulpercentage  helpful_numerator  \\\n",
      "0  11 2, 2013             10              100.0                1.0   \n",
      "3  12 6, 2012             10               75.0                3.0   \n",
      "4  02 1, 2014             10              100.0                1.0   \n",
      "\n",
      "   helpful_denominator  \n",
      "0                  1.0  \n",
      "3                  4.0  \n",
      "4                  1.0  \n"
     ]
    }
   ],
   "source": [
    "sus1 = (merged_df_AA5['helpful'].str[1] != 0.0) & (merged_df_AA5['helpful'].notnull()) \n",
    "# Create a DataFrame with the suspicious row: susmerged_df_AA5['helpful'].str[1] != 0.0pect\n",
    "suspect = merged_df_AA5[sus1]\n",
    "print(suspect['helpful'])\n",
    "print(suspect)"
   ]
  },
  {
   "cell_type": "code",
   "execution_count": 17,
   "metadata": {
    "collapsed": true,
    "nbpresent": {
     "id": "4cbb7d85-6ced-4ca7-908b-4c8a3c07cb47"
    }
   },
   "outputs": [],
   "source": [
    " df_RT_AA5.columns = [' reviewerID','asin','overall','unixReviewTime']"
   ]
  },
  {
   "cell_type": "code",
   "execution_count": 138,
   "metadata": {
    "collapsed": false,
    "nbpresent": {
     "id": "0ac7eb7a-5b78-4062-891b-8b2bbdd4ac8e"
    }
   },
   "outputs": [
    {
     "data": {
      "text/plain": [
       "(2638171, 4)"
      ]
     },
     "execution_count": 138,
     "metadata": {},
     "output_type": "execute_result"
    }
   ],
   "source": [
    "df_RT_AA5.shape"
   ]
  },
  {
   "cell_type": "code",
   "execution_count": 139,
   "metadata": {
    "collapsed": true,
    "nbpresent": {
     "id": "e635dc47-9c4e-4b6a-9b01-6e5d3c244113"
    }
   },
   "outputs": [],
   "source": [
    "merged_df_AA5_wholeinner = pd.merge(df_AA5, df_RT_AA5, how='inner')"
   ]
  },
  {
   "cell_type": "code",
   "execution_count": 140,
   "metadata": {
    "collapsed": false,
    "nbpresent": {
     "id": "4cc32350-3275-40a0-a049-590181244fcd"
    }
   },
   "outputs": [
    {
     "data": {
      "text/plain": [
       "(9847043, 10)"
      ]
     },
     "execution_count": 140,
     "metadata": {},
     "output_type": "execute_result"
    }
   ],
   "source": [
    "merged_df_AA5_wholeinner.shape"
   ]
  },
  {
   "cell_type": "code",
   "execution_count": 141,
   "metadata": {
    "collapsed": false,
    "nbpresent": {
     "id": "98dba109-1417-45f6-b361-079ca821aeab"
    }
   },
   "outputs": [
    {
     "name": "stdout",
     "output_type": "stream",
     "text": [
      "       reviewerID        asin                   reviewerName helpful  \\\n",
      "0  A1N4O8VOJZTDVB  B004A9SDD8                 Annette Yancey  [1, 1]   \n",
      "1  A2HQWU6HUKIEC7  B004A9SDD8        Audiobook lover \"Kathy\"  [0, 0]   \n",
      "2  A1SXASF6GYG96I  B004A9SDD8                  Barbara Gibbs  [0, 0]   \n",
      "3  A2B54P9ZDYH167  B004A9SDD8  Brooke Greenstreet \"Babylove\"  [3, 4]   \n",
      "4   AFOFZDTX5UC6D  B004A9SDD8                     C. Galindo  [1, 1]   \n",
      "\n",
      "                                          reviewText  overall  \\\n",
      "0  Loves the song, so he really couldn't wait to ...      3.0   \n",
      "1  Oh, how my little grandson loves this app. He'...      5.0   \n",
      "2  I found this at a perfect time since my daught...      5.0   \n",
      "3  My 1 year old goes back to this game over and ...      5.0   \n",
      "4  There are three different versions of the song...      5.0   \n",
      "\n",
      "                                             summary  unixReviewTime  \\\n",
      "0                                        Really cute      1383350400   \n",
      "1                                2-year-old loves it      1323043200   \n",
      "2                                           Fun game      1337558400   \n",
      "3                               We love our Monkeys!      1354752000   \n",
      "4  This is my granddaughters favorite app on my K...      1391212800   \n",
      "\n",
      "    reviewTime      reviewerID  \n",
      "0   11 2, 2013  A1N4O8VOJZTDVB  \n",
      "1   12 5, 2011  A2HQWU6HUKIEC7  \n",
      "2  05 21, 2012  A1SXASF6GYG96I  \n",
      "3   12 6, 2012  A2B54P9ZDYH167  \n",
      "4   02 1, 2014   AFOFZDTX5UC6D  \n"
     ]
    }
   ],
   "source": [
    "print(merged_df_AA5_wholeinner.head())"
   ]
  },
  {
   "cell_type": "code",
   "execution_count": 18,
   "metadata": {
    "collapsed": false,
    "nbpresent": {
     "id": "1881a316-d87d-49d2-9fd9-19c540b3de48"
    }
   },
   "outputs": [
    {
     "name": "stdout",
     "output_type": "stream",
     "text": [
      "    reviewTime        asin      reviewerID  overall  \\\n",
      "0   11 2, 2013  B004A9SDD8  A1N4O8VOJZTDVB      3.0   \n",
      "1   12 5, 2011  B004A9SDD8  A2HQWU6HUKIEC7      5.0   \n",
      "2  05 21, 2012  B004A9SDD8  A1SXASF6GYG96I      5.0   \n",
      "3   12 6, 2012  B004A9SDD8  A2B54P9ZDYH167      5.0   \n",
      "4   02 1, 2014  B004A9SDD8   AFOFZDTX5UC6D      5.0   \n",
      "\n",
      "                    reviewerName  \\\n",
      "0                 Annette Yancey   \n",
      "1        Audiobook lover \"Kathy\"   \n",
      "2                  Barbara Gibbs   \n",
      "3  Brooke Greenstreet \"Babylove\"   \n",
      "4                     C. Galindo   \n",
      "\n",
      "                                          reviewText  unixReviewTime helpful  \\\n",
      "0  Loves the song, so he really couldn't wait to ...    1.383350e+09  [1, 1]   \n",
      "1  Oh, how my little grandson loves this app. He'...    1.323043e+09  [0, 0]   \n",
      "2  I found this at a perfect time since my daught...    1.337558e+09  [0, 0]   \n",
      "3  My 1 year old goes back to this game over and ...    1.354752e+09  [3, 4]   \n",
      "4  There are three different versions of the song...    1.391213e+09  [1, 1]   \n",
      "\n",
      "                                             summary      reviewerID  \n",
      "0                                        Really cute  A1N4O8VOJZTDVB  \n",
      "1                                2-year-old loves it  A2HQWU6HUKIEC7  \n",
      "2                                           Fun game  A1SXASF6GYG96I  \n",
      "3                               We love our Monkeys!  A2B54P9ZDYH167  \n",
      "4  This is my granddaughters favorite app on my K...   AFOFZDTX5UC6D  \n"
     ]
    }
   ],
   "source": [
    "merged_df_AA5_wholeouter = pd.merge(df_AA5, df_RT_AA5, how='outer')\n",
    "merged_df_AA5_wholeouter.shape\n",
    "print(merged_df_AA5_wholeouter.head())"
   ]
  },
  {
   "cell_type": "code",
   "execution_count": 143,
   "metadata": {
    "collapsed": false,
    "nbpresent": {
     "id": "bbfff1b7-b572-42fb-a7be-faffbc9fa13c"
    }
   },
   "outputs": [
    {
     "data": {
      "text/plain": [
       "(10974305, 10)"
      ]
     },
     "execution_count": 143,
     "metadata": {},
     "output_type": "execute_result"
    }
   ],
   "source": [
    "merged_df_AA5_wholeouter.shape"
   ]
  },
  {
   "cell_type": "code",
   "execution_count": 144,
   "metadata": {
    "collapsed": false,
    "nbpresent": {
     "id": "92455ade-0148-4946-9bfd-187c8827c4c5"
    }
   },
   "outputs": [
    {
     "data": {
      "text/plain": [
       "True"
      ]
     },
     "execution_count": 144,
     "metadata": {},
     "output_type": "execute_result"
    }
   ],
   "source": [
    "merged_df_AA5_wholeouter.isnull().values.any()"
   ]
  },
  {
   "cell_type": "code",
   "execution_count": 145,
   "metadata": {
    "collapsed": false,
    "nbpresent": {
     "id": "dbafbd8e-a5d6-4bef-ac39-bd3da877e805"
    }
   },
   "outputs": [
    {
     "data": {
      "text/plain": [
       "<bound method NDFrame.describe of               reviewerID        asin  \\\n",
       "0         A1N4O8VOJZTDVB  B004A9SDD8   \n",
       "1         A2HQWU6HUKIEC7  B004A9SDD8   \n",
       "2         A1SXASF6GYG96I  B004A9SDD8   \n",
       "3         A2B54P9ZDYH167  B004A9SDD8   \n",
       "4          AFOFZDTX5UC6D  B004A9SDD8   \n",
       "5         A331GYAT4ESYI3  B004A9SDD8   \n",
       "6         A2YEHF8T823TDC  B004A9SDD8   \n",
       "7         A3699WHISXX94Z  B004A9SDD8   \n",
       "8         A2BXV49EIES2TB  B004A9SDD8   \n",
       "9         A37HM5TMCMHJES  B004A9SDD8   \n",
       "10        A37HM5TMCMHJES  B004A9SDD8   \n",
       "11        A1FYZPJLU78R2Y  B004A9SDD8   \n",
       "12         AV58L39SOERMI  B004A9SDD8   \n",
       "13        A31XG60B64OW74  B004A9SDD8   \n",
       "14        A39JZ61LPIVY91  B004A9SDD8   \n",
       "15         AIRKROQMCBVG4  B004A9SDD8   \n",
       "16         AELVL0VXR3VFN  B004A9SDD8   \n",
       "17         A55641MA1CS5F  B004A9SDD8   \n",
       "18        A39TLD5D8M76M4  B004AFQAUA   \n",
       "19        A2XJJKZSEYYW8T  B004AFQAUA   \n",
       "20        A2XJJKZSEYYW8T  B004AFQAUA   \n",
       "21         AJ9JRKE8AADW0  B004AFQAUA   \n",
       "22        A3ACPKNYVFJWRY  B004AFQAUA   \n",
       "23        A2ETSATXP9MTZ6  B004AFQAUA   \n",
       "24        A3RYB7MYE6C8CB  B004AFQAUA   \n",
       "25        A3RYB7MYE6C8CB  B004AFQAUA   \n",
       "26        A17YPB3JICRUK2  B004AFQAUA   \n",
       "27        A3SZDQ4JQH7T9S  B004AFQAUA   \n",
       "28        A28HK5XEA7B1K1  B004AFQAUA   \n",
       "29         AAGR17G2JXJLT  B004AFQAUA   \n",
       "...                  ...         ...   \n",
       "10974275             NaN  B00LVEZYOQ   \n",
       "10974276             NaN  B00LVEZYOQ   \n",
       "10974277             NaN  B00LVEZYOQ   \n",
       "10974278             NaN  B00LVEZYOQ   \n",
       "10974279             NaN  B00LVEZYOQ   \n",
       "10974280             NaN  B00LVEZYOQ   \n",
       "10974281             NaN  B00LVR3CAG   \n",
       "10974282             NaN  B00LVR3CAG   \n",
       "10974283             NaN  B00LVR3CAG   \n",
       "10974284             NaN  B00LVR3CAG   \n",
       "10974285             NaN  B00LVXVT7I   \n",
       "10974286             NaN  B00LVXVT7I   \n",
       "10974287             NaN  B00LVXVT7I   \n",
       "10974288             NaN  B00LW91I0E   \n",
       "10974289             NaN  B00LW91I0E   \n",
       "10974290             NaN  B00LWJWA42   \n",
       "10974291             NaN  B00LWJWA42   \n",
       "10974292             NaN  B00LWTP33W   \n",
       "10974293             NaN  B00LWTP33W   \n",
       "10974294             NaN  B00LWU2FKU   \n",
       "10974295             NaN  B00LXD37IA   \n",
       "10974296             NaN  B00LXGFUMS   \n",
       "10974297             NaN  B00LXGPGAY   \n",
       "10974298             NaN  B00LY8XFOK   \n",
       "10974299             NaN  B00LY8XFOK   \n",
       "10974300             NaN  B00LY9GOLU   \n",
       "10974301             NaN  B00LY9HZ3G   \n",
       "10974302             NaN  B00LZ9DVEM   \n",
       "10974303             NaN  B00M07JQQK   \n",
       "10974304             NaN  B00M0DLUIQ   \n",
       "\n",
       "                                              reviewerName  helpful  \\\n",
       "0                                           Annette Yancey   [1, 1]   \n",
       "1                                  Audiobook lover \"Kathy\"   [0, 0]   \n",
       "2                                            Barbara Gibbs   [0, 0]   \n",
       "3                            Brooke Greenstreet \"Babylove\"   [3, 4]   \n",
       "4                                               C. Galindo   [1, 1]   \n",
       "5                                                  Felicia   [3, 3]   \n",
       "6                                        Gale White Miller   [3, 4]   \n",
       "7                                            Janie Leonard   [0, 0]   \n",
       "8                                                    Kayla   [3, 4]   \n",
       "9                                                      kmc   [0, 0]   \n",
       "10                                                     kmc   [0, 0]   \n",
       "11                                           Linda Gibbons   [1, 2]   \n",
       "12                                                      LP   [1, 2]   \n",
       "13                                          Melissa Boysen   [3, 4]   \n",
       "14                                                    Mimi   [1, 2]   \n",
       "15                                            NINA WHEELER   [3, 3]   \n",
       "16                                                  PClark   [2, 2]   \n",
       "17                                          Robert Daniels   [1, 1]   \n",
       "18                                                     NaN   [0, 0]   \n",
       "19                                              A Customer   [0, 0]   \n",
       "20                                              A Customer   [0, 0]   \n",
       "21                                         Allison Janezic   [1, 1]   \n",
       "22                                            Altaira_Jade   [1, 1]   \n",
       "23                                         Amazon Customer   [1, 1]   \n",
       "24        Amazon Customer \"I am 62 yrs. old....I love t...  [8, 10]   \n",
       "25        Amazon Customer \"I am 62 yrs. old....I love t...  [8, 10]   \n",
       "26                               Amazon Customer \"StormyJ\"   [0, 1]   \n",
       "27                                                     Amy   [1, 3]   \n",
       "28                Anna Bernyc \"Snow White (Book Angels12)\"   [2, 2]   \n",
       "29                                       Annette L. Goldis   [2, 5]   \n",
       "...                                                    ...      ...   \n",
       "10974275                                               NaN      NaN   \n",
       "10974276                                               NaN      NaN   \n",
       "10974277                                               NaN      NaN   \n",
       "10974278                                               NaN      NaN   \n",
       "10974279                                               NaN      NaN   \n",
       "10974280                                               NaN      NaN   \n",
       "10974281                                               NaN      NaN   \n",
       "10974282                                               NaN      NaN   \n",
       "10974283                                               NaN      NaN   \n",
       "10974284                                               NaN      NaN   \n",
       "10974285                                               NaN      NaN   \n",
       "10974286                                               NaN      NaN   \n",
       "10974287                                               NaN      NaN   \n",
       "10974288                                               NaN      NaN   \n",
       "10974289                                               NaN      NaN   \n",
       "10974290                                               NaN      NaN   \n",
       "10974291                                               NaN      NaN   \n",
       "10974292                                               NaN      NaN   \n",
       "10974293                                               NaN      NaN   \n",
       "10974294                                               NaN      NaN   \n",
       "10974295                                               NaN      NaN   \n",
       "10974296                                               NaN      NaN   \n",
       "10974297                                               NaN      NaN   \n",
       "10974298                                               NaN      NaN   \n",
       "10974299                                               NaN      NaN   \n",
       "10974300                                               NaN      NaN   \n",
       "10974301                                               NaN      NaN   \n",
       "10974302                                               NaN      NaN   \n",
       "10974303                                               NaN      NaN   \n",
       "10974304                                               NaN      NaN   \n",
       "\n",
       "                                                 reviewText  overall  \\\n",
       "0         Loves the song, so he really couldn't wait to ...      3.0   \n",
       "1         Oh, how my little grandson loves this app. He'...      5.0   \n",
       "2         I found this at a perfect time since my daught...      5.0   \n",
       "3         My 1 year old goes back to this game over and ...      5.0   \n",
       "4         There are three different versions of the song...      5.0   \n",
       "5         THis is just so cute and a great app for littl...      5.0   \n",
       "6         I watch my great grandson 4 days a week and it...      5.0   \n",
       "7         This app is wild and crazy.  Little ones love ...      5.0   \n",
       "8         love love love this app. I was going through d...      5.0   \n",
       "9         Very cute, with alot of items to move about.  ...      5.0   \n",
       "10        Very cute, with alot of items to move about.  ...      5.0   \n",
       "11        WELL THE CHILDREN LOVE IT AFTER AWHILE YOU GET...      4.0   \n",
       "12        I got this app because my 2 year old daughter ...      3.0   \n",
       "13        My three year old Plays this game the most he ...      5.0   \n",
       "14        Good for little ones, especially if  know the ...      3.0   \n",
       "15        My two year old grandson loves this game and p...      5.0   \n",
       "16        My granddaughter really loves this. She will l...      5.0   \n",
       "17        love it, but wish it was fullscreen on honeyco...      4.0   \n",
       "18        does not let you sample only for a sec. if you...      1.0   \n",
       "19        this is a very good app and it you need this s...      5.0   \n",
       "20        this is a very good app and it you need this s...      5.0   \n",
       "21        It's easy to use and transfer songs. If I purc...      4.0   \n",
       "22        Great selections.  Easy to use interface.  I h...      4.0   \n",
       "23        I really don't think I could live without Rhap...      5.0   \n",
       "24        I love this app!! Yes,after 14 days you have t...      5.0   \n",
       "25        I love this app!! Yes,after 14 days you have t...      5.0   \n",
       "26        If you pay for the subscription then by all me...      5.0   \n",
       "27        Tried to run this on my Kindle Fire; kept givi...      1.0   \n",
       "28        We love Rhapsody we use it all the time. Affor...      5.0   \n",
       "29        It just doesn't do what I needed it to do.  Fo...      1.0   \n",
       "...                                                     ...      ...   \n",
       "10974275                                                NaN      5.0   \n",
       "10974276                                                NaN      5.0   \n",
       "10974277                                                NaN      5.0   \n",
       "10974278                                                NaN      5.0   \n",
       "10974279                                                NaN      1.0   \n",
       "10974280                                                NaN      3.0   \n",
       "10974281                                                NaN      1.0   \n",
       "10974282                                                NaN      4.0   \n",
       "10974283                                                NaN      5.0   \n",
       "10974284                                                NaN      1.0   \n",
       "10974285                                                NaN      5.0   \n",
       "10974286                                                NaN      5.0   \n",
       "10974287                                                NaN      5.0   \n",
       "10974288                                                NaN      5.0   \n",
       "10974289                                                NaN      5.0   \n",
       "10974290                                                NaN      5.0   \n",
       "10974291                                                NaN      5.0   \n",
       "10974292                                                NaN      5.0   \n",
       "10974293                                                NaN      5.0   \n",
       "10974294                                                NaN      5.0   \n",
       "10974295                                                NaN      1.0   \n",
       "10974296                                                NaN      5.0   \n",
       "10974297                                                NaN      5.0   \n",
       "10974298                                                NaN      5.0   \n",
       "10974299                                                NaN      5.0   \n",
       "10974300                                                NaN      5.0   \n",
       "10974301                                                NaN      5.0   \n",
       "10974302                                                NaN      5.0   \n",
       "10974303                                                NaN      5.0   \n",
       "10974304                                                NaN      5.0   \n",
       "\n",
       "                                                    summary  unixReviewTime  \\\n",
       "0                                               Really cute      1383350400   \n",
       "1                                       2-year-old loves it      1323043200   \n",
       "2                                                  Fun game      1337558400   \n",
       "3                                      We love our Monkeys!      1354752000   \n",
       "4         This is my granddaughters favorite app on my K...      1391212800   \n",
       "5                                                   so cute      1354665600   \n",
       "6                                                 Terrific!      1381708800   \n",
       "7                                       Five Little Monkeys      1389484800   \n",
       "8                                         love but to quite      1386720000   \n",
       "9                                                      Cute      1366934400   \n",
       "10                                                     Cute      1366934400   \n",
       "11                                                  MONKEYS      1374105600   \n",
       "12                                      Could be better....      1373241600   \n",
       "13                                      Five little monkeys      1368576000   \n",
       "14                                  Good for small children      1367539200   \n",
       "15                                         Fun, fun, fun !!      1385942400   \n",
       "16                                                  So cute      1353196800   \n",
       "17                                                  love it      1313280000   \n",
       "18                                          dont play there      1405296000   \n",
       "19                                                      app      1394064000   \n",
       "20                                                      app      1394064000   \n",
       "21                                    Worth the monthly fee      1363478400   \n",
       "22                                            Great service      1354060800   \n",
       "23                                          I love Rhapsody      1358553600   \n",
       "24                                                 Rhaspody      1343260800   \n",
       "25                                                 Rhaspody      1343260800   \n",
       "26                                                 Rhapsody      1383264000   \n",
       "27                                        Very disappointed      1358035200   \n",
       "28                                                  Amazing      1374969600   \n",
       "29                                                Didn't do      1372204800   \n",
       "...                                                     ...             ...   \n",
       "10974275                                                NaN      1405987200   \n",
       "10974276                                                NaN      1405641600   \n",
       "10974277                                                NaN      1405641600   \n",
       "10974278                                                NaN      1405641600   \n",
       "10974279                                                NaN      1405814400   \n",
       "10974280                                                NaN      1405814400   \n",
       "10974281                                                NaN      1405987200   \n",
       "10974282                                                NaN      1405987200   \n",
       "10974283                                                NaN      1405814400   \n",
       "10974284                                                NaN      1405814400   \n",
       "10974285                                                NaN      1405728000   \n",
       "10974286                                                NaN      1405814400   \n",
       "10974287                                                NaN      1405814400   \n",
       "10974288                                                NaN      1405900800   \n",
       "10974289                                                NaN      1405900800   \n",
       "10974290                                                NaN      1405814400   \n",
       "10974291                                                NaN      1405900800   \n",
       "10974292                                                NaN      1405728000   \n",
       "10974293                                                NaN      1405728000   \n",
       "10974294                                                NaN      1405641600   \n",
       "10974295                                                NaN      1406073600   \n",
       "10974296                                                NaN      1405900800   \n",
       "10974297                                                NaN      1405728000   \n",
       "10974298                                                NaN      1405987200   \n",
       "10974299                                                NaN      1406073600   \n",
       "10974300                                                NaN      1405900800   \n",
       "10974301                                                NaN      1405900800   \n",
       "10974302                                                NaN      1405987200   \n",
       "10974303                                                NaN      1405987200   \n",
       "10974304                                                NaN      1405987200   \n",
       "\n",
       "           reviewTime      reviewerID  \n",
       "0          11 2, 2013  A1N4O8VOJZTDVB  \n",
       "1          12 5, 2011  A2HQWU6HUKIEC7  \n",
       "2         05 21, 2012  A1SXASF6GYG96I  \n",
       "3          12 6, 2012  A2B54P9ZDYH167  \n",
       "4          02 1, 2014   AFOFZDTX5UC6D  \n",
       "5          12 5, 2012  A331GYAT4ESYI3  \n",
       "6         10 14, 2013  A2YEHF8T823TDC  \n",
       "7         01 12, 2014  A3699WHISXX94Z  \n",
       "8         12 11, 2013  A2BXV49EIES2TB  \n",
       "9         04 26, 2013  A37HM5TMCMHJES  \n",
       "10        04 26, 2013    ATSAH7KQUM3B  \n",
       "11        07 18, 2013  A1FYZPJLU78R2Y  \n",
       "12         07 8, 2013   AV58L39SOERMI  \n",
       "13        05 15, 2013  A31XG60B64OW74  \n",
       "14         05 3, 2013  A39JZ61LPIVY91  \n",
       "15         12 2, 2013   AIRKROQMCBVG4  \n",
       "16        11 18, 2012   AELVL0VXR3VFN  \n",
       "17        08 14, 2011   A55641MA1CS5F  \n",
       "18        07 14, 2014  A39TLD5D8M76M4  \n",
       "19         03 6, 2014  A2XJJKZSEYYW8T  \n",
       "20         03 6, 2014  A3JIARC19PWOYK  \n",
       "21        03 17, 2013   AJ9JRKE8AADW0  \n",
       "22        11 28, 2012  A3ACPKNYVFJWRY  \n",
       "23        01 19, 2013  A2ETSATXP9MTZ6  \n",
       "24        07 26, 2012  A3RYB7MYE6C8CB  \n",
       "25        07 26, 2012  A1U9V0C815IZRS  \n",
       "26         11 1, 2013  A17YPB3JICRUK2  \n",
       "27        01 13, 2013  A3SZDQ4JQH7T9S  \n",
       "28        07 28, 2013  A28HK5XEA7B1K1  \n",
       "29        06 26, 2013   AAGR17G2JXJLT  \n",
       "...               ...             ...  \n",
       "10974275          NaN  A3U3MVQOSXO7GF  \n",
       "10974276          NaN  A1A5RBO5F6NH88  \n",
       "10974277          NaN  A1P6PV4WMJ05B8  \n",
       "10974278          NaN  A1FH3I9B267ZI1  \n",
       "10974279          NaN  A1PQH8Z7XBRGD8  \n",
       "10974280          NaN  A1JMW71KY8Y0XE  \n",
       "10974281          NaN  A3I2KTNLW3BKUX  \n",
       "10974282          NaN   AL23QYDQWSL22  \n",
       "10974283          NaN  A1K5XLR7WEJXBU  \n",
       "10974284          NaN  A1UFTU0WOBMXGZ  \n",
       "10974285          NaN  A3IU7DMLLCFON9  \n",
       "10974286          NaN   A40UXTVA9HT3Q  \n",
       "10974287          NaN   A9V7D0L4HH79O  \n",
       "10974288          NaN  A1Q6EXWODTY5TI  \n",
       "10974289          NaN  A3GMIK7QM4VHTU  \n",
       "10974290          NaN   A4R2NR8VH87SO  \n",
       "10974291          NaN  A27TVPI3YRKQGW  \n",
       "10974292          NaN  A2FQH5ZSU77CBF  \n",
       "10974293          NaN  A1GGHT8WXBV05G  \n",
       "10974294          NaN  A1EVLZDLAWJT1O  \n",
       "10974295          NaN  A2CYMBX44ICBMD  \n",
       "10974296          NaN  A15CK6OV006IWW  \n",
       "10974297          NaN  A1GNY9105V63S4  \n",
       "10974298          NaN  A3AY7CSC53ULU6  \n",
       "10974299          NaN  A15U4R5HB5QE2M  \n",
       "10974300          NaN  A1WKBCDSH3AORB  \n",
       "10974301          NaN  A1WKBCDSH3AORB  \n",
       "10974302          NaN   AO7VN21R9P2MM  \n",
       "10974303          NaN  A3I9KEWNIJKOT0  \n",
       "10974304          NaN  A27OTO46BZUF83  \n",
       "\n",
       "[10974305 rows x 10 columns]>"
      ]
     },
     "execution_count": 145,
     "metadata": {},
     "output_type": "execute_result"
    }
   ],
   "source": [
    "merged_df_AA5_wholeouter.describe"
   ]
  },
  {
   "cell_type": "code",
   "execution_count": 146,
   "metadata": {
    "collapsed": false,
    "nbpresent": {
     "id": "e4e1baa6-a201-4b39-9fe4-884d2a02cf52"
    }
   },
   "outputs": [
    {
     "data": {
      "text/plain": [
       "9164302"
      ]
     },
     "execution_count": 146,
     "metadata": {},
     "output_type": "execute_result"
    }
   ],
   "source": [
    "merged_df_AA5_wholeouter.isnull().sum().sum()"
   ]
  },
  {
   "cell_type": "code",
   "execution_count": 147,
   "metadata": {
    "collapsed": false,
    "nbpresent": {
     "id": "9c0b87ec-5261-45ed-a1e8-b3412ba7ca69"
    }
   },
   "outputs": [
    {
     "name": "stdout",
     "output_type": "stream",
     "text": [
      "Using matplotlib backend: Qt5Agg\n",
      "Populating the interactive namespace from numpy and matplotlib\n"
     ]
    }
   ],
   "source": [
    "%pylab"
   ]
  },
  {
   "cell_type": "code",
   "execution_count": 148,
   "metadata": {
    "collapsed": false,
    "nbpresent": {
     "id": "86dc7017-6040-4d01-a5e1-ddd19e926468"
    }
   },
   "outputs": [
    {
     "name": "stdout",
     "output_type": "stream",
     "text": [
      "Populating the interactive namespace from numpy and matplotlib\n"
     ]
    }
   ],
   "source": [
    "%pylab inline"
   ]
  },
  {
   "cell_type": "code",
   "execution_count": 149,
   "metadata": {
    "collapsed": false,
    "nbpresent": {
     "id": "61702c20-2975-48a4-83dc-caf46a44818a"
    }
   },
   "outputs": [
    {
     "data": {
      "text/plain": [
       "<function matplotlib.pyplot.plot>"
      ]
     },
     "execution_count": 149,
     "metadata": {},
     "output_type": "execute_result"
    }
   ],
   "source": [
    "plot\n"
   ]
  },
  {
   "cell_type": "code",
   "execution_count": 150,
   "metadata": {
    "collapsed": true,
    "nbpresent": {
     "id": "7c0938c6-826f-4852-85f6-1f93be428ae9"
    }
   },
   "outputs": [],
   "source": [
    "import matplotlib.pyplot as plt"
   ]
  },
  {
   "cell_type": "code",
   "execution_count": 151,
   "metadata": {
    "collapsed": false,
    "nbpresent": {
     "id": "6281cbdb-6808-4665-a53a-458cfcefb31e"
    }
   },
   "outputs": [
    {
     "data": {
      "text/plain": [
       "[<matplotlib.lines.Line2D at 0x2410e5207f0>]"
      ]
     },
     "execution_count": 151,
     "metadata": {},
     "output_type": "execute_result"
    },
    {
     "data": {
      "image/png": "[encoded data removed]",
      "text/plain": [
       "<matplotlib.figure.Figure at 0x2411e2fb358>"
      ]
     },
     "metadata": {},
     "output_type": "display_data"
    }
   ],
   "source": [
    "plt.plot(merged_df_AA5_wholeouter['overall'])"
   ]
  },
  {
   "cell_type": "code",
   "execution_count": 281,
   "metadata": {
    "collapsed": false,
    "nbpresent": {
     "id": "6db80ae9-4704-4286-b59e-9ec1f1d170a3"
    }
   },
   "outputs": [
    {
     "data": {
      "text/plain": [
       "<function matplotlib.pyplot.show>"
      ]
     },
     "execution_count": 281,
     "metadata": {},
     "output_type": "execute_result"
    },
    {
     "data": {
      "image/png": "[encoded data removed]",
      "text/plain": [
       "<matplotlib.figure.Figure at 0x2412e9465f8>"
      ]
     },
     "metadata": {},
     "output_type": "display_data"
    }
   ],
   "source": [
    "plt.hist(merged_df_AA5_wholeouter['overall'])\n",
    "plt.show"
   ]
  },
  {
   "cell_type": "code",
   "execution_count": 298,
   "metadata": {
    "collapsed": false,
    "nbpresent": {
     "id": "5a5d974c-be20-4739-bab3-013583b75788"
    }
   },
   "outputs": [
    {
     "data": {
      "text/plain": [
       "5.0    7929517\n",
       "4.0    1673039\n",
       "1.0     753142\n",
       "3.0     425232\n",
       "2.0     193375\n",
       "Name: overall, dtype: int64"
      ]
     },
     "execution_count": 298,
     "metadata": {},
     "output_type": "execute_result"
    }
   ],
   "source": [
    "merged_df_AA5_wholeouter['overall'].value_counts()"
   ]
  },
  {
   "cell_type": "code",
   "execution_count": null,
   "metadata": {
    "collapsed": true,
    "nbpresent": {
     "id": "aae71b9b-5264-46b7-b2d9-1ba7269ab939"
    }
   },
   "outputs": [],
   "source": [
    "fig = plt.figure()"
   ]
  },
  {
   "cell_type": "code",
   "execution_count": null,
   "metadata": {
    "collapsed": true,
    "nbpresent": {
     "id": "ef8a5222-5d50-43e6-9d7b-cf6e18a2cc78"
    }
   },
   "outputs": [],
   "source": [
    "ax = fig.add.subplot(111)"
   ]
  },
  {
   "cell_type": "code",
   "execution_count": null,
   "metadata": {
    "collapsed": true,
    "nbpresent": {
     "id": "d3b1eee7-46ea-4663-90ce-09c83ca867fd"
    }
   },
   "outputs": [],
   "source": [
    "ax = fig.add_subplot(111)"
   ]
  },
  {
   "cell_type": "code",
   "execution_count": 153,
   "metadata": {
    "collapsed": false,
    "nbpresent": {
     "id": "2cfcb01a-fa44-44a5-bd5e-a0032ce86c53"
    }
   },
   "outputs": [
    {
     "data": {
      "text/plain": [
       "<matplotlib.collections.PathCollection at 0x24113747908>"
      ]
     },
     "execution_count": 153,
     "metadata": {},
     "output_type": "execute_result"
    },
    {
     "data": {
      "image/png": "[encoded data removed]",
      "text/plain": [
       "<matplotlib.figure.Figure at 0x2412093d748>"
      ]
     },
     "metadata": {},
     "output_type": "display_data"
    }
   ],
   "source": [
    "import numpy as np\n",
    "fig, ax = plt.subplots()\n",
    "ax.scatter(np.linspace(-1, 1, 10974305), merged_df_AA5_wholeouter['overall'],color = 'darkgreen', marker='^')"
   ]
  },
  {
   "cell_type": "code",
   "execution_count": 21,
   "metadata": {
    "collapsed": false,
    "nbpresent": {
     "id": "1b95b432-504e-4c25-a668-5d4076b255e9"
    }
   },
   "outputs": [
    {
     "data": {
      "text/plain": [
       "<function matplotlib.pyplot.show>"
      ]
     },
     "execution_count": 21,
     "metadata": {},
     "output_type": "execute_result"
    }
   ],
   "source": [
    "import numpy as np\n",
    "\n",
    "sus1 = (merged_df_AA5_wholeouter['helpful'].str[1] != 0.0) & (merged_df_AA5_wholeouter['helpful'].dropna()) \n",
    "# Create a DataFrame with the suspicious row: susmerged_df_AA5['helpful'].str[1] != 0.0pect\n",
    "suspect = merged_df_AA5_wholeouter.loc[sus1]\n",
    "#print(suspect['helpful'])\n",
    "#print(suspect)\n",
    "merged_df_AA5_wholeouter['helpfulpercentage'] = (np.divide(suspect['helpful'].str[0],suspect['helpful'].str[1])* 100).astype(np.int64)\n",
    "merged_df_AA5_wholeouter['helpful_numerator'] = suspect['helpful'].str[0].astype(np.int64)\n",
    "merged_df_AA5_wholeouter['helpful_denominator'] = suspect['helpful'].str[1].astype(np.int64)\n",
    "\n",
    "def calculate_charlen(row):\n",
    "    return len(row['reviewText'])\n",
    "sus = (merged_df_AA5_wholeouter['reviewText'].notnull())\n",
    "# Create a DataFrame with the suspicious row: susmerged_df_AA5['helpful'].str[1] != 0.0pect\n",
    "suspect = merged_df_AA5_wholeouter[sus]\n",
    "merged_df_AA5_wholeouter['charCount_reviewText'] = suspect.apply(calculate_charlen,axis=1)\n",
    "#merged_df_AA5_wholeouter       \n",
    "\n",
    "def calculate_wordcount(row):\n",
    "    return len(row['reviewText'].split())\n",
    "sus1 = (merged_df_AA5_wholeouter['reviewText'].notnull())\n",
    "# Create a DataFrame with the suspicious row: susmerged_df_AA5['helpful'].str[1] != 0.0pect\n",
    "suspect1 = merged_df_AA5_wholeouter[sus1]\n",
    "merged_df_AA5_wholeouter['wordCount_reviewText'] = suspect1.apply(calculate_charlen,axis=1)\n",
    "merged_df_AA5_wholeouter \n",
    "#print(merged_df_AA5_wholeouter.dropna())\n",
    "\n",
    "fig, ax = plt.subplots()\n",
    "ax.scatter(merged_df_AA5_wholeouter.dropna()['wordCount_reviewText'],merged_df_AA5_wholeouter.dropna()['overall'],color = 'darkgreen', marker='^')\n",
    "plt.title(\"Word Count vs Overall Score\")\n",
    "plt.xlabel(\"Word Count\")\n",
    "plt.ylabel(\"Overall Score\")\n",
    "plt.show\n",
    "\n",
    "fig, ax = plt.subplots()\n",
    "ax.scatter(merged_df_AA5_wholeouter.dropna()['charCount_reviewText'],merged_df_AA5_wholeouter.dropna()['overall'],color = 'darkgreen', marker='^')\n",
    "plt.title(\"Character Count vs Overall Score\")\n",
    "plt.xlabel(\"Character Count\")\n",
    "plt.ylabel(\"Overall Score\")\n",
    "plt.show\n",
    "\n",
    "fig, ax = plt.subplots()\n",
    "ax.scatter(merged_df_AA5_wholeouter.dropna()['helpful_denominator'],merged_df_AA5_wholeouter.dropna()['overall'],color = 'darkgreen', marker='^')\n",
    "plt.title(\"Helpfull Total Reviews vs Overall Score\")\n",
    "plt.xlabel(\"Helpful Total Reviews\")\n",
    "plt.ylabel(\"Overall Score\")\n",
    "plt.show"
   ]
  },
  {
   "cell_type": "code",
   "execution_count": null,
   "metadata": {
    "collapsed": true,
    "nbpresent": {
     "id": "651b18a8-aafb-41cf-9bb7-420ec5d55ebd"
    }
   },
   "outputs": [],
   "source": [
    "plt.hist(merged_df_AA5_wholeouter['overall',])\n",
    "plt.show"
   ]
  },
  {
   "cell_type": "code",
   "execution_count": 222,
   "metadata": {
    "collapsed": false,
    "nbpresent": {
     "id": "1c422e03-64e8-42b5-9bfa-2bb5eb25d34f"
    }
   },
   "outputs": [
    {
     "data": {
      "text/html": [
       "<div>\n",
       "<style>\n",
       "    .dataframe thead tr:only-child th {\n",
       "        text-align: right;\n",
       "    }\n",
       "\n",
       "    .dataframe thead th {\n",
       "        text-align: left;\n",
       "    }\n",
       "\n",
       "    .dataframe tbody tr th {\n",
       "        vertical-align: top;\n",
       "    }\n",
       "</style>\n",
       "<table border=\"1\" class=\"dataframe\">\n",
       "  <thead>\n",
       "    <tr style=\"text-align: right;\">\n",
       "      <th></th>\n",
       "      <th>reviewerID</th>\n",
       "      <th>asin</th>\n",
       "      <th>reviewerName</th>\n",
       "      <th>helpful</th>\n",
       "      <th>reviewText</th>\n",
       "      <th>overall</th>\n",
       "      <th>summary</th>\n",
       "      <th>unixReviewTime</th>\n",
       "      <th>reviewTime</th>\n",
       "      <th>reviewerID</th>\n",
       "      <th>helpfulpercentage</th>\n",
       "      <th>helpful_numerator</th>\n",
       "      <th>helpful_denominator</th>\n",
       "      <th>wc_reviewtext</th>\n",
       "      <th>wc_reviewText</th>\n",
       "      <th>charCount_reviewText</th>\n",
       "      <th>wordCount_reviewText</th>\n",
       "    </tr>\n",
       "  </thead>\n",
       "  <tbody>\n",
       "    <tr>\n",
       "      <th>0</th>\n",
       "      <td>A1N4O8VOJZTDVB</td>\n",
       "      <td>B004A9SDD8</td>\n",
       "      <td>Annette Yancey</td>\n",
       "      <td>[1, 1]</td>\n",
       "      <td>Loves the song, so he really couldn't wait to ...</td>\n",
       "      <td>3.0</td>\n",
       "      <td>Really cute</td>\n",
       "      <td>1383350400</td>\n",
       "      <td>11 2, 2013</td>\n",
       "      <td>A1N4O8VOJZTDVB</td>\n",
       "      <td>100.0</td>\n",
       "      <td>1.0</td>\n",
       "      <td>1.0</td>\n",
       "      <td>206.0</td>\n",
       "      <td>206.0</td>\n",
       "      <td>206.0</td>\n",
       "      <td>206.0</td>\n",
       "    </tr>\n",
       "    <tr>\n",
       "      <th>1</th>\n",
       "      <td>A2HQWU6HUKIEC7</td>\n",
       "      <td>B004A9SDD8</td>\n",
       "      <td>Audiobook lover \"Kathy\"</td>\n",
       "      <td>[0, 0]</td>\n",
       "      <td>Oh, how my little grandson loves this app. He'...</td>\n",
       "      <td>5.0</td>\n",
       "      <td>2-year-old loves it</td>\n",
       "      <td>1323043200</td>\n",
       "      <td>12 5, 2011</td>\n",
       "      <td>A2HQWU6HUKIEC7</td>\n",
       "      <td>NaN</td>\n",
       "      <td>NaN</td>\n",
       "      <td>NaN</td>\n",
       "      <td>255.0</td>\n",
       "      <td>255.0</td>\n",
       "      <td>255.0</td>\n",
       "      <td>255.0</td>\n",
       "    </tr>\n",
       "    <tr>\n",
       "      <th>2</th>\n",
       "      <td>A1SXASF6GYG96I</td>\n",
       "      <td>B004A9SDD8</td>\n",
       "      <td>Barbara Gibbs</td>\n",
       "      <td>[0, 0]</td>\n",
       "      <td>I found this at a perfect time since my daught...</td>\n",
       "      <td>5.0</td>\n",
       "      <td>Fun game</td>\n",
       "      <td>1337558400</td>\n",
       "      <td>05 21, 2012</td>\n",
       "      <td>A1SXASF6GYG96I</td>\n",
       "      <td>NaN</td>\n",
       "      <td>NaN</td>\n",
       "      <td>NaN</td>\n",
       "      <td>288.0</td>\n",
       "      <td>288.0</td>\n",
       "      <td>288.0</td>\n",
       "      <td>288.0</td>\n",
       "    </tr>\n",
       "    <tr>\n",
       "      <th>3</th>\n",
       "      <td>A2B54P9ZDYH167</td>\n",
       "      <td>B004A9SDD8</td>\n",
       "      <td>Brooke Greenstreet \"Babylove\"</td>\n",
       "      <td>[3, 4]</td>\n",
       "      <td>My 1 year old goes back to this game over and ...</td>\n",
       "      <td>5.0</td>\n",
       "      <td>We love our Monkeys!</td>\n",
       "      <td>1354752000</td>\n",
       "      <td>12 6, 2012</td>\n",
       "      <td>A2B54P9ZDYH167</td>\n",
       "      <td>75.0</td>\n",
       "      <td>3.0</td>\n",
       "      <td>4.0</td>\n",
       "      <td>186.0</td>\n",
       "      <td>186.0</td>\n",
       "      <td>186.0</td>\n",
       "      <td>186.0</td>\n",
       "    </tr>\n",
       "    <tr>\n",
       "      <th>4</th>\n",
       "      <td>AFOFZDTX5UC6D</td>\n",
       "      <td>B004A9SDD8</td>\n",
       "      <td>C. Galindo</td>\n",
       "      <td>[1, 1]</td>\n",
       "      <td>There are three different versions of the song...</td>\n",
       "      <td>5.0</td>\n",
       "      <td>This is my granddaughters favorite app on my K...</td>\n",
       "      <td>1391212800</td>\n",
       "      <td>02 1, 2014</td>\n",
       "      <td>AFOFZDTX5UC6D</td>\n",
       "      <td>100.0</td>\n",
       "      <td>1.0</td>\n",
       "      <td>1.0</td>\n",
       "      <td>746.0</td>\n",
       "      <td>746.0</td>\n",
       "      <td>746.0</td>\n",
       "      <td>746.0</td>\n",
       "    </tr>\n",
       "    <tr>\n",
       "      <th>5</th>\n",
       "      <td>A331GYAT4ESYI3</td>\n",
       "      <td>B004A9SDD8</td>\n",
       "      <td>Felicia</td>\n",
       "      <td>[3, 3]</td>\n",
       "      <td>THis is just so cute and a great app for littl...</td>\n",
       "      <td>5.0</td>\n",
       "      <td>so cute</td>\n",
       "      <td>1354665600</td>\n",
       "      <td>12 5, 2012</td>\n",
       "      <td>A331GYAT4ESYI3</td>\n",
       "      <td>100.0</td>\n",
       "      <td>3.0</td>\n",
       "      <td>3.0</td>\n",
       "      <td>134.0</td>\n",
       "      <td>134.0</td>\n",
       "      <td>134.0</td>\n",
       "      <td>134.0</td>\n",
       "    </tr>\n",
       "    <tr>\n",
       "      <th>6</th>\n",
       "      <td>A2YEHF8T823TDC</td>\n",
       "      <td>B004A9SDD8</td>\n",
       "      <td>Gale White Miller</td>\n",
       "      <td>[3, 4]</td>\n",
       "      <td>I watch my great grandson 4 days a week and it...</td>\n",
       "      <td>5.0</td>\n",
       "      <td>Terrific!</td>\n",
       "      <td>1381708800</td>\n",
       "      <td>10 14, 2013</td>\n",
       "      <td>A2YEHF8T823TDC</td>\n",
       "      <td>75.0</td>\n",
       "      <td>3.0</td>\n",
       "      <td>4.0</td>\n",
       "      <td>297.0</td>\n",
       "      <td>297.0</td>\n",
       "      <td>297.0</td>\n",
       "      <td>297.0</td>\n",
       "    </tr>\n",
       "    <tr>\n",
       "      <th>7</th>\n",
       "      <td>A3699WHISXX94Z</td>\n",
       "      <td>B004A9SDD8</td>\n",
       "      <td>Janie Leonard</td>\n",
       "      <td>[0, 0]</td>\n",
       "      <td>This app is wild and crazy.  Little ones love ...</td>\n",
       "      <td>5.0</td>\n",
       "      <td>Five Little Monkeys</td>\n",
       "      <td>1389484800</td>\n",
       "      <td>01 12, 2014</td>\n",
       "      <td>A3699WHISXX94Z</td>\n",
       "      <td>NaN</td>\n",
       "      <td>NaN</td>\n",
       "      <td>NaN</td>\n",
       "      <td>233.0</td>\n",
       "      <td>233.0</td>\n",
       "      <td>233.0</td>\n",
       "      <td>233.0</td>\n",
       "    </tr>\n",
       "    <tr>\n",
       "      <th>8</th>\n",
       "      <td>A2BXV49EIES2TB</td>\n",
       "      <td>B004A9SDD8</td>\n",
       "      <td>Kayla</td>\n",
       "      <td>[3, 4]</td>\n",
       "      <td>love love love this app. I was going through d...</td>\n",
       "      <td>5.0</td>\n",
       "      <td>love but to quite</td>\n",
       "      <td>1386720000</td>\n",
       "      <td>12 11, 2013</td>\n",
       "      <td>A2BXV49EIES2TB</td>\n",
       "      <td>75.0</td>\n",
       "      <td>3.0</td>\n",
       "      <td>4.0</td>\n",
       "      <td>190.0</td>\n",
       "      <td>190.0</td>\n",
       "      <td>190.0</td>\n",
       "      <td>190.0</td>\n",
       "    </tr>\n",
       "    <tr>\n",
       "      <th>9</th>\n",
       "      <td>A37HM5TMCMHJES</td>\n",
       "      <td>B004A9SDD8</td>\n",
       "      <td>kmc</td>\n",
       "      <td>[0, 0]</td>\n",
       "      <td>Very cute, with alot of items to move about.  ...</td>\n",
       "      <td>5.0</td>\n",
       "      <td>Cute</td>\n",
       "      <td>1366934400</td>\n",
       "      <td>04 26, 2013</td>\n",
       "      <td>A37HM5TMCMHJES</td>\n",
       "      <td>NaN</td>\n",
       "      <td>NaN</td>\n",
       "      <td>NaN</td>\n",
       "      <td>129.0</td>\n",
       "      <td>129.0</td>\n",
       "      <td>129.0</td>\n",
       "      <td>129.0</td>\n",
       "    </tr>\n",
       "    <tr>\n",
       "      <th>10</th>\n",
       "      <td>A37HM5TMCMHJES</td>\n",
       "      <td>B004A9SDD8</td>\n",
       "      <td>kmc</td>\n",
       "      <td>[0, 0]</td>\n",
       "      <td>Very cute, with alot of items to move about.  ...</td>\n",
       "      <td>5.0</td>\n",
       "      <td>Cute</td>\n",
       "      <td>1366934400</td>\n",
       "      <td>04 26, 2013</td>\n",
       "      <td>ATSAH7KQUM3B</td>\n",
       "      <td>NaN</td>\n",
       "      <td>NaN</td>\n",
       "      <td>NaN</td>\n",
       "      <td>129.0</td>\n",
       "      <td>129.0</td>\n",
       "      <td>129.0</td>\n",
       "      <td>129.0</td>\n",
       "    </tr>\n",
       "    <tr>\n",
       "      <th>11</th>\n",
       "      <td>A1FYZPJLU78R2Y</td>\n",
       "      <td>B004A9SDD8</td>\n",
       "      <td>Linda Gibbons</td>\n",
       "      <td>[1, 2]</td>\n",
       "      <td>WELL THE CHILDREN LOVE IT AFTER AWHILE YOU GET...</td>\n",
       "      <td>4.0</td>\n",
       "      <td>MONKEYS</td>\n",
       "      <td>1374105600</td>\n",
       "      <td>07 18, 2013</td>\n",
       "      <td>A1FYZPJLU78R2Y</td>\n",
       "      <td>50.0</td>\n",
       "      <td>1.0</td>\n",
       "      <td>2.0</td>\n",
       "      <td>116.0</td>\n",
       "      <td>116.0</td>\n",
       "      <td>116.0</td>\n",
       "      <td>116.0</td>\n",
       "    </tr>\n",
       "    <tr>\n",
       "      <th>12</th>\n",
       "      <td>AV58L39SOERMI</td>\n",
       "      <td>B004A9SDD8</td>\n",
       "      <td>LP</td>\n",
       "      <td>[1, 2]</td>\n",
       "      <td>I got this app because my 2 year old daughter ...</td>\n",
       "      <td>3.0</td>\n",
       "      <td>Could be better....</td>\n",
       "      <td>1373241600</td>\n",
       "      <td>07 8, 2013</td>\n",
       "      <td>AV58L39SOERMI</td>\n",
       "      <td>50.0</td>\n",
       "      <td>1.0</td>\n",
       "      <td>2.0</td>\n",
       "      <td>864.0</td>\n",
       "      <td>864.0</td>\n",
       "      <td>864.0</td>\n",
       "      <td>864.0</td>\n",
       "    </tr>\n",
       "    <tr>\n",
       "      <th>13</th>\n",
       "      <td>A31XG60B64OW74</td>\n",
       "      <td>B004A9SDD8</td>\n",
       "      <td>Melissa Boysen</td>\n",
       "      <td>[3, 4]</td>\n",
       "      <td>My three year old Plays this game the most he ...</td>\n",
       "      <td>5.0</td>\n",
       "      <td>Five little monkeys</td>\n",
       "      <td>1368576000</td>\n",
       "      <td>05 15, 2013</td>\n",
       "      <td>A31XG60B64OW74</td>\n",
       "      <td>75.0</td>\n",
       "      <td>3.0</td>\n",
       "      <td>4.0</td>\n",
       "      <td>145.0</td>\n",
       "      <td>145.0</td>\n",
       "      <td>145.0</td>\n",
       "      <td>145.0</td>\n",
       "    </tr>\n",
       "    <tr>\n",
       "      <th>14</th>\n",
       "      <td>A39JZ61LPIVY91</td>\n",
       "      <td>B004A9SDD8</td>\n",
       "      <td>Mimi</td>\n",
       "      <td>[1, 2]</td>\n",
       "      <td>Good for little ones, especially if  know the ...</td>\n",
       "      <td>3.0</td>\n",
       "      <td>Good for small children</td>\n",
       "      <td>1367539200</td>\n",
       "      <td>05 3, 2013</td>\n",
       "      <td>A39JZ61LPIVY91</td>\n",
       "      <td>50.0</td>\n",
       "      <td>1.0</td>\n",
       "      <td>2.0</td>\n",
       "      <td>119.0</td>\n",
       "      <td>119.0</td>\n",
       "      <td>119.0</td>\n",
       "      <td>119.0</td>\n",
       "    </tr>\n",
       "    <tr>\n",
       "      <th>15</th>\n",
       "      <td>AIRKROQMCBVG4</td>\n",
       "      <td>B004A9SDD8</td>\n",
       "      <td>NINA WHEELER</td>\n",
       "      <td>[3, 3]</td>\n",
       "      <td>My two year old grandson loves this game and p...</td>\n",
       "      <td>5.0</td>\n",
       "      <td>Fun, fun, fun !!</td>\n",
       "      <td>1385942400</td>\n",
       "      <td>12 2, 2013</td>\n",
       "      <td>AIRKROQMCBVG4</td>\n",
       "      <td>100.0</td>\n",
       "      <td>3.0</td>\n",
       "      <td>3.0</td>\n",
       "      <td>104.0</td>\n",
       "      <td>104.0</td>\n",
       "      <td>104.0</td>\n",
       "      <td>104.0</td>\n",
       "    </tr>\n",
       "    <tr>\n",
       "      <th>16</th>\n",
       "      <td>AELVL0VXR3VFN</td>\n",
       "      <td>B004A9SDD8</td>\n",
       "      <td>PClark</td>\n",
       "      <td>[2, 2]</td>\n",
       "      <td>My granddaughter really loves this. She will l...</td>\n",
       "      <td>5.0</td>\n",
       "      <td>So cute</td>\n",
       "      <td>1353196800</td>\n",
       "      <td>11 18, 2012</td>\n",
       "      <td>AELVL0VXR3VFN</td>\n",
       "      <td>100.0</td>\n",
       "      <td>2.0</td>\n",
       "      <td>2.0</td>\n",
       "      <td>111.0</td>\n",
       "      <td>111.0</td>\n",
       "      <td>111.0</td>\n",
       "      <td>111.0</td>\n",
       "    </tr>\n",
       "    <tr>\n",
       "      <th>17</th>\n",
       "      <td>A55641MA1CS5F</td>\n",
       "      <td>B004A9SDD8</td>\n",
       "      <td>Robert Daniels</td>\n",
       "      <td>[1, 1]</td>\n",
       "      <td>love it, but wish it was fullscreen on honeyco...</td>\n",
       "      <td>4.0</td>\n",
       "      <td>love it</td>\n",
       "      <td>1313280000</td>\n",
       "      <td>08 14, 2011</td>\n",
       "      <td>A55641MA1CS5F</td>\n",
       "      <td>100.0</td>\n",
       "      <td>1.0</td>\n",
       "      <td>1.0</td>\n",
       "      <td>147.0</td>\n",
       "      <td>147.0</td>\n",
       "      <td>147.0</td>\n",
       "      <td>147.0</td>\n",
       "    </tr>\n",
       "    <tr>\n",
       "      <th>18</th>\n",
       "      <td>A39TLD5D8M76M4</td>\n",
       "      <td>B004AFQAUA</td>\n",
       "      <td>NaN</td>\n",
       "      <td>[0, 0]</td>\n",
       "      <td>does not let you sample only for a sec. if you...</td>\n",
       "      <td>1.0</td>\n",
       "      <td>dont play there</td>\n",
       "      <td>1405296000</td>\n",
       "      <td>07 14, 2014</td>\n",
       "      <td>A39TLD5D8M76M4</td>\n",
       "      <td>NaN</td>\n",
       "      <td>NaN</td>\n",
       "      <td>NaN</td>\n",
       "      <td>459.0</td>\n",
       "      <td>459.0</td>\n",
       "      <td>459.0</td>\n",
       "      <td>459.0</td>\n",
       "    </tr>\n",
       "    <tr>\n",
       "      <th>19</th>\n",
       "      <td>A2XJJKZSEYYW8T</td>\n",
       "      <td>B004AFQAUA</td>\n",
       "      <td>A Customer</td>\n",
       "      <td>[0, 0]</td>\n",
       "      <td>this is a very good app and it you need this s...</td>\n",
       "      <td>5.0</td>\n",
       "      <td>app</td>\n",
       "      <td>1394064000</td>\n",
       "      <td>03 6, 2014</td>\n",
       "      <td>A2XJJKZSEYYW8T</td>\n",
       "      <td>NaN</td>\n",
       "      <td>NaN</td>\n",
       "      <td>NaN</td>\n",
       "      <td>91.0</td>\n",
       "      <td>91.0</td>\n",
       "      <td>91.0</td>\n",
       "      <td>91.0</td>\n",
       "    </tr>\n",
       "    <tr>\n",
       "      <th>20</th>\n",
       "      <td>A2XJJKZSEYYW8T</td>\n",
       "      <td>B004AFQAUA</td>\n",
       "      <td>A Customer</td>\n",
       "      <td>[0, 0]</td>\n",
       "      <td>this is a very good app and it you need this s...</td>\n",
       "      <td>5.0</td>\n",
       "      <td>app</td>\n",
       "      <td>1394064000</td>\n",
       "      <td>03 6, 2014</td>\n",
       "      <td>A3JIARC19PWOYK</td>\n",
       "      <td>NaN</td>\n",
       "      <td>NaN</td>\n",
       "      <td>NaN</td>\n",
       "      <td>91.0</td>\n",
       "      <td>91.0</td>\n",
       "      <td>91.0</td>\n",
       "      <td>91.0</td>\n",
       "    </tr>\n",
       "    <tr>\n",
       "      <th>21</th>\n",
       "      <td>AJ9JRKE8AADW0</td>\n",
       "      <td>B004AFQAUA</td>\n",
       "      <td>Allison Janezic</td>\n",
       "      <td>[1, 1]</td>\n",
       "      <td>It's easy to use and transfer songs. If I purc...</td>\n",
       "      <td>4.0</td>\n",
       "      <td>Worth the monthly fee</td>\n",
       "      <td>1363478400</td>\n",
       "      <td>03 17, 2013</td>\n",
       "      <td>AJ9JRKE8AADW0</td>\n",
       "      <td>100.0</td>\n",
       "      <td>1.0</td>\n",
       "      <td>1.0</td>\n",
       "      <td>355.0</td>\n",
       "      <td>355.0</td>\n",
       "      <td>355.0</td>\n",
       "      <td>355.0</td>\n",
       "    </tr>\n",
       "    <tr>\n",
       "      <th>22</th>\n",
       "      <td>A3ACPKNYVFJWRY</td>\n",
       "      <td>B004AFQAUA</td>\n",
       "      <td>Altaira_Jade</td>\n",
       "      <td>[1, 1]</td>\n",
       "      <td>Great selections.  Easy to use interface.  I h...</td>\n",
       "      <td>4.0</td>\n",
       "      <td>Great service</td>\n",
       "      <td>1354060800</td>\n",
       "      <td>11 28, 2012</td>\n",
       "      <td>A3ACPKNYVFJWRY</td>\n",
       "      <td>100.0</td>\n",
       "      <td>1.0</td>\n",
       "      <td>1.0</td>\n",
       "      <td>502.0</td>\n",
       "      <td>502.0</td>\n",
       "      <td>502.0</td>\n",
       "      <td>502.0</td>\n",
       "    </tr>\n",
       "    <tr>\n",
       "      <th>23</th>\n",
       "      <td>A2ETSATXP9MTZ6</td>\n",
       "      <td>B004AFQAUA</td>\n",
       "      <td>Amazon Customer</td>\n",
       "      <td>[1, 1]</td>\n",
       "      <td>I really don't think I could live without Rhap...</td>\n",
       "      <td>5.0</td>\n",
       "      <td>I love Rhapsody</td>\n",
       "      <td>1358553600</td>\n",
       "      <td>01 19, 2013</td>\n",
       "      <td>A2ETSATXP9MTZ6</td>\n",
       "      <td>100.0</td>\n",
       "      <td>1.0</td>\n",
       "      <td>1.0</td>\n",
       "      <td>396.0</td>\n",
       "      <td>396.0</td>\n",
       "      <td>396.0</td>\n",
       "      <td>396.0</td>\n",
       "    </tr>\n",
       "    <tr>\n",
       "      <th>24</th>\n",
       "      <td>A3RYB7MYE6C8CB</td>\n",
       "      <td>B004AFQAUA</td>\n",
       "      <td>Amazon Customer \"I am 62 yrs. old....I love t...</td>\n",
       "      <td>[8, 10]</td>\n",
       "      <td>I love this app!! Yes,after 14 days you have t...</td>\n",
       "      <td>5.0</td>\n",
       "      <td>Rhaspody</td>\n",
       "      <td>1343260800</td>\n",
       "      <td>07 26, 2012</td>\n",
       "      <td>A3RYB7MYE6C8CB</td>\n",
       "      <td>80.0</td>\n",
       "      <td>8.0</td>\n",
       "      <td>10.0</td>\n",
       "      <td>523.0</td>\n",
       "      <td>523.0</td>\n",
       "      <td>523.0</td>\n",
       "      <td>523.0</td>\n",
       "    </tr>\n",
       "    <tr>\n",
       "      <th>25</th>\n",
       "      <td>A3RYB7MYE6C8CB</td>\n",
       "      <td>B004AFQAUA</td>\n",
       "      <td>Amazon Customer \"I am 62 yrs. old....I love t...</td>\n",
       "      <td>[8, 10]</td>\n",
       "      <td>I love this app!! Yes,after 14 days you have t...</td>\n",
       "      <td>5.0</td>\n",
       "      <td>Rhaspody</td>\n",
       "      <td>1343260800</td>\n",
       "      <td>07 26, 2012</td>\n",
       "      <td>A1U9V0C815IZRS</td>\n",
       "      <td>80.0</td>\n",
       "      <td>8.0</td>\n",
       "      <td>10.0</td>\n",
       "      <td>523.0</td>\n",
       "      <td>523.0</td>\n",
       "      <td>523.0</td>\n",
       "      <td>523.0</td>\n",
       "    </tr>\n",
       "    <tr>\n",
       "      <th>26</th>\n",
       "      <td>A17YPB3JICRUK2</td>\n",
       "      <td>B004AFQAUA</td>\n",
       "      <td>Amazon Customer \"StormyJ\"</td>\n",
       "      <td>[0, 1]</td>\n",
       "      <td>If you pay for the subscription then by all me...</td>\n",
       "      <td>5.0</td>\n",
       "      <td>Rhapsody</td>\n",
       "      <td>1383264000</td>\n",
       "      <td>11 1, 2013</td>\n",
       "      <td>A17YPB3JICRUK2</td>\n",
       "      <td>0.0</td>\n",
       "      <td>0.0</td>\n",
       "      <td>1.0</td>\n",
       "      <td>158.0</td>\n",
       "      <td>158.0</td>\n",
       "      <td>158.0</td>\n",
       "      <td>158.0</td>\n",
       "    </tr>\n",
       "    <tr>\n",
       "      <th>27</th>\n",
       "      <td>A3SZDQ4JQH7T9S</td>\n",
       "      <td>B004AFQAUA</td>\n",
       "      <td>Amy</td>\n",
       "      <td>[1, 3]</td>\n",
       "      <td>Tried to run this on my Kindle Fire; kept givi...</td>\n",
       "      <td>1.0</td>\n",
       "      <td>Very disappointed</td>\n",
       "      <td>1358035200</td>\n",
       "      <td>01 13, 2013</td>\n",
       "      <td>A3SZDQ4JQH7T9S</td>\n",
       "      <td>33.0</td>\n",
       "      <td>1.0</td>\n",
       "      <td>3.0</td>\n",
       "      <td>475.0</td>\n",
       "      <td>475.0</td>\n",
       "      <td>475.0</td>\n",
       "      <td>475.0</td>\n",
       "    </tr>\n",
       "    <tr>\n",
       "      <th>28</th>\n",
       "      <td>A28HK5XEA7B1K1</td>\n",
       "      <td>B004AFQAUA</td>\n",
       "      <td>Anna Bernyc \"Snow White (Book Angels12)\"</td>\n",
       "      <td>[2, 2]</td>\n",
       "      <td>We love Rhapsody we use it all the time. Affor...</td>\n",
       "      <td>5.0</td>\n",
       "      <td>Amazing</td>\n",
       "      <td>1374969600</td>\n",
       "      <td>07 28, 2013</td>\n",
       "      <td>A28HK5XEA7B1K1</td>\n",
       "      <td>100.0</td>\n",
       "      <td>2.0</td>\n",
       "      <td>2.0</td>\n",
       "      <td>160.0</td>\n",
       "      <td>160.0</td>\n",
       "      <td>160.0</td>\n",
       "      <td>160.0</td>\n",
       "    </tr>\n",
       "    <tr>\n",
       "      <th>29</th>\n",
       "      <td>AAGR17G2JXJLT</td>\n",
       "      <td>B004AFQAUA</td>\n",
       "      <td>Annette L. Goldis</td>\n",
       "      <td>[2, 5]</td>\n",
       "      <td>It just doesn't do what I needed it to do.  Fo...</td>\n",
       "      <td>1.0</td>\n",
       "      <td>Didn't do</td>\n",
       "      <td>1372204800</td>\n",
       "      <td>06 26, 2013</td>\n",
       "      <td>AAGR17G2JXJLT</td>\n",
       "      <td>40.0</td>\n",
       "      <td>2.0</td>\n",
       "      <td>5.0</td>\n",
       "      <td>103.0</td>\n",
       "      <td>103.0</td>\n",
       "      <td>103.0</td>\n",
       "      <td>103.0</td>\n",
       "    </tr>\n",
       "    <tr>\n",
       "      <th>...</th>\n",
       "      <td>...</td>\n",
       "      <td>...</td>\n",
       "      <td>...</td>\n",
       "      <td>...</td>\n",
       "      <td>...</td>\n",
       "      <td>...</td>\n",
       "      <td>...</td>\n",
       "      <td>...</td>\n",
       "      <td>...</td>\n",
       "      <td>...</td>\n",
       "      <td>...</td>\n",
       "      <td>...</td>\n",
       "      <td>...</td>\n",
       "      <td>...</td>\n",
       "      <td>...</td>\n",
       "      <td>...</td>\n",
       "      <td>...</td>\n",
       "    </tr>\n",
       "    <tr>\n",
       "      <th>10974275</th>\n",
       "      <td>NaN</td>\n",
       "      <td>B00LVEZYOQ</td>\n",
       "      <td>NaN</td>\n",
       "      <td>NaN</td>\n",
       "      <td>NaN</td>\n",
       "      <td>5.0</td>\n",
       "      <td>NaN</td>\n",
       "      <td>1405987200</td>\n",
       "      <td>NaN</td>\n",
       "      <td>A3U3MVQOSXO7GF</td>\n",
       "      <td>NaN</td>\n",
       "      <td>NaN</td>\n",
       "      <td>NaN</td>\n",
       "      <td>NaN</td>\n",
       "      <td>NaN</td>\n",
       "      <td>NaN</td>\n",
       "      <td>NaN</td>\n",
       "    </tr>\n",
       "    <tr>\n",
       "      <th>10974276</th>\n",
       "      <td>NaN</td>\n",
       "      <td>B00LVEZYOQ</td>\n",
       "      <td>NaN</td>\n",
       "      <td>NaN</td>\n",
       "      <td>NaN</td>\n",
       "      <td>5.0</td>\n",
       "      <td>NaN</td>\n",
       "      <td>1405641600</td>\n",
       "      <td>NaN</td>\n",
       "      <td>A1A5RBO5F6NH88</td>\n",
       "      <td>NaN</td>\n",
       "      <td>NaN</td>\n",
       "      <td>NaN</td>\n",
       "      <td>NaN</td>\n",
       "      <td>NaN</td>\n",
       "      <td>NaN</td>\n",
       "      <td>NaN</td>\n",
       "    </tr>\n",
       "    <tr>\n",
       "      <th>10974277</th>\n",
       "      <td>NaN</td>\n",
       "      <td>B00LVEZYOQ</td>\n",
       "      <td>NaN</td>\n",
       "      <td>NaN</td>\n",
       "      <td>NaN</td>\n",
       "      <td>5.0</td>\n",
       "      <td>NaN</td>\n",
       "      <td>1405641600</td>\n",
       "      <td>NaN</td>\n",
       "      <td>A1P6PV4WMJ05B8</td>\n",
       "      <td>NaN</td>\n",
       "      <td>NaN</td>\n",
       "      <td>NaN</td>\n",
       "      <td>NaN</td>\n",
       "      <td>NaN</td>\n",
       "      <td>NaN</td>\n",
       "      <td>NaN</td>\n",
       "    </tr>\n",
       "    <tr>\n",
       "      <th>10974278</th>\n",
       "      <td>NaN</td>\n",
       "      <td>B00LVEZYOQ</td>\n",
       "      <td>NaN</td>\n",
       "      <td>NaN</td>\n",
       "      <td>NaN</td>\n",
       "      <td>5.0</td>\n",
       "      <td>NaN</td>\n",
       "      <td>1405641600</td>\n",
       "      <td>NaN</td>\n",
       "      <td>A1FH3I9B267ZI1</td>\n",
       "      <td>NaN</td>\n",
       "      <td>NaN</td>\n",
       "      <td>NaN</td>\n",
       "      <td>NaN</td>\n",
       "      <td>NaN</td>\n",
       "      <td>NaN</td>\n",
       "      <td>NaN</td>\n",
       "    </tr>\n",
       "    <tr>\n",
       "      <th>10974279</th>\n",
       "      <td>NaN</td>\n",
       "      <td>B00LVEZYOQ</td>\n",
       "      <td>NaN</td>\n",
       "      <td>NaN</td>\n",
       "      <td>NaN</td>\n",
       "      <td>1.0</td>\n",
       "      <td>NaN</td>\n",
       "      <td>1405814400</td>\n",
       "      <td>NaN</td>\n",
       "      <td>A1PQH8Z7XBRGD8</td>\n",
       "      <td>NaN</td>\n",
       "      <td>NaN</td>\n",
       "      <td>NaN</td>\n",
       "      <td>NaN</td>\n",
       "      <td>NaN</td>\n",
       "      <td>NaN</td>\n",
       "      <td>NaN</td>\n",
       "    </tr>\n",
       "    <tr>\n",
       "      <th>10974280</th>\n",
       "      <td>NaN</td>\n",
       "      <td>B00LVEZYOQ</td>\n",
       "      <td>NaN</td>\n",
       "      <td>NaN</td>\n",
       "      <td>NaN</td>\n",
       "      <td>3.0</td>\n",
       "      <td>NaN</td>\n",
       "      <td>1405814400</td>\n",
       "      <td>NaN</td>\n",
       "      <td>A1JMW71KY8Y0XE</td>\n",
       "      <td>NaN</td>\n",
       "      <td>NaN</td>\n",
       "      <td>NaN</td>\n",
       "      <td>NaN</td>\n",
       "      <td>NaN</td>\n",
       "      <td>NaN</td>\n",
       "      <td>NaN</td>\n",
       "    </tr>\n",
       "    <tr>\n",
       "      <th>10974281</th>\n",
       "      <td>NaN</td>\n",
       "      <td>B00LVR3CAG</td>\n",
       "      <td>NaN</td>\n",
       "      <td>NaN</td>\n",
       "      <td>NaN</td>\n",
       "      <td>1.0</td>\n",
       "      <td>NaN</td>\n",
       "      <td>1405987200</td>\n",
       "      <td>NaN</td>\n",
       "      <td>A3I2KTNLW3BKUX</td>\n",
       "      <td>NaN</td>\n",
       "      <td>NaN</td>\n",
       "      <td>NaN</td>\n",
       "      <td>NaN</td>\n",
       "      <td>NaN</td>\n",
       "      <td>NaN</td>\n",
       "      <td>NaN</td>\n",
       "    </tr>\n",
       "    <tr>\n",
       "      <th>10974282</th>\n",
       "      <td>NaN</td>\n",
       "      <td>B00LVR3CAG</td>\n",
       "      <td>NaN</td>\n",
       "      <td>NaN</td>\n",
       "      <td>NaN</td>\n",
       "      <td>4.0</td>\n",
       "      <td>NaN</td>\n",
       "      <td>1405987200</td>\n",
       "      <td>NaN</td>\n",
       "      <td>AL23QYDQWSL22</td>\n",
       "      <td>NaN</td>\n",
       "      <td>NaN</td>\n",
       "      <td>NaN</td>\n",
       "      <td>NaN</td>\n",
       "      <td>NaN</td>\n",
       "      <td>NaN</td>\n",
       "      <td>NaN</td>\n",
       "    </tr>\n",
       "    <tr>\n",
       "      <th>10974283</th>\n",
       "      <td>NaN</td>\n",
       "      <td>B00LVR3CAG</td>\n",
       "      <td>NaN</td>\n",
       "      <td>NaN</td>\n",
       "      <td>NaN</td>\n",
       "      <td>5.0</td>\n",
       "      <td>NaN</td>\n",
       "      <td>1405814400</td>\n",
       "      <td>NaN</td>\n",
       "      <td>A1K5XLR7WEJXBU</td>\n",
       "      <td>NaN</td>\n",
       "      <td>NaN</td>\n",
       "      <td>NaN</td>\n",
       "      <td>NaN</td>\n",
       "      <td>NaN</td>\n",
       "      <td>NaN</td>\n",
       "      <td>NaN</td>\n",
       "    </tr>\n",
       "    <tr>\n",
       "      <th>10974284</th>\n",
       "      <td>NaN</td>\n",
       "      <td>B00LVR3CAG</td>\n",
       "      <td>NaN</td>\n",
       "      <td>NaN</td>\n",
       "      <td>NaN</td>\n",
       "      <td>1.0</td>\n",
       "      <td>NaN</td>\n",
       "      <td>1405814400</td>\n",
       "      <td>NaN</td>\n",
       "      <td>A1UFTU0WOBMXGZ</td>\n",
       "      <td>NaN</td>\n",
       "      <td>NaN</td>\n",
       "      <td>NaN</td>\n",
       "      <td>NaN</td>\n",
       "      <td>NaN</td>\n",
       "      <td>NaN</td>\n",
       "      <td>NaN</td>\n",
       "    </tr>\n",
       "    <tr>\n",
       "      <th>10974285</th>\n",
       "      <td>NaN</td>\n",
       "      <td>B00LVXVT7I</td>\n",
       "      <td>NaN</td>\n",
       "      <td>NaN</td>\n",
       "      <td>NaN</td>\n",
       "      <td>5.0</td>\n",
       "      <td>NaN</td>\n",
       "      <td>1405728000</td>\n",
       "      <td>NaN</td>\n",
       "      <td>A3IU7DMLLCFON9</td>\n",
       "      <td>NaN</td>\n",
       "      <td>NaN</td>\n",
       "      <td>NaN</td>\n",
       "      <td>NaN</td>\n",
       "      <td>NaN</td>\n",
       "      <td>NaN</td>\n",
       "      <td>NaN</td>\n",
       "    </tr>\n",
       "    <tr>\n",
       "      <th>10974286</th>\n",
       "      <td>NaN</td>\n",
       "      <td>B00LVXVT7I</td>\n",
       "      <td>NaN</td>\n",
       "      <td>NaN</td>\n",
       "      <td>NaN</td>\n",
       "      <td>5.0</td>\n",
       "      <td>NaN</td>\n",
       "      <td>1405814400</td>\n",
       "      <td>NaN</td>\n",
       "      <td>A40UXTVA9HT3Q</td>\n",
       "      <td>NaN</td>\n",
       "      <td>NaN</td>\n",
       "      <td>NaN</td>\n",
       "      <td>NaN</td>\n",
       "      <td>NaN</td>\n",
       "      <td>NaN</td>\n",
       "      <td>NaN</td>\n",
       "    </tr>\n",
       "    <tr>\n",
       "      <th>10974287</th>\n",
       "      <td>NaN</td>\n",
       "      <td>B00LVXVT7I</td>\n",
       "      <td>NaN</td>\n",
       "      <td>NaN</td>\n",
       "      <td>NaN</td>\n",
       "      <td>5.0</td>\n",
       "      <td>NaN</td>\n",
       "      <td>1405814400</td>\n",
       "      <td>NaN</td>\n",
       "      <td>A9V7D0L4HH79O</td>\n",
       "      <td>NaN</td>\n",
       "      <td>NaN</td>\n",
       "      <td>NaN</td>\n",
       "      <td>NaN</td>\n",
       "      <td>NaN</td>\n",
       "      <td>NaN</td>\n",
       "      <td>NaN</td>\n",
       "    </tr>\n",
       "    <tr>\n",
       "      <th>10974288</th>\n",
       "      <td>NaN</td>\n",
       "      <td>B00LW91I0E</td>\n",
       "      <td>NaN</td>\n",
       "      <td>NaN</td>\n",
       "      <td>NaN</td>\n",
       "      <td>5.0</td>\n",
       "      <td>NaN</td>\n",
       "      <td>1405900800</td>\n",
       "      <td>NaN</td>\n",
       "      <td>A1Q6EXWODTY5TI</td>\n",
       "      <td>NaN</td>\n",
       "      <td>NaN</td>\n",
       "      <td>NaN</td>\n",
       "      <td>NaN</td>\n",
       "      <td>NaN</td>\n",
       "      <td>NaN</td>\n",
       "      <td>NaN</td>\n",
       "    </tr>\n",
       "    <tr>\n",
       "      <th>10974289</th>\n",
       "      <td>NaN</td>\n",
       "      <td>B00LW91I0E</td>\n",
       "      <td>NaN</td>\n",
       "      <td>NaN</td>\n",
       "      <td>NaN</td>\n",
       "      <td>5.0</td>\n",
       "      <td>NaN</td>\n",
       "      <td>1405900800</td>\n",
       "      <td>NaN</td>\n",
       "      <td>A3GMIK7QM4VHTU</td>\n",
       "      <td>NaN</td>\n",
       "      <td>NaN</td>\n",
       "      <td>NaN</td>\n",
       "      <td>NaN</td>\n",
       "      <td>NaN</td>\n",
       "      <td>NaN</td>\n",
       "      <td>NaN</td>\n",
       "    </tr>\n",
       "    <tr>\n",
       "      <th>10974290</th>\n",
       "      <td>NaN</td>\n",
       "      <td>B00LWJWA42</td>\n",
       "      <td>NaN</td>\n",
       "      <td>NaN</td>\n",
       "      <td>NaN</td>\n",
       "      <td>5.0</td>\n",
       "      <td>NaN</td>\n",
       "      <td>1405814400</td>\n",
       "      <td>NaN</td>\n",
       "      <td>A4R2NR8VH87SO</td>\n",
       "      <td>NaN</td>\n",
       "      <td>NaN</td>\n",
       "      <td>NaN</td>\n",
       "      <td>NaN</td>\n",
       "      <td>NaN</td>\n",
       "      <td>NaN</td>\n",
       "      <td>NaN</td>\n",
       "    </tr>\n",
       "    <tr>\n",
       "      <th>10974291</th>\n",
       "      <td>NaN</td>\n",
       "      <td>B00LWJWA42</td>\n",
       "      <td>NaN</td>\n",
       "      <td>NaN</td>\n",
       "      <td>NaN</td>\n",
       "      <td>5.0</td>\n",
       "      <td>NaN</td>\n",
       "      <td>1405900800</td>\n",
       "      <td>NaN</td>\n",
       "      <td>A27TVPI3YRKQGW</td>\n",
       "      <td>NaN</td>\n",
       "      <td>NaN</td>\n",
       "      <td>NaN</td>\n",
       "      <td>NaN</td>\n",
       "      <td>NaN</td>\n",
       "      <td>NaN</td>\n",
       "      <td>NaN</td>\n",
       "    </tr>\n",
       "    <tr>\n",
       "      <th>10974292</th>\n",
       "      <td>NaN</td>\n",
       "      <td>B00LWTP33W</td>\n",
       "      <td>NaN</td>\n",
       "      <td>NaN</td>\n",
       "      <td>NaN</td>\n",
       "      <td>5.0</td>\n",
       "      <td>NaN</td>\n",
       "      <td>1405728000</td>\n",
       "      <td>NaN</td>\n",
       "      <td>A2FQH5ZSU77CBF</td>\n",
       "      <td>NaN</td>\n",
       "      <td>NaN</td>\n",
       "      <td>NaN</td>\n",
       "      <td>NaN</td>\n",
       "      <td>NaN</td>\n",
       "      <td>NaN</td>\n",
       "      <td>NaN</td>\n",
       "    </tr>\n",
       "    <tr>\n",
       "      <th>10974293</th>\n",
       "      <td>NaN</td>\n",
       "      <td>B00LWTP33W</td>\n",
       "      <td>NaN</td>\n",
       "      <td>NaN</td>\n",
       "      <td>NaN</td>\n",
       "      <td>5.0</td>\n",
       "      <td>NaN</td>\n",
       "      <td>1405728000</td>\n",
       "      <td>NaN</td>\n",
       "      <td>A1GGHT8WXBV05G</td>\n",
       "      <td>NaN</td>\n",
       "      <td>NaN</td>\n",
       "      <td>NaN</td>\n",
       "      <td>NaN</td>\n",
       "      <td>NaN</td>\n",
       "      <td>NaN</td>\n",
       "      <td>NaN</td>\n",
       "    </tr>\n",
       "    <tr>\n",
       "      <th>10974294</th>\n",
       "      <td>NaN</td>\n",
       "      <td>B00LWU2FKU</td>\n",
       "      <td>NaN</td>\n",
       "      <td>NaN</td>\n",
       "      <td>NaN</td>\n",
       "      <td>5.0</td>\n",
       "      <td>NaN</td>\n",
       "      <td>1405641600</td>\n",
       "      <td>NaN</td>\n",
       "      <td>A1EVLZDLAWJT1O</td>\n",
       "      <td>NaN</td>\n",
       "      <td>NaN</td>\n",
       "      <td>NaN</td>\n",
       "      <td>NaN</td>\n",
       "      <td>NaN</td>\n",
       "      <td>NaN</td>\n",
       "      <td>NaN</td>\n",
       "    </tr>\n",
       "    <tr>\n",
       "      <th>10974295</th>\n",
       "      <td>NaN</td>\n",
       "      <td>B00LXD37IA</td>\n",
       "      <td>NaN</td>\n",
       "      <td>NaN</td>\n",
       "      <td>NaN</td>\n",
       "      <td>1.0</td>\n",
       "      <td>NaN</td>\n",
       "      <td>1406073600</td>\n",
       "      <td>NaN</td>\n",
       "      <td>A2CYMBX44ICBMD</td>\n",
       "      <td>NaN</td>\n",
       "      <td>NaN</td>\n",
       "      <td>NaN</td>\n",
       "      <td>NaN</td>\n",
       "      <td>NaN</td>\n",
       "      <td>NaN</td>\n",
       "      <td>NaN</td>\n",
       "    </tr>\n",
       "    <tr>\n",
       "      <th>10974296</th>\n",
       "      <td>NaN</td>\n",
       "      <td>B00LXGFUMS</td>\n",
       "      <td>NaN</td>\n",
       "      <td>NaN</td>\n",
       "      <td>NaN</td>\n",
       "      <td>5.0</td>\n",
       "      <td>NaN</td>\n",
       "      <td>1405900800</td>\n",
       "      <td>NaN</td>\n",
       "      <td>A15CK6OV006IWW</td>\n",
       "      <td>NaN</td>\n",
       "      <td>NaN</td>\n",
       "      <td>NaN</td>\n",
       "      <td>NaN</td>\n",
       "      <td>NaN</td>\n",
       "      <td>NaN</td>\n",
       "      <td>NaN</td>\n",
       "    </tr>\n",
       "    <tr>\n",
       "      <th>10974297</th>\n",
       "      <td>NaN</td>\n",
       "      <td>B00LXGPGAY</td>\n",
       "      <td>NaN</td>\n",
       "      <td>NaN</td>\n",
       "      <td>NaN</td>\n",
       "      <td>5.0</td>\n",
       "      <td>NaN</td>\n",
       "      <td>1405728000</td>\n",
       "      <td>NaN</td>\n",
       "      <td>A1GNY9105V63S4</td>\n",
       "      <td>NaN</td>\n",
       "      <td>NaN</td>\n",
       "      <td>NaN</td>\n",
       "      <td>NaN</td>\n",
       "      <td>NaN</td>\n",
       "      <td>NaN</td>\n",
       "      <td>NaN</td>\n",
       "    </tr>\n",
       "    <tr>\n",
       "      <th>10974298</th>\n",
       "      <td>NaN</td>\n",
       "      <td>B00LY8XFOK</td>\n",
       "      <td>NaN</td>\n",
       "      <td>NaN</td>\n",
       "      <td>NaN</td>\n",
       "      <td>5.0</td>\n",
       "      <td>NaN</td>\n",
       "      <td>1405987200</td>\n",
       "      <td>NaN</td>\n",
       "      <td>A3AY7CSC53ULU6</td>\n",
       "      <td>NaN</td>\n",
       "      <td>NaN</td>\n",
       "      <td>NaN</td>\n",
       "      <td>NaN</td>\n",
       "      <td>NaN</td>\n",
       "      <td>NaN</td>\n",
       "      <td>NaN</td>\n",
       "    </tr>\n",
       "    <tr>\n",
       "      <th>10974299</th>\n",
       "      <td>NaN</td>\n",
       "      <td>B00LY8XFOK</td>\n",
       "      <td>NaN</td>\n",
       "      <td>NaN</td>\n",
       "      <td>NaN</td>\n",
       "      <td>5.0</td>\n",
       "      <td>NaN</td>\n",
       "      <td>1406073600</td>\n",
       "      <td>NaN</td>\n",
       "      <td>A15U4R5HB5QE2M</td>\n",
       "      <td>NaN</td>\n",
       "      <td>NaN</td>\n",
       "      <td>NaN</td>\n",
       "      <td>NaN</td>\n",
       "      <td>NaN</td>\n",
       "      <td>NaN</td>\n",
       "      <td>NaN</td>\n",
       "    </tr>\n",
       "    <tr>\n",
       "      <th>10974300</th>\n",
       "      <td>NaN</td>\n",
       "      <td>B00LY9GOLU</td>\n",
       "      <td>NaN</td>\n",
       "      <td>NaN</td>\n",
       "      <td>NaN</td>\n",
       "      <td>5.0</td>\n",
       "      <td>NaN</td>\n",
       "      <td>1405900800</td>\n",
       "      <td>NaN</td>\n",
       "      <td>A1WKBCDSH3AORB</td>\n",
       "      <td>NaN</td>\n",
       "      <td>NaN</td>\n",
       "      <td>NaN</td>\n",
       "      <td>NaN</td>\n",
       "      <td>NaN</td>\n",
       "      <td>NaN</td>\n",
       "      <td>NaN</td>\n",
       "    </tr>\n",
       "    <tr>\n",
       "      <th>10974301</th>\n",
       "      <td>NaN</td>\n",
       "      <td>B00LY9HZ3G</td>\n",
       "      <td>NaN</td>\n",
       "      <td>NaN</td>\n",
       "      <td>NaN</td>\n",
       "      <td>5.0</td>\n",
       "      <td>NaN</td>\n",
       "      <td>1405900800</td>\n",
       "      <td>NaN</td>\n",
       "      <td>A1WKBCDSH3AORB</td>\n",
       "      <td>NaN</td>\n",
       "      <td>NaN</td>\n",
       "      <td>NaN</td>\n",
       "      <td>NaN</td>\n",
       "      <td>NaN</td>\n",
       "      <td>NaN</td>\n",
       "      <td>NaN</td>\n",
       "    </tr>\n",
       "    <tr>\n",
       "      <th>10974302</th>\n",
       "      <td>NaN</td>\n",
       "      <td>B00LZ9DVEM</td>\n",
       "      <td>NaN</td>\n",
       "      <td>NaN</td>\n",
       "      <td>NaN</td>\n",
       "      <td>5.0</td>\n",
       "      <td>NaN</td>\n",
       "      <td>1405987200</td>\n",
       "      <td>NaN</td>\n",
       "      <td>AO7VN21R9P2MM</td>\n",
       "      <td>NaN</td>\n",
       "      <td>NaN</td>\n",
       "      <td>NaN</td>\n",
       "      <td>NaN</td>\n",
       "      <td>NaN</td>\n",
       "      <td>NaN</td>\n",
       "      <td>NaN</td>\n",
       "    </tr>\n",
       "    <tr>\n",
       "      <th>10974303</th>\n",
       "      <td>NaN</td>\n",
       "      <td>B00M07JQQK</td>\n",
       "      <td>NaN</td>\n",
       "      <td>NaN</td>\n",
       "      <td>NaN</td>\n",
       "      <td>5.0</td>\n",
       "      <td>NaN</td>\n",
       "      <td>1405987200</td>\n",
       "      <td>NaN</td>\n",
       "      <td>A3I9KEWNIJKOT0</td>\n",
       "      <td>NaN</td>\n",
       "      <td>NaN</td>\n",
       "      <td>NaN</td>\n",
       "      <td>NaN</td>\n",
       "      <td>NaN</td>\n",
       "      <td>NaN</td>\n",
       "      <td>NaN</td>\n",
       "    </tr>\n",
       "    <tr>\n",
       "      <th>10974304</th>\n",
       "      <td>NaN</td>\n",
       "      <td>B00M0DLUIQ</td>\n",
       "      <td>NaN</td>\n",
       "      <td>NaN</td>\n",
       "      <td>NaN</td>\n",
       "      <td>5.0</td>\n",
       "      <td>NaN</td>\n",
       "      <td>1405987200</td>\n",
       "      <td>NaN</td>\n",
       "      <td>A27OTO46BZUF83</td>\n",
       "      <td>NaN</td>\n",
       "      <td>NaN</td>\n",
       "      <td>NaN</td>\n",
       "      <td>NaN</td>\n",
       "      <td>NaN</td>\n",
       "      <td>NaN</td>\n",
       "      <td>NaN</td>\n",
       "    </tr>\n",
       "  </tbody>\n",
       "</table>\n",
       "<p>10974305 rows × 17 columns</p>\n",
       "</div>"
      ],
      "text/plain": [
       "              reviewerID        asin  \\\n",
       "0         A1N4O8VOJZTDVB  B004A9SDD8   \n",
       "1         A2HQWU6HUKIEC7  B004A9SDD8   \n",
       "2         A1SXASF6GYG96I  B004A9SDD8   \n",
       "3         A2B54P9ZDYH167  B004A9SDD8   \n",
       "4          AFOFZDTX5UC6D  B004A9SDD8   \n",
       "5         A331GYAT4ESYI3  B004A9SDD8   \n",
       "6         A2YEHF8T823TDC  B004A9SDD8   \n",
       "7         A3699WHISXX94Z  B004A9SDD8   \n",
       "8         A2BXV49EIES2TB  B004A9SDD8   \n",
       "9         A37HM5TMCMHJES  B004A9SDD8   \n",
       "10        A37HM5TMCMHJES  B004A9SDD8   \n",
       "11        A1FYZPJLU78R2Y  B004A9SDD8   \n",
       "12         AV58L39SOERMI  B004A9SDD8   \n",
       "13        A31XG60B64OW74  B004A9SDD8   \n",
       "14        A39JZ61LPIVY91  B004A9SDD8   \n",
       "15         AIRKROQMCBVG4  B004A9SDD8   \n",
       "16         AELVL0VXR3VFN  B004A9SDD8   \n",
       "17         A55641MA1CS5F  B004A9SDD8   \n",
       "18        A39TLD5D8M76M4  B004AFQAUA   \n",
       "19        A2XJJKZSEYYW8T  B004AFQAUA   \n",
       "20        A2XJJKZSEYYW8T  B004AFQAUA   \n",
       "21         AJ9JRKE8AADW0  B004AFQAUA   \n",
       "22        A3ACPKNYVFJWRY  B004AFQAUA   \n",
       "23        A2ETSATXP9MTZ6  B004AFQAUA   \n",
       "24        A3RYB7MYE6C8CB  B004AFQAUA   \n",
       "25        A3RYB7MYE6C8CB  B004AFQAUA   \n",
       "26        A17YPB3JICRUK2  B004AFQAUA   \n",
       "27        A3SZDQ4JQH7T9S  B004AFQAUA   \n",
       "28        A28HK5XEA7B1K1  B004AFQAUA   \n",
       "29         AAGR17G2JXJLT  B004AFQAUA   \n",
       "...                  ...         ...   \n",
       "10974275             NaN  B00LVEZYOQ   \n",
       "10974276             NaN  B00LVEZYOQ   \n",
       "10974277             NaN  B00LVEZYOQ   \n",
       "10974278             NaN  B00LVEZYOQ   \n",
       "10974279             NaN  B00LVEZYOQ   \n",
       "10974280             NaN  B00LVEZYOQ   \n",
       "10974281             NaN  B00LVR3CAG   \n",
       "10974282             NaN  B00LVR3CAG   \n",
       "10974283             NaN  B00LVR3CAG   \n",
       "10974284             NaN  B00LVR3CAG   \n",
       "10974285             NaN  B00LVXVT7I   \n",
       "10974286             NaN  B00LVXVT7I   \n",
       "10974287             NaN  B00LVXVT7I   \n",
       "10974288             NaN  B00LW91I0E   \n",
       "10974289             NaN  B00LW91I0E   \n",
       "10974290             NaN  B00LWJWA42   \n",
       "10974291             NaN  B00LWJWA42   \n",
       "10974292             NaN  B00LWTP33W   \n",
       "10974293             NaN  B00LWTP33W   \n",
       "10974294             NaN  B00LWU2FKU   \n",
       "10974295             NaN  B00LXD37IA   \n",
       "10974296             NaN  B00LXGFUMS   \n",
       "10974297             NaN  B00LXGPGAY   \n",
       "10974298             NaN  B00LY8XFOK   \n",
       "10974299             NaN  B00LY8XFOK   \n",
       "10974300             NaN  B00LY9GOLU   \n",
       "10974301             NaN  B00LY9HZ3G   \n",
       "10974302             NaN  B00LZ9DVEM   \n",
       "10974303             NaN  B00M07JQQK   \n",
       "10974304             NaN  B00M0DLUIQ   \n",
       "\n",
       "                                              reviewerName  helpful  \\\n",
       "0                                           Annette Yancey   [1, 1]   \n",
       "1                                  Audiobook lover \"Kathy\"   [0, 0]   \n",
       "2                                            Barbara Gibbs   [0, 0]   \n",
       "3                            Brooke Greenstreet \"Babylove\"   [3, 4]   \n",
       "4                                               C. Galindo   [1, 1]   \n",
       "5                                                  Felicia   [3, 3]   \n",
       "6                                        Gale White Miller   [3, 4]   \n",
       "7                                            Janie Leonard   [0, 0]   \n",
       "8                                                    Kayla   [3, 4]   \n",
       "9                                                      kmc   [0, 0]   \n",
       "10                                                     kmc   [0, 0]   \n",
       "11                                           Linda Gibbons   [1, 2]   \n",
       "12                                                      LP   [1, 2]   \n",
       "13                                          Melissa Boysen   [3, 4]   \n",
       "14                                                    Mimi   [1, 2]   \n",
       "15                                            NINA WHEELER   [3, 3]   \n",
       "16                                                  PClark   [2, 2]   \n",
       "17                                          Robert Daniels   [1, 1]   \n",
       "18                                                     NaN   [0, 0]   \n",
       "19                                              A Customer   [0, 0]   \n",
       "20                                              A Customer   [0, 0]   \n",
       "21                                         Allison Janezic   [1, 1]   \n",
       "22                                            Altaira_Jade   [1, 1]   \n",
       "23                                         Amazon Customer   [1, 1]   \n",
       "24        Amazon Customer \"I am 62 yrs. old....I love t...  [8, 10]   \n",
       "25        Amazon Customer \"I am 62 yrs. old....I love t...  [8, 10]   \n",
       "26                               Amazon Customer \"StormyJ\"   [0, 1]   \n",
       "27                                                     Amy   [1, 3]   \n",
       "28                Anna Bernyc \"Snow White (Book Angels12)\"   [2, 2]   \n",
       "29                                       Annette L. Goldis   [2, 5]   \n",
       "...                                                    ...      ...   \n",
       "10974275                                               NaN      NaN   \n",
       "10974276                                               NaN      NaN   \n",
       "10974277                                               NaN      NaN   \n",
       "10974278                                               NaN      NaN   \n",
       "10974279                                               NaN      NaN   \n",
       "10974280                                               NaN      NaN   \n",
       "10974281                                               NaN      NaN   \n",
       "10974282                                               NaN      NaN   \n",
       "10974283                                               NaN      NaN   \n",
       "10974284                                               NaN      NaN   \n",
       "10974285                                               NaN      NaN   \n",
       "10974286                                               NaN      NaN   \n",
       "10974287                                               NaN      NaN   \n",
       "10974288                                               NaN      NaN   \n",
       "10974289                                               NaN      NaN   \n",
       "10974290                                               NaN      NaN   \n",
       "10974291                                               NaN      NaN   \n",
       "10974292                                               NaN      NaN   \n",
       "10974293                                               NaN      NaN   \n",
       "10974294                                               NaN      NaN   \n",
       "10974295                                               NaN      NaN   \n",
       "10974296                                               NaN      NaN   \n",
       "10974297                                               NaN      NaN   \n",
       "10974298                                               NaN      NaN   \n",
       "10974299                                               NaN      NaN   \n",
       "10974300                                               NaN      NaN   \n",
       "10974301                                               NaN      NaN   \n",
       "10974302                                               NaN      NaN   \n",
       "10974303                                               NaN      NaN   \n",
       "10974304                                               NaN      NaN   \n",
       "\n",
       "                                                 reviewText  overall  \\\n",
       "0         Loves the song, so he really couldn't wait to ...      3.0   \n",
       "1         Oh, how my little grandson loves this app. He'...      5.0   \n",
       "2         I found this at a perfect time since my daught...      5.0   \n",
       "3         My 1 year old goes back to this game over and ...      5.0   \n",
       "4         There are three different versions of the song...      5.0   \n",
       "5         THis is just so cute and a great app for littl...      5.0   \n",
       "6         I watch my great grandson 4 days a week and it...      5.0   \n",
       "7         This app is wild and crazy.  Little ones love ...      5.0   \n",
       "8         love love love this app. I was going through d...      5.0   \n",
       "9         Very cute, with alot of items to move about.  ...      5.0   \n",
       "10        Very cute, with alot of items to move about.  ...      5.0   \n",
       "11        WELL THE CHILDREN LOVE IT AFTER AWHILE YOU GET...      4.0   \n",
       "12        I got this app because my 2 year old daughter ...      3.0   \n",
       "13        My three year old Plays this game the most he ...      5.0   \n",
       "14        Good for little ones, especially if  know the ...      3.0   \n",
       "15        My two year old grandson loves this game and p...      5.0   \n",
       "16        My granddaughter really loves this. She will l...      5.0   \n",
       "17        love it, but wish it was fullscreen on honeyco...      4.0   \n",
       "18        does not let you sample only for a sec. if you...      1.0   \n",
       "19        this is a very good app and it you need this s...      5.0   \n",
       "20        this is a very good app and it you need this s...      5.0   \n",
       "21        It's easy to use and transfer songs. If I purc...      4.0   \n",
       "22        Great selections.  Easy to use interface.  I h...      4.0   \n",
       "23        I really don't think I could live without Rhap...      5.0   \n",
       "24        I love this app!! Yes,after 14 days you have t...      5.0   \n",
       "25        I love this app!! Yes,after 14 days you have t...      5.0   \n",
       "26        If you pay for the subscription then by all me...      5.0   \n",
       "27        Tried to run this on my Kindle Fire; kept givi...      1.0   \n",
       "28        We love Rhapsody we use it all the time. Affor...      5.0   \n",
       "29        It just doesn't do what I needed it to do.  Fo...      1.0   \n",
       "...                                                     ...      ...   \n",
       "10974275                                                NaN      5.0   \n",
       "10974276                                                NaN      5.0   \n",
       "10974277                                                NaN      5.0   \n",
       "10974278                                                NaN      5.0   \n",
       "10974279                                                NaN      1.0   \n",
       "10974280                                                NaN      3.0   \n",
       "10974281                                                NaN      1.0   \n",
       "10974282                                                NaN      4.0   \n",
       "10974283                                                NaN      5.0   \n",
       "10974284                                                NaN      1.0   \n",
       "10974285                                                NaN      5.0   \n",
       "10974286                                                NaN      5.0   \n",
       "10974287                                                NaN      5.0   \n",
       "10974288                                                NaN      5.0   \n",
       "10974289                                                NaN      5.0   \n",
       "10974290                                                NaN      5.0   \n",
       "10974291                                                NaN      5.0   \n",
       "10974292                                                NaN      5.0   \n",
       "10974293                                                NaN      5.0   \n",
       "10974294                                                NaN      5.0   \n",
       "10974295                                                NaN      1.0   \n",
       "10974296                                                NaN      5.0   \n",
       "10974297                                                NaN      5.0   \n",
       "10974298                                                NaN      5.0   \n",
       "10974299                                                NaN      5.0   \n",
       "10974300                                                NaN      5.0   \n",
       "10974301                                                NaN      5.0   \n",
       "10974302                                                NaN      5.0   \n",
       "10974303                                                NaN      5.0   \n",
       "10974304                                                NaN      5.0   \n",
       "\n",
       "                                                    summary  unixReviewTime  \\\n",
       "0                                               Really cute      1383350400   \n",
       "1                                       2-year-old loves it      1323043200   \n",
       "2                                                  Fun game      1337558400   \n",
       "3                                      We love our Monkeys!      1354752000   \n",
       "4         This is my granddaughters favorite app on my K...      1391212800   \n",
       "5                                                   so cute      1354665600   \n",
       "6                                                 Terrific!      1381708800   \n",
       "7                                       Five Little Monkeys      1389484800   \n",
       "8                                         love but to quite      1386720000   \n",
       "9                                                      Cute      1366934400   \n",
       "10                                                     Cute      1366934400   \n",
       "11                                                  MONKEYS      1374105600   \n",
       "12                                      Could be better....      1373241600   \n",
       "13                                      Five little monkeys      1368576000   \n",
       "14                                  Good for small children      1367539200   \n",
       "15                                         Fun, fun, fun !!      1385942400   \n",
       "16                                                  So cute      1353196800   \n",
       "17                                                  love it      1313280000   \n",
       "18                                          dont play there      1405296000   \n",
       "19                                                      app      1394064000   \n",
       "20                                                      app      1394064000   \n",
       "21                                    Worth the monthly fee      1363478400   \n",
       "22                                            Great service      1354060800   \n",
       "23                                          I love Rhapsody      1358553600   \n",
       "24                                                 Rhaspody      1343260800   \n",
       "25                                                 Rhaspody      1343260800   \n",
       "26                                                 Rhapsody      1383264000   \n",
       "27                                        Very disappointed      1358035200   \n",
       "28                                                  Amazing      1374969600   \n",
       "29                                                Didn't do      1372204800   \n",
       "...                                                     ...             ...   \n",
       "10974275                                                NaN      1405987200   \n",
       "10974276                                                NaN      1405641600   \n",
       "10974277                                                NaN      1405641600   \n",
       "10974278                                                NaN      1405641600   \n",
       "10974279                                                NaN      1405814400   \n",
       "10974280                                                NaN      1405814400   \n",
       "10974281                                                NaN      1405987200   \n",
       "10974282                                                NaN      1405987200   \n",
       "10974283                                                NaN      1405814400   \n",
       "10974284                                                NaN      1405814400   \n",
       "10974285                                                NaN      1405728000   \n",
       "10974286                                                NaN      1405814400   \n",
       "10974287                                                NaN      1405814400   \n",
       "10974288                                                NaN      1405900800   \n",
       "10974289                                                NaN      1405900800   \n",
       "10974290                                                NaN      1405814400   \n",
       "10974291                                                NaN      1405900800   \n",
       "10974292                                                NaN      1405728000   \n",
       "10974293                                                NaN      1405728000   \n",
       "10974294                                                NaN      1405641600   \n",
       "10974295                                                NaN      1406073600   \n",
       "10974296                                                NaN      1405900800   \n",
       "10974297                                                NaN      1405728000   \n",
       "10974298                                                NaN      1405987200   \n",
       "10974299                                                NaN      1406073600   \n",
       "10974300                                                NaN      1405900800   \n",
       "10974301                                                NaN      1405900800   \n",
       "10974302                                                NaN      1405987200   \n",
       "10974303                                                NaN      1405987200   \n",
       "10974304                                                NaN      1405987200   \n",
       "\n",
       "           reviewTime      reviewerID  helpfulpercentage  helpful_numerator  \\\n",
       "0          11 2, 2013  A1N4O8VOJZTDVB              100.0                1.0   \n",
       "1          12 5, 2011  A2HQWU6HUKIEC7                NaN                NaN   \n",
       "2         05 21, 2012  A1SXASF6GYG96I                NaN                NaN   \n",
       "3          12 6, 2012  A2B54P9ZDYH167               75.0                3.0   \n",
       "4          02 1, 2014   AFOFZDTX5UC6D              100.0                1.0   \n",
       "5          12 5, 2012  A331GYAT4ESYI3              100.0                3.0   \n",
       "6         10 14, 2013  A2YEHF8T823TDC               75.0                3.0   \n",
       "7         01 12, 2014  A3699WHISXX94Z                NaN                NaN   \n",
       "8         12 11, 2013  A2BXV49EIES2TB               75.0                3.0   \n",
       "9         04 26, 2013  A37HM5TMCMHJES                NaN                NaN   \n",
       "10        04 26, 2013    ATSAH7KQUM3B                NaN                NaN   \n",
       "11        07 18, 2013  A1FYZPJLU78R2Y               50.0                1.0   \n",
       "12         07 8, 2013   AV58L39SOERMI               50.0                1.0   \n",
       "13        05 15, 2013  A31XG60B64OW74               75.0                3.0   \n",
       "14         05 3, 2013  A39JZ61LPIVY91               50.0                1.0   \n",
       "15         12 2, 2013   AIRKROQMCBVG4              100.0                3.0   \n",
       "16        11 18, 2012   AELVL0VXR3VFN              100.0                2.0   \n",
       "17        08 14, 2011   A55641MA1CS5F              100.0                1.0   \n",
       "18        07 14, 2014  A39TLD5D8M76M4                NaN                NaN   \n",
       "19         03 6, 2014  A2XJJKZSEYYW8T                NaN                NaN   \n",
       "20         03 6, 2014  A3JIARC19PWOYK                NaN                NaN   \n",
       "21        03 17, 2013   AJ9JRKE8AADW0              100.0                1.0   \n",
       "22        11 28, 2012  A3ACPKNYVFJWRY              100.0                1.0   \n",
       "23        01 19, 2013  A2ETSATXP9MTZ6              100.0                1.0   \n",
       "24        07 26, 2012  A3RYB7MYE6C8CB               80.0                8.0   \n",
       "25        07 26, 2012  A1U9V0C815IZRS               80.0                8.0   \n",
       "26         11 1, 2013  A17YPB3JICRUK2                0.0                0.0   \n",
       "27        01 13, 2013  A3SZDQ4JQH7T9S               33.0                1.0   \n",
       "28        07 28, 2013  A28HK5XEA7B1K1              100.0                2.0   \n",
       "29        06 26, 2013   AAGR17G2JXJLT               40.0                2.0   \n",
       "...               ...             ...                ...                ...   \n",
       "10974275          NaN  A3U3MVQOSXO7GF                NaN                NaN   \n",
       "10974276          NaN  A1A5RBO5F6NH88                NaN                NaN   \n",
       "10974277          NaN  A1P6PV4WMJ05B8                NaN                NaN   \n",
       "10974278          NaN  A1FH3I9B267ZI1                NaN                NaN   \n",
       "10974279          NaN  A1PQH8Z7XBRGD8                NaN                NaN   \n",
       "10974280          NaN  A1JMW71KY8Y0XE                NaN                NaN   \n",
       "10974281          NaN  A3I2KTNLW3BKUX                NaN                NaN   \n",
       "10974282          NaN   AL23QYDQWSL22                NaN                NaN   \n",
       "10974283          NaN  A1K5XLR7WEJXBU                NaN                NaN   \n",
       "10974284          NaN  A1UFTU0WOBMXGZ                NaN                NaN   \n",
       "10974285          NaN  A3IU7DMLLCFON9                NaN                NaN   \n",
       "10974286          NaN   A40UXTVA9HT3Q                NaN                NaN   \n",
       "10974287          NaN   A9V7D0L4HH79O                NaN                NaN   \n",
       "10974288          NaN  A1Q6EXWODTY5TI                NaN                NaN   \n",
       "10974289          NaN  A3GMIK7QM4VHTU                NaN                NaN   \n",
       "10974290          NaN   A4R2NR8VH87SO                NaN                NaN   \n",
       "10974291          NaN  A27TVPI3YRKQGW                NaN                NaN   \n",
       "10974292          NaN  A2FQH5ZSU77CBF                NaN                NaN   \n",
       "10974293          NaN  A1GGHT8WXBV05G                NaN                NaN   \n",
       "10974294          NaN  A1EVLZDLAWJT1O                NaN                NaN   \n",
       "10974295          NaN  A2CYMBX44ICBMD                NaN                NaN   \n",
       "10974296          NaN  A15CK6OV006IWW                NaN                NaN   \n",
       "10974297          NaN  A1GNY9105V63S4                NaN                NaN   \n",
       "10974298          NaN  A3AY7CSC53ULU6                NaN                NaN   \n",
       "10974299          NaN  A15U4R5HB5QE2M                NaN                NaN   \n",
       "10974300          NaN  A1WKBCDSH3AORB                NaN                NaN   \n",
       "10974301          NaN  A1WKBCDSH3AORB                NaN                NaN   \n",
       "10974302          NaN   AO7VN21R9P2MM                NaN                NaN   \n",
       "10974303          NaN  A3I9KEWNIJKOT0                NaN                NaN   \n",
       "10974304          NaN  A27OTO46BZUF83                NaN                NaN   \n",
       "\n",
       "          helpful_denominator  wc_reviewtext  wc_reviewText  \\\n",
       "0                         1.0          206.0          206.0   \n",
       "1                         NaN          255.0          255.0   \n",
       "2                         NaN          288.0          288.0   \n",
       "3                         4.0          186.0          186.0   \n",
       "4                         1.0          746.0          746.0   \n",
       "5                         3.0          134.0          134.0   \n",
       "6                         4.0          297.0          297.0   \n",
       "7                         NaN          233.0          233.0   \n",
       "8                         4.0          190.0          190.0   \n",
       "9                         NaN          129.0          129.0   \n",
       "10                        NaN          129.0          129.0   \n",
       "11                        2.0          116.0          116.0   \n",
       "12                        2.0          864.0          864.0   \n",
       "13                        4.0          145.0          145.0   \n",
       "14                        2.0          119.0          119.0   \n",
       "15                        3.0          104.0          104.0   \n",
       "16                        2.0          111.0          111.0   \n",
       "17                        1.0          147.0          147.0   \n",
       "18                        NaN          459.0          459.0   \n",
       "19                        NaN           91.0           91.0   \n",
       "20                        NaN           91.0           91.0   \n",
       "21                        1.0          355.0          355.0   \n",
       "22                        1.0          502.0          502.0   \n",
       "23                        1.0          396.0          396.0   \n",
       "24                       10.0          523.0          523.0   \n",
       "25                       10.0          523.0          523.0   \n",
       "26                        1.0          158.0          158.0   \n",
       "27                        3.0          475.0          475.0   \n",
       "28                        2.0          160.0          160.0   \n",
       "29                        5.0          103.0          103.0   \n",
       "...                       ...            ...            ...   \n",
       "10974275                  NaN            NaN            NaN   \n",
       "10974276                  NaN            NaN            NaN   \n",
       "10974277                  NaN            NaN            NaN   \n",
       "10974278                  NaN            NaN            NaN   \n",
       "10974279                  NaN            NaN            NaN   \n",
       "10974280                  NaN            NaN            NaN   \n",
       "10974281                  NaN            NaN            NaN   \n",
       "10974282                  NaN            NaN            NaN   \n",
       "10974283                  NaN            NaN            NaN   \n",
       "10974284                  NaN            NaN            NaN   \n",
       "10974285                  NaN            NaN            NaN   \n",
       "10974286                  NaN            NaN            NaN   \n",
       "10974287                  NaN            NaN            NaN   \n",
       "10974288                  NaN            NaN            NaN   \n",
       "10974289                  NaN            NaN            NaN   \n",
       "10974290                  NaN            NaN            NaN   \n",
       "10974291                  NaN            NaN            NaN   \n",
       "10974292                  NaN            NaN            NaN   \n",
       "10974293                  NaN            NaN            NaN   \n",
       "10974294                  NaN            NaN            NaN   \n",
       "10974295                  NaN            NaN            NaN   \n",
       "10974296                  NaN            NaN            NaN   \n",
       "10974297                  NaN            NaN            NaN   \n",
       "10974298                  NaN            NaN            NaN   \n",
       "10974299                  NaN            NaN            NaN   \n",
       "10974300                  NaN            NaN            NaN   \n",
       "10974301                  NaN            NaN            NaN   \n",
       "10974302                  NaN            NaN            NaN   \n",
       "10974303                  NaN            NaN            NaN   \n",
       "10974304                  NaN            NaN            NaN   \n",
       "\n",
       "          charCount_reviewText  wordCount_reviewText  \n",
       "0                        206.0                 206.0  \n",
       "1                        255.0                 255.0  \n",
       "2                        288.0                 288.0  \n",
       "3                        186.0                 186.0  \n",
       "4                        746.0                 746.0  \n",
       "5                        134.0                 134.0  \n",
       "6                        297.0                 297.0  \n",
       "7                        233.0                 233.0  \n",
       "8                        190.0                 190.0  \n",
       "9                        129.0                 129.0  \n",
       "10                       129.0                 129.0  \n",
       "11                       116.0                 116.0  \n",
       "12                       864.0                 864.0  \n",
       "13                       145.0                 145.0  \n",
       "14                       119.0                 119.0  \n",
       "15                       104.0                 104.0  \n",
       "16                       111.0                 111.0  \n",
       "17                       147.0                 147.0  \n",
       "18                       459.0                 459.0  \n",
       "19                        91.0                  91.0  \n",
       "20                        91.0                  91.0  \n",
       "21                       355.0                 355.0  \n",
       "22                       502.0                 502.0  \n",
       "23                       396.0                 396.0  \n",
       "24                       523.0                 523.0  \n",
       "25                       523.0                 523.0  \n",
       "26                       158.0                 158.0  \n",
       "27                       475.0                 475.0  \n",
       "28                       160.0                 160.0  \n",
       "29                       103.0                 103.0  \n",
       "...                        ...                   ...  \n",
       "10974275                   NaN                   NaN  \n",
       "10974276                   NaN                   NaN  \n",
       "10974277                   NaN                   NaN  \n",
       "10974278                   NaN                   NaN  \n",
       "10974279                   NaN                   NaN  \n",
       "10974280                   NaN                   NaN  \n",
       "10974281                   NaN                   NaN  \n",
       "10974282                   NaN                   NaN  \n",
       "10974283                   NaN                   NaN  \n",
       "10974284                   NaN                   NaN  \n",
       "10974285                   NaN                   NaN  \n",
       "10974286                   NaN                   NaN  \n",
       "10974287                   NaN                   NaN  \n",
       "10974288                   NaN                   NaN  \n",
       "10974289                   NaN                   NaN  \n",
       "10974290                   NaN                   NaN  \n",
       "10974291                   NaN                   NaN  \n",
       "10974292                   NaN                   NaN  \n",
       "10974293                   NaN                   NaN  \n",
       "10974294                   NaN                   NaN  \n",
       "10974295                   NaN                   NaN  \n",
       "10974296                   NaN                   NaN  \n",
       "10974297                   NaN                   NaN  \n",
       "10974298                   NaN                   NaN  \n",
       "10974299                   NaN                   NaN  \n",
       "10974300                   NaN                   NaN  \n",
       "10974301                   NaN                   NaN  \n",
       "10974302                   NaN                   NaN  \n",
       "10974303                   NaN                   NaN  \n",
       "10974304                   NaN                   NaN  \n",
       "\n",
       "[10974305 rows x 17 columns]"
      ]
     },
     "execution_count": 222,
     "metadata": {},
     "output_type": "execute_result"
    }
   ],
   "source": [
    "merged_df_AA5_wholeouter "
   ]
  },
  {
   "cell_type": "code",
   "execution_count": 280,
   "metadata": {
    "collapsed": false,
    "nbpresent": {
     "id": "b41932b6-d94f-46fa-a83b-928f004b3b4b"
    }
   },
   "outputs": [
    {
     "name": "stdout",
     "output_type": "stream",
     "text": [
      "3.0\n",
      "Loves the song, so he really couldn't wait to play this. A little less interesting for him so he doesn't play long, but he is almost 3 and likes to play the older games, but really cute for a younger child.\n"
     ]
    }
   ],
   "source": [
    "print(merged_df_AA5_wholeouter['overall'][0])\n",
    "print(merged_df_AA5_wholeouter['reviewText'][0])"
   ]
  },
  {
   "cell_type": "code",
   "execution_count": 155,
   "metadata": {
    "collapsed": false,
    "nbpresent": {
     "id": "6ab1f229-7b0f-408a-8be5-d25c67140f74"
    }
   },
   "outputs": [
    {
     "data": {
      "image/png": "[encoded data removed]",
      "text/plain": [
       "<matplotlib.figure.Figure at 0x2410e8fdcc0>"
      ]
     },
     "metadata": {},
     "output_type": "display_data"
    },
    {
     "data": {
      "image/png": "[encoded data removed]",
      "text/plain": [
       "<matplotlib.figure.Figure at 0x24135ead9e8>"
      ]
     },
     "metadata": {},
     "output_type": "display_data"
    }
   ],
   "source": [
    "import numpy as np\n",
    "\n",
    "sus1 = (merged_df_AA5_wholeouter['helpful'].str[1] != 0.0) & (merged_df_AA5_wholeouter['helpful'].dropna()) & (merged_df_AA5_wholeouter['helpful'].str[1] > 2000)\n",
    "# Create a DataFrame with the suspicious row: susmerged_df_AA5['helpful'].str[1] != 0.0pect\n",
    "suspect = merged_df_AA5_wholeouter.loc[sus1]\n",
    "#print(suspect['helpful'])\n",
    "#print(suspect)\n",
    "merged_df_AA5_wholeouter['helpfulpercentage'] = (divide(suspect['helpful'].str[0],suspect['helpful'].str[1])* 100).astype(int64)\n",
    "merged_df_AA5_wholeouter['helpful_numerator'] = suspect['helpful'].str[0].astype(int64)\n",
    "merged_df_AA5_wholeouter['helpful_denominator'] = suspect['helpful'].str[1].astype(int64)\n",
    "#print(merged_df_AA5_wholeouter.dropna())\n",
    "plt.plot(merged_df_AA5_wholeouter.dropna()['helpful_denominator'],merged_df_AA5_wholeouter.dropna()['overall'])\n",
    "\n",
    "fig, ax = plt.subplots()\n",
    "ax.scatter(merged_df_AA5_wholeouter.dropna()['helpful_denominator'],merged_df_AA5_wholeouter.dropna()['overall'],color = 'darkgreen', marker='^')\n",
    "\n",
    "#x = np.arange(10)\n",
    "#fig, ax = plt.subplots()\n",
    "#ax.stackplot(x, merged_df_AA5_wholeouter.dropna()['helpfulpercentage'])\n",
    "#ax.set_title('100 % stacked area chart')\n",
    "#ax.set_ylabel('Percent (%)')\n",
    "#ax.margins(0, 0) # Set margins to avoid \"whitespace\"\n",
    "\n",
    "plt.show()"
   ]
  },
  {
   "cell_type": "code",
   "execution_count": 157,
   "metadata": {
    "collapsed": false,
    "nbpresent": {
     "id": "a9625688-2f2e-48ef-a34d-48698e8f93fb"
    }
   },
   "outputs": [
    {
     "data": {
      "text/plain": [
       "<matplotlib.collections.PathCollection at 0x241128f4128>"
      ]
     },
     "execution_count": 157,
     "metadata": {},
     "output_type": "execute_result"
    },
    {
     "data": {
      "image/png": "[encoded data removed]",
      "text/plain": [
       "<matplotlib.figure.Figure at 0x24139395898>"
      ]
     },
     "metadata": {},
     "output_type": "display_data"
    }
   ],
   "source": [
    "import numpy as np\n",
    "fig, ax = plt.subplots()\n",
    "ax.scatter(np.linspace(-1, 1, 10974305), merged_df_AA5_wholeouter['overall'],color = 'darkgreen', marker='^')"
   ]
  },
  {
   "cell_type": "code",
   "execution_count": 158,
   "metadata": {
    "collapsed": false,
    "nbpresent": {
     "id": "1de5a64c-3b22-4d60-8308-f51ebcf37e6c"
    }
   },
   "outputs": [
    {
     "data": {
      "text/plain": [
       "<function matplotlib.pyplot.show>"
      ]
     },
     "execution_count": 158,
     "metadata": {},
     "output_type": "execute_result"
    }
   ],
   "source": [
    "plt.show"
   ]
  },
  {
   "cell_type": "code",
   "execution_count": 159,
   "metadata": {
    "collapsed": false,
    "nbpresent": {
     "id": "cc39640e-6723-4fa5-8870-1733f0231946"
    }
   },
   "outputs": [
    {
     "data": {
      "text/plain": [
       "<function matplotlib.pyplot.show>"
      ]
     },
     "execution_count": 159,
     "metadata": {},
     "output_type": "execute_result"
    },
    {
     "name": "stdout",
     "output_type": "stream",
     "text": [
      "Error in callback <function install_repl_displayhook.<locals>.post_execute at 0x000002414378AC80> (for post_execute):\n"
     ]
    },
    {
     "ename": "OverflowError",
     "evalue": "In draw_markers: Exceeded cell block limit",
     "output_type": "error",
     "traceback": [
      "\u001b[1;31m---------------------------------------------------------------------------\u001b[0m",
      "\u001b[1;31mOverflowError\u001b[0m                             Traceback (most recent call last)",
      "\u001b[1;32mC:\\ProgramData\\Anaconda3\\lib\\site-packages\\matplotlib\\pyplot.py\u001b[0m in \u001b[0;36mpost_execute\u001b[1;34m()\u001b[0m\n\u001b[0;32m    145\u001b[0m             \u001b[1;32mdef\u001b[0m \u001b[0mpost_execute\u001b[0m\u001b[1;33m(\u001b[0m\u001b[1;33m)\u001b[0m\u001b[1;33m:\u001b[0m\u001b[1;33m\u001b[0m\u001b[0m\n\u001b[0;32m    146\u001b[0m                 \u001b[1;32mif\u001b[0m \u001b[0mmatplotlib\u001b[0m\u001b[1;33m.\u001b[0m\u001b[0mis_interactive\u001b[0m\u001b[1;33m(\u001b[0m\u001b[1;33m)\u001b[0m\u001b[1;33m:\u001b[0m\u001b[1;33m\u001b[0m\u001b[0m\n\u001b[1;32m--> 147\u001b[1;33m                     \u001b[0mdraw_all\u001b[0m\u001b[1;33m(\u001b[0m\u001b[1;33m)\u001b[0m\u001b[1;33m\u001b[0m\u001b[0m\n\u001b[0m\u001b[0;32m    148\u001b[0m \u001b[1;33m\u001b[0m\u001b[0m\n\u001b[0;32m    149\u001b[0m             \u001b[1;31m# IPython >= 2\u001b[0m\u001b[1;33m\u001b[0m\u001b[1;33m\u001b[0m\u001b[0m\n",
      "\u001b[1;32mC:\\ProgramData\\Anaconda3\\lib\\site-packages\\matplotlib\\_pylab_helpers.py\u001b[0m in \u001b[0;36mdraw_all\u001b[1;34m(cls, force)\u001b[0m\n\u001b[0;32m    148\u001b[0m         \u001b[1;32mfor\u001b[0m \u001b[0mf_mgr\u001b[0m \u001b[1;32min\u001b[0m \u001b[0mcls\u001b[0m\u001b[1;33m.\u001b[0m\u001b[0mget_all_fig_managers\u001b[0m\u001b[1;33m(\u001b[0m\u001b[1;33m)\u001b[0m\u001b[1;33m:\u001b[0m\u001b[1;33m\u001b[0m\u001b[0m\n\u001b[0;32m    149\u001b[0m             \u001b[1;32mif\u001b[0m \u001b[0mforce\u001b[0m \u001b[1;32mor\u001b[0m \u001b[0mf_mgr\u001b[0m\u001b[1;33m.\u001b[0m\u001b[0mcanvas\u001b[0m\u001b[1;33m.\u001b[0m\u001b[0mfigure\u001b[0m\u001b[1;33m.\u001b[0m\u001b[0mstale\u001b[0m\u001b[1;33m:\u001b[0m\u001b[1;33m\u001b[0m\u001b[0m\n\u001b[1;32m--> 150\u001b[1;33m                 \u001b[0mf_mgr\u001b[0m\u001b[1;33m.\u001b[0m\u001b[0mcanvas\u001b[0m\u001b[1;33m.\u001b[0m\u001b[0mdraw_idle\u001b[0m\u001b[1;33m(\u001b[0m\u001b[1;33m)\u001b[0m\u001b[1;33m\u001b[0m\u001b[0m\n\u001b[0m\u001b[0;32m    151\u001b[0m \u001b[1;33m\u001b[0m\u001b[0m\n\u001b[0;32m    152\u001b[0m \u001b[0matexit\u001b[0m\u001b[1;33m.\u001b[0m\u001b[0mregister\u001b[0m\u001b[1;33m(\u001b[0m\u001b[0mGcf\u001b[0m\u001b[1;33m.\u001b[0m\u001b[0mdestroy_all\u001b[0m\u001b[1;33m)\u001b[0m\u001b[1;33m\u001b[0m\u001b[0m\n",
      "\u001b[1;32mC:\\ProgramData\\Anaconda3\\lib\\site-packages\\matplotlib\\backend_bases.py\u001b[0m in \u001b[0;36mdraw_idle\u001b[1;34m(self, *args, **kwargs)\u001b[0m\n\u001b[0;32m   2051\u001b[0m         \u001b[1;32mif\u001b[0m \u001b[1;32mnot\u001b[0m \u001b[0mself\u001b[0m\u001b[1;33m.\u001b[0m\u001b[0m_is_idle_drawing\u001b[0m\u001b[1;33m:\u001b[0m\u001b[1;33m\u001b[0m\u001b[0m\n\u001b[0;32m   2052\u001b[0m             \u001b[1;32mwith\u001b[0m \u001b[0mself\u001b[0m\u001b[1;33m.\u001b[0m\u001b[0m_idle_draw_cntx\u001b[0m\u001b[1;33m(\u001b[0m\u001b[1;33m)\u001b[0m\u001b[1;33m:\u001b[0m\u001b[1;33m\u001b[0m\u001b[0m\n\u001b[1;32m-> 2053\u001b[1;33m                 \u001b[0mself\u001b[0m\u001b[1;33m.\u001b[0m\u001b[0mdraw\u001b[0m\u001b[1;33m(\u001b[0m\u001b[1;33m*\u001b[0m\u001b[0margs\u001b[0m\u001b[1;33m,\u001b[0m \u001b[1;33m**\u001b[0m\u001b[0mkwargs\u001b[0m\u001b[1;33m)\u001b[0m\u001b[1;33m\u001b[0m\u001b[0m\n\u001b[0m\u001b[0;32m   2054\u001b[0m \u001b[1;33m\u001b[0m\u001b[0m\n\u001b[0;32m   2055\u001b[0m     \u001b[1;32mdef\u001b[0m \u001b[0mdraw_cursor\u001b[0m\u001b[1;33m(\u001b[0m\u001b[0mself\u001b[0m\u001b[1;33m,\u001b[0m \u001b[0mevent\u001b[0m\u001b[1;33m)\u001b[0m\u001b[1;33m:\u001b[0m\u001b[1;33m\u001b[0m\u001b[0m\n",
      "\u001b[1;32mC:\\ProgramData\\Anaconda3\\lib\\site-packages\\matplotlib\\backends\\backend_agg.py\u001b[0m in \u001b[0;36mdraw\u001b[1;34m(self)\u001b[0m\n\u001b[0;32m    428\u001b[0m             \u001b[1;32mif\u001b[0m \u001b[0mtoolbar\u001b[0m\u001b[1;33m:\u001b[0m\u001b[1;33m\u001b[0m\u001b[0m\n\u001b[0;32m    429\u001b[0m                 \u001b[0mtoolbar\u001b[0m\u001b[1;33m.\u001b[0m\u001b[0mset_cursor\u001b[0m\u001b[1;33m(\u001b[0m\u001b[0mcursors\u001b[0m\u001b[1;33m.\u001b[0m\u001b[0mWAIT\u001b[0m\u001b[1;33m)\u001b[0m\u001b[1;33m\u001b[0m\u001b[0m\n\u001b[1;32m--> 430\u001b[1;33m             \u001b[0mself\u001b[0m\u001b[1;33m.\u001b[0m\u001b[0mfigure\u001b[0m\u001b[1;33m.\u001b[0m\u001b[0mdraw\u001b[0m\u001b[1;33m(\u001b[0m\u001b[0mself\u001b[0m\u001b[1;33m.\u001b[0m\u001b[0mrenderer\u001b[0m\u001b[1;33m)\u001b[0m\u001b[1;33m\u001b[0m\u001b[0m\n\u001b[0m\u001b[0;32m    431\u001b[0m         \u001b[1;32mfinally\u001b[0m\u001b[1;33m:\u001b[0m\u001b[1;33m\u001b[0m\u001b[0m\n\u001b[0;32m    432\u001b[0m             \u001b[1;32mif\u001b[0m \u001b[0mtoolbar\u001b[0m\u001b[1;33m:\u001b[0m\u001b[1;33m\u001b[0m\u001b[0m\n",
      "\u001b[1;32mC:\\ProgramData\\Anaconda3\\lib\\site-packages\\matplotlib\\artist.py\u001b[0m in \u001b[0;36mdraw_wrapper\u001b[1;34m(artist, renderer, *args, **kwargs)\u001b[0m\n\u001b[0;32m     53\u001b[0m                 \u001b[0mrenderer\u001b[0m\u001b[1;33m.\u001b[0m\u001b[0mstart_filter\u001b[0m\u001b[1;33m(\u001b[0m\u001b[1;33m)\u001b[0m\u001b[1;33m\u001b[0m\u001b[0m\n\u001b[0;32m     54\u001b[0m \u001b[1;33m\u001b[0m\u001b[0m\n\u001b[1;32m---> 55\u001b[1;33m             \u001b[1;32mreturn\u001b[0m \u001b[0mdraw\u001b[0m\u001b[1;33m(\u001b[0m\u001b[0martist\u001b[0m\u001b[1;33m,\u001b[0m \u001b[0mrenderer\u001b[0m\u001b[1;33m,\u001b[0m \u001b[1;33m*\u001b[0m\u001b[0margs\u001b[0m\u001b[1;33m,\u001b[0m \u001b[1;33m**\u001b[0m\u001b[0mkwargs\u001b[0m\u001b[1;33m)\u001b[0m\u001b[1;33m\u001b[0m\u001b[0m\n\u001b[0m\u001b[0;32m     56\u001b[0m         \u001b[1;32mfinally\u001b[0m\u001b[1;33m:\u001b[0m\u001b[1;33m\u001b[0m\u001b[0m\n\u001b[0;32m     57\u001b[0m             \u001b[1;32mif\u001b[0m \u001b[0martist\u001b[0m\u001b[1;33m.\u001b[0m\u001b[0mget_agg_filter\u001b[0m\u001b[1;33m(\u001b[0m\u001b[1;33m)\u001b[0m \u001b[1;32mis\u001b[0m \u001b[1;32mnot\u001b[0m \u001b[1;32mNone\u001b[0m\u001b[1;33m:\u001b[0m\u001b[1;33m\u001b[0m\u001b[0m\n",
      "\u001b[1;32mC:\\ProgramData\\Anaconda3\\lib\\site-packages\\matplotlib\\figure.py\u001b[0m in \u001b[0;36mdraw\u001b[1;34m(self, renderer)\u001b[0m\n\u001b[0;32m   1293\u001b[0m \u001b[1;33m\u001b[0m\u001b[0m\n\u001b[0;32m   1294\u001b[0m             mimage._draw_list_compositing_images(\n\u001b[1;32m-> 1295\u001b[1;33m                 renderer, self, artists, self.suppressComposite)\n\u001b[0m\u001b[0;32m   1296\u001b[0m \u001b[1;33m\u001b[0m\u001b[0m\n\u001b[0;32m   1297\u001b[0m             \u001b[0mrenderer\u001b[0m\u001b[1;33m.\u001b[0m\u001b[0mclose_group\u001b[0m\u001b[1;33m(\u001b[0m\u001b[1;34m'figure'\u001b[0m\u001b[1;33m)\u001b[0m\u001b[1;33m\u001b[0m\u001b[0m\n",
      "\u001b[1;32mC:\\ProgramData\\Anaconda3\\lib\\site-packages\\matplotlib\\image.py\u001b[0m in \u001b[0;36m_draw_list_compositing_images\u001b[1;34m(renderer, parent, artists, suppress_composite)\u001b[0m\n\u001b[0;32m    136\u001b[0m     \u001b[1;32mif\u001b[0m \u001b[0mnot_composite\u001b[0m \u001b[1;32mor\u001b[0m \u001b[1;32mnot\u001b[0m \u001b[0mhas_images\u001b[0m\u001b[1;33m:\u001b[0m\u001b[1;33m\u001b[0m\u001b[0m\n\u001b[0;32m    137\u001b[0m         \u001b[1;32mfor\u001b[0m \u001b[0ma\u001b[0m \u001b[1;32min\u001b[0m \u001b[0martists\u001b[0m\u001b[1;33m:\u001b[0m\u001b[1;33m\u001b[0m\u001b[0m\n\u001b[1;32m--> 138\u001b[1;33m             \u001b[0ma\u001b[0m\u001b[1;33m.\u001b[0m\u001b[0mdraw\u001b[0m\u001b[1;33m(\u001b[0m\u001b[0mrenderer\u001b[0m\u001b[1;33m)\u001b[0m\u001b[1;33m\u001b[0m\u001b[0m\n\u001b[0m\u001b[0;32m    139\u001b[0m     \u001b[1;32melse\u001b[0m\u001b[1;33m:\u001b[0m\u001b[1;33m\u001b[0m\u001b[0m\n\u001b[0;32m    140\u001b[0m         \u001b[1;31m# Composite any adjacent images together\u001b[0m\u001b[1;33m\u001b[0m\u001b[1;33m\u001b[0m\u001b[0m\n",
      "\u001b[1;32mC:\\ProgramData\\Anaconda3\\lib\\site-packages\\matplotlib\\artist.py\u001b[0m in \u001b[0;36mdraw_wrapper\u001b[1;34m(artist, renderer, *args, **kwargs)\u001b[0m\n\u001b[0;32m     53\u001b[0m                 \u001b[0mrenderer\u001b[0m\u001b[1;33m.\u001b[0m\u001b[0mstart_filter\u001b[0m\u001b[1;33m(\u001b[0m\u001b[1;33m)\u001b[0m\u001b[1;33m\u001b[0m\u001b[0m\n\u001b[0;32m     54\u001b[0m \u001b[1;33m\u001b[0m\u001b[0m\n\u001b[1;32m---> 55\u001b[1;33m             \u001b[1;32mreturn\u001b[0m \u001b[0mdraw\u001b[0m\u001b[1;33m(\u001b[0m\u001b[0martist\u001b[0m\u001b[1;33m,\u001b[0m \u001b[0mrenderer\u001b[0m\u001b[1;33m,\u001b[0m \u001b[1;33m*\u001b[0m\u001b[0margs\u001b[0m\u001b[1;33m,\u001b[0m \u001b[1;33m**\u001b[0m\u001b[0mkwargs\u001b[0m\u001b[1;33m)\u001b[0m\u001b[1;33m\u001b[0m\u001b[0m\n\u001b[0m\u001b[0;32m     56\u001b[0m         \u001b[1;32mfinally\u001b[0m\u001b[1;33m:\u001b[0m\u001b[1;33m\u001b[0m\u001b[0m\n\u001b[0;32m     57\u001b[0m             \u001b[1;32mif\u001b[0m \u001b[0martist\u001b[0m\u001b[1;33m.\u001b[0m\u001b[0mget_agg_filter\u001b[0m\u001b[1;33m(\u001b[0m\u001b[1;33m)\u001b[0m \u001b[1;32mis\u001b[0m \u001b[1;32mnot\u001b[0m \u001b[1;32mNone\u001b[0m\u001b[1;33m:\u001b[0m\u001b[1;33m\u001b[0m\u001b[0m\n",
      "\u001b[1;32mC:\\ProgramData\\Anaconda3\\lib\\site-packages\\matplotlib\\axes\\_base.py\u001b[0m in \u001b[0;36mdraw\u001b[1;34m(self, renderer, inframe)\u001b[0m\n\u001b[0;32m   2397\u001b[0m             \u001b[0mrenderer\u001b[0m\u001b[1;33m.\u001b[0m\u001b[0mstop_rasterizing\u001b[0m\u001b[1;33m(\u001b[0m\u001b[1;33m)\u001b[0m\u001b[1;33m\u001b[0m\u001b[0m\n\u001b[0;32m   2398\u001b[0m \u001b[1;33m\u001b[0m\u001b[0m\n\u001b[1;32m-> 2399\u001b[1;33m         \u001b[0mmimage\u001b[0m\u001b[1;33m.\u001b[0m\u001b[0m_draw_list_compositing_images\u001b[0m\u001b[1;33m(\u001b[0m\u001b[0mrenderer\u001b[0m\u001b[1;33m,\u001b[0m \u001b[0mself\u001b[0m\u001b[1;33m,\u001b[0m \u001b[0martists\u001b[0m\u001b[1;33m)\u001b[0m\u001b[1;33m\u001b[0m\u001b[0m\n\u001b[0m\u001b[0;32m   2400\u001b[0m \u001b[1;33m\u001b[0m\u001b[0m\n\u001b[0;32m   2401\u001b[0m         \u001b[0mrenderer\u001b[0m\u001b[1;33m.\u001b[0m\u001b[0mclose_group\u001b[0m\u001b[1;33m(\u001b[0m\u001b[1;34m'axes'\u001b[0m\u001b[1;33m)\u001b[0m\u001b[1;33m\u001b[0m\u001b[0m\n",
      "\u001b[1;32mC:\\ProgramData\\Anaconda3\\lib\\site-packages\\matplotlib\\image.py\u001b[0m in \u001b[0;36m_draw_list_compositing_images\u001b[1;34m(renderer, parent, artists, suppress_composite)\u001b[0m\n\u001b[0;32m    136\u001b[0m     \u001b[1;32mif\u001b[0m \u001b[0mnot_composite\u001b[0m \u001b[1;32mor\u001b[0m \u001b[1;32mnot\u001b[0m \u001b[0mhas_images\u001b[0m\u001b[1;33m:\u001b[0m\u001b[1;33m\u001b[0m\u001b[0m\n\u001b[0;32m    137\u001b[0m         \u001b[1;32mfor\u001b[0m \u001b[0ma\u001b[0m \u001b[1;32min\u001b[0m \u001b[0martists\u001b[0m\u001b[1;33m:\u001b[0m\u001b[1;33m\u001b[0m\u001b[0m\n\u001b[1;32m--> 138\u001b[1;33m             \u001b[0ma\u001b[0m\u001b[1;33m.\u001b[0m\u001b[0mdraw\u001b[0m\u001b[1;33m(\u001b[0m\u001b[0mrenderer\u001b[0m\u001b[1;33m)\u001b[0m\u001b[1;33m\u001b[0m\u001b[0m\n\u001b[0m\u001b[0;32m    139\u001b[0m     \u001b[1;32melse\u001b[0m\u001b[1;33m:\u001b[0m\u001b[1;33m\u001b[0m\u001b[0m\n\u001b[0;32m    140\u001b[0m         \u001b[1;31m# Composite any adjacent images together\u001b[0m\u001b[1;33m\u001b[0m\u001b[1;33m\u001b[0m\u001b[0m\n",
      "\u001b[1;32mC:\\ProgramData\\Anaconda3\\lib\\site-packages\\matplotlib\\artist.py\u001b[0m in \u001b[0;36mdraw_wrapper\u001b[1;34m(artist, renderer, *args, **kwargs)\u001b[0m\n\u001b[0;32m     53\u001b[0m                 \u001b[0mrenderer\u001b[0m\u001b[1;33m.\u001b[0m\u001b[0mstart_filter\u001b[0m\u001b[1;33m(\u001b[0m\u001b[1;33m)\u001b[0m\u001b[1;33m\u001b[0m\u001b[0m\n\u001b[0;32m     54\u001b[0m \u001b[1;33m\u001b[0m\u001b[0m\n\u001b[1;32m---> 55\u001b[1;33m             \u001b[1;32mreturn\u001b[0m \u001b[0mdraw\u001b[0m\u001b[1;33m(\u001b[0m\u001b[0martist\u001b[0m\u001b[1;33m,\u001b[0m \u001b[0mrenderer\u001b[0m\u001b[1;33m,\u001b[0m \u001b[1;33m*\u001b[0m\u001b[0margs\u001b[0m\u001b[1;33m,\u001b[0m \u001b[1;33m**\u001b[0m\u001b[0mkwargs\u001b[0m\u001b[1;33m)\u001b[0m\u001b[1;33m\u001b[0m\u001b[0m\n\u001b[0m\u001b[0;32m     56\u001b[0m         \u001b[1;32mfinally\u001b[0m\u001b[1;33m:\u001b[0m\u001b[1;33m\u001b[0m\u001b[0m\n\u001b[0;32m     57\u001b[0m             \u001b[1;32mif\u001b[0m \u001b[0martist\u001b[0m\u001b[1;33m.\u001b[0m\u001b[0mget_agg_filter\u001b[0m\u001b[1;33m(\u001b[0m\u001b[1;33m)\u001b[0m \u001b[1;32mis\u001b[0m \u001b[1;32mnot\u001b[0m \u001b[1;32mNone\u001b[0m\u001b[1;33m:\u001b[0m\u001b[1;33m\u001b[0m\u001b[0m\n",
      "\u001b[1;32mC:\\ProgramData\\Anaconda3\\lib\\site-packages\\matplotlib\\collections.py\u001b[0m in \u001b[0;36mdraw\u001b[1;34m(self, renderer)\u001b[0m\n\u001b[0;32m    843\u001b[0m     \u001b[1;32mdef\u001b[0m \u001b[0mdraw\u001b[0m\u001b[1;33m(\u001b[0m\u001b[0mself\u001b[0m\u001b[1;33m,\u001b[0m \u001b[0mrenderer\u001b[0m\u001b[1;33m)\u001b[0m\u001b[1;33m:\u001b[0m\u001b[1;33m\u001b[0m\u001b[0m\n\u001b[0;32m    844\u001b[0m         \u001b[0mself\u001b[0m\u001b[1;33m.\u001b[0m\u001b[0mset_sizes\u001b[0m\u001b[1;33m(\u001b[0m\u001b[0mself\u001b[0m\u001b[1;33m.\u001b[0m\u001b[0m_sizes\u001b[0m\u001b[1;33m,\u001b[0m \u001b[0mself\u001b[0m\u001b[1;33m.\u001b[0m\u001b[0mfigure\u001b[0m\u001b[1;33m.\u001b[0m\u001b[0mdpi\u001b[0m\u001b[1;33m)\u001b[0m\u001b[1;33m\u001b[0m\u001b[0m\n\u001b[1;32m--> 845\u001b[1;33m         \u001b[0mCollection\u001b[0m\u001b[1;33m.\u001b[0m\u001b[0mdraw\u001b[0m\u001b[1;33m(\u001b[0m\u001b[0mself\u001b[0m\u001b[1;33m,\u001b[0m \u001b[0mrenderer\u001b[0m\u001b[1;33m)\u001b[0m\u001b[1;33m\u001b[0m\u001b[0m\n\u001b[0m\u001b[0;32m    846\u001b[0m \u001b[1;33m\u001b[0m\u001b[0m\n\u001b[0;32m    847\u001b[0m \u001b[1;33m\u001b[0m\u001b[0m\n",
      "\u001b[1;32mC:\\ProgramData\\Anaconda3\\lib\\site-packages\\matplotlib\\artist.py\u001b[0m in \u001b[0;36mdraw_wrapper\u001b[1;34m(artist, renderer, *args, **kwargs)\u001b[0m\n\u001b[0;32m     53\u001b[0m                 \u001b[0mrenderer\u001b[0m\u001b[1;33m.\u001b[0m\u001b[0mstart_filter\u001b[0m\u001b[1;33m(\u001b[0m\u001b[1;33m)\u001b[0m\u001b[1;33m\u001b[0m\u001b[0m\n\u001b[0;32m     54\u001b[0m \u001b[1;33m\u001b[0m\u001b[0m\n\u001b[1;32m---> 55\u001b[1;33m             \u001b[1;32mreturn\u001b[0m \u001b[0mdraw\u001b[0m\u001b[1;33m(\u001b[0m\u001b[0martist\u001b[0m\u001b[1;33m,\u001b[0m \u001b[0mrenderer\u001b[0m\u001b[1;33m,\u001b[0m \u001b[1;33m*\u001b[0m\u001b[0margs\u001b[0m\u001b[1;33m,\u001b[0m \u001b[1;33m**\u001b[0m\u001b[0mkwargs\u001b[0m\u001b[1;33m)\u001b[0m\u001b[1;33m\u001b[0m\u001b[0m\n\u001b[0m\u001b[0;32m     56\u001b[0m         \u001b[1;32mfinally\u001b[0m\u001b[1;33m:\u001b[0m\u001b[1;33m\u001b[0m\u001b[0m\n\u001b[0;32m     57\u001b[0m             \u001b[1;32mif\u001b[0m \u001b[0martist\u001b[0m\u001b[1;33m.\u001b[0m\u001b[0mget_agg_filter\u001b[0m\u001b[1;33m(\u001b[0m\u001b[1;33m)\u001b[0m \u001b[1;32mis\u001b[0m \u001b[1;32mnot\u001b[0m \u001b[1;32mNone\u001b[0m\u001b[1;33m:\u001b[0m\u001b[1;33m\u001b[0m\u001b[0m\n",
      "\u001b[1;32mC:\\ProgramData\\Anaconda3\\lib\\site-packages\\matplotlib\\collections.py\u001b[0m in \u001b[0;36mdraw\u001b[1;34m(self, renderer)\u001b[0m\n\u001b[0;32m    311\u001b[0m             renderer.draw_markers(\n\u001b[0;32m    312\u001b[0m                 \u001b[0mgc\u001b[0m\u001b[1;33m,\u001b[0m \u001b[0mpaths\u001b[0m\u001b[1;33m[\u001b[0m\u001b[1;36m0\u001b[0m\u001b[1;33m]\u001b[0m\u001b[1;33m,\u001b[0m \u001b[0mcombined_transform\u001b[0m\u001b[1;33m.\u001b[0m\u001b[0mfrozen\u001b[0m\u001b[1;33m(\u001b[0m\u001b[1;33m)\u001b[0m\u001b[1;33m,\u001b[0m\u001b[1;33m\u001b[0m\u001b[0m\n\u001b[1;32m--> 313\u001b[1;33m                 mpath.Path(offsets), transOffset, tuple(facecolors[0]))\n\u001b[0m\u001b[0;32m    314\u001b[0m         \u001b[1;32melse\u001b[0m\u001b[1;33m:\u001b[0m\u001b[1;33m\u001b[0m\u001b[0m\n\u001b[0;32m    315\u001b[0m             renderer.draw_path_collection(\n",
      "\u001b[1;32mC:\\ProgramData\\Anaconda3\\lib\\site-packages\\matplotlib\\backends\\backend_agg.py\u001b[0m in \u001b[0;36mdraw_markers\u001b[1;34m(self, *kl, **kw)\u001b[0m\n\u001b[0;32m    115\u001b[0m     \u001b[1;31m# maybe there is better way to do it.\u001b[0m\u001b[1;33m\u001b[0m\u001b[1;33m\u001b[0m\u001b[0m\n\u001b[0;32m    116\u001b[0m     \u001b[1;32mdef\u001b[0m \u001b[0mdraw_markers\u001b[0m\u001b[1;33m(\u001b[0m\u001b[0mself\u001b[0m\u001b[1;33m,\u001b[0m \u001b[1;33m*\u001b[0m\u001b[0mkl\u001b[0m\u001b[1;33m,\u001b[0m \u001b[1;33m**\u001b[0m\u001b[0mkw\u001b[0m\u001b[1;33m)\u001b[0m\u001b[1;33m:\u001b[0m\u001b[1;33m\u001b[0m\u001b[0m\n\u001b[1;32m--> 117\u001b[1;33m         \u001b[1;32mreturn\u001b[0m \u001b[0mself\u001b[0m\u001b[1;33m.\u001b[0m\u001b[0m_renderer\u001b[0m\u001b[1;33m.\u001b[0m\u001b[0mdraw_markers\u001b[0m\u001b[1;33m(\u001b[0m\u001b[1;33m*\u001b[0m\u001b[0mkl\u001b[0m\u001b[1;33m,\u001b[0m \u001b[1;33m**\u001b[0m\u001b[0mkw\u001b[0m\u001b[1;33m)\u001b[0m\u001b[1;33m\u001b[0m\u001b[0m\n\u001b[0m\u001b[0;32m    118\u001b[0m \u001b[1;33m\u001b[0m\u001b[0m\n\u001b[0;32m    119\u001b[0m     \u001b[1;32mdef\u001b[0m \u001b[0mdraw_path_collection\u001b[0m\u001b[1;33m(\u001b[0m\u001b[0mself\u001b[0m\u001b[1;33m,\u001b[0m \u001b[1;33m*\u001b[0m\u001b[0mkl\u001b[0m\u001b[1;33m,\u001b[0m \u001b[1;33m**\u001b[0m\u001b[0mkw\u001b[0m\u001b[1;33m)\u001b[0m\u001b[1;33m:\u001b[0m\u001b[1;33m\u001b[0m\u001b[0m\n",
      "\u001b[1;31mOverflowError\u001b[0m: In draw_markers: Exceeded cell block limit"
     ]
    },
    {
     "ename": "OverflowError",
     "evalue": "Exceeded cell block limit (set 'agg.path.chunksize' rcparam)",
     "output_type": "error",
     "traceback": [
      "\u001b[1;31m---------------------------------------------------------------------------\u001b[0m",
      "\u001b[1;31mOverflowError\u001b[0m                             Traceback (most recent call last)",
      "\u001b[1;32mC:\\ProgramData\\Anaconda3\\lib\\site-packages\\matplotlib\\backends\\backend_agg.py\u001b[0m in \u001b[0;36mdraw_path\u001b[1;34m(self, gc, path, transform, rgbFace)\u001b[0m\n\u001b[0;32m    164\u001b[0m             \u001b[1;32mtry\u001b[0m\u001b[1;33m:\u001b[0m\u001b[1;33m\u001b[0m\u001b[0m\n\u001b[1;32m--> 165\u001b[1;33m                 \u001b[0mself\u001b[0m\u001b[1;33m.\u001b[0m\u001b[0m_renderer\u001b[0m\u001b[1;33m.\u001b[0m\u001b[0mdraw_path\u001b[0m\u001b[1;33m(\u001b[0m\u001b[0mgc\u001b[0m\u001b[1;33m,\u001b[0m \u001b[0mpath\u001b[0m\u001b[1;33m,\u001b[0m \u001b[0mtransform\u001b[0m\u001b[1;33m,\u001b[0m \u001b[0mrgbFace\u001b[0m\u001b[1;33m)\u001b[0m\u001b[1;33m\u001b[0m\u001b[0m\n\u001b[0m\u001b[0;32m    166\u001b[0m             \u001b[1;32mexcept\u001b[0m \u001b[0mOverflowError\u001b[0m\u001b[1;33m:\u001b[0m\u001b[1;33m\u001b[0m\u001b[0m\n",
      "\u001b[1;31mOverflowError\u001b[0m: In draw_path: Exceeded cell block limit",
      "\nDuring handling of the above exception, another exception occurred:\n",
      "\u001b[1;31mOverflowError\u001b[0m                             Traceback (most recent call last)",
      "\u001b[1;32mC:\\ProgramData\\Anaconda3\\lib\\site-packages\\IPython\\core\\formatters.py\u001b[0m in \u001b[0;36m__call__\u001b[1;34m(self, obj)\u001b[0m\n\u001b[0;32m    330\u001b[0m                 \u001b[1;32mpass\u001b[0m\u001b[1;33m\u001b[0m\u001b[0m\n\u001b[0;32m    331\u001b[0m             \u001b[1;32melse\u001b[0m\u001b[1;33m:\u001b[0m\u001b[1;33m\u001b[0m\u001b[0m\n\u001b[1;32m--> 332\u001b[1;33m                 \u001b[1;32mreturn\u001b[0m \u001b[0mprinter\u001b[0m\u001b[1;33m(\u001b[0m\u001b[0mobj\u001b[0m\u001b[1;33m)\u001b[0m\u001b[1;33m\u001b[0m\u001b[0m\n\u001b[0m\u001b[0;32m    333\u001b[0m             \u001b[1;31m# Finally look for special method names\u001b[0m\u001b[1;33m\u001b[0m\u001b[1;33m\u001b[0m\u001b[0m\n\u001b[0;32m    334\u001b[0m             \u001b[0mmethod\u001b[0m \u001b[1;33m=\u001b[0m \u001b[0mget_real_method\u001b[0m\u001b[1;33m(\u001b[0m\u001b[0mobj\u001b[0m\u001b[1;33m,\u001b[0m \u001b[0mself\u001b[0m\u001b[1;33m.\u001b[0m\u001b[0mprint_method\u001b[0m\u001b[1;33m)\u001b[0m\u001b[1;33m\u001b[0m\u001b[0m\n",
      "\u001b[1;32mC:\\ProgramData\\Anaconda3\\lib\\site-packages\\IPython\\core\\pylabtools.py\u001b[0m in \u001b[0;36m<lambda>\u001b[1;34m(fig)\u001b[0m\n\u001b[0;32m    235\u001b[0m \u001b[1;33m\u001b[0m\u001b[0m\n\u001b[0;32m    236\u001b[0m     \u001b[1;32mif\u001b[0m \u001b[1;34m'png'\u001b[0m \u001b[1;32min\u001b[0m \u001b[0mformats\u001b[0m\u001b[1;33m:\u001b[0m\u001b[1;33m\u001b[0m\u001b[0m\n\u001b[1;32m--> 237\u001b[1;33m         \u001b[0mpng_formatter\u001b[0m\u001b[1;33m.\u001b[0m\u001b[0mfor_type\u001b[0m\u001b[1;33m(\u001b[0m\u001b[0mFigure\u001b[0m\u001b[1;33m,\u001b[0m \u001b[1;32mlambda\u001b[0m \u001b[0mfig\u001b[0m\u001b[1;33m:\u001b[0m \u001b[0mprint_figure\u001b[0m\u001b[1;33m(\u001b[0m\u001b[0mfig\u001b[0m\u001b[1;33m,\u001b[0m \u001b[1;34m'png'\u001b[0m\u001b[1;33m,\u001b[0m \u001b[1;33m**\u001b[0m\u001b[0mkwargs\u001b[0m\u001b[1;33m)\u001b[0m\u001b[1;33m)\u001b[0m\u001b[1;33m\u001b[0m\u001b[0m\n\u001b[0m\u001b[0;32m    238\u001b[0m     \u001b[1;32mif\u001b[0m \u001b[1;34m'retina'\u001b[0m \u001b[1;32min\u001b[0m \u001b[0mformats\u001b[0m \u001b[1;32mor\u001b[0m \u001b[1;34m'png2x'\u001b[0m \u001b[1;32min\u001b[0m \u001b[0mformats\u001b[0m\u001b[1;33m:\u001b[0m\u001b[1;33m\u001b[0m\u001b[0m\n\u001b[0;32m    239\u001b[0m         \u001b[0mpng_formatter\u001b[0m\u001b[1;33m.\u001b[0m\u001b[0mfor_type\u001b[0m\u001b[1;33m(\u001b[0m\u001b[0mFigure\u001b[0m\u001b[1;33m,\u001b[0m \u001b[1;32mlambda\u001b[0m \u001b[0mfig\u001b[0m\u001b[1;33m:\u001b[0m \u001b[0mretina_figure\u001b[0m\u001b[1;33m(\u001b[0m\u001b[0mfig\u001b[0m\u001b[1;33m,\u001b[0m \u001b[1;33m**\u001b[0m\u001b[0mkwargs\u001b[0m\u001b[1;33m)\u001b[0m\u001b[1;33m)\u001b[0m\u001b[1;33m\u001b[0m\u001b[0m\n",
      "\u001b[1;32mC:\\ProgramData\\Anaconda3\\lib\\site-packages\\IPython\\core\\pylabtools.py\u001b[0m in \u001b[0;36mprint_figure\u001b[1;34m(fig, fmt, bbox_inches, **kwargs)\u001b[0m\n\u001b[0;32m    119\u001b[0m \u001b[1;33m\u001b[0m\u001b[0m\n\u001b[0;32m    120\u001b[0m     \u001b[0mbytes_io\u001b[0m \u001b[1;33m=\u001b[0m \u001b[0mBytesIO\u001b[0m\u001b[1;33m(\u001b[0m\u001b[1;33m)\u001b[0m\u001b[1;33m\u001b[0m\u001b[0m\n\u001b[1;32m--> 121\u001b[1;33m     \u001b[0mfig\u001b[0m\u001b[1;33m.\u001b[0m\u001b[0mcanvas\u001b[0m\u001b[1;33m.\u001b[0m\u001b[0mprint_figure\u001b[0m\u001b[1;33m(\u001b[0m\u001b[0mbytes_io\u001b[0m\u001b[1;33m,\u001b[0m \u001b[1;33m**\u001b[0m\u001b[0mkw\u001b[0m\u001b[1;33m)\u001b[0m\u001b[1;33m\u001b[0m\u001b[0m\n\u001b[0m\u001b[0;32m    122\u001b[0m     \u001b[0mdata\u001b[0m \u001b[1;33m=\u001b[0m \u001b[0mbytes_io\u001b[0m\u001b[1;33m.\u001b[0m\u001b[0mgetvalue\u001b[0m\u001b[1;33m(\u001b[0m\u001b[1;33m)\u001b[0m\u001b[1;33m\u001b[0m\u001b[0m\n\u001b[0;32m    123\u001b[0m     \u001b[1;32mif\u001b[0m \u001b[0mfmt\u001b[0m \u001b[1;33m==\u001b[0m \u001b[1;34m'svg'\u001b[0m\u001b[1;33m:\u001b[0m\u001b[1;33m\u001b[0m\u001b[0m\n",
      "\u001b[1;32mC:\\ProgramData\\Anaconda3\\lib\\site-packages\\matplotlib\\backend_bases.py\u001b[0m in \u001b[0;36mprint_figure\u001b[1;34m(self, filename, dpi, facecolor, edgecolor, orientation, format, **kwargs)\u001b[0m\n\u001b[0;32m   2206\u001b[0m                     \u001b[0morientation\u001b[0m\u001b[1;33m=\u001b[0m\u001b[0morientation\u001b[0m\u001b[1;33m,\u001b[0m\u001b[1;33m\u001b[0m\u001b[0m\n\u001b[0;32m   2207\u001b[0m                     \u001b[0mdryrun\u001b[0m\u001b[1;33m=\u001b[0m\u001b[1;32mTrue\u001b[0m\u001b[1;33m,\u001b[0m\u001b[1;33m\u001b[0m\u001b[0m\n\u001b[1;32m-> 2208\u001b[1;33m                     **kwargs)\n\u001b[0m\u001b[0;32m   2209\u001b[0m                 \u001b[0mrenderer\u001b[0m \u001b[1;33m=\u001b[0m \u001b[0mself\u001b[0m\u001b[1;33m.\u001b[0m\u001b[0mfigure\u001b[0m\u001b[1;33m.\u001b[0m\u001b[0m_cachedRenderer\u001b[0m\u001b[1;33m\u001b[0m\u001b[0m\n\u001b[0;32m   2210\u001b[0m                 \u001b[0mbbox_inches\u001b[0m \u001b[1;33m=\u001b[0m \u001b[0mself\u001b[0m\u001b[1;33m.\u001b[0m\u001b[0mfigure\u001b[0m\u001b[1;33m.\u001b[0m\u001b[0mget_tightbbox\u001b[0m\u001b[1;33m(\u001b[0m\u001b[0mrenderer\u001b[0m\u001b[1;33m)\u001b[0m\u001b[1;33m\u001b[0m\u001b[0m\n",
      "\u001b[1;32mC:\\ProgramData\\Anaconda3\\lib\\site-packages\\matplotlib\\backends\\backend_agg.py\u001b[0m in \u001b[0;36mprint_png\u001b[1;34m(self, filename_or_obj, *args, **kwargs)\u001b[0m\n\u001b[0;32m    505\u001b[0m \u001b[1;33m\u001b[0m\u001b[0m\n\u001b[0;32m    506\u001b[0m     \u001b[1;32mdef\u001b[0m \u001b[0mprint_png\u001b[0m\u001b[1;33m(\u001b[0m\u001b[0mself\u001b[0m\u001b[1;33m,\u001b[0m \u001b[0mfilename_or_obj\u001b[0m\u001b[1;33m,\u001b[0m \u001b[1;33m*\u001b[0m\u001b[0margs\u001b[0m\u001b[1;33m,\u001b[0m \u001b[1;33m**\u001b[0m\u001b[0mkwargs\u001b[0m\u001b[1;33m)\u001b[0m\u001b[1;33m:\u001b[0m\u001b[1;33m\u001b[0m\u001b[0m\n\u001b[1;32m--> 507\u001b[1;33m         \u001b[0mFigureCanvasAgg\u001b[0m\u001b[1;33m.\u001b[0m\u001b[0mdraw\u001b[0m\u001b[1;33m(\u001b[0m\u001b[0mself\u001b[0m\u001b[1;33m)\u001b[0m\u001b[1;33m\u001b[0m\u001b[0m\n\u001b[0m\u001b[0;32m    508\u001b[0m         \u001b[0mrenderer\u001b[0m \u001b[1;33m=\u001b[0m \u001b[0mself\u001b[0m\u001b[1;33m.\u001b[0m\u001b[0mget_renderer\u001b[0m\u001b[1;33m(\u001b[0m\u001b[1;33m)\u001b[0m\u001b[1;33m\u001b[0m\u001b[0m\n\u001b[0;32m    509\u001b[0m         \u001b[0moriginal_dpi\u001b[0m \u001b[1;33m=\u001b[0m \u001b[0mrenderer\u001b[0m\u001b[1;33m.\u001b[0m\u001b[0mdpi\u001b[0m\u001b[1;33m\u001b[0m\u001b[0m\n",
      "\u001b[1;32mC:\\ProgramData\\Anaconda3\\lib\\site-packages\\matplotlib\\backends\\backend_agg.py\u001b[0m in \u001b[0;36mdraw\u001b[1;34m(self)\u001b[0m\n\u001b[0;32m    428\u001b[0m             \u001b[1;32mif\u001b[0m \u001b[0mtoolbar\u001b[0m\u001b[1;33m:\u001b[0m\u001b[1;33m\u001b[0m\u001b[0m\n\u001b[0;32m    429\u001b[0m                 \u001b[0mtoolbar\u001b[0m\u001b[1;33m.\u001b[0m\u001b[0mset_cursor\u001b[0m\u001b[1;33m(\u001b[0m\u001b[0mcursors\u001b[0m\u001b[1;33m.\u001b[0m\u001b[0mWAIT\u001b[0m\u001b[1;33m)\u001b[0m\u001b[1;33m\u001b[0m\u001b[0m\n\u001b[1;32m--> 430\u001b[1;33m             \u001b[0mself\u001b[0m\u001b[1;33m.\u001b[0m\u001b[0mfigure\u001b[0m\u001b[1;33m.\u001b[0m\u001b[0mdraw\u001b[0m\u001b[1;33m(\u001b[0m\u001b[0mself\u001b[0m\u001b[1;33m.\u001b[0m\u001b[0mrenderer\u001b[0m\u001b[1;33m)\u001b[0m\u001b[1;33m\u001b[0m\u001b[0m\n\u001b[0m\u001b[0;32m    431\u001b[0m         \u001b[1;32mfinally\u001b[0m\u001b[1;33m:\u001b[0m\u001b[1;33m\u001b[0m\u001b[0m\n\u001b[0;32m    432\u001b[0m             \u001b[1;32mif\u001b[0m \u001b[0mtoolbar\u001b[0m\u001b[1;33m:\u001b[0m\u001b[1;33m\u001b[0m\u001b[0m\n",
      "\u001b[1;32mC:\\ProgramData\\Anaconda3\\lib\\site-packages\\matplotlib\\artist.py\u001b[0m in \u001b[0;36mdraw_wrapper\u001b[1;34m(artist, renderer, *args, **kwargs)\u001b[0m\n\u001b[0;32m     53\u001b[0m                 \u001b[0mrenderer\u001b[0m\u001b[1;33m.\u001b[0m\u001b[0mstart_filter\u001b[0m\u001b[1;33m(\u001b[0m\u001b[1;33m)\u001b[0m\u001b[1;33m\u001b[0m\u001b[0m\n\u001b[0;32m     54\u001b[0m \u001b[1;33m\u001b[0m\u001b[0m\n\u001b[1;32m---> 55\u001b[1;33m             \u001b[1;32mreturn\u001b[0m \u001b[0mdraw\u001b[0m\u001b[1;33m(\u001b[0m\u001b[0martist\u001b[0m\u001b[1;33m,\u001b[0m \u001b[0mrenderer\u001b[0m\u001b[1;33m,\u001b[0m \u001b[1;33m*\u001b[0m\u001b[0margs\u001b[0m\u001b[1;33m,\u001b[0m \u001b[1;33m**\u001b[0m\u001b[0mkwargs\u001b[0m\u001b[1;33m)\u001b[0m\u001b[1;33m\u001b[0m\u001b[0m\n\u001b[0m\u001b[0;32m     56\u001b[0m         \u001b[1;32mfinally\u001b[0m\u001b[1;33m:\u001b[0m\u001b[1;33m\u001b[0m\u001b[0m\n\u001b[0;32m     57\u001b[0m             \u001b[1;32mif\u001b[0m \u001b[0martist\u001b[0m\u001b[1;33m.\u001b[0m\u001b[0mget_agg_filter\u001b[0m\u001b[1;33m(\u001b[0m\u001b[1;33m)\u001b[0m \u001b[1;32mis\u001b[0m \u001b[1;32mnot\u001b[0m \u001b[1;32mNone\u001b[0m\u001b[1;33m:\u001b[0m\u001b[1;33m\u001b[0m\u001b[0m\n",
      "\u001b[1;32mC:\\ProgramData\\Anaconda3\\lib\\site-packages\\matplotlib\\figure.py\u001b[0m in \u001b[0;36mdraw\u001b[1;34m(self, renderer)\u001b[0m\n\u001b[0;32m   1293\u001b[0m \u001b[1;33m\u001b[0m\u001b[0m\n\u001b[0;32m   1294\u001b[0m             mimage._draw_list_compositing_images(\n\u001b[1;32m-> 1295\u001b[1;33m                 renderer, self, artists, self.suppressComposite)\n\u001b[0m\u001b[0;32m   1296\u001b[0m \u001b[1;33m\u001b[0m\u001b[0m\n\u001b[0;32m   1297\u001b[0m             \u001b[0mrenderer\u001b[0m\u001b[1;33m.\u001b[0m\u001b[0mclose_group\u001b[0m\u001b[1;33m(\u001b[0m\u001b[1;34m'figure'\u001b[0m\u001b[1;33m)\u001b[0m\u001b[1;33m\u001b[0m\u001b[0m\n",
      "\u001b[1;32mC:\\ProgramData\\Anaconda3\\lib\\site-packages\\matplotlib\\image.py\u001b[0m in \u001b[0;36m_draw_list_compositing_images\u001b[1;34m(renderer, parent, artists, suppress_composite)\u001b[0m\n\u001b[0;32m    136\u001b[0m     \u001b[1;32mif\u001b[0m \u001b[0mnot_composite\u001b[0m \u001b[1;32mor\u001b[0m \u001b[1;32mnot\u001b[0m \u001b[0mhas_images\u001b[0m\u001b[1;33m:\u001b[0m\u001b[1;33m\u001b[0m\u001b[0m\n\u001b[0;32m    137\u001b[0m         \u001b[1;32mfor\u001b[0m \u001b[0ma\u001b[0m \u001b[1;32min\u001b[0m \u001b[0martists\u001b[0m\u001b[1;33m:\u001b[0m\u001b[1;33m\u001b[0m\u001b[0m\n\u001b[1;32m--> 138\u001b[1;33m             \u001b[0ma\u001b[0m\u001b[1;33m.\u001b[0m\u001b[0mdraw\u001b[0m\u001b[1;33m(\u001b[0m\u001b[0mrenderer\u001b[0m\u001b[1;33m)\u001b[0m\u001b[1;33m\u001b[0m\u001b[0m\n\u001b[0m\u001b[0;32m    139\u001b[0m     \u001b[1;32melse\u001b[0m\u001b[1;33m:\u001b[0m\u001b[1;33m\u001b[0m\u001b[0m\n\u001b[0;32m    140\u001b[0m         \u001b[1;31m# Composite any adjacent images together\u001b[0m\u001b[1;33m\u001b[0m\u001b[1;33m\u001b[0m\u001b[0m\n",
      "\u001b[1;32mC:\\ProgramData\\Anaconda3\\lib\\site-packages\\matplotlib\\artist.py\u001b[0m in \u001b[0;36mdraw_wrapper\u001b[1;34m(artist, renderer, *args, **kwargs)\u001b[0m\n\u001b[0;32m     53\u001b[0m                 \u001b[0mrenderer\u001b[0m\u001b[1;33m.\u001b[0m\u001b[0mstart_filter\u001b[0m\u001b[1;33m(\u001b[0m\u001b[1;33m)\u001b[0m\u001b[1;33m\u001b[0m\u001b[0m\n\u001b[0;32m     54\u001b[0m \u001b[1;33m\u001b[0m\u001b[0m\n\u001b[1;32m---> 55\u001b[1;33m             \u001b[1;32mreturn\u001b[0m \u001b[0mdraw\u001b[0m\u001b[1;33m(\u001b[0m\u001b[0martist\u001b[0m\u001b[1;33m,\u001b[0m \u001b[0mrenderer\u001b[0m\u001b[1;33m,\u001b[0m \u001b[1;33m*\u001b[0m\u001b[0margs\u001b[0m\u001b[1;33m,\u001b[0m \u001b[1;33m**\u001b[0m\u001b[0mkwargs\u001b[0m\u001b[1;33m)\u001b[0m\u001b[1;33m\u001b[0m\u001b[0m\n\u001b[0m\u001b[0;32m     56\u001b[0m         \u001b[1;32mfinally\u001b[0m\u001b[1;33m:\u001b[0m\u001b[1;33m\u001b[0m\u001b[0m\n\u001b[0;32m     57\u001b[0m             \u001b[1;32mif\u001b[0m \u001b[0martist\u001b[0m\u001b[1;33m.\u001b[0m\u001b[0mget_agg_filter\u001b[0m\u001b[1;33m(\u001b[0m\u001b[1;33m)\u001b[0m \u001b[1;32mis\u001b[0m \u001b[1;32mnot\u001b[0m \u001b[1;32mNone\u001b[0m\u001b[1;33m:\u001b[0m\u001b[1;33m\u001b[0m\u001b[0m\n",
      "\u001b[1;32mC:\\ProgramData\\Anaconda3\\lib\\site-packages\\matplotlib\\axes\\_base.py\u001b[0m in \u001b[0;36mdraw\u001b[1;34m(self, renderer, inframe)\u001b[0m\n\u001b[0;32m   2390\u001b[0m         \u001b[1;31m# will draw the edges\u001b[0m\u001b[1;33m\u001b[0m\u001b[1;33m\u001b[0m\u001b[0m\n\u001b[0;32m   2391\u001b[0m         \u001b[1;32mif\u001b[0m \u001b[0mself\u001b[0m\u001b[1;33m.\u001b[0m\u001b[0maxison\u001b[0m \u001b[1;32mand\u001b[0m \u001b[0mself\u001b[0m\u001b[1;33m.\u001b[0m\u001b[0m_frameon\u001b[0m\u001b[1;33m:\u001b[0m\u001b[1;33m\u001b[0m\u001b[0m\n\u001b[1;32m-> 2392\u001b[1;33m             \u001b[0mself\u001b[0m\u001b[1;33m.\u001b[0m\u001b[0mpatch\u001b[0m\u001b[1;33m.\u001b[0m\u001b[0mdraw\u001b[0m\u001b[1;33m(\u001b[0m\u001b[0mrenderer\u001b[0m\u001b[1;33m)\u001b[0m\u001b[1;33m\u001b[0m\u001b[0m\n\u001b[0m\u001b[0;32m   2393\u001b[0m \u001b[1;33m\u001b[0m\u001b[0m\n\u001b[0;32m   2394\u001b[0m         \u001b[1;32mif\u001b[0m \u001b[0martists_rasterized\u001b[0m\u001b[1;33m:\u001b[0m\u001b[1;33m\u001b[0m\u001b[0m\n",
      "\u001b[1;32mC:\\ProgramData\\Anaconda3\\lib\\site-packages\\matplotlib\\artist.py\u001b[0m in \u001b[0;36mdraw_wrapper\u001b[1;34m(artist, renderer, *args, **kwargs)\u001b[0m\n\u001b[0;32m     53\u001b[0m                 \u001b[0mrenderer\u001b[0m\u001b[1;33m.\u001b[0m\u001b[0mstart_filter\u001b[0m\u001b[1;33m(\u001b[0m\u001b[1;33m)\u001b[0m\u001b[1;33m\u001b[0m\u001b[0m\n\u001b[0;32m     54\u001b[0m \u001b[1;33m\u001b[0m\u001b[0m\n\u001b[1;32m---> 55\u001b[1;33m             \u001b[1;32mreturn\u001b[0m \u001b[0mdraw\u001b[0m\u001b[1;33m(\u001b[0m\u001b[0martist\u001b[0m\u001b[1;33m,\u001b[0m \u001b[0mrenderer\u001b[0m\u001b[1;33m,\u001b[0m \u001b[1;33m*\u001b[0m\u001b[0margs\u001b[0m\u001b[1;33m,\u001b[0m \u001b[1;33m**\u001b[0m\u001b[0mkwargs\u001b[0m\u001b[1;33m)\u001b[0m\u001b[1;33m\u001b[0m\u001b[0m\n\u001b[0m\u001b[0;32m     56\u001b[0m         \u001b[1;32mfinally\u001b[0m\u001b[1;33m:\u001b[0m\u001b[1;33m\u001b[0m\u001b[0m\n\u001b[0;32m     57\u001b[0m             \u001b[1;32mif\u001b[0m \u001b[0martist\u001b[0m\u001b[1;33m.\u001b[0m\u001b[0mget_agg_filter\u001b[0m\u001b[1;33m(\u001b[0m\u001b[1;33m)\u001b[0m \u001b[1;32mis\u001b[0m \u001b[1;32mnot\u001b[0m \u001b[1;32mNone\u001b[0m\u001b[1;33m:\u001b[0m\u001b[1;33m\u001b[0m\u001b[0m\n",
      "\u001b[1;32mC:\\ProgramData\\Anaconda3\\lib\\site-packages\\matplotlib\\patches.py\u001b[0m in \u001b[0;36mdraw\u001b[1;34m(self, renderer)\u001b[0m\n\u001b[0;32m    572\u001b[0m             \u001b[0mrenderer\u001b[0m \u001b[1;33m=\u001b[0m \u001b[0mPathEffectRenderer\u001b[0m\u001b[1;33m(\u001b[0m\u001b[0mself\u001b[0m\u001b[1;33m.\u001b[0m\u001b[0mget_path_effects\u001b[0m\u001b[1;33m(\u001b[0m\u001b[1;33m)\u001b[0m\u001b[1;33m,\u001b[0m \u001b[0mrenderer\u001b[0m\u001b[1;33m)\u001b[0m\u001b[1;33m\u001b[0m\u001b[0m\n\u001b[0;32m    573\u001b[0m \u001b[1;33m\u001b[0m\u001b[0m\n\u001b[1;32m--> 574\u001b[1;33m         \u001b[0mrenderer\u001b[0m\u001b[1;33m.\u001b[0m\u001b[0mdraw_path\u001b[0m\u001b[1;33m(\u001b[0m\u001b[0mgc\u001b[0m\u001b[1;33m,\u001b[0m \u001b[0mtpath\u001b[0m\u001b[1;33m,\u001b[0m \u001b[0maffine\u001b[0m\u001b[1;33m,\u001b[0m \u001b[0mrgbFace\u001b[0m\u001b[1;33m)\u001b[0m\u001b[1;33m\u001b[0m\u001b[0m\n\u001b[0m\u001b[0;32m    575\u001b[0m \u001b[1;33m\u001b[0m\u001b[0m\n\u001b[0;32m    576\u001b[0m         \u001b[0mgc\u001b[0m\u001b[1;33m.\u001b[0m\u001b[0mrestore\u001b[0m\u001b[1;33m(\u001b[0m\u001b[1;33m)\u001b[0m\u001b[1;33m\u001b[0m\u001b[0m\n",
      "\u001b[1;32mC:\\ProgramData\\Anaconda3\\lib\\site-packages\\matplotlib\\backends\\backend_agg.py\u001b[0m in \u001b[0;36mdraw_path\u001b[1;34m(self, gc, path, transform, rgbFace)\u001b[0m\n\u001b[0;32m    165\u001b[0m                 \u001b[0mself\u001b[0m\u001b[1;33m.\u001b[0m\u001b[0m_renderer\u001b[0m\u001b[1;33m.\u001b[0m\u001b[0mdraw_path\u001b[0m\u001b[1;33m(\u001b[0m\u001b[0mgc\u001b[0m\u001b[1;33m,\u001b[0m \u001b[0mpath\u001b[0m\u001b[1;33m,\u001b[0m \u001b[0mtransform\u001b[0m\u001b[1;33m,\u001b[0m \u001b[0mrgbFace\u001b[0m\u001b[1;33m)\u001b[0m\u001b[1;33m\u001b[0m\u001b[0m\n\u001b[0;32m    166\u001b[0m             \u001b[1;32mexcept\u001b[0m \u001b[0mOverflowError\u001b[0m\u001b[1;33m:\u001b[0m\u001b[1;33m\u001b[0m\u001b[0m\n\u001b[1;32m--> 167\u001b[1;33m                 \u001b[1;32mraise\u001b[0m \u001b[0mOverflowError\u001b[0m\u001b[1;33m(\u001b[0m\u001b[1;34m\"Exceeded cell block limit (set 'agg.path.chunksize' rcparam)\"\u001b[0m\u001b[1;33m)\u001b[0m\u001b[1;33m\u001b[0m\u001b[0m\n\u001b[0m\u001b[0;32m    168\u001b[0m \u001b[1;33m\u001b[0m\u001b[0m\n\u001b[0;32m    169\u001b[0m \u001b[1;33m\u001b[0m\u001b[0m\n",
      "\u001b[1;31mOverflowError\u001b[0m: Exceeded cell block limit (set 'agg.path.chunksize' rcparam)"
     ]
    },
    {
     "data": {
      "text/plain": [
       "<matplotlib.figure.Figure at 0x241361b8668>"
      ]
     },
     "metadata": {},
     "output_type": "display_data"
    }
   ],
   "source": [
    "import numpy as np\n",
    "fig, ax = plt.subplots()\n",
    "ax = merged_df_AA5_wholeouter['overall'].plot(kind='area', stacked=True, title='100 % stacked area chart')\n",
    "plt.show"
   ]
  },
  {
   "cell_type": "code",
   "execution_count": 160,
   "metadata": {
    "collapsed": false,
    "nbpresent": {
     "id": "7f99abca-534f-49fb-8f02-519b483c39e3"
    }
   },
   "outputs": [
    {
     "data": {
      "text/plain": [
       "Index(['reviewerID', 'asin', 'reviewerName', 'helpful', 'reviewText',\n",
       "       'overall', 'summary', 'unixReviewTime', 'reviewTime', ' reviewerID',\n",
       "       'helpfulpercentage', 'helpful_numerator', 'helpful_denominator'],\n",
       "      dtype='object')"
      ]
     },
     "execution_count": 160,
     "metadata": {},
     "output_type": "execute_result"
    }
   ],
   "source": [
    "merged_df_AA5_wholeouter.columns"
   ]
  },
  {
   "cell_type": "code",
   "execution_count": 163,
   "metadata": {
    "collapsed": false,
    "nbpresent": {
     "id": "87a2e2a3-5f54-4c3e-86db-d6708e31438a"
    }
   },
   "outputs": [
    {
     "data": {
      "text/plain": [
       "reviewerID             asin      \n",
       "A00100742Q4O8VH0YMUBZ  B004WGGQPQ    5.0\n",
       "                       B006C1ZSO4    5.0\n",
       "                       B006YUVTK0    5.0\n",
       "                       B007KPT2N4    1.0\n",
       "                       B007PW1BRC    2.0\n",
       "                       B0080JJLBW    5.0\n",
       "                       B008CGZZHW    5.0\n",
       "                       B008LY1B32    4.0\n",
       "                       B009P8EMCK    5.0\n",
       "                       B00AMR1HZ8    4.0\n",
       "                       B00ANT8OF6    4.0\n",
       "                       B00EQ2TYMS    4.0\n",
       "A001619027H9L9EG4UVRB  B00DHQHQCE    5.0\n",
       "                       B00H0BGCJK    5.0\n",
       "                       B00H7Y9CKG    5.0\n",
       "                       B00HG5ERO2    5.0\n",
       "                       B00I8Q77Y0    5.0\n",
       "A002359833QJM7OQHCXWY  B006JNH7YY    5.0\n",
       "                       B006VFNV8G    5.0\n",
       "                       B007A2IPF8    4.0\n",
       "                       B009M5CM0U    1.0\n",
       "                       B009M6N37A    4.0\n",
       "                       B00AR1AUAW    5.0\n",
       "                       B00BPC23XO    5.0\n",
       "                       B00BX42FLY    4.0\n",
       "                       B00BYG452I    3.0\n",
       "                       B00CJ77HU8    5.0\n",
       "                       B00CRHF748    3.0\n",
       "                       B00CX9P6V4    4.0\n",
       "                       B00EDQ35D6    4.0\n",
       "                                    ... \n",
       "AZZJG13YQANEA          B00GWW85K2    4.0\n",
       "AZZP5HA2F7F7J          B007Q3KX42    5.0\n",
       "                       B00BC4I19U    5.0\n",
       "                       B00BHHIWQO    4.0\n",
       "                       B00CEBKMN8    5.0\n",
       "                       B00D2XD5JU    5.0\n",
       "AZZQ97SNW14J1          B004R1D7A8    5.0\n",
       "                       B0066T8M1I    5.0\n",
       "                       B00683JNUQ    5.0\n",
       "                       B006C1DH92    5.0\n",
       "                       B006D1ONE4    5.0\n",
       "AZZQDEEOTBX96          B0066TUXU6    5.0\n",
       "                       B006PJ3UKC    4.0\n",
       "                       B007JPG04E    2.0\n",
       "                       B00AFCEIB0    4.0\n",
       "                       B00EVEO1ME    3.0\n",
       "AZZRMD8OCRKOS          B004SBS8LA    4.0\n",
       "                       B0063GORYU    3.0\n",
       "                       B0064X7FVE    4.0\n",
       "                       B007N5YIUS    3.0\n",
       "                       B00CTN0ALA    1.0\n",
       "AZZTNQ96SDRLP          B0051QCQBE    5.0\n",
       "                       B008JGSM6G    4.0\n",
       "                       B0096TZFEM    5.0\n",
       "                       B00B7Y0206    1.0\n",
       "                       B00GTCECVG    4.0\n",
       "                       B00GUXOV1U    5.0\n",
       "                       B00H7QAQG8    5.0\n",
       "                       B00HV0FBEM    5.0\n",
       "                       B00HW1D6EW    5.0\n",
       "Name: overall, Length: 752937, dtype: float64"
      ]
     },
     "execution_count": 163,
     "metadata": {},
     "output_type": "execute_result"
    }
   ],
   "source": [
    "merged_df_AA5_wholeouter.groupby(['reviewerID','asin'])['overall'].mean()"
   ]
  },
  {
   "cell_type": "code",
   "execution_count": 164,
   "metadata": {
    "collapsed": false,
    "nbpresent": {
     "id": "cdc2a0b0-6844-4b92-9cbf-f72bc6a1fcd8"
    }
   },
   "outputs": [
    {
     "data": {
      "text/plain": [
       "asin\n",
       "B004A9SDD8    3.850000\n",
       "B004AFQAUA    4.004329\n",
       "B004AGCR1K    1.000000\n",
       "B004AHBBPW    4.718016\n",
       "B004ALFHV2    4.583333\n",
       "B004ALJIOE    4.000000\n",
       "B004ALM0K8    3.000000\n",
       "B004ALVL6W    1.896393\n",
       "B004AMAIZQ    4.470588\n",
       "B004AMDC86    4.111111\n",
       "B004AMFUYK    2.333333\n",
       "B004AMLATE    2.000000\n",
       "B004AMRGLA    3.000000\n",
       "B004ANC00Q    4.442791\n",
       "B004ANE2WU    3.066667\n",
       "B004ANMWPY    3.598303\n",
       "B004AZH4C8    4.889439\n",
       "B004AZSY4K    3.454710\n",
       "B004AZXRRY    2.933333\n",
       "B004BN3YQE    4.023068\n",
       "B004BVUVF8    5.000000\n",
       "B004C4FL5Y    4.338462\n",
       "B004C4FL9A    3.000000\n",
       "B004CN5VFA    2.500000\n",
       "B004CN7Y4G    3.687500\n",
       "B004DJXQDC    2.666667\n",
       "B004DJZBN0    2.571429\n",
       "B004DJZBS0    5.000000\n",
       "B004DK37V2    4.250000\n",
       "B004DKSUXC    4.000000\n",
       "                ...   \n",
       "B00LTEIYTU    5.000000\n",
       "B00LTK7JV8    5.000000\n",
       "B00LTKX5HU    1.000000\n",
       "B00LTQ11HK    5.000000\n",
       "B00LTQT7LC    1.000000\n",
       "B00LU2N8TC    1.000000\n",
       "B00LU4NGWE    4.000000\n",
       "B00LUEJYE8    4.200000\n",
       "B00LUEMK44    4.733945\n",
       "B00LUF54Z0    5.000000\n",
       "B00LUIVZ0A    1.000000\n",
       "B00LULQVJC    5.000000\n",
       "B00LUOZNZC    5.000000\n",
       "B00LV3S1UG    5.000000\n",
       "B00LVEZYOQ    4.675676\n",
       "B00LVR3CAG    2.750000\n",
       "B00LVXVT7I    5.000000\n",
       "B00LW91I0E    5.000000\n",
       "B00LWJWA42    5.000000\n",
       "B00LWTP33W    5.000000\n",
       "B00LWU2FKU    5.000000\n",
       "B00LXD37IA    1.000000\n",
       "B00LXGFUMS    5.000000\n",
       "B00LXGPGAY    5.000000\n",
       "B00LY8XFOK    5.000000\n",
       "B00LY9GOLU    5.000000\n",
       "B00LY9HZ3G    5.000000\n",
       "B00LZ9DVEM    5.000000\n",
       "B00M07JQQK    5.000000\n",
       "B00M0DLUIQ    5.000000\n",
       "Name: overall, Length: 61275, dtype: float64"
      ]
     },
     "execution_count": 164,
     "metadata": {},
     "output_type": "execute_result"
    }
   ],
   "source": [
    "merged_df_AA5_wholeouter.groupby('asin')['overall'].mean()"
   ]
  },
  {
   "cell_type": "code",
   "execution_count": 165,
   "metadata": {
    "collapsed": true,
    "nbpresent": {
     "id": "e046708b-b7fd-4387-aec5-c538ce27986f"
    }
   },
   "outputs": [],
   "source": [
    "df_meta_AA5_wholeouter = merged_df_AA5_wholeouter.groupby('reviewerID')['overall'].mean()"
   ]
  },
  {
   "cell_type": "code",
   "execution_count": 166,
   "metadata": {
    "collapsed": false,
    "nbpresent": {
     "id": "07482ed2-f74a-4d63-b25c-819d98edadc9"
    }
   },
   "outputs": [
    {
     "data": {
      "text/plain": [
       "<bound method NDFrame.describe of reviewerID\n",
       "A00100742Q4O8VH0YMUBZ    4.076923\n",
       "A001619027H9L9EG4UVRB    5.000000\n",
       "A002359833QJM7OQHCXWY    4.065574\n",
       "A0037670NPLI11RBWYFA     3.967742\n",
       "A003841815JTX0JFLR8B1    5.000000\n",
       "A0038872349TB5N0JHQQW    2.787879\n",
       "A00455683H6M1GQZMPQPV    5.000000\n",
       "A0047670XAAJD587LXS7     4.600000\n",
       "A00501041JRAPWYLPQ4TE    4.000000\n",
       "A00507662MEMHI1YMGQ15    4.571429\n",
       "A006458827ALF2J23JJTO    5.000000\n",
       "A007209714VJJNG4NW2QV    4.687500\n",
       "A008303317XYE4TYCHUN     4.480000\n",
       "A0090495K0FTJUG4CPSA     4.514286\n",
       "A01024593CWXRU608RV19    3.839744\n",
       "A01102333B05IISDI7UEA    2.500000\n",
       "A011523719HXWV9BRWPC0    4.454545\n",
       "A01248892ZRML4IDQHQG1    4.686275\n",
       "A01341905GWNB6HMUPJF     4.960000\n",
       "A01837361LYNLJSD6GKE3    4.777778\n",
       "A01906882C7N69XRIJQ9P    4.600000\n",
       "A019524626WJQ6Q3E8ZRY    4.800000\n",
       "A01961902L18E0CEAXEJU    4.464286\n",
       "A02049035W9C30B2NBJM     4.887324\n",
       "A02106571GXPKUGH1WTX9    4.384615\n",
       "A02177511W30G10OA67V9    5.000000\n",
       "A021888930M9DTEV5XH4J    4.388889\n",
       "A0220159ZRNBTRKLG08H     4.971429\n",
       "A02210112V2SJZXSWVHIT    2.800000\n",
       "A022410133YCDOZIC7OL2    4.379310\n",
       "                           ...   \n",
       "AZYKWUBD19QHR            3.963636\n",
       "AZYLF497375SO            4.959900\n",
       "AZYO84JR8FPMF            4.538462\n",
       "AZYOTIXJNJ0RA            5.000000\n",
       "AZYPOLLSDVG4K            3.812500\n",
       "AZYRH359YFDWV            2.207547\n",
       "AZYSSQ0LWQ4SX            4.793651\n",
       "AZYTGE6TI2DFW            4.000000\n",
       "AZYUCC2RU1Z1I            4.351351\n",
       "AZYVZC5RKCHO3            4.610169\n",
       "AZYXC63SS008M            4.960591\n",
       "AZYXGOKPGWD7R            4.464164\n",
       "AZYZ3UHOHCCZ7            4.778788\n",
       "AZZ3HLYUGIVF3            4.587302\n",
       "AZZA1F52PSSA1            4.298507\n",
       "AZZA7THNXVD2L            3.590909\n",
       "AZZBIY8LMYFSJ            4.923913\n",
       "AZZBMT6SA1R66            4.600000\n",
       "AZZCJM5LXCL91            4.405797\n",
       "AZZD3W3JY208L            4.896552\n",
       "AZZDF9GJUV5EF            4.500000\n",
       "AZZGFA2TVKBR6            3.777778\n",
       "AZZGTE54J7V9X            4.974359\n",
       "AZZIPC5Q30X1K            4.909091\n",
       "AZZJG13YQANEA            3.700000\n",
       "AZZP5HA2F7F7J            4.866667\n",
       "AZZQ97SNW14J1            5.000000\n",
       "AZZQDEEOTBX96            3.571429\n",
       "AZZRMD8OCRKOS            2.857143\n",
       "AZZTNQ96SDRLP            4.187500\n",
       "Name: overall, Length: 87271, dtype: float64>"
      ]
     },
     "execution_count": 166,
     "metadata": {},
     "output_type": "execute_result"
    }
   ],
   "source": [
    "df_meta_AA5_wholeouter.describe"
   ]
  },
  {
   "cell_type": "code",
   "execution_count": 167,
   "metadata": {
    "collapsed": false,
    "nbpresent": {
     "id": "90d77434-0d77-4c7b-83de-8fd581bf19e5"
    }
   },
   "outputs": [
    {
     "data": {
      "text/plain": [
       "(87271,)"
      ]
     },
     "execution_count": 167,
     "metadata": {},
     "output_type": "execute_result"
    }
   ],
   "source": [
    "df_meta_AA5_wholeouter.shape"
   ]
  },
  {
   "cell_type": "code",
   "execution_count": 168,
   "metadata": {
    "collapsed": false,
    "nbpresent": {
     "id": "821b0b5b-4d85-4046-93fc-5fc486b7a5cd"
    }
   },
   "outputs": [
    {
     "data": {
      "text/plain": [
       "Index(['A00100742Q4O8VH0YMUBZ', 'A001619027H9L9EG4UVRB',\n",
       "       'A002359833QJM7OQHCXWY', 'A0037670NPLI11RBWYFA',\n",
       "       'A003841815JTX0JFLR8B1', 'A0038872349TB5N0JHQQW',\n",
       "       'A00455683H6M1GQZMPQPV', 'A0047670XAAJD587LXS7',\n",
       "       'A00501041JRAPWYLPQ4TE', 'A00507662MEMHI1YMGQ15',\n",
       "       ...\n",
       "       'AZZDF9GJUV5EF', 'AZZGFA2TVKBR6', 'AZZGTE54J7V9X', 'AZZIPC5Q30X1K',\n",
       "       'AZZJG13YQANEA', 'AZZP5HA2F7F7J', 'AZZQ97SNW14J1', 'AZZQDEEOTBX96',\n",
       "       'AZZRMD8OCRKOS', 'AZZTNQ96SDRLP'],\n",
       "      dtype='object', name='reviewerID', length=87271)"
      ]
     },
     "execution_count": 168,
     "metadata": {},
     "output_type": "execute_result"
    }
   ],
   "source": [
    "df_meta_AA5_wholeouter.index"
   ]
  },
  {
   "cell_type": "code",
   "execution_count": 169,
   "metadata": {
    "collapsed": false,
    "nbpresent": {
     "id": "9cf9a758-cc6d-496d-97a6-8719cade6d5e"
    }
   },
   "outputs": [
    {
     "ename": "AttributeError",
     "evalue": "'Series' object has no attribute 'columns'",
     "output_type": "error",
     "traceback": [
      "\u001b[1;31m---------------------------------------------------------------------------\u001b[0m",
      "\u001b[1;31mAttributeError\u001b[0m                            Traceback (most recent call last)",
      "\u001b[1;32m<ipython-input-169-78678513fbd9>\u001b[0m in \u001b[0;36m<module>\u001b[1;34m()\u001b[0m\n\u001b[1;32m----> 1\u001b[1;33m \u001b[0mdf_meta_AA5_wholeouter\u001b[0m\u001b[1;33m.\u001b[0m\u001b[0mcolumns\u001b[0m\u001b[1;33m.\u001b[0m\u001b[0mname\u001b[0m \u001b[1;33m=\u001b[0m \u001b[1;33m[\u001b[0m\u001b[1;34m\"Score Mean\"\u001b[0m\u001b[1;33m]\u001b[0m\u001b[1;33m\u001b[0m\u001b[0m\n\u001b[0m",
      "\u001b[1;32mC:\\ProgramData\\Anaconda3\\lib\\site-packages\\pandas\\core\\generic.py\u001b[0m in \u001b[0;36m__getattr__\u001b[1;34m(self, name)\u001b[0m\n\u001b[0;32m   3075\u001b[0m         if (name in self._internal_names_set or name in self._metadata or\n\u001b[0;32m   3076\u001b[0m                 name in self._accessors):\n\u001b[1;32m-> 3077\u001b[1;33m             \u001b[1;32mreturn\u001b[0m \u001b[0mobject\u001b[0m\u001b[1;33m.\u001b[0m\u001b[0m__getattribute__\u001b[0m\u001b[1;33m(\u001b[0m\u001b[0mself\u001b[0m\u001b[1;33m,\u001b[0m \u001b[0mname\u001b[0m\u001b[1;33m)\u001b[0m\u001b[1;33m\u001b[0m\u001b[0m\n\u001b[0m\u001b[0;32m   3078\u001b[0m         \u001b[1;32melse\u001b[0m\u001b[1;33m:\u001b[0m\u001b[1;33m\u001b[0m\u001b[0m\n\u001b[0;32m   3079\u001b[0m             \u001b[1;32mif\u001b[0m \u001b[0mname\u001b[0m \u001b[1;32min\u001b[0m \u001b[0mself\u001b[0m\u001b[1;33m.\u001b[0m\u001b[0m_info_axis\u001b[0m\u001b[1;33m:\u001b[0m\u001b[1;33m\u001b[0m\u001b[0m\n",
      "\u001b[1;31mAttributeError\u001b[0m: 'Series' object has no attribute 'columns'"
     ]
    }
   ],
   "source": [
    "df_meta_AA5_wholeouter.columns.name = [\"Score Mean\"]"
   ]
  },
  {
   "cell_type": "code",
   "execution_count": 171,
   "metadata": {
    "collapsed": false,
    "nbpresent": {
     "id": "bca09c27-3277-4ec5-9b3b-5fa3b1c443d0"
    }
   },
   "outputs": [
    {
     "ename": "AttributeError",
     "evalue": "'Series' object has no attribute 'info'",
     "output_type": "error",
     "traceback": [
      "\u001b[1;31m---------------------------------------------------------------------------\u001b[0m",
      "\u001b[1;31mAttributeError\u001b[0m                            Traceback (most recent call last)",
      "\u001b[1;32m<ipython-input-171-5592559baae0>\u001b[0m in \u001b[0;36m<module>\u001b[1;34m()\u001b[0m\n\u001b[1;32m----> 1\u001b[1;33m \u001b[0mdf_meta_AA5_wholeouter\u001b[0m\u001b[1;33m.\u001b[0m\u001b[0minfo\u001b[0m\u001b[1;33m(\u001b[0m\u001b[1;33m)\u001b[0m\u001b[1;33m\u001b[0m\u001b[0m\n\u001b[0m",
      "\u001b[1;32mC:\\ProgramData\\Anaconda3\\lib\\site-packages\\pandas\\core\\generic.py\u001b[0m in \u001b[0;36m__getattr__\u001b[1;34m(self, name)\u001b[0m\n\u001b[0;32m   3079\u001b[0m             \u001b[1;32mif\u001b[0m \u001b[0mname\u001b[0m \u001b[1;32min\u001b[0m \u001b[0mself\u001b[0m\u001b[1;33m.\u001b[0m\u001b[0m_info_axis\u001b[0m\u001b[1;33m:\u001b[0m\u001b[1;33m\u001b[0m\u001b[0m\n\u001b[0;32m   3080\u001b[0m                 \u001b[1;32mreturn\u001b[0m \u001b[0mself\u001b[0m\u001b[1;33m[\u001b[0m\u001b[0mname\u001b[0m\u001b[1;33m]\u001b[0m\u001b[1;33m\u001b[0m\u001b[0m\n\u001b[1;32m-> 3081\u001b[1;33m             \u001b[1;32mreturn\u001b[0m \u001b[0mobject\u001b[0m\u001b[1;33m.\u001b[0m\u001b[0m__getattribute__\u001b[0m\u001b[1;33m(\u001b[0m\u001b[0mself\u001b[0m\u001b[1;33m,\u001b[0m \u001b[0mname\u001b[0m\u001b[1;33m)\u001b[0m\u001b[1;33m\u001b[0m\u001b[0m\n\u001b[0m\u001b[0;32m   3082\u001b[0m \u001b[1;33m\u001b[0m\u001b[0m\n\u001b[0;32m   3083\u001b[0m     \u001b[1;32mdef\u001b[0m \u001b[0m__setattr__\u001b[0m\u001b[1;33m(\u001b[0m\u001b[0mself\u001b[0m\u001b[1;33m,\u001b[0m \u001b[0mname\u001b[0m\u001b[1;33m,\u001b[0m \u001b[0mvalue\u001b[0m\u001b[1;33m)\u001b[0m\u001b[1;33m:\u001b[0m\u001b[1;33m\u001b[0m\u001b[0m\n",
      "\u001b[1;31mAttributeError\u001b[0m: 'Series' object has no attribute 'info'"
     ]
    }
   ],
   "source": [
    "df_meta_AA5_wholeouter.info()"
   ]
  },
  {
   "cell_type": "code",
   "execution_count": null,
   "metadata": {
    "collapsed": true,
    "nbpresent": {
     "id": "b3c00c88-ec1f-4e63-811b-e95dd4ea7e6c"
    }
   },
   "outputs": [],
   "source": []
  }
 ],
 "metadata": {
  "anaconda-cloud": {},
  "kernelspec": {
   "display_name": "Python [default]",
   "language": "python",
   "name": "python3"
  },
  "language_info": {
   "codemirror_mode": {
    "name": "ipython",
    "version": 3
   },
   "file_extension": ".py",
   "mimetype": "text/x-python",
   "name": "python",
   "nbconvert_exporter": "python",
   "pygments_lexer": "ipython3",
   "version": "3.5.2"
  },
  "nbpresent": {
   "slides": {
    "0398551d-3e27-4bb0-969f-a65b103be71f": {
     "id": "0398551d-3e27-4bb0-969f-a65b103be71f",
     "prev": "723e529b-4279-4b13-a99f-1b5780f6d049",
     "regions": {
      "62faf884-b234-4964-9a31-ec49da684b11": {
       "attrs": {
        "height": 0.8,
        "width": 0.8,
        "x": 0.1,
        "y": 0.1
       },
       "content": {
        "cell": "6281cbdb-6808-4665-a53a-458cfcefb31e",
        "part": "whole"
       },
       "id": "62faf884-b234-4964-9a31-ec49da684b11"
      }
     }
    },
    "03ba7199-ef47-448a-976a-92ffc3654986": {
     "id": "03ba7199-ef47-448a-976a-92ffc3654986",
     "prev": "55f7e70a-b5e2-4e9e-b9e5-c7254d157618",
     "regions": {
      "22a79d17-64b3-496b-9b8d-709c45100b2f": {
       "attrs": {
        "height": 0.8,
        "width": 0.8,
        "x": 0.1,
        "y": 0.1
       },
       "content": {
        "cell": "bae6a2c8-e783-4b9a-80f3-f85991b3c95c",
        "part": "whole"
       },
       "id": "22a79d17-64b3-496b-9b8d-709c45100b2f"
      }
     }
    },
    "07d2631b-3ae5-4007-bc0d-664a0d1afb53": {
     "id": "07d2631b-3ae5-4007-bc0d-664a0d1afb53",
     "prev": "c3887d2c-227a-412f-a639-873e40abbd72",
     "regions": {
      "2e1d3940-4420-4e9c-9f99-b77ba6368496": {
       "attrs": {
        "height": 0.8,
        "width": 0.8,
        "x": 0.1,
        "y": 0.1
       },
       "content": {
        "cell": "87a2e2a3-5f54-4c3e-86db-d6708e31438a",
        "part": "whole"
       },
       "id": "2e1d3940-4420-4e9c-9f99-b77ba6368496"
      }
     }
    },
    "07e0c952-0aad-4af0-837c-9855dbec4fda": {
     "id": "07e0c952-0aad-4af0-837c-9855dbec4fda",
     "prev": "fa5ac177-01b1-43a3-8d25-a4b99efe3e03",
     "regions": {
      "6f2e51c0-b613-40f8-a48d-5cea7df38b95": {
       "attrs": {
        "height": 0.8,
        "width": 0.8,
        "x": 0.1,
        "y": 0.1
       },
       "content": {
        "cell": "585ee428-331e-4aac-a858-80b6bc09d411",
        "part": "whole"
       },
       "id": "6f2e51c0-b613-40f8-a48d-5cea7df38b95"
      }
     }
    },
    "08e04caa-f0ca-49e6-9f19-f83c77b2a37a": {
     "id": "08e04caa-f0ca-49e6-9f19-f83c77b2a37a",
     "prev": "961a5057-cab1-4e99-8179-c662b344517d",
     "regions": {
      "179463f8-10b4-4a83-a696-98e8b8009433": {
       "attrs": {
        "height": 0.8,
        "width": 0.8,
        "x": 0.1,
        "y": 0.1
       },
       "content": {
        "cell": "61702c20-2975-48a4-83dc-caf46a44818a",
        "part": "whole"
       },
       "id": "179463f8-10b4-4a83-a696-98e8b8009433"
      }
     }
    },
    "09e6c337-69df-4532-bb3a-e5c413f9a439": {
     "id": "09e6c337-69df-4532-bb3a-e5c413f9a439",
     "prev": "f7d6ec0e-ba48-4460-8524-a75955fda034",
     "regions": {
      "ed3870a2-db6b-474f-bd63-19fbd3d25dab": {
       "attrs": {
        "height": 0.8,
        "width": 0.8,
        "x": 0.1,
        "y": 0.1
       },
       "content": {
        "cell": "8aa319e8-451e-4fe6-939f-1fa5e41a53b6",
        "part": "whole"
       },
       "id": "ed3870a2-db6b-474f-bd63-19fbd3d25dab"
      }
     }
    },
    "0be15516-92e5-433b-b81d-be86d95ab54c": {
     "id": "0be15516-92e5-433b-b81d-be86d95ab54c",
     "prev": "8e5b1671-49ee-428a-a032-9945d052afd6",
     "regions": {
      "4a13945f-1740-446b-9e27-1e3bb0dae825": {
       "attrs": {
        "height": 0.8,
        "width": 0.8,
        "x": 0.1,
        "y": 0.1
       },
       "content": {
        "cell": "cc39640e-6723-4fa5-8870-1733f0231946",
        "part": "whole"
       },
       "id": "4a13945f-1740-446b-9e27-1e3bb0dae825"
      }
     }
    },
    "0c764d8f-e255-4bf6-a64f-03bfa8ccbf9b": {
     "id": "0c764d8f-e255-4bf6-a64f-03bfa8ccbf9b",
     "prev": "1c81b1c2-affb-41d9-8167-1a6111471988",
     "regions": {
      "2147e937-81c3-4fcd-a378-01165bd900d1": {
       "attrs": {
        "height": 0.8,
        "width": 0.8,
        "x": 0.1,
        "y": 0.1
       },
       "content": {
        "cell": "baeaa18f-f176-433f-866b-afde5e859141",
        "part": "whole"
       },
       "id": "2147e937-81c3-4fcd-a378-01165bd900d1"
      }
     }
    },
    "0d6281a0-5eef-4b3e-88cc-ae20818b686c": {
     "id": "0d6281a0-5eef-4b3e-88cc-ae20818b686c",
     "prev": "63466305-54e2-435a-a203-a83ecbb7837e",
     "regions": {
      "63845b65-4a59-4d22-83e5-22fedcf020ac": {
       "attrs": {
        "height": 0.8,
        "width": 0.8,
        "x": 0.1,
        "y": 0.1
       },
       "content": {
        "cell": "9cf9a758-cc6d-496d-97a6-8719cade6d5e",
        "part": "whole"
       },
       "id": "63845b65-4a59-4d22-83e5-22fedcf020ac"
      }
     }
    },
    "0dc1a7f3-d2ca-4784-b5bf-dac3fa6d0983": {
     "id": "0dc1a7f3-d2ca-4784-b5bf-dac3fa6d0983",
     "prev": "6f51d639-3bdf-4139-9654-03935211f7e5",
     "regions": {
      "75e33261-1e51-4069-8c95-26e24e5d2eb7": {
       "attrs": {
        "height": 0.8,
        "width": 0.8,
        "x": 0.1,
        "y": 0.1
       },
       "content": {
        "cell": "499ebb32-f99d-4224-ac0e-b53c06c5468b",
        "part": "whole"
       },
       "id": "75e33261-1e51-4069-8c95-26e24e5d2eb7"
      }
     }
    },
    "1058fd86-82c5-4736-97c5-00b699e34bb6": {
     "id": "1058fd86-82c5-4736-97c5-00b699e34bb6",
     "prev": "9bae4ddf-5708-4ce4-acfd-50805859d7c4",
     "regions": {
      "d248af98-05f8-4685-af6b-bbb767062335": {
       "attrs": {
        "height": 0.8,
        "width": 0.8,
        "x": 0.1,
        "y": 0.1
       },
       "content": {
        "cell": "cb26f707-5249-4ce3-a9f7-6351716c3f44",
        "part": "whole"
       },
       "id": "d248af98-05f8-4685-af6b-bbb767062335"
      }
     }
    },
    "1867aa3c-c961-4b86-b280-119be034947f": {
     "id": "1867aa3c-c961-4b86-b280-119be034947f",
     "prev": "3839514f-890d-4f34-ac3a-eeda816d205d",
     "regions": {
      "8598e198-057b-4381-b408-48527a7cd16b": {
       "attrs": {
        "height": 0.8,
        "width": 0.8,
        "x": 0.1,
        "y": 0.1
       },
       "content": {
        "cell": "88253cea-e327-4423-8241-f82431c5db90",
        "part": "whole"
       },
       "id": "8598e198-057b-4381-b408-48527a7cd16b"
      }
     }
    },
    "187ea941-c535-4119-971e-82db1b578b67": {
     "id": "187ea941-c535-4119-971e-82db1b578b67",
     "prev": "f24711b9-5571-475a-8e49-d82345660b25",
     "regions": {
      "a582511b-b043-4fc0-b93c-1a1d7ebf3b3c": {
       "attrs": {
        "height": 0.8,
        "width": 0.8,
        "x": 0.1,
        "y": 0.1
       },
       "content": {
        "cell": "eed894db-d3c7-4e25-b66b-ca257dc091b1",
        "part": "whole"
       },
       "id": "a582511b-b043-4fc0-b93c-1a1d7ebf3b3c"
      }
     }
    },
    "1a5729d7-438d-46fa-8c2e-55df1f69e2d0": {
     "id": "1a5729d7-438d-46fa-8c2e-55df1f69e2d0",
     "prev": "d08bffd0-a52f-4a4e-8c55-bb1a1eb119a6",
     "regions": {
      "aa26ca7c-6e47-47ea-a76f-9f481e34d19b": {
       "attrs": {
        "height": 0.8,
        "width": 0.8,
        "x": 0.1,
        "y": 0.1
       },
       "content": {
        "cell": "7d83cdac-5f53-46b6-a181-225731c75cc8",
        "part": "whole"
       },
       "id": "aa26ca7c-6e47-47ea-a76f-9f481e34d19b"
      }
     }
    },
    "1c81b1c2-affb-41d9-8167-1a6111471988": {
     "id": "1c81b1c2-affb-41d9-8167-1a6111471988",
     "prev": "3b926435-eacc-4bfc-861b-d3a18dd04af4",
     "regions": {
      "ce843f60-74ff-4ac7-838a-a992ac311b94": {
       "attrs": {
        "height": 0.8,
        "width": 0.8,
        "x": 0.1,
        "y": 0.1
       },
       "content": {
        "cell": "e3a0b808-9be5-4ea0-b878-033506303738",
        "part": "whole"
       },
       "id": "ce843f60-74ff-4ac7-838a-a992ac311b94"
      }
     }
    },
    "1cae5375-a665-4a71-b9a4-f2ac3cf7477d": {
     "id": "1cae5375-a665-4a71-b9a4-f2ac3cf7477d",
     "prev": "7b863230-fee9-4a08-a61b-7d9268192d03",
     "regions": {
      "d9b41310-95c9-4594-87a0-12929a87a674": {
       "attrs": {
        "height": 0.8,
        "width": 0.8,
        "x": 0.1,
        "y": 0.1
       },
       "content": {
        "cell": "8b57d2ca-6c6a-4150-b9cf-848e4a547a6b",
        "part": "whole"
       },
       "id": "d9b41310-95c9-4594-87a0-12929a87a674"
      }
     }
    },
    "1ee03190-b983-49cf-98dc-77a65abdb0c4": {
     "id": "1ee03190-b983-49cf-98dc-77a65abdb0c4",
     "prev": "f8918f13-4630-435b-b9ce-6862d7ffd9ff",
     "regions": {
      "abac5cd1-fbe3-4062-9a4b-e118b7d36dd1": {
       "attrs": {
        "height": 0.8,
        "width": 0.8,
        "x": 0.1,
        "y": 0.1
       },
       "content": {
        "cell": "f8c9b61b-27a7-4bcb-83a6-4efe3c59d6fc",
        "part": "whole"
       },
       "id": "abac5cd1-fbe3-4062-9a4b-e118b7d36dd1"
      }
     }
    },
    "24c55203-575c-45a1-a0bd-cc16e7b9f7f3": {
     "id": "24c55203-575c-45a1-a0bd-cc16e7b9f7f3",
     "prev": "67c3be4b-ca19-4b88-afba-292ad04b49e7",
     "regions": {
      "a5a405ee-14d0-4b73-b973-156f02b1e2c1": {
       "attrs": {
        "height": 0.8,
        "width": 0.8,
        "x": 0.1,
        "y": 0.1
       },
       "content": {
        "cell": "4d937ead-d71f-468d-960b-ab08bf3c9c20",
        "part": "whole"
       },
       "id": "a5a405ee-14d0-4b73-b973-156f02b1e2c1"
      }
     }
    },
    "25a5f553-821b-4926-947c-89f94b9335c0": {
     "id": "25a5f553-821b-4926-947c-89f94b9335c0",
     "prev": "cf19cfa4-a5a5-464d-965a-6a014e011bb6",
     "regions": {
      "109f058d-9817-4819-940b-54a978f1cb61": {
       "attrs": {
        "height": 0.8,
        "width": 0.8,
        "x": 0.1,
        "y": 0.1
       },
       "content": {
        "cell": "0ac7eb7a-5b78-4062-891b-8b2bbdd4ac8e",
        "part": "whole"
       },
       "id": "109f058d-9817-4819-940b-54a978f1cb61"
      }
     }
    },
    "25dc1c78-be45-427a-ac1f-b34224932125": {
     "id": "25dc1c78-be45-427a-ac1f-b34224932125",
     "prev": "7fae851b-07b9-4a47-8d63-8243c772e7d0",
     "regions": {
      "becaa386-be6c-49bf-8250-1609436a2913": {
       "attrs": {
        "height": 0.8,
        "width": 0.8,
        "x": 0.1,
        "y": 0.1
       },
       "content": {
        "cell": "bcb6e6c7-5b12-4efc-86d0-464cec8c3562",
        "part": "whole"
       },
       "id": "becaa386-be6c-49bf-8250-1609436a2913"
      }
     }
    },
    "2d96d611-b4e4-4d41-b0db-0d6d3bdb35d3": {
     "id": "2d96d611-b4e4-4d41-b0db-0d6d3bdb35d3",
     "prev": "a12e1e3c-36d5-4a3e-8e1c-afa0f86cb5b1",
     "regions": {
      "10e610ca-1d4e-4183-a08e-6156e40b229f": {
       "attrs": {
        "height": 0.8,
        "width": 0.8,
        "x": 0.1,
        "y": 0.1
       },
       "content": {
        "cell": "415fe6ac-b6b1-4eb8-bf65-8cbd424645ea",
        "part": "whole"
       },
       "id": "10e610ca-1d4e-4183-a08e-6156e40b229f"
      }
     }
    },
    "3839514f-890d-4f34-ac3a-eeda816d205d": {
     "id": "3839514f-890d-4f34-ac3a-eeda816d205d",
     "prev": "07e0c952-0aad-4af0-837c-9855dbec4fda",
     "regions": {
      "a34ef5b9-0412-45d3-8990-67ca4d6e8651": {
       "attrs": {
        "height": 0.8,
        "width": 0.8,
        "x": 0.1,
        "y": 0.1
       },
       "content": {
        "cell": "5dc19195-9cf6-40d0-9b83-1023478202fc",
        "part": "whole"
       },
       "id": "a34ef5b9-0412-45d3-8990-67ca4d6e8651"
      }
     }
    },
    "3b926435-eacc-4bfc-861b-d3a18dd04af4": {
     "id": "3b926435-eacc-4bfc-861b-d3a18dd04af4",
     "prev": "81f571a8-e84b-4f9e-a27f-a5e0a78a3de6",
     "regions": {
      "def5fb41-466c-4f1c-aa10-924615ee06af": {
       "attrs": {
        "height": 0.8,
        "width": 0.8,
        "x": 0.1,
        "y": 0.1
       },
       "content": {
        "cell": "5d9169a3-762b-4f46-8fc6-89043e271fcf",
        "part": "whole"
       },
       "id": "def5fb41-466c-4f1c-aa10-924615ee06af"
      }
     }
    },
    "3c0f0b6f-4f7d-4f1e-b077-77a57e5f1fac": {
     "id": "3c0f0b6f-4f7d-4f1e-b077-77a57e5f1fac",
     "prev": "f4549cf3-6a48-486e-bcfd-55bff2e48d43",
     "regions": {
      "a05ed5b4-0f48-45e6-888b-e34059f73a7c": {
       "attrs": {
        "height": 0.8,
        "width": 0.8,
        "x": 0.1,
        "y": 0.1
       },
       "content": {
        "cell": "dab2d2b2-f38b-4b1c-a3f7-6e7fbbe2e0de",
        "part": "whole"
       },
       "id": "a05ed5b4-0f48-45e6-888b-e34059f73a7c"
      }
     }
    },
    "3f5171fa-02b3-4981-b8d3-3ab42e6e4d1e": {
     "id": "3f5171fa-02b3-4981-b8d3-3ab42e6e4d1e",
     "prev": "f50588fc-9b05-4ffd-9067-2c56ccb0ada3",
     "regions": {
      "20d1928e-c331-4a37-befb-ba5fc4dc0b84": {
       "attrs": {
        "height": 0.8,
        "width": 0.8,
        "x": 0.1,
        "y": 0.1
       },
       "content": {
        "cell": "6ee6ef1b-40c6-4983-b77a-d0baac07ebcc",
        "part": "whole"
       },
       "id": "20d1928e-c331-4a37-befb-ba5fc4dc0b84"
      }
     }
    },
    "41bd30c0-806a-433b-86e8-7d269b2701a0": {
     "id": "41bd30c0-806a-433b-86e8-7d269b2701a0",
     "prev": "61491719-1847-4390-a7d5-2542e3a3ef75",
     "regions": {
      "67f1db09-42d4-4dfb-89fa-29c4a0cfa042": {
       "attrs": {
        "height": 0.8,
        "width": 0.8,
        "x": 0.1,
        "y": 0.1
       },
       "content": {
        "cell": "736632ff-e0e0-40bd-bbed-702ea063fa68",
        "part": "whole"
       },
       "id": "67f1db09-42d4-4dfb-89fa-29c4a0cfa042"
      }
     }
    },
    "431bb463-a4a8-4b41-98cb-1c285fc2bcaf": {
     "id": "431bb463-a4a8-4b41-98cb-1c285fc2bcaf",
     "prev": "7727fc59-30e5-484e-8ad6-9ce5e8b17c69",
     "regions": {
      "b32ca3d5-84ca-4958-ba21-7d43234d7a17": {
       "attrs": {
        "height": 0.8,
        "width": 0.8,
        "x": 0.1,
        "y": 0.1
       },
       "content": {
        "cell": "9f746b8a-fc87-404c-a723-13a817b59791",
        "part": "whole"
       },
       "id": "b32ca3d5-84ca-4958-ba21-7d43234d7a17"
      }
     }
    },
    "45c0939e-0438-4d8b-8c10-5fde3ece5a71": {
     "id": "45c0939e-0438-4d8b-8c10-5fde3ece5a71",
     "prev": null,
     "regions": {
      "4a82ef1e-f03b-4933-b3c4-9fbba220b9c8": {
       "attrs": {
        "height": 0.8,
        "width": 0.8,
        "x": 0.1,
        "y": 0.1
       },
       "content": {
        "cell": "ac8bf680-7b57-4532-8f8b-7ea37be49890",
        "part": "whole"
       },
       "id": "4a82ef1e-f03b-4933-b3c4-9fbba220b9c8"
      }
     }
    },
    "471898c9-28eb-4687-aa21-d97f2a560caa": {
     "id": "471898c9-28eb-4687-aa21-d97f2a560caa",
     "prev": "95874585-b7c1-43c1-b550-5ef9520c0418",
     "regions": {
      "059fabc7-868c-4ba5-baff-4fa2eef3e6ca": {
       "attrs": {
        "height": 0.8,
        "width": 0.8,
        "x": 0.1,
        "y": 0.1
       },
       "content": {
        "cell": "6ab1f229-7b0f-408a-8be5-d25c67140f74",
        "part": "whole"
       },
       "id": "059fabc7-868c-4ba5-baff-4fa2eef3e6ca"
      }
     }
    },
    "479ac6e6-8ef3-4ee9-8326-edb76091f392": {
     "id": "479ac6e6-8ef3-4ee9-8326-edb76091f392",
     "prev": "eb8ffa7d-4547-47f6-a19e-87784214e7c4",
     "regions": {
      "57544c16-002a-41cf-b788-1f55dac1c7b8": {
       "attrs": {
        "height": 0.8,
        "width": 0.8,
        "x": 0.1,
        "y": 0.1
       },
       "content": {
        "cell": "dbafbd8e-a5d6-4bef-ac39-bd3da877e805",
        "part": "whole"
       },
       "id": "57544c16-002a-41cf-b788-1f55dac1c7b8"
      }
     }
    },
    "4a4019de-4db5-4be8-8ff4-164742f7928c": {
     "id": "4a4019de-4db5-4be8-8ff4-164742f7928c",
     "prev": "1cae5375-a665-4a71-b9a4-f2ac3cf7477d",
     "regions": {
      "df4b9384-07ff-4af5-8d71-aca3811402c6": {
       "attrs": {
        "height": 0.8,
        "width": 0.8,
        "x": 0.1,
        "y": 0.1
       },
       "content": {
        "cell": "ad1ea4a4-26e8-4b2a-8847-7e1b6f530ab2",
        "part": "whole"
       },
       "id": "df4b9384-07ff-4af5-8d71-aca3811402c6"
      }
     }
    },
    "52ffcad8-ade7-46f3-9b3a-a1583dcf4584": {
     "id": "52ffcad8-ade7-46f3-9b3a-a1583dcf4584",
     "prev": "cce4ec10-ec80-4dfc-beb4-85be5a78fe2a",
     "regions": {
      "be973e51-8ac7-4ff6-a312-727ff17fa400": {
       "attrs": {
        "height": 0.8,
        "width": 0.8,
        "x": 0.1,
        "y": 0.1
       },
       "content": {
        "cell": "445bc45f-f416-4881-9021-9e0e96851ce4",
        "part": "whole"
       },
       "id": "be973e51-8ac7-4ff6-a312-727ff17fa400"
      }
     }
    },
    "532a6b9e-cabf-471d-adbc-c40ea7223016": {
     "id": "532a6b9e-cabf-471d-adbc-c40ea7223016",
     "prev": "a1a6ea95-95c1-4e94-b5fc-26801b2e0e38",
     "regions": {
      "04df8b1a-d35e-4a91-8880-54a85a4cd105": {
       "attrs": {
        "height": 0.8,
        "width": 0.8,
        "x": 0.1,
        "y": 0.1
       },
       "content": {
        "cell": "2cfcb01a-fa44-44a5-bd5e-a0032ce86c53",
        "part": "whole"
       },
       "id": "04df8b1a-d35e-4a91-8880-54a85a4cd105"
      }
     }
    },
    "55f7e70a-b5e2-4e9e-b9e5-c7254d157618": {
     "id": "55f7e70a-b5e2-4e9e-b9e5-c7254d157618",
     "prev": "8f0562e9-3327-4a36-97fb-40924892e234",
     "regions": {
      "383fadc3-4655-4d57-9756-f52dd3e2e01a": {
       "attrs": {
        "height": 0.8,
        "width": 0.8,
        "x": 0.1,
        "y": 0.1
       },
       "content": {
        "cell": "ad50db2e-f39a-43a0-a6e9-2cdcfc983082",
        "part": "whole"
       },
       "id": "383fadc3-4655-4d57-9756-f52dd3e2e01a"
      }
     }
    },
    "55fc00ea-ae14-4302-8fb3-3e314096e3ec": {
     "id": "55fc00ea-ae14-4302-8fb3-3e314096e3ec",
     "prev": "0c764d8f-e255-4bf6-a64f-03bfa8ccbf9b",
     "regions": {
      "43664013-4c90-4557-8356-b8437c67fb65": {
       "attrs": {
        "height": 0.8,
        "width": 0.8,
        "x": 0.1,
        "y": 0.1
       },
       "content": {
        "cell": "c008351c-4495-4dde-a9d7-34e03bf82d6d",
        "part": "whole"
       },
       "id": "43664013-4c90-4557-8356-b8437c67fb65"
      }
     }
    },
    "5b98f8e1-68a0-4a7b-a6e4-cb9c92674c44": {
     "id": "5b98f8e1-68a0-4a7b-a6e4-cb9c92674c44",
     "prev": "75e74bad-8e2d-40c5-b797-ec47784044bc",
     "regions": {
      "0013dfe8-bbf1-4277-bba6-03071b4da925": {
       "attrs": {
        "height": 0.8,
        "width": 0.8,
        "x": 0.1,
        "y": 0.1
       },
       "content": {
        "cell": "07482ed2-f74a-4d63-b25c-819d98edadc9",
        "part": "whole"
       },
       "id": "0013dfe8-bbf1-4277-bba6-03071b4da925"
      }
     }
    },
    "5f16dcd4-9cee-45f0-ae2c-e9ab91efb462": {
     "id": "5f16dcd4-9cee-45f0-ae2c-e9ab91efb462",
     "prev": "7a48893e-51f2-4a81-b684-f363f1f8c75d",
     "regions": {
      "cbbe8f15-a90e-4f09-bed8-1c448ed39f22": {
       "attrs": {
        "height": 0.8,
        "width": 0.8,
        "x": 0.1,
        "y": 0.1
       },
       "content": {
        "cell": "5b6b19db-f06b-46e1-8a7e-497ee9f386e8",
        "part": "whole"
       },
       "id": "cbbe8f15-a90e-4f09-bed8-1c448ed39f22"
      }
     }
    },
    "5fcd3db7-dd75-4f2e-9562-10fa02f68c12": {
     "id": "5fcd3db7-dd75-4f2e-9562-10fa02f68c12",
     "prev": "c260f8be-a0ab-4822-97d6-301234f7b941",
     "regions": {
      "3aeba24b-32d5-4c69-8447-8a5c2e0c2264": {
       "attrs": {
        "height": 0.8,
        "width": 0.8,
        "x": 0.1,
        "y": 0.1
       },
       "content": {
        "cell": "aae71b9b-5264-46b7-b2d9-1ba7269ab939",
        "part": "whole"
       },
       "id": "3aeba24b-32d5-4c69-8447-8a5c2e0c2264"
      }
     }
    },
    "61491719-1847-4390-a7d5-2542e3a3ef75": {
     "id": "61491719-1847-4390-a7d5-2542e3a3ef75",
     "prev": "f03829a0-6d67-4670-9fdc-4a48a290aedd",
     "regions": {
      "26adda2a-8728-4856-96fe-0ae13743e00e": {
       "attrs": {
        "height": 0.8,
        "width": 0.8,
        "x": 0.1,
        "y": 0.1
       },
       "content": {
        "cell": "40c074bc-bc7f-4f7f-a4e4-b76f8b5570fa",
        "part": "whole"
       },
       "id": "26adda2a-8728-4856-96fe-0ae13743e00e"
      }
     }
    },
    "6232f430-3673-461a-ae66-2701fb776153": {
     "id": "6232f430-3673-461a-ae66-2701fb776153",
     "prev": "187ea941-c535-4119-971e-82db1b578b67",
     "regions": {
      "c4cecaaa-3f40-4778-b909-b888e9ce2011": {
       "attrs": {
        "height": 0.8,
        "width": 0.8,
        "x": 0.1,
        "y": 0.1
       },
       "content": {
        "cell": "0b156049-8b90-4b19-bc6b-7e3d2f484581",
        "part": "whole"
       },
       "id": "c4cecaaa-3f40-4778-b909-b888e9ce2011"
      }
     }
    },
    "63466305-54e2-435a-a203-a83ecbb7837e": {
     "id": "63466305-54e2-435a-a203-a83ecbb7837e",
     "prev": "ed05e93d-ae04-43e9-a3b0-c67e65de5549",
     "regions": {
      "4222f32e-7f06-4d9e-be46-66a961d0467a": {
       "attrs": {
        "height": 0.8,
        "width": 0.8,
        "x": 0.1,
        "y": 0.1
       },
       "content": {
        "cell": "821b0b5b-4d85-4046-93fc-5fc486b7a5cd",
        "part": "whole"
       },
       "id": "4222f32e-7f06-4d9e-be46-66a961d0467a"
      }
     }
    },
    "66c0cd64-a283-44e3-9db6-4a660eef1bd7": {
     "id": "66c0cd64-a283-44e3-9db6-4a660eef1bd7",
     "prev": "9882d670-9777-4a42-8a04-7a39608318f3",
     "regions": {
      "3a86fa2f-1a63-4900-a758-a59a984a8c19": {
       "attrs": {
        "height": 0.8,
        "width": 0.8,
        "x": 0.1,
        "y": 0.1
       },
       "content": {
        "cell": "ca0b98b3-da89-4bd0-b079-229cf72f133e",
        "part": "whole"
       },
       "id": "3a86fa2f-1a63-4900-a758-a59a984a8c19"
      }
     }
    },
    "66c51667-8228-4ac3-bcce-c4909e5bb6c7": {
     "id": "66c51667-8228-4ac3-bcce-c4909e5bb6c7",
     "prev": "b9305cdf-d72b-43ab-af68-9ac158ca35b9",
     "regions": {
      "5cca5286-8541-49d5-af24-f4cec1160a53": {
       "attrs": {
        "height": 0.8,
        "width": 0.8,
        "x": 0.1,
        "y": 0.1
       },
       "content": {
        "cell": "b3c00c88-ec1f-4e63-811b-e95dd4ea7e6c",
        "part": "whole"
       },
       "id": "5cca5286-8541-49d5-af24-f4cec1160a53"
      }
     }
    },
    "67c3be4b-ca19-4b88-afba-292ad04b49e7": {
     "id": "67c3be4b-ca19-4b88-afba-292ad04b49e7",
     "prev": "7a4c84e2-9c20-469e-87e8-407e51c46dbf",
     "regions": {
      "3d63fe03-d5f2-4cbf-b1da-6a2e7ee12602": {
       "attrs": {
        "height": 0.8,
        "width": 0.8,
        "x": 0.1,
        "y": 0.1
       },
       "content": {
        "cell": "48cac050-5fb6-4e4a-a226-d29f968fce50",
        "part": "whole"
       },
       "id": "3d63fe03-d5f2-4cbf-b1da-6a2e7ee12602"
      }
     }
    },
    "6a7160df-450d-488e-8467-1f3fc2f23976": {
     "id": "6a7160df-450d-488e-8467-1f3fc2f23976",
     "prev": "479ac6e6-8ef3-4ee9-8326-edb76091f392",
     "regions": {
      "dd4dc6a7-f3ed-4ea9-b821-b9c5f15bdea7": {
       "attrs": {
        "height": 0.8,
        "width": 0.8,
        "x": 0.1,
        "y": 0.1
       },
       "content": {
        "cell": "e4e1baa6-a201-4b39-9fe4-884d2a02cf52",
        "part": "whole"
       },
       "id": "dd4dc6a7-f3ed-4ea9-b821-b9c5f15bdea7"
      }
     }
    },
    "6f51d639-3bdf-4139-9654-03935211f7e5": {
     "id": "6f51d639-3bdf-4139-9654-03935211f7e5",
     "prev": "c4324ab1-8463-432b-aba4-e99b1402efaf",
     "regions": {
      "121709a9-b9b9-460c-8b45-48691b1257c6": {
       "attrs": {
        "height": 0.8,
        "width": 0.8,
        "x": 0.1,
        "y": 0.1
       },
       "content": {
        "cell": "145e504e-2cdf-40fb-8e03-e8b044829539",
        "part": "whole"
       },
       "id": "121709a9-b9b9-460c-8b45-48691b1257c6"
      }
     }
    },
    "723e529b-4279-4b13-a99f-1b5780f6d049": {
     "id": "723e529b-4279-4b13-a99f-1b5780f6d049",
     "prev": "08e04caa-f0ca-49e6-9f19-f83c77b2a37a",
     "regions": {
      "36619c79-bcc1-404f-9908-18a98b98d545": {
       "attrs": {
        "height": 0.8,
        "width": 0.8,
        "x": 0.1,
        "y": 0.1
       },
       "content": {
        "cell": "7c0938c6-826f-4852-85f6-1f93be428ae9",
        "part": "whole"
       },
       "id": "36619c79-bcc1-404f-9908-18a98b98d545"
      }
     }
    },
    "72597e74-2196-4cb0-9345-0143254ebf2d": {
     "id": "72597e74-2196-4cb0-9345-0143254ebf2d",
     "prev": "471898c9-28eb-4687-aa21-d97f2a560caa",
     "regions": {
      "4889009a-a196-45a2-9903-5234728a7ba8": {
       "attrs": {
        "height": 0.8,
        "width": 0.8,
        "x": 0.1,
        "y": 0.1
       },
       "content": {
        "cell": "a9625688-2f2e-48ef-a34d-48698e8f93fb",
        "part": "whole"
       },
       "id": "4889009a-a196-45a2-9903-5234728a7ba8"
      }
     }
    },
    "75e74bad-8e2d-40c5-b797-ec47784044bc": {
     "id": "75e74bad-8e2d-40c5-b797-ec47784044bc",
     "prev": "c1c0305e-1314-4a58-af43-a4e8b5cf66df",
     "regions": {
      "86aedc31-49ef-47ce-942a-693e112703f5": {
       "attrs": {
        "height": 0.8,
        "width": 0.8,
        "x": 0.1,
        "y": 0.1
       },
       "content": {
        "cell": "e046708b-b7fd-4387-aec5-c538ce27986f",
        "part": "whole"
       },
       "id": "86aedc31-49ef-47ce-942a-693e112703f5"
      }
     }
    },
    "7727fc59-30e5-484e-8ad6-9ce5e8b17c69": {
     "id": "7727fc59-30e5-484e-8ad6-9ce5e8b17c69",
     "prev": "a3b0c703-f0a7-47ec-9a26-eff3e8d8e865",
     "regions": {
      "cd393d50-5421-4dcd-9dea-89f4a54c0e06": {
       "attrs": {
        "height": 0.8,
        "width": 0.8,
        "x": 0.1,
        "y": 0.1
       },
       "content": {
        "cell": "740f89f3-ec29-4027-847f-5be89ccf451b",
        "part": "whole"
       },
       "id": "cd393d50-5421-4dcd-9dea-89f4a54c0e06"
      }
     }
    },
    "7a48893e-51f2-4a81-b684-f363f1f8c75d": {
     "id": "7a48893e-51f2-4a81-b684-f363f1f8c75d",
     "prev": "0dc1a7f3-d2ca-4784-b5bf-dac3fa6d0983",
     "regions": {
      "1e1792e2-5318-496d-9146-4adbdb6dbdc8": {
       "attrs": {
        "height": 0.8,
        "width": 0.8,
        "x": 0.1,
        "y": 0.1
       },
       "content": {
        "cell": "ed14a0be-5d86-46ef-bfea-a495dcc78865",
        "part": "whole"
       },
       "id": "1e1792e2-5318-496d-9146-4adbdb6dbdc8"
      }
     }
    },
    "7a4c84e2-9c20-469e-87e8-407e51c46dbf": {
     "id": "7a4c84e2-9c20-469e-87e8-407e51c46dbf",
     "prev": "6232f430-3673-461a-ae66-2701fb776153",
     "regions": {
      "d6d220d7-11a8-4e0a-99fe-8e3178e3b62d": {
       "attrs": {
        "height": 0.8,
        "width": 0.8,
        "x": 0.1,
        "y": 0.1
       },
       "content": {
        "cell": "8996ceba-1303-4c64-95c7-9020e68121c6",
        "part": "whole"
       },
       "id": "d6d220d7-11a8-4e0a-99fe-8e3178e3b62d"
      }
     }
    },
    "7b863230-fee9-4a08-a61b-7d9268192d03": {
     "id": "7b863230-fee9-4a08-a61b-7d9268192d03",
     "prev": "c0ec1084-11be-4239-9994-bf4870973e41",
     "regions": {
      "17c7a0e6-a550-43de-bbe1-397129ddd535": {
       "attrs": {
        "height": 0.8,
        "width": 0.8,
        "x": 0.1,
        "y": 0.1
       },
       "content": {
        "cell": "f2133715-8f17-48c2-abb9-55d1ffad2c77",
        "part": "whole"
       },
       "id": "17c7a0e6-a550-43de-bbe1-397129ddd535"
      }
     }
    },
    "7c52a06c-b0e4-47f7-83c7-2aa0387bf4e5": {
     "id": "7c52a06c-b0e4-47f7-83c7-2aa0387bf4e5",
     "prev": "dec67221-7f96-44a1-ad60-568ef6e884f3",
     "regions": {
      "8ea152f9-e45d-4feb-987f-f5adc250ed47": {
       "attrs": {
        "height": 0.8,
        "width": 0.8,
        "x": 0.1,
        "y": 0.1
       },
       "content": {
        "cell": "651b18a8-aafb-41cf-9bb7-420ec5d55ebd",
        "part": "whole"
       },
       "id": "8ea152f9-e45d-4feb-987f-f5adc250ed47"
      }
     }
    },
    "7fae851b-07b9-4a47-8d63-8243c772e7d0": {
     "id": "7fae851b-07b9-4a47-8d63-8243c772e7d0",
     "prev": "09e6c337-69df-4532-bb3a-e5c413f9a439",
     "regions": {
      "38c9dc57-0848-43c4-a1e7-a8506841907e": {
       "attrs": {
        "height": 0.8,
        "width": 0.8,
        "x": 0.1,
        "y": 0.1
       },
       "content": {
        "cell": "cc65707c-7a03-445d-93b4-570db848a45f",
        "part": "whole"
       },
       "id": "38c9dc57-0848-43c4-a1e7-a8506841907e"
      }
     }
    },
    "81f571a8-e84b-4f9e-a27f-a5e0a78a3de6": {
     "id": "81f571a8-e84b-4f9e-a27f-a5e0a78a3de6",
     "prev": "66c0cd64-a283-44e3-9db6-4a660eef1bd7",
     "regions": {
      "287b9a7d-91d7-44f7-a0cd-291c775cd23b": {
       "attrs": {
        "height": 0.8,
        "width": 0.8,
        "x": 0.1,
        "y": 0.1
       },
       "content": {
        "cell": "46ca49d6-c61f-4292-9cbd-1df28dc86720",
        "part": "whole"
       },
       "id": "287b9a7d-91d7-44f7-a0cd-291c775cd23b"
      }
     }
    },
    "85429c09-7c0e-4b6f-96b3-a1d838b8dc91": {
     "id": "85429c09-7c0e-4b6f-96b3-a1d838b8dc91",
     "prev": "a07e7714-1d53-4bd7-abd1-5e64a40073a1",
     "regions": {
      "c3182483-e117-4a68-9e8b-374f69d22938": {
       "attrs": {
        "height": 0.8,
        "width": 0.8,
        "x": 0.1,
        "y": 0.1
       },
       "content": {
        "cell": "1881a316-d87d-49d2-9fd9-19c540b3de48",
        "part": "whole"
       },
       "id": "c3182483-e117-4a68-9e8b-374f69d22938"
      }
     }
    },
    "85dfa132-5480-43f0-8211-d91c66a94356": {
     "id": "85dfa132-5480-43f0-8211-d91c66a94356",
     "prev": "24c55203-575c-45a1-a0bd-cc16e7b9f7f3",
     "regions": {
      "c9df9287-35a2-4025-aad6-a4dfbd012044": {
       "attrs": {
        "height": 0.8,
        "width": 0.8,
        "x": 0.1,
        "y": 0.1
       },
       "content": {
        "cell": "f2d39889-632d-41b5-ab32-5b8ce7123a65",
        "part": "whole"
       },
       "id": "c9df9287-35a2-4025-aad6-a4dfbd012044"
      }
     }
    },
    "8648aa49-246a-4283-9bbb-d41e6144d1cf": {
     "id": "8648aa49-246a-4283-9bbb-d41e6144d1cf",
     "prev": "85429c09-7c0e-4b6f-96b3-a1d838b8dc91",
     "regions": {
      "20684615-1dac-421d-b969-43eecc3fbca4": {
       "attrs": {
        "height": 0.8,
        "width": 0.8,
        "x": 0.1,
        "y": 0.1
       },
       "content": {
        "cell": "bbfff1b7-b572-42fb-a7be-faffbc9fa13c",
        "part": "whole"
       },
       "id": "20684615-1dac-421d-b969-43eecc3fbca4"
      }
     }
    },
    "87614eee-3d9e-4d47-afe1-43414517517b": {
     "id": "87614eee-3d9e-4d47-afe1-43414517517b",
     "prev": "5fcd3db7-dd75-4f2e-9562-10fa02f68c12",
     "regions": {
      "d0c9f9ea-876c-4239-8de7-bd9110affab4": {
       "attrs": {
        "height": 0.8,
        "width": 0.8,
        "x": 0.1,
        "y": 0.1
       },
       "content": {
        "cell": "ef8a5222-5d50-43e6-9d7b-cf6e18a2cc78",
        "part": "whole"
       },
       "id": "d0c9f9ea-876c-4239-8de7-bd9110affab4"
      }
     }
    },
    "8b4c852c-3ccd-444b-97cc-f35966fc3811": {
     "id": "8b4c852c-3ccd-444b-97cc-f35966fc3811",
     "prev": "45c0939e-0438-4d8b-8c10-5fde3ece5a71",
     "regions": {
      "29c54dfe-378d-49a1-85a3-b929b78e42be": {
       "attrs": {
        "height": 0.8,
        "width": 0.8,
        "x": 0.1,
        "y": 0.1
       },
       "content": {
        "cell": "25848b1d-4537-412d-b89b-c6857a128ac7",
        "part": "whole"
       },
       "id": "29c54dfe-378d-49a1-85a3-b929b78e42be"
      }
     }
    },
    "8c5bead7-da3d-4e8b-aef5-a2d42f8b6b7c": {
     "id": "8c5bead7-da3d-4e8b-aef5-a2d42f8b6b7c",
     "prev": "ad549f66-d8fe-4816-bd3c-3cb220f8eccc",
     "regions": {
      "109705ef-8707-4a9d-ad89-2dc8da5d82f7": {
       "attrs": {
        "height": 0.8,
        "width": 0.8,
        "x": 0.1,
        "y": 0.1
       },
       "content": {
        "cell": "774fef7e-89ea-4a30-b0fd-899fc07d4959",
        "part": "whole"
       },
       "id": "109705ef-8707-4a9d-ad89-2dc8da5d82f7"
      }
     }
    },
    "8e5b1671-49ee-428a-a032-9945d052afd6": {
     "id": "8e5b1671-49ee-428a-a032-9945d052afd6",
     "prev": "72597e74-2196-4cb0-9345-0143254ebf2d",
     "regions": {
      "5f483bea-df1d-4d0a-b425-7a5ef181ffbf": {
       "attrs": {
        "height": 0.8,
        "width": 0.8,
        "x": 0.1,
        "y": 0.1
       },
       "content": {
        "cell": "1de5a64c-3b22-4d60-8308-f51ebcf37e6c",
        "part": "whole"
       },
       "id": "5f483bea-df1d-4d0a-b425-7a5ef181ffbf"
      }
     }
    },
    "8f0562e9-3327-4a36-97fb-40924892e234": {
     "id": "8f0562e9-3327-4a36-97fb-40924892e234",
     "prev": "8b4c852c-3ccd-444b-97cc-f35966fc3811",
     "regions": {
      "33154870-a437-4b63-aac6-7f48cc84d04b": {
       "attrs": {
        "height": 0.8,
        "width": 0.8,
        "x": 0.1,
        "y": 0.1
       },
       "content": {
        "cell": "4adfcfc7-2ce5-4b3a-9e34-479afdf4b509",
        "part": "whole"
       },
       "id": "33154870-a437-4b63-aac6-7f48cc84d04b"
      }
     }
    },
    "95874585-b7c1-43c1-b550-5ef9520c0418": {
     "id": "95874585-b7c1-43c1-b550-5ef9520c0418",
     "prev": "d3ce524f-5805-462b-bedb-5197bbad77c0",
     "regions": {
      "0d418d79-77c4-45c0-9f29-f255de89eee2": {
       "attrs": {
        "height": 0.8,
        "width": 0.8,
        "x": 0.1,
        "y": 0.1
       },
       "content": {
        "cell": "b41932b6-d94f-46fa-a83b-928f004b3b4b",
        "part": "whole"
       },
       "id": "0d418d79-77c4-45c0-9f29-f255de89eee2"
      }
     }
    },
    "961a5057-cab1-4e99-8179-c662b344517d": {
     "id": "961a5057-cab1-4e99-8179-c662b344517d",
     "prev": "da930ec8-aa44-412e-8f62-f122256dfb44",
     "regions": {
      "cbbd80ef-89a1-4c90-9d98-46b83c79a238": {
       "attrs": {
        "height": 0.8,
        "width": 0.8,
        "x": 0.1,
        "y": 0.1
       },
       "content": {
        "cell": "86dc7017-6040-4d01-a5e1-ddd19e926468",
        "part": "whole"
       },
       "id": "cbbd80ef-89a1-4c90-9d98-46b83c79a238"
      }
     }
    },
    "9882d670-9777-4a42-8a04-7a39608318f3": {
     "id": "9882d670-9777-4a42-8a04-7a39608318f3",
     "prev": "1867aa3c-c961-4b86-b280-119be034947f",
     "regions": {
      "10934bbc-caeb-4eca-a93a-6416a2bb6686": {
       "attrs": {
        "height": 0.8,
        "width": 0.8,
        "x": 0.1,
        "y": 0.1
       },
       "content": {
        "cell": "ce84d494-c97a-4a86-880a-d09b303ec32d",
        "part": "whole"
       },
       "id": "10934bbc-caeb-4eca-a93a-6416a2bb6686"
      }
     }
    },
    "9a54002a-5e91-42f4-beff-ad2c72e346ba": {
     "id": "9a54002a-5e91-42f4-beff-ad2c72e346ba",
     "prev": "25a5f553-821b-4926-947c-89f94b9335c0",
     "regions": {
      "e5d601a6-574c-4846-b75e-4fb4510d90b6": {
       "attrs": {
        "height": 0.8,
        "width": 0.8,
        "x": 0.1,
        "y": 0.1
       },
       "content": {
        "cell": "e635dc47-9c4e-4b6a-9b01-6e5d3c244113",
        "part": "whole"
       },
       "id": "e5d601a6-574c-4846-b75e-4fb4510d90b6"
      }
     }
    },
    "9bae4ddf-5708-4ce4-acfd-50805859d7c4": {
     "id": "9bae4ddf-5708-4ce4-acfd-50805859d7c4",
     "prev": "52ffcad8-ade7-46f3-9b3a-a1583dcf4584",
     "regions": {
      "30657933-c9a9-4df7-8ded-5e1a4411b0d8": {
       "attrs": {
        "height": 0.8,
        "width": 0.8,
        "x": 0.1,
        "y": 0.1
       },
       "content": {
        "cell": "50a99de6-ff9e-4add-82be-6e228f0e809a",
        "part": "whole"
       },
       "id": "30657933-c9a9-4df7-8ded-5e1a4411b0d8"
      }
     }
    },
    "a07e7714-1d53-4bd7-abd1-5e64a40073a1": {
     "id": "a07e7714-1d53-4bd7-abd1-5e64a40073a1",
     "prev": "a4efb118-a99f-4f54-89df-4a17c4929431",
     "regions": {
      "50ac0eeb-d45c-4fac-b970-04b41d45dff8": {
       "attrs": {
        "height": 0.8,
        "width": 0.8,
        "x": 0.1,
        "y": 0.1
       },
       "content": {
        "cell": "98dba109-1417-45f6-b361-079ca821aeab",
        "part": "whole"
       },
       "id": "50ac0eeb-d45c-4fac-b970-04b41d45dff8"
      }
     }
    },
    "a12e1e3c-36d5-4a3e-8e1c-afa0f86cb5b1": {
     "id": "a12e1e3c-36d5-4a3e-8e1c-afa0f86cb5b1",
     "prev": "d6dd16bc-f7a8-4397-ab0c-173af0ae6ebb",
     "regions": {
      "e8a7657f-d730-4872-bcd4-1710a9f97019": {
       "attrs": {
        "height": 0.8,
        "width": 0.8,
        "x": 0.1,
        "y": 0.1
       },
       "content": {
        "cell": "3d3f0dea-f271-4022-a36c-2ab0cbdd3fa2",
        "part": "whole"
       },
       "id": "e8a7657f-d730-4872-bcd4-1710a9f97019"
      }
     }
    },
    "a1a6ea95-95c1-4e94-b5fc-26801b2e0e38": {
     "id": "a1a6ea95-95c1-4e94-b5fc-26801b2e0e38",
     "prev": "87614eee-3d9e-4d47-afe1-43414517517b",
     "regions": {
      "ce0e4f33-2f2a-485c-bd13-0cffaf7898f5": {
       "attrs": {
        "height": 0.8,
        "width": 0.8,
        "x": 0.1,
        "y": 0.1
       },
       "content": {
        "cell": "d3b1eee7-46ea-4663-90ce-09c83ca867fd",
        "part": "whole"
       },
       "id": "ce0e4f33-2f2a-485c-bd13-0cffaf7898f5"
      }
     }
    },
    "a3b0c703-f0a7-47ec-9a26-eff3e8d8e865": {
     "id": "a3b0c703-f0a7-47ec-9a26-eff3e8d8e865",
     "prev": "d8f15ee7-5499-4283-a3ec-58ab6de26594",
     "regions": {
      "a050a225-37a9-4a35-b369-bab51087a4ba": {
       "attrs": {
        "height": 0.8,
        "width": 0.8,
        "x": 0.1,
        "y": 0.1
       },
       "content": {
        "cell": "605e5874-75f3-48da-9351-317c533417a9",
        "part": "whole"
       },
       "id": "a050a225-37a9-4a35-b369-bab51087a4ba"
      }
     }
    },
    "a4efb118-a99f-4f54-89df-4a17c4929431": {
     "id": "a4efb118-a99f-4f54-89df-4a17c4929431",
     "prev": "9a54002a-5e91-42f4-beff-ad2c72e346ba",
     "regions": {
      "a3d9b57b-477f-46a8-ab31-53fdd9e05744": {
       "attrs": {
        "height": 0.8,
        "width": 0.8,
        "x": 0.1,
        "y": 0.1
       },
       "content": {
        "cell": "4cc32350-3275-40a0-a049-590181244fcd",
        "part": "whole"
       },
       "id": "a3d9b57b-477f-46a8-ab31-53fdd9e05744"
      }
     }
    },
    "aca33591-7bb8-4b5f-af97-4bbde39130e7": {
     "id": "aca33591-7bb8-4b5f-af97-4bbde39130e7",
     "prev": "1a5729d7-438d-46fa-8c2e-55df1f69e2d0",
     "regions": {
      "2018855e-aa65-4338-af22-e08f4f502dc7": {
       "attrs": {
        "height": 0.8,
        "width": 0.8,
        "x": 0.1,
        "y": 0.1
       },
       "content": {
        "cell": "0010f661-3b1b-4798-b3a1-22baea77772d",
        "part": "whole"
       },
       "id": "2018855e-aa65-4338-af22-e08f4f502dc7"
      }
     }
    },
    "ad549f66-d8fe-4816-bd3c-3cb220f8eccc": {
     "id": "ad549f66-d8fe-4816-bd3c-3cb220f8eccc",
     "prev": "ca54b436-bb58-4055-bb0f-a6e36cbc1d21",
     "regions": {
      "9ca4d127-5810-4516-a067-06e2176df333": {
       "attrs": {
        "height": 0.8,
        "width": 0.8,
        "x": 0.1,
        "y": 0.1
       },
       "content": {
        "cell": "08cdb599-0113-427c-9b8e-a47d3313a4bc",
        "part": "whole"
       },
       "id": "9ca4d127-5810-4516-a067-06e2176df333"
      }
     }
    },
    "b1a4c652-0a8d-45eb-a482-45dfaebf7aa6": {
     "id": "b1a4c652-0a8d-45eb-a482-45dfaebf7aa6",
     "prev": "d1a70b75-8250-42a1-a6a8-542e6f2799c2",
     "regions": {
      "0b9c85e3-360c-49c3-9e30-ee00a47982e0": {
       "attrs": {
        "height": 0.8,
        "width": 0.8,
        "x": 0.1,
        "y": 0.1
       },
       "content": {
        "cell": "0d843915-f4f3-40e9-8162-378ae2207385",
        "part": "whole"
       },
       "id": "0b9c85e3-360c-49c3-9e30-ee00a47982e0"
      }
     }
    },
    "b9305cdf-d72b-43ab-af68-9ac158ca35b9": {
     "id": "b9305cdf-d72b-43ab-af68-9ac158ca35b9",
     "prev": "0d6281a0-5eef-4b3e-88cc-ae20818b686c",
     "regions": {
      "1b1083d3-8e45-4a3e-b80d-7aedffd1f333": {
       "attrs": {
        "height": 0.8,
        "width": 0.8,
        "x": 0.1,
        "y": 0.1
       },
       "content": {
        "cell": "bca09c27-3277-4ec5-9b3b-5fa3b1c443d0",
        "part": "whole"
       },
       "id": "1b1083d3-8e45-4a3e-b80d-7aedffd1f333"
      }
     }
    },
    "c0ec1084-11be-4239-9994-bf4870973e41": {
     "id": "c0ec1084-11be-4239-9994-bf4870973e41",
     "prev": "3f5171fa-02b3-4981-b8d3-3ab42e6e4d1e",
     "regions": {
      "dd817ba9-add5-40f9-bfb4-84a3794d0127": {
       "attrs": {
        "height": 0.8,
        "width": 0.8,
        "x": 0.1,
        "y": 0.1
       },
       "content": {
        "cell": "ad8db883-7df3-4dcf-bc99-e328fdcb3bd0",
        "part": "whole"
       },
       "id": "dd817ba9-add5-40f9-bfb4-84a3794d0127"
      }
     }
    },
    "c1c0305e-1314-4a58-af43-a4e8b5cf66df": {
     "id": "c1c0305e-1314-4a58-af43-a4e8b5cf66df",
     "prev": "07d2631b-3ae5-4007-bc0d-664a0d1afb53",
     "regions": {
      "9f6858a4-5fee-4775-8720-767defb94d4e": {
       "attrs": {
        "height": 0.8,
        "width": 0.8,
        "x": 0.1,
        "y": 0.1
       },
       "content": {
        "cell": "cdc2a0b0-6844-4b92-9cbf-f72bc6a1fcd8",
        "part": "whole"
       },
       "id": "9f6858a4-5fee-4775-8720-767defb94d4e"
      }
     }
    },
    "c260f8be-a0ab-4822-97d6-301234f7b941": {
     "id": "c260f8be-a0ab-4822-97d6-301234f7b941",
     "prev": "f9e86113-99be-4a64-8240-818bbb09e5b2",
     "regions": {
      "42971a26-5652-48a0-877e-60b438028dfc": {
       "attrs": {
        "height": 0.8,
        "width": 0.8,
        "x": 0.1,
        "y": 0.1
       },
       "content": {
        "cell": "5a5d974c-be20-4739-bab3-013583b75788",
        "part": "whole"
       },
       "id": "42971a26-5652-48a0-877e-60b438028dfc"
      }
     }
    },
    "c3887d2c-227a-412f-a639-873e40abbd72": {
     "id": "c3887d2c-227a-412f-a639-873e40abbd72",
     "prev": "0be15516-92e5-433b-b81d-be86d95ab54c",
     "regions": {
      "a07ad556-6d45-4079-9e12-403857950a71": {
       "attrs": {
        "height": 0.8,
        "width": 0.8,
        "x": 0.1,
        "y": 0.1
       },
       "content": {
        "cell": "7f99abca-534f-49fb-8f02-519b483c39e3",
        "part": "whole"
       },
       "id": "a07ad556-6d45-4079-9e12-403857950a71"
      }
     }
    },
    "c4324ab1-8463-432b-aba4-e99b1402efaf": {
     "id": "c4324ab1-8463-432b-aba4-e99b1402efaf",
     "prev": "03ba7199-ef47-448a-976a-92ffc3654986",
     "regions": {
      "4902e643-0508-4976-b2d7-a8f764b76d86": {
       "attrs": {
        "height": 0.8,
        "width": 0.8,
        "x": 0.1,
        "y": 0.1
       },
       "content": {
        "cell": "e0405820-3650-4052-81ca-5ada0a4b8fb8",
        "part": "whole"
       },
       "id": "4902e643-0508-4976-b2d7-a8f764b76d86"
      }
     }
    },
    "c789e6bb-d40e-4733-a8b9-86bd9105c0f6": {
     "id": "c789e6bb-d40e-4733-a8b9-86bd9105c0f6",
     "prev": "1058fd86-82c5-4736-97c5-00b699e34bb6",
     "regions": {
      "e7c4ebb8-7ff2-4f0e-b3f7-39508280d0d7": {
       "attrs": {
        "height": 0.8,
        "width": 0.8,
        "x": 0.1,
        "y": 0.1
       },
       "content": {
        "cell": "4c0ba792-7b09-481f-a14c-8bacc93fa5cf",
        "part": "whole"
       },
       "id": "e7c4ebb8-7ff2-4f0e-b3f7-39508280d0d7"
      }
     }
    },
    "ca54b436-bb58-4055-bb0f-a6e36cbc1d21": {
     "id": "ca54b436-bb58-4055-bb0f-a6e36cbc1d21",
     "prev": "aca33591-7bb8-4b5f-af97-4bbde39130e7",
     "regions": {
      "9983009f-4660-4a21-81f8-6eff781927f2": {
       "attrs": {
        "height": 0.8,
        "width": 0.8,
        "x": 0.1,
        "y": 0.1
       },
       "content": {
        "cell": "ae456360-4967-46e2-8f39-0fad3af4dea3",
        "part": "whole"
       },
       "id": "9983009f-4660-4a21-81f8-6eff781927f2"
      }
     }
    },
    "cce4ec10-ec80-4dfc-beb4-85be5a78fe2a": {
     "id": "cce4ec10-ec80-4dfc-beb4-85be5a78fe2a",
     "prev": "3c0f0b6f-4f7d-4f1e-b077-77a57e5f1fac",
     "regions": {
      "0d77684f-3d79-4c68-95f3-2a006131affe": {
       "attrs": {
        "height": 0.8,
        "width": 0.8,
        "x": 0.1,
        "y": 0.1
       },
       "content": {
        "cell": "27f8139f-3f69-4fc4-b7da-d7e882c28281",
        "part": "whole"
       },
       "id": "0d77684f-3d79-4c68-95f3-2a006131affe"
      }
     }
    },
    "cf19cfa4-a5a5-464d-965a-6a014e011bb6": {
     "id": "cf19cfa4-a5a5-464d-965a-6a014e011bb6",
     "prev": "8c5bead7-da3d-4e8b-aef5-a2d42f8b6b7c",
     "regions": {
      "697e8f71-2c62-4a84-86cf-e3c23aa2ddd5": {
       "attrs": {
        "height": 0.8,
        "width": 0.8,
        "x": 0.1,
        "y": 0.1
       },
       "content": {
        "cell": "4cbb7d85-6ced-4ca7-908b-4c8a3c07cb47",
        "part": "whole"
       },
       "id": "697e8f71-2c62-4a84-86cf-e3c23aa2ddd5"
      }
     }
    },
    "d08bffd0-a52f-4a4e-8c55-bb1a1eb119a6": {
     "id": "d08bffd0-a52f-4a4e-8c55-bb1a1eb119a6",
     "prev": "55fc00ea-ae14-4302-8fb3-3e314096e3ec",
     "regions": {
      "e93c8b22-835b-40b5-85ab-42d49829eb91": {
       "attrs": {
        "height": 0.8,
        "width": 0.8,
        "x": 0.1,
        "y": 0.1
       },
       "content": {
        "cell": "bdeb7802-26a4-4bc9-a050-c8b581a3d8fe",
        "part": "whole"
       },
       "id": "e93c8b22-835b-40b5-85ab-42d49829eb91"
      }
     }
    },
    "d1a70b75-8250-42a1-a6a8-542e6f2799c2": {
     "id": "d1a70b75-8250-42a1-a6a8-542e6f2799c2",
     "prev": "41bd30c0-806a-433b-86e8-7d269b2701a0",
     "regions": {
      "730aaa13-58bf-4283-9b2b-8e9aaa0c0ff6": {
       "attrs": {
        "height": 0.8,
        "width": 0.8,
        "x": 0.1,
        "y": 0.1
       },
       "content": {
        "cell": "22834e59-a013-41fe-b68f-aa492750633d",
        "part": "whole"
       },
       "id": "730aaa13-58bf-4283-9b2b-8e9aaa0c0ff6"
      }
     }
    },
    "d3ce524f-5805-462b-bedb-5197bbad77c0": {
     "id": "d3ce524f-5805-462b-bedb-5197bbad77c0",
     "prev": "7c52a06c-b0e4-47f7-83c7-2aa0387bf4e5",
     "regions": {
      "49ed440a-4ff3-4f4f-9f21-c3c2c24bceda": {
       "attrs": {
        "height": 0.8,
        "width": 0.8,
        "x": 0.1,
        "y": 0.1
       },
       "content": {
        "cell": "1c422e03-64e8-42b5-9bfa-2bb5eb25d34f",
        "part": "whole"
       },
       "id": "49ed440a-4ff3-4f4f-9f21-c3c2c24bceda"
      }
     }
    },
    "d6dd16bc-f7a8-4397-ab0c-173af0ae6ebb": {
     "id": "d6dd16bc-f7a8-4397-ab0c-173af0ae6ebb",
     "prev": "e6a6c5f9-8e99-4332-9212-bce318163e2c",
     "regions": {
      "76fadc06-b860-4c85-9911-b1f3cea886a9": {
       "attrs": {
        "height": 0.8,
        "width": 0.8,
        "x": 0.1,
        "y": 0.1
       },
       "content": {
        "cell": "860b137d-a1d3-4cee-9f86-19ae93b13fa6",
        "part": "whole"
       },
       "id": "76fadc06-b860-4c85-9911-b1f3cea886a9"
      }
     }
    },
    "d8f15ee7-5499-4283-a3ec-58ab6de26594": {
     "id": "d8f15ee7-5499-4283-a3ec-58ab6de26594",
     "prev": "b1a4c652-0a8d-45eb-a482-45dfaebf7aa6",
     "regions": {
      "db57c606-3bba-46ca-a187-2679e1e072d2": {
       "attrs": {
        "height": 0.8,
        "width": 0.8,
        "x": 0.1,
        "y": 0.1
       },
       "content": {
        "cell": "31e0837e-675a-4b31-87e4-d1738cab3960",
        "part": "whole"
       },
       "id": "db57c606-3bba-46ca-a187-2679e1e072d2"
      }
     }
    },
    "da930ec8-aa44-412e-8f62-f122256dfb44": {
     "id": "da930ec8-aa44-412e-8f62-f122256dfb44",
     "prev": "6a7160df-450d-488e-8467-1f3fc2f23976",
     "regions": {
      "58f4fdd5-9456-4e77-a288-2f7bd8cf45af": {
       "attrs": {
        "height": 0.8,
        "width": 0.8,
        "x": 0.1,
        "y": 0.1
       },
       "content": {
        "cell": "9c0b87ec-5261-45ed-a1e8-b3412ba7ca69",
        "part": "whole"
       },
       "id": "58f4fdd5-9456-4e77-a288-2f7bd8cf45af"
      }
     }
    },
    "dec67221-7f96-44a1-ad60-568ef6e884f3": {
     "id": "dec67221-7f96-44a1-ad60-568ef6e884f3",
     "prev": "532a6b9e-cabf-471d-adbc-c40ea7223016",
     "regions": {
      "3e615447-45eb-4e6b-a9f7-ed42d109f7ac": {
       "attrs": {
        "height": 0.8,
        "width": 0.8,
        "x": 0.1,
        "y": 0.1
       },
       "content": {
        "cell": "1b95b432-504e-4c25-a668-5d4076b255e9",
        "part": "whole"
       },
       "id": "3e615447-45eb-4e6b-a9f7-ed42d109f7ac"
      }
     }
    },
    "e28da4f5-df99-42af-9352-2b53513737c1": {
     "id": "e28da4f5-df99-42af-9352-2b53513737c1",
     "prev": "4a4019de-4db5-4be8-8ff4-164742f7928c",
     "regions": {
      "e4a6d7b3-ed4b-4c43-9781-d80644d87877": {
       "attrs": {
        "height": 0.8,
        "width": 0.8,
        "x": 0.1,
        "y": 0.1
       },
       "content": {
        "cell": "0e0e71bb-1ff4-4fbb-831f-436123a9a57d",
        "part": "whole"
       },
       "id": "e4a6d7b3-ed4b-4c43-9781-d80644d87877"
      }
     }
    },
    "e6a6c5f9-8e99-4332-9212-bce318163e2c": {
     "id": "e6a6c5f9-8e99-4332-9212-bce318163e2c",
     "prev": "c789e6bb-d40e-4733-a8b9-86bd9105c0f6",
     "regions": {
      "258f0556-5901-4ebd-b13f-1aa7b7434efb": {
       "attrs": {
        "height": 0.8,
        "width": 0.8,
        "x": 0.1,
        "y": 0.1
       },
       "content": {
        "cell": "f5ea014b-bbcc-428d-9406-c61b1688f2bd",
        "part": "whole"
       },
       "id": "258f0556-5901-4ebd-b13f-1aa7b7434efb"
      }
     }
    },
    "eb8ffa7d-4547-47f6-a19e-87784214e7c4": {
     "id": "eb8ffa7d-4547-47f6-a19e-87784214e7c4",
     "prev": "8648aa49-246a-4283-9bbb-d41e6144d1cf",
     "regions": {
      "19a2cf41-2f73-46c9-a197-0959bb4912ee": {
       "attrs": {
        "height": 0.8,
        "width": 0.8,
        "x": 0.1,
        "y": 0.1
       },
       "content": {
        "cell": "92455ade-0148-4946-9bfd-187c8827c4c5",
        "part": "whole"
       },
       "id": "19a2cf41-2f73-46c9-a197-0959bb4912ee"
      }
     }
    },
    "ed05e93d-ae04-43e9-a3b0-c67e65de5549": {
     "id": "ed05e93d-ae04-43e9-a3b0-c67e65de5549",
     "prev": "5b98f8e1-68a0-4a7b-a6e4-cb9c92674c44",
     "regions": {
      "d3ec8385-04b0-4f2b-ad9d-a66462ec0694": {
       "attrs": {
        "height": 0.8,
        "width": 0.8,
        "x": 0.1,
        "y": 0.1
       },
       "content": {
        "cell": "90d77434-0d77-4c7b-83de-8fd581bf19e5",
        "part": "whole"
       },
       "id": "d3ec8385-04b0-4f2b-ad9d-a66462ec0694"
      }
     }
    },
    "f03829a0-6d67-4670-9fdc-4a48a290aedd": {
     "id": "f03829a0-6d67-4670-9fdc-4a48a290aedd",
     "prev": "1ee03190-b983-49cf-98dc-77a65abdb0c4",
     "regions": {
      "17a58338-58b0-4878-ba3d-69dd03a49489": {
       "attrs": {
        "height": 0.8,
        "width": 0.8,
        "x": 0.1,
        "y": 0.1
       },
       "content": {
        "cell": "e50adfc6-d468-4b51-aa31-3ea215e9080d",
        "part": "whole"
       },
       "id": "17a58338-58b0-4878-ba3d-69dd03a49489"
      }
     }
    },
    "f197d31c-6364-4d78-93af-560271523c87": {
     "id": "f197d31c-6364-4d78-93af-560271523c87",
     "prev": "2d96d611-b4e4-4d41-b0db-0d6d3bdb35d3",
     "regions": {
      "e5220e88-125d-431f-bf40-91b11dcb2ef0": {
       "attrs": {
        "height": 0.8,
        "width": 0.8,
        "x": 0.1,
        "y": 0.1
       },
       "content": {
        "cell": "0ce4c0c1-f9c8-4a39-830c-3b947dac0be7",
        "part": "whole"
       },
       "id": "e5220e88-125d-431f-bf40-91b11dcb2ef0"
      }
     }
    },
    "f24711b9-5571-475a-8e49-d82345660b25": {
     "id": "f24711b9-5571-475a-8e49-d82345660b25",
     "prev": "f197d31c-6364-4d78-93af-560271523c87",
     "regions": {
      "73bf8c3a-e928-494f-8679-5244dd83e7a4": {
       "attrs": {
        "height": 0.8,
        "width": 0.8,
        "x": 0.1,
        "y": 0.1
       },
       "content": {
        "cell": "147c4f04-50cb-478d-b3ea-807e8b60496c",
        "part": "whole"
       },
       "id": "73bf8c3a-e928-494f-8679-5244dd83e7a4"
      }
     }
    },
    "f4549cf3-6a48-486e-bcfd-55bff2e48d43": {
     "id": "f4549cf3-6a48-486e-bcfd-55bff2e48d43",
     "prev": "431bb463-a4a8-4b41-98cb-1c285fc2bcaf",
     "regions": {
      "498c1800-430a-4626-931c-561db326ba13": {
       "attrs": {
        "height": 0.8,
        "width": 0.8,
        "x": 0.1,
        "y": 0.1
       },
       "content": {
        "cell": "d3d797b6-a4f1-40b4-8960-75882778c725",
        "part": "whole"
       },
       "id": "498c1800-430a-4626-931c-561db326ba13"
      }
     }
    },
    "f50588fc-9b05-4ffd-9067-2c56ccb0ada3": {
     "id": "f50588fc-9b05-4ffd-9067-2c56ccb0ada3",
     "prev": "25dc1c78-be45-427a-ac1f-b34224932125",
     "regions": {
      "bfe46e4f-ca81-4474-b0ef-770093ab6078": {
       "attrs": {
        "height": 0.8,
        "width": 0.8,
        "x": 0.1,
        "y": 0.1
       },
       "content": {
        "cell": "83aab36d-60ec-40c4-8f50-d59fe8a532e5",
        "part": "whole"
       },
       "id": "bfe46e4f-ca81-4474-b0ef-770093ab6078"
      }
     }
    },
    "f7d6ec0e-ba48-4460-8524-a75955fda034": {
     "id": "f7d6ec0e-ba48-4460-8524-a75955fda034",
     "prev": "85dfa132-5480-43f0-8211-d91c66a94356",
     "regions": {
      "faaf3255-8434-4427-8f69-f77aabf4ba84": {
       "attrs": {
        "height": 0.8,
        "width": 0.8,
        "x": 0.1,
        "y": 0.1
       },
       "content": {
        "cell": "f3fb49fd-7a49-4141-bb7b-34ac22ab3621",
        "part": "whole"
       },
       "id": "faaf3255-8434-4427-8f69-f77aabf4ba84"
      }
     }
    },
    "f8918f13-4630-435b-b9ce-6862d7ffd9ff": {
     "id": "f8918f13-4630-435b-b9ce-6862d7ffd9ff",
     "prev": "5f16dcd4-9cee-45f0-ae2c-e9ab91efb462",
     "regions": {
      "1074aea6-1af4-40f2-b422-136ee5b59433": {
       "attrs": {
        "height": 0.8,
        "width": 0.8,
        "x": 0.1,
        "y": 0.1
       },
       "content": {
        "cell": "2e6c643a-42d9-4666-89b1-ae8209f13f8c",
        "part": "whole"
       },
       "id": "1074aea6-1af4-40f2-b422-136ee5b59433"
      }
     }
    },
    "f9e86113-99be-4a64-8240-818bbb09e5b2": {
     "id": "f9e86113-99be-4a64-8240-818bbb09e5b2",
     "prev": "0398551d-3e27-4bb0-969f-a65b103be71f",
     "regions": {
      "c0601b36-b6dd-45f0-a7a9-be637a27ed16": {
       "attrs": {
        "height": 0.8,
        "width": 0.8,
        "x": 0.1,
        "y": 0.1
       },
       "content": {
        "cell": "6db80ae9-4704-4286-b59e-9ec1f1d170a3",
        "part": "whole"
       },
       "id": "c0601b36-b6dd-45f0-a7a9-be637a27ed16"
      }
     }
    },
    "fa5ac177-01b1-43a3-8d25-a4b99efe3e03": {
     "id": "fa5ac177-01b1-43a3-8d25-a4b99efe3e03",
     "prev": "e28da4f5-df99-42af-9352-2b53513737c1",
     "regions": {
      "163850ad-7ec1-4cfa-bb81-e66d539a23bb": {
       "attrs": {
        "height": 0.8,
        "width": 0.8,
        "x": 0.1,
        "y": 0.1
       },
       "content": {
        "cell": "74c87caf-001f-4597-b479-8652166d0e87",
        "part": "whole"
       },
       "id": "163850ad-7ec1-4cfa-bb81-e66d539a23bb"
      }
     }
    }
   },
   "themes": {}
  }
 },
 "nbformat": 4,
 "nbformat_minor": 2
}
