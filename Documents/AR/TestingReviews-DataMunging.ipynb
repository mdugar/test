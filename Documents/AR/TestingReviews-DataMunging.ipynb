{
 "cells": [
  {
   "cell_type": "markdown",
   "metadata": {},
   "source": [
    "##### Importing Modules"
   ]
  },
  {
   "cell_type": "code",
   "execution_count": 1,
   "metadata": {
    "collapsed": true
   },
   "outputs": [],
   "source": [
    "import pandas as pd\n",
    "import gzip"
   ]
  },
  {
   "cell_type": "code",
   "execution_count": 2,
   "metadata": {
    "collapsed": true
   },
   "outputs": [],
   "source": [
    "import matplotlib.pyplot as plt"
   ]
  },
  {
   "cell_type": "code",
   "execution_count": 3,
   "metadata": {
    "collapsed": true
   },
   "outputs": [],
   "source": [
    "import datetime\n",
    "import calendar"
   ]
  },
  {
   "cell_type": "code",
   "execution_count": 4,
   "metadata": {
    "collapsed": true
   },
   "outputs": [],
   "source": [
    "import numpy as np"
   ]
  },
  {
   "cell_type": "code",
   "execution_count": 5,
   "metadata": {
    "collapsed": true
   },
   "outputs": [],
   "source": [
    "from string import punctuation"
   ]
  },
  {
   "cell_type": "code",
   "execution_count": 6,
   "metadata": {
    "collapsed": true
   },
   "outputs": [],
   "source": [
    "from __future__ import division"
   ]
  },
  {
   "cell_type": "code",
   "execution_count": 7,
   "metadata": {
    "collapsed": true
   },
   "outputs": [],
   "source": [
    "from nltk.tokenize import word_tokenize \n",
    "from nltk.tokenize import sent_tokenize\n",
    "from nltk.tokenize import regexp_tokenize"
   ]
  },
  {
   "cell_type": "code",
   "execution_count": 8,
   "metadata": {
    "collapsed": true
   },
   "outputs": [],
   "source": [
    "import re"
   ]
  },
  {
   "cell_type": "code",
   "execution_count": 9,
   "metadata": {
    "collapsed": false
   },
   "outputs": [],
   "source": [
    "# data visualization\n",
    "# pip install seaborn\n",
    "import seaborn as sns"
   ]
  },
  {
   "cell_type": "code",
   "execution_count": 10,
   "metadata": {
    "collapsed": false
   },
   "outputs": [],
   "source": [
    "%matplotlib inline\n",
    "from matplotlib import pyplot as plt\n",
    "from matplotlib import style\n",
    "plt.style.use('fivethirtyeight')"
   ]
  },
  {
   "cell_type": "markdown",
   "metadata": {},
   "source": [
    "# Start of Data Munging Section"
   ]
  },
  {
   "cell_type": "markdown",
   "metadata": {},
   "source": [
    "###### Function to GUnzip a File"
   ]
  },
  {
   "cell_type": "code",
   "execution_count": 11,
   "metadata": {
    "collapsed": true
   },
   "outputs": [],
   "source": [
    "def parse(path):\n",
    "  g = gzip.open(path, 'rb')\n",
    "  for l in g:\n",
    "    yield eval(l)"
   ]
  },
  {
   "cell_type": "markdown",
   "metadata": {},
   "source": [
    "###### Function to return a Dataframe from a JSON - Gzip file"
   ]
  },
  {
   "cell_type": "code",
   "execution_count": 12,
   "metadata": {
    "collapsed": true
   },
   "outputs": [],
   "source": [
    "def getDF(path):\n",
    "  i = 0\n",
    "  df = {}\n",
    "  for d in parse(path):\n",
    "    df[i] = d\n",
    "    i += 1\n",
    "  return pd.DataFrame.from_dict(df, orient='index')"
   ]
  },
  {
   "cell_type": "markdown",
   "metadata": {},
   "source": [
    "###### Reading the Reviews into DataFrames"
   ]
  },
  {
   "cell_type": "code",
   "execution_count": 13,
   "metadata": {
    "collapsed": true
   },
   "outputs": [],
   "source": [
    "df_IV = getDF('reviews_Amazon_Instant_Video_5.json.gz')\n",
    "df_AA = getDF('reviews_Apps_for_Android_5.json.gz')\n",
    "df_AU = getDF('reviews_Automotive_5.json.gz')\n",
    "df_BA = getDF('reviews_Baby_5.json.gz')\n",
    "df_BE = getDF('reviews_Beauty_5.json.gz')\n",
    "df_BO = getDF('reviews_Books_5.json.gz')\n",
    "df_CV = getDF('reviews_CDs_and_Vinyl_5.json.gz')\n",
    "df_CP = getDF('reviews_Cell_Phones_and_Accessories_5.json.gz')\n",
    "df_CJ = getDF('reviews_Clothing_Shoes_and_Jewelry_5.json.gz')\n",
    "df_DM = getDF('reviews_Digital_Music_5.json.gz')\n",
    "df_EL = getDF('reviews_Electronics_5.json.gz')\n",
    "df_GG = getDF('reviews_Grocery_and_Gourmet_Food_5.json.gz')\n",
    "df_HP = getDF('reviews_Health_and_Personal_Care_5.json.gz')\n",
    "df_HK = getDF('reviews_Home_and_Kitchen_5.json.gz')\n",
    "df_KS = getDF('reviews_Kindle_Store_5.json.gz')\n",
    "df_MT = getDF('reviews_Movies_and_TV_5.json.gz')\n",
    "df_MI = getDF('reviews_Musical_Instruments_5.json.gz')\n",
    "df_OP = getDF('reviews_Office_Products_5.json.gz')\n",
    "df_LG = getDF('reviews_Patio_Lawn_and_Garden_5.json.gz')\n",
    "df_PS = getDF('reviews_Pet_Supplies_5.json.gz')\n",
    "df_SO = getDF('reviews_Sports_and_Outdoors_5.json.gz')\n",
    "df_TH = getDF('reviews_Tools_and_Home_Improvement_5.json.gz')\n",
    "df_TG = getDF('reviews_Toys_and_Games_5.json.gz')\n",
    "df_VG = getDF('reviews_Video_Games_5.json.gz')"
   ]
  },
  {
   "cell_type": "markdown",
   "metadata": {},
   "source": [
    "###### Adding the Product Type Column to each DataFrame"
   ]
  },
  {
   "cell_type": "code",
   "execution_count": 14,
   "metadata": {
    "collapsed": false
   },
   "outputs": [],
   "source": [
    "df_IV['ProductType'] = 'Instant Video'\n",
    "df_AA['ProductType'] = 'Android Apps'\n",
    "df_AU['ProductType'] = 'Automotive'\n",
    "df_BA['ProductType'] = 'Baby'\n",
    "df_BE['ProductType'] = 'Beauty'\n",
    "df_BO['ProductType'] = 'Books'\n",
    "df_CV['ProductType'] = 'CDs_and_Vinyl'\n",
    "df_CP['ProductType'] = 'Cell_Phones_and_Accessories'\n",
    "df_CJ['ProductType'] = 'Clothing_Shoes_and_Jewelry'\n",
    "df_DM['ProductType'] = 'Digital_Music'\n",
    "df_EL['ProductType'] = 'Electronics'\n",
    "df_GG['ProductType'] = 'Grocery_and_Gourmet_Food'\n",
    "df_HP['ProductType'] = 'Health_and_Personal_Care'\n",
    "df_HK['ProductType'] = 'Home_and_Kitchen'\n",
    "df_KS['ProductType'] = 'Kindle_Store'\n",
    "df_MT['ProductType'] = 'Movies_and_TV'\n",
    "df_MI['ProductType'] = 'Musical_Instruments'\n",
    "df_OP['ProductType'] = 'Office_Products'\n",
    "df_LG['ProductType'] = 'Patio_Lawn_and_Garden'\n",
    "df_PS['ProductType'] = 'Pet_Supplies'\n",
    "df_SO['ProductType'] = 'Sports_and_Outdoors'\n",
    "df_TH['ProductType'] = 'Tools_and_Home_Improvement'\n",
    "df_TG['ProductType'] = 'Toys_and_Games'\n",
    "df_VG['ProductType'] = 'Video_Games'"
   ]
  },
  {
   "cell_type": "markdown",
   "metadata": {},
   "source": [
    "###### Adding individual DFs to AmazonReviewsDataFrame List"
   ]
  },
  {
   "cell_type": "code",
   "execution_count": 15,
   "metadata": {
    "collapsed": false
   },
   "outputs": [
    {
     "name": "stdout",
     "output_type": "stream",
     "text": [
      "<class 'pandas.core.frame.DataFrame'>\n",
      "Int64Index: 37126 entries, 0 to 37125\n",
      "Data columns (total 10 columns):\n",
      "reviewTime        37126 non-null object\n",
      "summary           37126 non-null object\n",
      "reviewText        37126 non-null object\n",
      "unixReviewTime    37126 non-null int64\n",
      "asin              37126 non-null object\n",
      "overall           37126 non-null float64\n",
      "helpful           37126 non-null object\n",
      "reviewerName      36797 non-null object\n",
      "reviewerID        37126 non-null object\n",
      "ProductType       37126 non-null object\n",
      "dtypes: float64(1), int64(1), object(8)\n",
      "memory usage: 3.1+ MB\n",
      "None\n",
      "<class 'pandas.core.frame.DataFrame'>\n",
      "Int64Index: 231780 entries, 0 to 231779\n",
      "Data columns (total 10 columns):\n",
      "reviewTime        231780 non-null object\n",
      "summary           231780 non-null object\n",
      "reviewText        231780 non-null object\n",
      "unixReviewTime    231780 non-null int64\n",
      "asin              231780 non-null object\n",
      "overall           231780 non-null float64\n",
      "helpful           231780 non-null object\n",
      "reviewerName      228967 non-null object\n",
      "reviewerID        231780 non-null object\n",
      "ProductType       231780 non-null object\n",
      "dtypes: float64(1), int64(1), object(8)\n",
      "memory usage: 19.5+ MB\n",
      "None\n"
     ]
    }
   ],
   "source": [
    "df_AzReviews =[]\n",
    "df_AzReviews.append(df_IV)\n",
    "df_AzReviews.append(df_AA)\n",
    "df_AzReviews.append(df_AU) \n",
    "df_AzReviews.append(df_BA) \n",
    "df_AzReviews.append(df_BE) \n",
    "df_AzReviews.append(df_BO) \n",
    "df_AzReviews.append(df_CV) \n",
    "df_AzReviews.append(df_CP) \n",
    "df_AzReviews.append(df_CJ) \n",
    "df_AzReviews.append(df_DM) \n",
    "df_AzReviews.append(df_EL) \n",
    "df_AzReviews.append(df_GG)\n",
    "df_AzReviews.append(df_HP) \n",
    "df_AzReviews.append(df_HK) \n",
    "df_AzReviews.append(df_KS) \n",
    "df_AzReviews.append(df_MT)\n",
    "df_AzReviews.append(df_MI) \n",
    "df_AzReviews.append(df_OP)\n",
    "df_AzReviews.append(df_LG) \n",
    "df_AzReviews.append(df_PS) \n",
    "df_AzReviews.append(df_SO)\n",
    "df_AzReviews.append(df_TH)\n",
    "df_AzReviews.append(df_TG)\n",
    "df_AzReviews.append(df_VG)\n",
    "\n",
    "print(df_AzReviews[0].info())  \n",
    "print(df_AzReviews[23].info())  "
   ]
  },
  {
   "cell_type": "markdown",
   "metadata": {},
   "source": [
    "###### Add Column Names to Ratings Dataframe since it is missing the Header"
   ]
  },
  {
   "cell_type": "code",
   "execution_count": 30,
   "metadata": {
    "collapsed": false
   },
   "outputs": [],
   "source": [
    "RatingColumnNames = ['reviewerID','asin','overall','unixReviewTime']"
   ]
  },
  {
   "cell_type": "markdown",
   "metadata": {},
   "source": [
    "###### Reading the Ratings into DataFrames"
   ]
  },
  {
   "cell_type": "code",
   "execution_count": 31,
   "metadata": {
    "collapsed": false
   },
   "outputs": [],
   "source": [
    "df_RT_IV = pd.read_csv('ratings_Amazon_Instant_Video.csv', header=0, names=RatingColumnNames)\n",
    "df_RT_AA = pd.read_csv('ratings_Apps_for_Android.csv',  header=0, names=RatingColumnNames)\n",
    "df_RT_AU = pd.read_csv('ratings_Automotive.csv',  header=0, names=RatingColumnNames)\n",
    "df_RT_BA = pd.read_csv('ratings_Baby.csv', header=0, names=RatingColumnNames)\n",
    "df_RT_BE = pd.read_csv('ratings_Beauty.csv', header=0, names=RatingColumnNames)\n",
    "df_RT_BO = pd.read_csv('ratings_Books.csv', header=0, names=RatingColumnNames)\n",
    "df_RT_CV = pd.read_csv('ratings_CDs_and_Vinyl.csv', header=0, names=RatingColumnNames)\n",
    "df_RT_CP = pd.read_csv('ratings_Cell_Phones_and_Accessories.csv', header=0, names=RatingColumnNames)\n",
    "df_RT_CJ = pd.read_csv('ratings_Clothing_Shoes_and_Jewelry.csv', header=0, names=RatingColumnNames)\n",
    "df_RT_DM = pd.read_csv('ratings_Digital_Music.csv', header=0, names=RatingColumnNames)\n",
    "df_RT_EL = pd.read_csv('ratings_Electronics.csv', header=0, names=RatingColumnNames)\n",
    "df_RT_GG = pd.read_csv('ratings_Grocery_and_Gourmet_Food.csv', header=0, names=RatingColumnNames)\n",
    "df_RT_HP = pd.read_csv('ratings_Health_and_Personal_Care.csv', header=0, names=RatingColumnNames)\n",
    "df_RT_HK = pd.read_csv('ratings_Home_and_Kitchen.csv', header=0, names=RatingColumnNames)\n",
    "df_RT_KS = pd.read_csv('ratings_Kindle_Store.csv', header=0, names=RatingColumnNames)\n",
    "df_RT_MT = pd.read_csv('ratings_Movies_and_TV.csv', header=0, names=RatingColumnNames)\n",
    "df_RT_MI = pd.read_csv('ratings_Musical_Instruments.csv', header=0, names=RatingColumnNames)\n",
    "df_RT_OP = pd.read_csv('ratings_Office_Products.csv', header=0, names=RatingColumnNames)\n",
    "df_RT_LG = pd.read_csv('ratings_Patio_Lawn_and_Garden.csv', header=0, names=RatingColumnNames)\n",
    "df_RT_PS = pd.read_csv('ratings_Pet_Supplies.csv', header=0, names=RatingColumnNames)\n",
    "df_RT_SO = pd.read_csv('ratings_Sports_and_Outdoors.csv', header=0, names=RatingColumnNames)\n",
    "df_RT_TH = pd.read_csv('ratings_Tools_and_Home_Improvement.csv', header=0, names=RatingColumnNames)\n",
    "df_RT_TG = pd.read_csv('ratings_Toys_and_Games.csv', header=0, names=RatingColumnNames)\n",
    "df_RT_VG = pd.read_csv('ratings_Video_Games.csv', header=0, names=RatingColumnNames)"
   ]
  },
  {
   "cell_type": "markdown",
   "metadata": {},
   "source": [
    "###### Adding the Product Type Column to each DataFrame"
   ]
  },
  {
   "cell_type": "code",
   "execution_count": 32,
   "metadata": {
    "collapsed": false
   },
   "outputs": [],
   "source": [
    "df_RT_IV['ProductType'] = 'Instant Video'\n",
    "df_RT_AA['ProductType'] = 'Android Apps'\n",
    "df_RT_AU['ProductType'] = 'Automotive'\n",
    "df_RT_BA['ProductType'] = 'Baby'\n",
    "df_RT_BE['ProductType'] = 'Beauty'\n",
    "df_RT_BO['ProductType'] = 'Books'\n",
    "df_RT_CV['ProductType'] = 'CDs_and_Vinyl'\n",
    "df_RT_CP['ProductType'] = 'Cell_Phones_and_Accessories'\n",
    "df_RT_CJ['ProductType'] = 'Clothing_Shoes_and_Jewelry'\n",
    "df_RT_DM['ProductType'] = 'Digital_Music'\n",
    "df_RT_EL['ProductType'] = 'Electronics'\n",
    "df_RT_GG['ProductType'] = 'Grocery_and_Gourmet_Food'\n",
    "df_RT_HP['ProductType'] = 'Health_and_Personal_Care'\n",
    "df_RT_HK['ProductType'] = 'Home_and_Kitchen'\n",
    "df_RT_KS['ProductType'] = 'Kindle_Store'\n",
    "df_RT_MT['ProductType'] = 'Movies_and_TV'\n",
    "df_RT_MI['ProductType'] = 'Musical_Instruments'\n",
    "df_RT_OP['ProductType'] = 'Office_Products'\n",
    "df_RT_LG['ProductType'] = 'Patio_Lawn_and_Garden'\n",
    "df_RT_PS['ProductType'] = 'Pet_Supplies'\n",
    "df_RT_SO['ProductType'] = 'Sports_and_Outdoors'\n",
    "df_RT_TH['ProductType'] = 'Tools_and_Home_Improvement'\n",
    "df_RT_TG['ProductType'] = 'Toys_and_Games'\n",
    "df_RT_VG['ProductType'] = 'Video_Games'"
   ]
  },
  {
   "cell_type": "markdown",
   "metadata": {},
   "source": [
    "###### Adding individual DFs to AmazonRatingsDataFrame List"
   ]
  },
  {
   "cell_type": "code",
   "execution_count": 33,
   "metadata": {
    "collapsed": false
   },
   "outputs": [
    {
     "name": "stdout",
     "output_type": "stream",
     "text": [
      "<class 'pandas.core.frame.DataFrame'>\n",
      "RangeIndex: 583932 entries, 0 to 583931\n",
      "Data columns (total 5 columns):\n",
      "reviewerID        583932 non-null object\n",
      "asin              583932 non-null object\n",
      "overall           583932 non-null float64\n",
      "unixReviewTime    583932 non-null int64\n",
      "ProductType       583932 non-null object\n",
      "dtypes: float64(1), int64(1), object(3)\n",
      "memory usage: 22.3+ MB\n",
      "None\n",
      "<class 'pandas.core.frame.DataFrame'>\n",
      "RangeIndex: 1324752 entries, 0 to 1324751\n",
      "Data columns (total 5 columns):\n",
      "reviewerID        1324752 non-null object\n",
      "asin              1324752 non-null object\n",
      "overall           1324752 non-null float64\n",
      "unixReviewTime    1324752 non-null int64\n",
      "ProductType       1324752 non-null object\n",
      "dtypes: float64(1), int64(1), object(3)\n",
      "memory usage: 50.5+ MB\n",
      "None\n"
     ]
    }
   ],
   "source": [
    "df_AzRatings =[]\n",
    "df_AzRatings.append(df_RT_IV)\n",
    "df_AzRatings.append(df_RT_AA)\n",
    "df_AzRatings.append(df_RT_AU) \n",
    "df_AzRatings.append(df_RT_BA) \n",
    "df_AzRatings.append(df_RT_BE) \n",
    "df_AzRatings.append(df_RT_BO) \n",
    "df_AzRatings.append(df_RT_CV) \n",
    "df_AzRatings.append(df_RT_CP) \n",
    "df_AzRatings.append(df_RT_CJ) \n",
    "df_AzRatings.append(df_RT_DM) \n",
    "df_AzRatings.append(df_RT_EL) \n",
    "df_AzRatings.append(df_RT_GG)\n",
    "df_AzRatings.append(df_RT_HP) \n",
    "df_AzRatings.append(df_RT_HK) \n",
    "df_AzRatings.append(df_RT_KS) \n",
    "df_AzRatings.append(df_RT_MT)\n",
    "df_AzRatings.append(df_RT_MI) \n",
    "df_AzRatings.append(df_RT_OP)\n",
    "df_AzRatings.append(df_RT_LG) \n",
    "df_AzRatings.append(df_RT_PS) \n",
    "df_AzRatings.append(df_RT_SO)\n",
    "df_AzRatings.append(df_RT_TH)\n",
    "df_AzRatings.append(df_RT_TG)\n",
    "df_AzRatings.append(df_RT_VG)\n",
    "\n",
    "print(df_AzRatings[0].info())  \n",
    "print(df_AzRatings[23].info()) "
   ]
  },
  {
   "cell_type": "markdown",
   "metadata": {},
   "source": [
    "###### Printing Reviews and Ratings Dataframes"
   ]
  },
  {
   "cell_type": "code",
   "execution_count": 34,
   "metadata": {
    "collapsed": false
   },
   "outputs": [
    {
     "name": "stdout",
     "output_type": "stream",
     "text": [
      "    reviewTime                                          summary  \\\n",
      "0   07 9, 2012         Pay to unlock content? I don't think so.   \n",
      "1  06 30, 2013                                  Good rally game   \n",
      "2  06 28, 2014                                        Wrong key   \n",
      "3  09 14, 2011  awesome game, if it did not crash frequently !!   \n",
      "4  06 14, 2011                                           DIRT 3   \n",
      "\n",
      "                                          reviewText  unixReviewTime  \\\n",
      "0  Installing the game was a struggle (because of...      1341792000   \n",
      "1  If you like rally cars get this game you will ...      1372550400   \n",
      "2  1st shipment received a book instead of the ga...      1403913600   \n",
      "3  I got this version instead of the PS3 version,...      1315958400   \n",
      "4  I had Dirt 2 on Xbox 360 and it was an okay ga...      1308009600   \n",
      "\n",
      "         asin  overall  helpful                        reviewerName  \\\n",
      "0  0700099867      1.0  [8, 12]                                 123   \n",
      "1  0700099867      4.0   [0, 0]  Alejandro Henao \"Electronic Junky\"   \n",
      "2  0700099867      1.0   [0, 0]          Amazon Shopper \"Mr.Repsol\"   \n",
      "3  0700099867      3.0  [7, 10]                            ampgreen   \n",
      "4  0700099867      4.0   [2, 2]        Angry Ryan \"Ryan A. Forrest\"   \n",
      "\n",
      "       reviewerID  ProductType  \n",
      "0  A2HD75EMZR8QLN  Video_Games  \n",
      "1  A3UR8NLLY1ZHCX  Video_Games  \n",
      "2  A1INA0F5CWW3J4  Video_Games  \n",
      "3  A1DLMTOTHQ4AST  Video_Games  \n",
      "4  A361M14PU2GUEG  Video_Games  \n"
     ]
    }
   ],
   "source": [
    "print(df_AzReviews[23].head())"
   ]
  },
  {
   "cell_type": "code",
   "execution_count": 35,
   "metadata": {
    "collapsed": false
   },
   "outputs": [
    {
     "name": "stdout",
     "output_type": "stream",
     "text": [
      "       reviewerID        asin  overall  unixReviewTime  ProductType\n",
      "0  A24SSUT5CSW8BH  0078764343      5.0      1377302400  Video_Games\n",
      "1   AK3V0HEBJMQ7J  0078764343      4.0      1372896000  Video_Games\n",
      "2  A10BECPH7W8HM7  043933702X      5.0      1404950400  Video_Games\n",
      "3  A2PRV9OULX1TWP  043933702X      5.0      1386115200  Video_Games\n",
      "4   AE7GUHCDQQ4UI  043933702X      1.0      1366156800  Video_Games\n"
     ]
    }
   ],
   "source": [
    "print(df_AzRatings[23].head())"
   ]
  },
  {
   "cell_type": "markdown",
   "metadata": {},
   "source": [
    "###### Dataframe df_AzReviews[23] and df_AzRatings[23] Before dropna"
   ]
  },
  {
   "cell_type": "code",
   "execution_count": 36,
   "metadata": {
    "collapsed": false
   },
   "outputs": [
    {
     "name": "stdout",
     "output_type": "stream",
     "text": [
      "<class 'pandas.core.frame.DataFrame'>\n",
      "Int64Index: 231780 entries, 0 to 231779\n",
      "Data columns (total 10 columns):\n",
      "reviewTime        231780 non-null object\n",
      "summary           231780 non-null object\n",
      "reviewText        231780 non-null object\n",
      "unixReviewTime    231780 non-null int64\n",
      "asin              231780 non-null object\n",
      "overall           231780 non-null float64\n",
      "helpful           231780 non-null object\n",
      "reviewerName      228967 non-null object\n",
      "reviewerID        231780 non-null object\n",
      "ProductType       231780 non-null object\n",
      "dtypes: float64(1), int64(1), object(8)\n",
      "memory usage: 19.5+ MB\n"
     ]
    }
   ],
   "source": [
    "df_AzReviews[23].info()"
   ]
  },
  {
   "cell_type": "code",
   "execution_count": 37,
   "metadata": {
    "collapsed": false
   },
   "outputs": [
    {
     "name": "stdout",
     "output_type": "stream",
     "text": [
      "<class 'pandas.core.frame.DataFrame'>\n",
      "RangeIndex: 1324752 entries, 0 to 1324751\n",
      "Data columns (total 5 columns):\n",
      "reviewerID        1324752 non-null object\n",
      "asin              1324752 non-null object\n",
      "overall           1324752 non-null float64\n",
      "unixReviewTime    1324752 non-null int64\n",
      "ProductType       1324752 non-null object\n",
      "dtypes: float64(1), int64(1), object(3)\n",
      "memory usage: 50.5+ MB\n"
     ]
    }
   ],
   "source": [
    "df_AzRatings[23].info()"
   ]
  },
  {
   "cell_type": "markdown",
   "metadata": {},
   "source": [
    "###### Dataframe df_AzReviews[23] and df_AzRatings[23] After dropna - Shows no change in row numbers for Ratings DF"
   ]
  },
  {
   "cell_type": "code",
   "execution_count": 38,
   "metadata": {
    "collapsed": false
   },
   "outputs": [
    {
     "name": "stdout",
     "output_type": "stream",
     "text": [
      "<class 'pandas.core.frame.DataFrame'>\n",
      "Int64Index: 228967 entries, 0 to 231779\n",
      "Data columns (total 10 columns):\n",
      "reviewTime        228967 non-null object\n",
      "summary           228967 non-null object\n",
      "reviewText        228967 non-null object\n",
      "unixReviewTime    228967 non-null int64\n",
      "asin              228967 non-null object\n",
      "overall           228967 non-null float64\n",
      "helpful           228967 non-null object\n",
      "reviewerName      228967 non-null object\n",
      "reviewerID        228967 non-null object\n",
      "ProductType       228967 non-null object\n",
      "dtypes: float64(1), int64(1), object(8)\n",
      "memory usage: 19.2+ MB\n"
     ]
    }
   ],
   "source": [
    "df_AzReviews[23].dropna(how=\"any\",inplace = True)\n",
    "df_AzReviews[23].info()"
   ]
  },
  {
   "cell_type": "code",
   "execution_count": 39,
   "metadata": {
    "collapsed": false
   },
   "outputs": [
    {
     "name": "stdout",
     "output_type": "stream",
     "text": [
      "<class 'pandas.core.frame.DataFrame'>\n",
      "Int64Index: 1324752 entries, 0 to 1324751\n",
      "Data columns (total 5 columns):\n",
      "reviewerID        1324752 non-null object\n",
      "asin              1324752 non-null object\n",
      "overall           1324752 non-null float64\n",
      "unixReviewTime    1324752 non-null int64\n",
      "ProductType       1324752 non-null object\n",
      "dtypes: float64(1), int64(1), object(3)\n",
      "memory usage: 60.6+ MB\n"
     ]
    }
   ],
   "source": [
    "df_AzRatings[23].dropna(how=\"any\",inplace = True)\n",
    "df_AzRatings[23].info()"
   ]
  },
  {
   "cell_type": "markdown",
   "metadata": {},
   "source": [
    "###### Dataframe df_AzReviews -  running the dropna method on the list of DFs"
   ]
  },
  {
   "cell_type": "code",
   "execution_count": 40,
   "metadata": {
    "collapsed": true
   },
   "outputs": [],
   "source": [
    "for i in range(24):\n",
    "    df_AzReviews[i].dropna(how=\"any\",inplace = True)"
   ]
  },
  {
   "cell_type": "markdown",
   "metadata": {},
   "source": [
    "###### Dataframe df_AzRatings -  running the dropna method on the list of DFs"
   ]
  },
  {
   "cell_type": "code",
   "execution_count": 41,
   "metadata": {
    "collapsed": true
   },
   "outputs": [],
   "source": [
    "for i in range(24):\n",
    "    df_AzRatings[i].dropna(how=\"any\",inplace = True)"
   ]
  },
  {
   "cell_type": "markdown",
   "metadata": {},
   "source": [
    "###### Printing Reviews & Rating Dataframe Heads to check data integrity"
   ]
  },
  {
   "cell_type": "code",
   "execution_count": 43,
   "metadata": {
    "collapsed": false
   },
   "outputs": [
    {
     "name": "stdout",
     "output_type": "stream",
     "text": [
      "    reviewTime                         summary  \\\n",
      "0   05 3, 2014      A little bit boring for me   \n",
      "1   09 3, 2012           Excellent Grown Up TV   \n",
      "2  10 16, 2013           Way too boring for me   \n",
      "3  10 30, 2013     Robson Green is mesmerizing   \n",
      "4  02 11, 2009  Robson green and great writing   \n",
      "\n",
      "                                          reviewText  unixReviewTime  \\\n",
      "0  I had big expectations because I love English ...      1399075200   \n",
      "1  I highly recommend this series. It is a must f...      1346630400   \n",
      "2  This one is a real snoozer. Don't believe anyt...      1381881600   \n",
      "3  Mysteries are interesting.  The tension betwee...      1383091200   \n",
      "4  This show always is excellent, as far as briti...      1234310400   \n",
      "\n",
      "         asin  overall helpful                    reviewerName  \\\n",
      "0  B000H00VBQ      2.0  [0, 0]                        AdrianaM   \n",
      "1  B000H00VBQ      5.0  [0, 0]                         Carol T   \n",
      "2  B000H00VBQ      1.0  [0, 1]  Daniel Cooper \"dancoopermedia\"   \n",
      "3  B000H00VBQ      4.0  [0, 0]                  J. Kaplan \"JJ\"   \n",
      "4  B000H00VBQ      5.0  [1, 1]                   Michael Dobey   \n",
      "\n",
      "       reviewerID    ProductType  \n",
      "0  A11N155CW1UV02  Instant Video  \n",
      "1  A3BC8O2KCL29V2  Instant Video  \n",
      "2   A60D5HQFOTSOM  Instant Video  \n",
      "3  A1RJPIGRSNX4PW  Instant Video  \n",
      "4  A16XRPF40679KG  Instant Video  \n",
      "       reviewerID        asin  overall  unixReviewTime    ProductType\n",
      "0   AGZ8SM1BGK3CK  B000GFDAUG      5.0      1198195200  Instant Video\n",
      "1  A2VHZ21245KBT7  B000GIOPK2      4.0      1215388800  Instant Video\n",
      "2   ACX8YW2D5EGP6  B000GIOPK2      4.0      1185840000  Instant Video\n",
      "3   A9RNMO9MUSMTJ  B000GIOPK2      2.0      1281052800  Instant Video\n",
      "4  A3STFVPM8NHJ7B  B000GIOPK2      5.0      1203897600  Instant Video\n"
     ]
    }
   ],
   "source": [
    "print(df_AzReviews[0].head())\n",
    "print(df_AzRatings[0].head())"
   ]
  },
  {
   "cell_type": "markdown",
   "metadata": {},
   "source": [
    "###### Printing Reviews & Rating Dataframe Tails to check data integrity"
   ]
  },
  {
   "cell_type": "code",
   "execution_count": 44,
   "metadata": {
    "collapsed": false
   },
   "outputs": [
    {
     "name": "stdout",
     "output_type": "stream",
     "text": [
      "        reviewTime                                            summary  \\\n",
      "37121  07 19, 2014                                      Great Series!   \n",
      "37122  07 14, 2014  Forget the Vampire Diaries -- This is a REAL V...   \n",
      "37123  07 14, 2014  It's only the first episode so I'm not real su...   \n",
      "37124  07 14, 2014  and that is good. The accents are a bit much h...   \n",
      "37125  07 16, 2014                  I may have paid towatch the pilot   \n",
      "\n",
      "                                              reviewText  unixReviewTime  \\\n",
      "37121  I love the books! The show is amazing so far. ...      1405728000   \n",
      "37122  \"The Strain\" has potential to be an excellent ...      1405296000   \n",
      "37123  I'm not real sure on how, I should rate this s...      1405296000   \n",
      "37124  episode one so far makes me want to watch more...      1405296000   \n",
      "37125  I watched the pilot.  I guess I've just seen t...      1405468800   \n",
      "\n",
      "             asin  overall   helpful             reviewerName      reviewerID  \\\n",
      "37121  B00LPWPMCS      5.0    [0, 0]                    Mpr90  A1ELO9LMSE1CQ7   \n",
      "37122  B00LPWPMCS      5.0  [13, 15]             Mr. Markster   AGOEKVIJV9UX6   \n",
      "37123  B00LPWPMCS      3.0    [0, 2]      Rating My Best Pick  A3I291BE0RNZCU   \n",
      "37124  B00LPWPMCS      4.0    [1, 1]  Sherry \"trying in ohio\"  A1MNITZRYU71IO   \n",
      "37125  B00LPWPMCS      3.0    [3, 4]     Victoria J. Dennison  A1XMHK9HN5MW2H   \n",
      "\n",
      "         ProductType  \n",
      "37121  Instant Video  \n",
      "37122  Instant Video  \n",
      "37123  Instant Video  \n",
      "37124  Instant Video  \n",
      "37125  Instant Video  \n",
      "            reviewerID        asin  overall  unixReviewTime    ProductType\n",
      "583927   A9MBSKL8LTFN9  B00LTMHUW4      5.0      1405987200  Instant Video\n",
      "583928  A3U3RFL0XE4F7V  B00LTMJ29S      4.0      1405382400  Instant Video\n",
      "583929   AEO407GROR6JB  B00LU8ONBI      1.0      1405468800  Instant Video\n",
      "583930  A2YXWWVABHWIXN  B00LU8ONBI      5.0      1405728000  Instant Video\n",
      "583931   ANZJEQZRYUCBC  B00LXQXLGU      4.0      1405900800  Instant Video\n"
     ]
    }
   ],
   "source": [
    "print(df_AzReviews[0].tail())\n",
    "print(df_AzRatings[0].tail())"
   ]
  },
  {
   "cell_type": "markdown",
   "metadata": {},
   "source": [
    "# Start of Data Analysis"
   ]
  },
  {
   "cell_type": "markdown",
   "metadata": {},
   "source": [
    "###### Splitting DateTimestamp field"
   ]
  },
  {
   "cell_type": "code",
   "execution_count": 45,
   "metadata": {
    "collapsed": false
   },
   "outputs": [
    {
     "name": "stdout",
     "output_type": "stream",
     "text": [
      "2008-02-06 00:00:00\n",
      "2008\n",
      "2\n",
      "6\n"
     ]
    }
   ],
   "source": [
    "date = datetime.datetime.utcfromtimestamp(1202256000)\n",
    "print(date)\n",
    "print(date.year)\n",
    "print(date.month)\n",
    "print(date.day)"
   ]
  },
  {
   "cell_type": "markdown",
   "metadata": {},
   "source": [
    "###### Checking the 'reviewText' field in the Review dataframe"
   ]
  },
  {
   "cell_type": "code",
   "execution_count": 46,
   "metadata": {
    "collapsed": false
   },
   "outputs": [
    {
     "name": "stdout",
     "output_type": "stream",
     "text": [
      "0    I had big expectations because I love English ...\n",
      "1    I highly recommend this series. It is a must f...\n",
      "2    This one is a real snoozer. Don't believe anyt...\n",
      "3    Mysteries are interesting.  The tension betwee...\n",
      "4    This show always is excellent, as far as briti...\n",
      "Name: reviewText, dtype: object\n"
     ]
    }
   ],
   "source": [
    "print(df_AzReviews[0]['reviewText'].head())"
   ]
  },
  {
   "cell_type": "markdown",
   "metadata": {},
   "source": [
    "###### Checking the entire 'reviewText' field of the few records of Reviews Dataframe"
   ]
  },
  {
   "cell_type": "code",
   "execution_count": 47,
   "metadata": {
    "collapsed": false
   },
   "outputs": [
    {
     "name": "stdout",
     "output_type": "stream",
     "text": [
      "I had big expectations because I love English TV, in particular Investigative and detective stuff but this guy is really boring. It didn't appeal to me at all.\n"
     ]
    }
   ],
   "source": [
    "print(df_AzReviews[0]['reviewText'][0])"
   ]
  },
  {
   "cell_type": "code",
   "execution_count": 48,
   "metadata": {
    "collapsed": false
   },
   "outputs": [
    {
     "name": "stdout",
     "output_type": "stream",
     "text": [
      "Oh, how my little grandson loves this app. He's always asking for \"Monkey.\" Grandma has tired of it long before he has. Finding the items on each page that he can touch and activate is endlessly entertaining for him, at least for now. Well worth the $.99.\n"
     ]
    }
   ],
   "source": [
    "print(df_AzReviews[1]['reviewText'][1])"
   ]
  },
  {
   "cell_type": "markdown",
   "metadata": {},
   "source": [
    "###### Checking the length (number of characters) in entire 'reviewText' field of the few records of Reviews Dataframe"
   ]
  },
  {
   "cell_type": "code",
   "execution_count": 49,
   "metadata": {
    "collapsed": false
   },
   "outputs": [
    {
     "name": "stdout",
     "output_type": "stream",
     "text": [
      "159\n"
     ]
    }
   ],
   "source": [
    "print(len(df_AzReviews[0]['reviewText'][0]))"
   ]
  },
  {
   "cell_type": "code",
   "execution_count": 50,
   "metadata": {
    "collapsed": false
   },
   "outputs": [
    {
     "name": "stdout",
     "output_type": "stream",
     "text": [
      "255\n"
     ]
    }
   ],
   "source": [
    "print(len(df_AzReviews[1]['reviewText'][1]))"
   ]
  },
  {
   "cell_type": "markdown",
   "metadata": {},
   "source": [
    "###### Checking 'Overall' Score (1-5) in the few records of Reviews Dataframe"
   ]
  },
  {
   "cell_type": "code",
   "execution_count": 51,
   "metadata": {
    "collapsed": false
   },
   "outputs": [
    {
     "name": "stdout",
     "output_type": "stream",
     "text": [
      "2.0\n"
     ]
    }
   ],
   "source": [
    "print(df_AzReviews[0]['overall'][0])"
   ]
  },
  {
   "cell_type": "code",
   "execution_count": 52,
   "metadata": {
    "collapsed": false
   },
   "outputs": [
    {
     "name": "stdout",
     "output_type": "stream",
     "text": [
      "5.0\n"
     ]
    }
   ],
   "source": [
    "print(df_AzReviews[1]['overall'][1])"
   ]
  },
  {
   "cell_type": "markdown",
   "metadata": {},
   "source": [
    "###### Working with the first few (Head) records of the Reviews and Ratings for testing purposes and creating smaller dataframes"
   ]
  },
  {
   "cell_type": "code",
   "execution_count": 101,
   "metadata": {
    "collapsed": false
   },
   "outputs": [],
   "source": [
    "df_IV5_head = df_AzReviews[0].head()\n",
    "df_AA5_head = df_AzReviews[1].head()"
   ]
  },
  {
   "cell_type": "code",
   "execution_count": 102,
   "metadata": {
    "collapsed": true
   },
   "outputs": [],
   "source": [
    "df_RT_IV5_head = df_AzRatings[0].head()\n",
    "df_RT_AA5_head = df_AzRatings[1].head()"
   ]
  },
  {
   "cell_type": "markdown",
   "metadata": {},
   "source": [
    "###### Verifying Head data for Reviews and Ratings"
   ]
  },
  {
   "cell_type": "code",
   "execution_count": 103,
   "metadata": {
    "collapsed": false
   },
   "outputs": [
    {
     "data": {
      "text/html": [
       "<div>\n",
       "<table border=\"1\" class=\"dataframe\">\n",
       "  <thead>\n",
       "    <tr style=\"text-align: right;\">\n",
       "      <th></th>\n",
       "      <th>reviewTime</th>\n",
       "      <th>summary</th>\n",
       "      <th>reviewText</th>\n",
       "      <th>unixReviewTime</th>\n",
       "      <th>asin</th>\n",
       "      <th>overall</th>\n",
       "      <th>helpful</th>\n",
       "      <th>reviewerName</th>\n",
       "      <th>reviewerID</th>\n",
       "      <th>ProductType</th>\n",
       "    </tr>\n",
       "  </thead>\n",
       "  <tbody>\n",
       "    <tr>\n",
       "      <th>0</th>\n",
       "      <td>11 2, 2013</td>\n",
       "      <td>Really cute</td>\n",
       "      <td>Loves the song, so he really couldn't wait to ...</td>\n",
       "      <td>1383350400</td>\n",
       "      <td>B004A9SDD8</td>\n",
       "      <td>3.0</td>\n",
       "      <td>[1, 1]</td>\n",
       "      <td>Annette Yancey</td>\n",
       "      <td>A1N4O8VOJZTDVB</td>\n",
       "      <td>Android Apps</td>\n",
       "    </tr>\n",
       "    <tr>\n",
       "      <th>1</th>\n",
       "      <td>12 5, 2011</td>\n",
       "      <td>2-year-old loves it</td>\n",
       "      <td>Oh, how my little grandson loves this app. He'...</td>\n",
       "      <td>1323043200</td>\n",
       "      <td>B004A9SDD8</td>\n",
       "      <td>5.0</td>\n",
       "      <td>[0, 0]</td>\n",
       "      <td>Audiobook lover \"Kathy\"</td>\n",
       "      <td>A2HQWU6HUKIEC7</td>\n",
       "      <td>Android Apps</td>\n",
       "    </tr>\n",
       "    <tr>\n",
       "      <th>2</th>\n",
       "      <td>05 21, 2012</td>\n",
       "      <td>Fun game</td>\n",
       "      <td>I found this at a perfect time since my daught...</td>\n",
       "      <td>1337558400</td>\n",
       "      <td>B004A9SDD8</td>\n",
       "      <td>5.0</td>\n",
       "      <td>[0, 0]</td>\n",
       "      <td>Barbara Gibbs</td>\n",
       "      <td>A1SXASF6GYG96I</td>\n",
       "      <td>Android Apps</td>\n",
       "    </tr>\n",
       "    <tr>\n",
       "      <th>3</th>\n",
       "      <td>12 6, 2012</td>\n",
       "      <td>We love our Monkeys!</td>\n",
       "      <td>My 1 year old goes back to this game over and ...</td>\n",
       "      <td>1354752000</td>\n",
       "      <td>B004A9SDD8</td>\n",
       "      <td>5.0</td>\n",
       "      <td>[3, 4]</td>\n",
       "      <td>Brooke Greenstreet \"Babylove\"</td>\n",
       "      <td>A2B54P9ZDYH167</td>\n",
       "      <td>Android Apps</td>\n",
       "    </tr>\n",
       "    <tr>\n",
       "      <th>4</th>\n",
       "      <td>02 1, 2014</td>\n",
       "      <td>This is my granddaughters favorite app on my K...</td>\n",
       "      <td>There are three different versions of the song...</td>\n",
       "      <td>1391212800</td>\n",
       "      <td>B004A9SDD8</td>\n",
       "      <td>5.0</td>\n",
       "      <td>[1, 1]</td>\n",
       "      <td>C. Galindo</td>\n",
       "      <td>AFOFZDTX5UC6D</td>\n",
       "      <td>Android Apps</td>\n",
       "    </tr>\n",
       "  </tbody>\n",
       "</table>\n",
       "</div>"
      ],
      "text/plain": [
       "    reviewTime                                            summary  \\\n",
       "0   11 2, 2013                                        Really cute   \n",
       "1   12 5, 2011                                2-year-old loves it   \n",
       "2  05 21, 2012                                           Fun game   \n",
       "3   12 6, 2012                               We love our Monkeys!   \n",
       "4   02 1, 2014  This is my granddaughters favorite app on my K...   \n",
       "\n",
       "                                          reviewText  unixReviewTime  \\\n",
       "0  Loves the song, so he really couldn't wait to ...      1383350400   \n",
       "1  Oh, how my little grandson loves this app. He'...      1323043200   \n",
       "2  I found this at a perfect time since my daught...      1337558400   \n",
       "3  My 1 year old goes back to this game over and ...      1354752000   \n",
       "4  There are three different versions of the song...      1391212800   \n",
       "\n",
       "         asin  overall helpful                   reviewerName      reviewerID  \\\n",
       "0  B004A9SDD8      3.0  [1, 1]                 Annette Yancey  A1N4O8VOJZTDVB   \n",
       "1  B004A9SDD8      5.0  [0, 0]        Audiobook lover \"Kathy\"  A2HQWU6HUKIEC7   \n",
       "2  B004A9SDD8      5.0  [0, 0]                  Barbara Gibbs  A1SXASF6GYG96I   \n",
       "3  B004A9SDD8      5.0  [3, 4]  Brooke Greenstreet \"Babylove\"  A2B54P9ZDYH167   \n",
       "4  B004A9SDD8      5.0  [1, 1]                     C. Galindo   AFOFZDTX5UC6D   \n",
       "\n",
       "    ProductType  \n",
       "0  Android Apps  \n",
       "1  Android Apps  \n",
       "2  Android Apps  \n",
       "3  Android Apps  \n",
       "4  Android Apps  "
      ]
     },
     "execution_count": 103,
     "metadata": {},
     "output_type": "execute_result"
    }
   ],
   "source": [
    "df_AA5_head"
   ]
  },
  {
   "cell_type": "code",
   "execution_count": 104,
   "metadata": {
    "collapsed": false
   },
   "outputs": [
    {
     "data": {
      "text/html": [
       "<div>\n",
       "<table border=\"1\" class=\"dataframe\">\n",
       "  <thead>\n",
       "    <tr style=\"text-align: right;\">\n",
       "      <th></th>\n",
       "      <th>reviewerID</th>\n",
       "      <th>asin</th>\n",
       "      <th>overall</th>\n",
       "      <th>unixReviewTime</th>\n",
       "      <th>ProductType</th>\n",
       "    </tr>\n",
       "  </thead>\n",
       "  <tbody>\n",
       "    <tr>\n",
       "      <th>0</th>\n",
       "      <td>A1ZUSQ3TC3EC4C</td>\n",
       "      <td>B004A9SDD8</td>\n",
       "      <td>5.0</td>\n",
       "      <td>1321574400</td>\n",
       "      <td>Android Apps</td>\n",
       "    </tr>\n",
       "    <tr>\n",
       "      <th>1</th>\n",
       "      <td>AC05OAXD72X1V</td>\n",
       "      <td>B004A9SDD8</td>\n",
       "      <td>4.0</td>\n",
       "      <td>1367366400</td>\n",
       "      <td>Android Apps</td>\n",
       "    </tr>\n",
       "    <tr>\n",
       "      <th>2</th>\n",
       "      <td>A2RVMFOKBVM21I</td>\n",
       "      <td>B004A9SDD8</td>\n",
       "      <td>5.0</td>\n",
       "      <td>1350172800</td>\n",
       "      <td>Android Apps</td>\n",
       "    </tr>\n",
       "    <tr>\n",
       "      <th>3</th>\n",
       "      <td>A3NBSRGUWQGCMZ</td>\n",
       "      <td>B004A9SDD8</td>\n",
       "      <td>1.0</td>\n",
       "      <td>1300838400</td>\n",
       "      <td>Android Apps</td>\n",
       "    </tr>\n",
       "    <tr>\n",
       "      <th>4</th>\n",
       "      <td>A2KTVCVZJ8GPD2</td>\n",
       "      <td>B004A9SDD8</td>\n",
       "      <td>5.0</td>\n",
       "      <td>1393545600</td>\n",
       "      <td>Android Apps</td>\n",
       "    </tr>\n",
       "  </tbody>\n",
       "</table>\n",
       "</div>"
      ],
      "text/plain": [
       "       reviewerID        asin  overall  unixReviewTime   ProductType\n",
       "0  A1ZUSQ3TC3EC4C  B004A9SDD8      5.0      1321574400  Android Apps\n",
       "1   AC05OAXD72X1V  B004A9SDD8      4.0      1367366400  Android Apps\n",
       "2  A2RVMFOKBVM21I  B004A9SDD8      5.0      1350172800  Android Apps\n",
       "3  A3NBSRGUWQGCMZ  B004A9SDD8      1.0      1300838400  Android Apps\n",
       "4  A2KTVCVZJ8GPD2  B004A9SDD8      5.0      1393545600  Android Apps"
      ]
     },
     "execution_count": 104,
     "metadata": {},
     "output_type": "execute_result"
    }
   ],
   "source": [
    "df_RT_AA5_head"
   ]
  },
  {
   "cell_type": "markdown",
   "metadata": {},
   "source": [
    "###### Getting metadata of the Ratings Dataframe"
   ]
  },
  {
   "cell_type": "code",
   "execution_count": 105,
   "metadata": {
    "collapsed": false
   },
   "outputs": [
    {
     "data": {
      "text/plain": [
       "(5, 5)"
      ]
     },
     "execution_count": 105,
     "metadata": {},
     "output_type": "execute_result"
    }
   ],
   "source": [
    "df_RT_AA5_head.shape"
   ]
  },
  {
   "cell_type": "code",
   "execution_count": 106,
   "metadata": {
    "collapsed": false
   },
   "outputs": [
    {
     "name": "stdout",
     "output_type": "stream",
     "text": [
      "<class 'pandas.core.frame.DataFrame'>\n",
      "Int64Index: 5 entries, 0 to 4\n",
      "Data columns (total 5 columns):\n",
      "reviewerID        5 non-null object\n",
      "asin              5 non-null object\n",
      "overall           5 non-null float64\n",
      "unixReviewTime    5 non-null int64\n",
      "ProductType       5 non-null object\n",
      "dtypes: float64(1), int64(1), object(3)\n",
      "memory usage: 240.0+ bytes\n"
     ]
    }
   ],
   "source": [
    "df_RT_AA5_head.info()"
   ]
  },
  {
   "cell_type": "code",
   "execution_count": 107,
   "metadata": {
    "collapsed": false
   },
   "outputs": [
    {
     "data": {
      "text/html": [
       "<div>\n",
       "<table border=\"1\" class=\"dataframe\">\n",
       "  <thead>\n",
       "    <tr style=\"text-align: right;\">\n",
       "      <th></th>\n",
       "      <th>overall</th>\n",
       "      <th>unixReviewTime</th>\n",
       "    </tr>\n",
       "  </thead>\n",
       "  <tbody>\n",
       "    <tr>\n",
       "      <th>count</th>\n",
       "      <td>5.000000</td>\n",
       "      <td>5.000000e+00</td>\n",
       "    </tr>\n",
       "    <tr>\n",
       "      <th>mean</th>\n",
       "      <td>4.000000</td>\n",
       "      <td>1.346700e+09</td>\n",
       "    </tr>\n",
       "    <tr>\n",
       "      <th>std</th>\n",
       "      <td>1.732051</td>\n",
       "      <td>3.663418e+07</td>\n",
       "    </tr>\n",
       "    <tr>\n",
       "      <th>min</th>\n",
       "      <td>1.000000</td>\n",
       "      <td>1.300838e+09</td>\n",
       "    </tr>\n",
       "    <tr>\n",
       "      <th>25%</th>\n",
       "      <td>4.000000</td>\n",
       "      <td>1.321574e+09</td>\n",
       "    </tr>\n",
       "    <tr>\n",
       "      <th>50%</th>\n",
       "      <td>5.000000</td>\n",
       "      <td>1.350173e+09</td>\n",
       "    </tr>\n",
       "    <tr>\n",
       "      <th>75%</th>\n",
       "      <td>5.000000</td>\n",
       "      <td>1.367366e+09</td>\n",
       "    </tr>\n",
       "    <tr>\n",
       "      <th>max</th>\n",
       "      <td>5.000000</td>\n",
       "      <td>1.393546e+09</td>\n",
       "    </tr>\n",
       "  </tbody>\n",
       "</table>\n",
       "</div>"
      ],
      "text/plain": [
       "        overall  unixReviewTime\n",
       "count  5.000000    5.000000e+00\n",
       "mean   4.000000    1.346700e+09\n",
       "std    1.732051    3.663418e+07\n",
       "min    1.000000    1.300838e+09\n",
       "25%    4.000000    1.321574e+09\n",
       "50%    5.000000    1.350173e+09\n",
       "75%    5.000000    1.367366e+09\n",
       "max    5.000000    1.393546e+09"
      ]
     },
     "execution_count": 107,
     "metadata": {},
     "output_type": "execute_result"
    }
   ],
   "source": [
    "df_RT_AA5_head.describe()"
   ]
  },
  {
   "cell_type": "code",
   "execution_count": 108,
   "metadata": {
    "collapsed": false
   },
   "outputs": [
    {
     "data": {
      "text/plain": [
       "Int64Index([0, 1, 2, 3, 4], dtype='int64')"
      ]
     },
     "execution_count": 108,
     "metadata": {},
     "output_type": "execute_result"
    }
   ],
   "source": [
    "df_RT_AA5_head.index"
   ]
  },
  {
   "cell_type": "code",
   "execution_count": 109,
   "metadata": {
    "collapsed": false
   },
   "outputs": [
    {
     "data": {
      "text/plain": [
       "'reviewerID'"
      ]
     },
     "execution_count": 109,
     "metadata": {},
     "output_type": "execute_result"
    }
   ],
   "source": [
    "df_RT_AA5_head.columns[0]"
   ]
  },
  {
   "cell_type": "code",
   "execution_count": 110,
   "metadata": {
    "collapsed": false
   },
   "outputs": [
    {
     "data": {
      "text/plain": [
       "Index(['A1ZUSQ3TC3EC4C', 'AC05OAXD72X1V', 'A2RVMFOKBVM21I', 'A3NBSRGUWQGCMZ',\n",
       "       'A2KTVCVZJ8GPD2'],\n",
       "      dtype='object', name='reviewerID')"
      ]
     },
     "execution_count": 110,
     "metadata": {},
     "output_type": "execute_result"
    }
   ],
   "source": [
    "df_RT_AA5_head.set_index(df_RT_AA5_head.columns[0],inplace=True)\n",
    "\n",
    "df_RT_AA5_head.index"
   ]
  },
  {
   "cell_type": "code",
   "execution_count": 111,
   "metadata": {
    "collapsed": false
   },
   "outputs": [
    {
     "data": {
      "text/html": [
       "<div>\n",
       "<table border=\"1\" class=\"dataframe\">\n",
       "  <thead>\n",
       "    <tr style=\"text-align: right;\">\n",
       "      <th></th>\n",
       "      <th>asin</th>\n",
       "      <th>overall</th>\n",
       "      <th>unixReviewTime</th>\n",
       "      <th>ProductType</th>\n",
       "    </tr>\n",
       "    <tr>\n",
       "      <th>reviewerID</th>\n",
       "      <th></th>\n",
       "      <th></th>\n",
       "      <th></th>\n",
       "      <th></th>\n",
       "    </tr>\n",
       "  </thead>\n",
       "  <tbody>\n",
       "    <tr>\n",
       "      <th>A1ZUSQ3TC3EC4C</th>\n",
       "      <td>B004A9SDD8</td>\n",
       "      <td>5.0</td>\n",
       "      <td>1321574400</td>\n",
       "      <td>Android Apps</td>\n",
       "    </tr>\n",
       "    <tr>\n",
       "      <th>AC05OAXD72X1V</th>\n",
       "      <td>B004A9SDD8</td>\n",
       "      <td>4.0</td>\n",
       "      <td>1367366400</td>\n",
       "      <td>Android Apps</td>\n",
       "    </tr>\n",
       "    <tr>\n",
       "      <th>A2RVMFOKBVM21I</th>\n",
       "      <td>B004A9SDD8</td>\n",
       "      <td>5.0</td>\n",
       "      <td>1350172800</td>\n",
       "      <td>Android Apps</td>\n",
       "    </tr>\n",
       "    <tr>\n",
       "      <th>A3NBSRGUWQGCMZ</th>\n",
       "      <td>B004A9SDD8</td>\n",
       "      <td>1.0</td>\n",
       "      <td>1300838400</td>\n",
       "      <td>Android Apps</td>\n",
       "    </tr>\n",
       "    <tr>\n",
       "      <th>A2KTVCVZJ8GPD2</th>\n",
       "      <td>B004A9SDD8</td>\n",
       "      <td>5.0</td>\n",
       "      <td>1393545600</td>\n",
       "      <td>Android Apps</td>\n",
       "    </tr>\n",
       "  </tbody>\n",
       "</table>\n",
       "</div>"
      ],
      "text/plain": [
       "                      asin  overall  unixReviewTime   ProductType\n",
       "reviewerID                                                       \n",
       "A1ZUSQ3TC3EC4C  B004A9SDD8      5.0      1321574400  Android Apps\n",
       "AC05OAXD72X1V   B004A9SDD8      4.0      1367366400  Android Apps\n",
       "A2RVMFOKBVM21I  B004A9SDD8      5.0      1350172800  Android Apps\n",
       "A3NBSRGUWQGCMZ  B004A9SDD8      1.0      1300838400  Android Apps\n",
       "A2KTVCVZJ8GPD2  B004A9SDD8      5.0      1393545600  Android Apps"
      ]
     },
     "execution_count": 111,
     "metadata": {},
     "output_type": "execute_result"
    }
   ],
   "source": [
    "df_RT_AA5_head"
   ]
  },
  {
   "cell_type": "markdown",
   "metadata": {},
   "source": [
    "###### Getting metadata of the Reviews Dataframe"
   ]
  },
  {
   "cell_type": "code",
   "execution_count": 112,
   "metadata": {
    "collapsed": false
   },
   "outputs": [
    {
     "data": {
      "text/plain": [
       "(5, 4)"
      ]
     },
     "execution_count": 112,
     "metadata": {},
     "output_type": "execute_result"
    }
   ],
   "source": [
    "df_RT_AA5_head.shape"
   ]
  },
  {
   "cell_type": "code",
   "execution_count": 113,
   "metadata": {
    "collapsed": false
   },
   "outputs": [
    {
     "name": "stdout",
     "output_type": "stream",
     "text": [
      "<class 'pandas.core.frame.DataFrame'>\n",
      "Int64Index: 5 entries, 0 to 4\n",
      "Data columns (total 10 columns):\n",
      "reviewTime        5 non-null object\n",
      "summary           5 non-null object\n",
      "reviewText        5 non-null object\n",
      "unixReviewTime    5 non-null int64\n",
      "asin              5 non-null object\n",
      "overall           5 non-null float64\n",
      "helpful           5 non-null object\n",
      "reviewerName      5 non-null object\n",
      "reviewerID        5 non-null object\n",
      "ProductType       5 non-null object\n",
      "dtypes: float64(1), int64(1), object(8)\n",
      "memory usage: 440.0+ bytes\n"
     ]
    }
   ],
   "source": [
    "df_AA5_head.info()"
   ]
  },
  {
   "cell_type": "code",
   "execution_count": 114,
   "metadata": {
    "collapsed": false
   },
   "outputs": [
    {
     "data": {
      "text/html": [
       "<div>\n",
       "<table border=\"1\" class=\"dataframe\">\n",
       "  <thead>\n",
       "    <tr style=\"text-align: right;\">\n",
       "      <th></th>\n",
       "      <th>unixReviewTime</th>\n",
       "      <th>overall</th>\n",
       "    </tr>\n",
       "  </thead>\n",
       "  <tbody>\n",
       "    <tr>\n",
       "      <th>count</th>\n",
       "      <td>5.000000e+00</td>\n",
       "      <td>5.000000</td>\n",
       "    </tr>\n",
       "    <tr>\n",
       "      <th>mean</th>\n",
       "      <td>1.357983e+09</td>\n",
       "      <td>4.600000</td>\n",
       "    </tr>\n",
       "    <tr>\n",
       "      <th>std</th>\n",
       "      <td>2.913811e+07</td>\n",
       "      <td>0.894427</td>\n",
       "    </tr>\n",
       "    <tr>\n",
       "      <th>min</th>\n",
       "      <td>1.323043e+09</td>\n",
       "      <td>3.000000</td>\n",
       "    </tr>\n",
       "    <tr>\n",
       "      <th>25%</th>\n",
       "      <td>1.337558e+09</td>\n",
       "      <td>5.000000</td>\n",
       "    </tr>\n",
       "    <tr>\n",
       "      <th>50%</th>\n",
       "      <td>1.354752e+09</td>\n",
       "      <td>5.000000</td>\n",
       "    </tr>\n",
       "    <tr>\n",
       "      <th>75%</th>\n",
       "      <td>1.383350e+09</td>\n",
       "      <td>5.000000</td>\n",
       "    </tr>\n",
       "    <tr>\n",
       "      <th>max</th>\n",
       "      <td>1.391213e+09</td>\n",
       "      <td>5.000000</td>\n",
       "    </tr>\n",
       "  </tbody>\n",
       "</table>\n",
       "</div>"
      ],
      "text/plain": [
       "       unixReviewTime   overall\n",
       "count    5.000000e+00  5.000000\n",
       "mean     1.357983e+09  4.600000\n",
       "std      2.913811e+07  0.894427\n",
       "min      1.323043e+09  3.000000\n",
       "25%      1.337558e+09  5.000000\n",
       "50%      1.354752e+09  5.000000\n",
       "75%      1.383350e+09  5.000000\n",
       "max      1.391213e+09  5.000000"
      ]
     },
     "execution_count": 114,
     "metadata": {},
     "output_type": "execute_result"
    }
   ],
   "source": [
    "df_AA5_head.describe()"
   ]
  },
  {
   "cell_type": "code",
   "execution_count": 115,
   "metadata": {
    "collapsed": false
   },
   "outputs": [
    {
     "name": "stdout",
     "output_type": "stream",
     "text": [
      "Int64Index([0, 1, 2, 3, 4], dtype='int64')\n"
     ]
    }
   ],
   "source": [
    "print(df_AA5_head.index)"
   ]
  },
  {
   "cell_type": "markdown",
   "metadata": {},
   "source": [
    "###### Setting 'reviewerID' as index of DF"
   ]
  },
  {
   "cell_type": "code",
   "execution_count": 116,
   "metadata": {
    "collapsed": false
   },
   "outputs": [
    {
     "data": {
      "text/plain": [
       "'reviewerID'"
      ]
     },
     "execution_count": 116,
     "metadata": {},
     "output_type": "execute_result"
    }
   ],
   "source": [
    "df_AA5_head.columns[8]"
   ]
  },
  {
   "cell_type": "code",
   "execution_count": 117,
   "metadata": {
    "collapsed": false
   },
   "outputs": [
    {
     "name": "stdout",
     "output_type": "stream",
     "text": [
      "Index(['A1N4O8VOJZTDVB', 'A2HQWU6HUKIEC7', 'A1SXASF6GYG96I', 'A2B54P9ZDYH167',\n",
      "       'AFOFZDTX5UC6D'],\n",
      "      dtype='object', name='reviewerID')\n"
     ]
    }
   ],
   "source": [
    "df_AA5_head.set_index(df_AA5_head['reviewerID'],inplace=True)\n",
    "\n",
    "print(df_AA5_head.index)"
   ]
  },
  {
   "cell_type": "code",
   "execution_count": 118,
   "metadata": {
    "collapsed": false
   },
   "outputs": [
    {
     "data": {
      "text/html": [
       "<div>\n",
       "<table border=\"1\" class=\"dataframe\">\n",
       "  <thead>\n",
       "    <tr style=\"text-align: right;\">\n",
       "      <th></th>\n",
       "      <th>reviewTime</th>\n",
       "      <th>summary</th>\n",
       "      <th>reviewText</th>\n",
       "      <th>unixReviewTime</th>\n",
       "      <th>asin</th>\n",
       "      <th>overall</th>\n",
       "      <th>helpful</th>\n",
       "      <th>reviewerName</th>\n",
       "      <th>reviewerID</th>\n",
       "      <th>ProductType</th>\n",
       "    </tr>\n",
       "    <tr>\n",
       "      <th>reviewerID</th>\n",
       "      <th></th>\n",
       "      <th></th>\n",
       "      <th></th>\n",
       "      <th></th>\n",
       "      <th></th>\n",
       "      <th></th>\n",
       "      <th></th>\n",
       "      <th></th>\n",
       "      <th></th>\n",
       "      <th></th>\n",
       "    </tr>\n",
       "  </thead>\n",
       "  <tbody>\n",
       "    <tr>\n",
       "      <th>A1N4O8VOJZTDVB</th>\n",
       "      <td>11 2, 2013</td>\n",
       "      <td>Really cute</td>\n",
       "      <td>Loves the song, so he really couldn't wait to ...</td>\n",
       "      <td>1383350400</td>\n",
       "      <td>B004A9SDD8</td>\n",
       "      <td>3.0</td>\n",
       "      <td>[1, 1]</td>\n",
       "      <td>Annette Yancey</td>\n",
       "      <td>A1N4O8VOJZTDVB</td>\n",
       "      <td>Android Apps</td>\n",
       "    </tr>\n",
       "    <tr>\n",
       "      <th>A2HQWU6HUKIEC7</th>\n",
       "      <td>12 5, 2011</td>\n",
       "      <td>2-year-old loves it</td>\n",
       "      <td>Oh, how my little grandson loves this app. He'...</td>\n",
       "      <td>1323043200</td>\n",
       "      <td>B004A9SDD8</td>\n",
       "      <td>5.0</td>\n",
       "      <td>[0, 0]</td>\n",
       "      <td>Audiobook lover \"Kathy\"</td>\n",
       "      <td>A2HQWU6HUKIEC7</td>\n",
       "      <td>Android Apps</td>\n",
       "    </tr>\n",
       "    <tr>\n",
       "      <th>A1SXASF6GYG96I</th>\n",
       "      <td>05 21, 2012</td>\n",
       "      <td>Fun game</td>\n",
       "      <td>I found this at a perfect time since my daught...</td>\n",
       "      <td>1337558400</td>\n",
       "      <td>B004A9SDD8</td>\n",
       "      <td>5.0</td>\n",
       "      <td>[0, 0]</td>\n",
       "      <td>Barbara Gibbs</td>\n",
       "      <td>A1SXASF6GYG96I</td>\n",
       "      <td>Android Apps</td>\n",
       "    </tr>\n",
       "    <tr>\n",
       "      <th>A2B54P9ZDYH167</th>\n",
       "      <td>12 6, 2012</td>\n",
       "      <td>We love our Monkeys!</td>\n",
       "      <td>My 1 year old goes back to this game over and ...</td>\n",
       "      <td>1354752000</td>\n",
       "      <td>B004A9SDD8</td>\n",
       "      <td>5.0</td>\n",
       "      <td>[3, 4]</td>\n",
       "      <td>Brooke Greenstreet \"Babylove\"</td>\n",
       "      <td>A2B54P9ZDYH167</td>\n",
       "      <td>Android Apps</td>\n",
       "    </tr>\n",
       "    <tr>\n",
       "      <th>AFOFZDTX5UC6D</th>\n",
       "      <td>02 1, 2014</td>\n",
       "      <td>This is my granddaughters favorite app on my K...</td>\n",
       "      <td>There are three different versions of the song...</td>\n",
       "      <td>1391212800</td>\n",
       "      <td>B004A9SDD8</td>\n",
       "      <td>5.0</td>\n",
       "      <td>[1, 1]</td>\n",
       "      <td>C. Galindo</td>\n",
       "      <td>AFOFZDTX5UC6D</td>\n",
       "      <td>Android Apps</td>\n",
       "    </tr>\n",
       "  </tbody>\n",
       "</table>\n",
       "</div>"
      ],
      "text/plain": [
       "                 reviewTime  \\\n",
       "reviewerID                    \n",
       "A1N4O8VOJZTDVB   11 2, 2013   \n",
       "A2HQWU6HUKIEC7   12 5, 2011   \n",
       "A1SXASF6GYG96I  05 21, 2012   \n",
       "A2B54P9ZDYH167   12 6, 2012   \n",
       "AFOFZDTX5UC6D    02 1, 2014   \n",
       "\n",
       "                                                          summary  \\\n",
       "reviewerID                                                          \n",
       "A1N4O8VOJZTDVB                                        Really cute   \n",
       "A2HQWU6HUKIEC7                                2-year-old loves it   \n",
       "A1SXASF6GYG96I                                           Fun game   \n",
       "A2B54P9ZDYH167                               We love our Monkeys!   \n",
       "AFOFZDTX5UC6D   This is my granddaughters favorite app on my K...   \n",
       "\n",
       "                                                       reviewText  \\\n",
       "reviewerID                                                          \n",
       "A1N4O8VOJZTDVB  Loves the song, so he really couldn't wait to ...   \n",
       "A2HQWU6HUKIEC7  Oh, how my little grandson loves this app. He'...   \n",
       "A1SXASF6GYG96I  I found this at a perfect time since my daught...   \n",
       "A2B54P9ZDYH167  My 1 year old goes back to this game over and ...   \n",
       "AFOFZDTX5UC6D   There are three different versions of the song...   \n",
       "\n",
       "                unixReviewTime        asin  overall helpful  \\\n",
       "reviewerID                                                    \n",
       "A1N4O8VOJZTDVB      1383350400  B004A9SDD8      3.0  [1, 1]   \n",
       "A2HQWU6HUKIEC7      1323043200  B004A9SDD8      5.0  [0, 0]   \n",
       "A1SXASF6GYG96I      1337558400  B004A9SDD8      5.0  [0, 0]   \n",
       "A2B54P9ZDYH167      1354752000  B004A9SDD8      5.0  [3, 4]   \n",
       "AFOFZDTX5UC6D       1391212800  B004A9SDD8      5.0  [1, 1]   \n",
       "\n",
       "                                 reviewerName      reviewerID   ProductType  \n",
       "reviewerID                                                                   \n",
       "A1N4O8VOJZTDVB                 Annette Yancey  A1N4O8VOJZTDVB  Android Apps  \n",
       "A2HQWU6HUKIEC7        Audiobook lover \"Kathy\"  A2HQWU6HUKIEC7  Android Apps  \n",
       "A1SXASF6GYG96I                  Barbara Gibbs  A1SXASF6GYG96I  Android Apps  \n",
       "A2B54P9ZDYH167  Brooke Greenstreet \"Babylove\"  A2B54P9ZDYH167  Android Apps  \n",
       "AFOFZDTX5UC6D                      C. Galindo   AFOFZDTX5UC6D  Android Apps  "
      ]
     },
     "execution_count": 118,
     "metadata": {},
     "output_type": "execute_result"
    }
   ],
   "source": [
    "df_AA5_head"
   ]
  },
  {
   "cell_type": "markdown",
   "metadata": {},
   "source": [
    "###### Adding CharCount column -gives char count of ReviewText"
   ]
  },
  {
   "cell_type": "code",
   "execution_count": 119,
   "metadata": {
    "collapsed": true
   },
   "outputs": [],
   "source": [
    "def calculate_charcount(row):\n",
    "    return len(row['reviewText'])"
   ]
  },
  {
   "cell_type": "code",
   "execution_count": 120,
   "metadata": {
    "collapsed": false
   },
   "outputs": [
    {
     "data": {
      "text/html": [
       "<div>\n",
       "<table border=\"1\" class=\"dataframe\">\n",
       "  <thead>\n",
       "    <tr style=\"text-align: right;\">\n",
       "      <th></th>\n",
       "      <th>reviewTime</th>\n",
       "      <th>summary</th>\n",
       "      <th>reviewText</th>\n",
       "      <th>unixReviewTime</th>\n",
       "      <th>asin</th>\n",
       "      <th>overall</th>\n",
       "      <th>helpful</th>\n",
       "      <th>reviewerName</th>\n",
       "      <th>reviewerID</th>\n",
       "      <th>ProductType</th>\n",
       "    </tr>\n",
       "    <tr>\n",
       "      <th>reviewerID</th>\n",
       "      <th></th>\n",
       "      <th></th>\n",
       "      <th></th>\n",
       "      <th></th>\n",
       "      <th></th>\n",
       "      <th></th>\n",
       "      <th></th>\n",
       "      <th></th>\n",
       "      <th></th>\n",
       "      <th></th>\n",
       "    </tr>\n",
       "  </thead>\n",
       "  <tbody>\n",
       "    <tr>\n",
       "      <th>A1N4O8VOJZTDVB</th>\n",
       "      <td>11 2, 2013</td>\n",
       "      <td>Really cute</td>\n",
       "      <td>Loves the song, so he really couldn't wait to ...</td>\n",
       "      <td>1383350400</td>\n",
       "      <td>B004A9SDD8</td>\n",
       "      <td>3.0</td>\n",
       "      <td>[1, 1]</td>\n",
       "      <td>Annette Yancey</td>\n",
       "      <td>A1N4O8VOJZTDVB</td>\n",
       "      <td>Android Apps</td>\n",
       "    </tr>\n",
       "    <tr>\n",
       "      <th>A2HQWU6HUKIEC7</th>\n",
       "      <td>12 5, 2011</td>\n",
       "      <td>2-year-old loves it</td>\n",
       "      <td>Oh, how my little grandson loves this app. He'...</td>\n",
       "      <td>1323043200</td>\n",
       "      <td>B004A9SDD8</td>\n",
       "      <td>5.0</td>\n",
       "      <td>[0, 0]</td>\n",
       "      <td>Audiobook lover \"Kathy\"</td>\n",
       "      <td>A2HQWU6HUKIEC7</td>\n",
       "      <td>Android Apps</td>\n",
       "    </tr>\n",
       "    <tr>\n",
       "      <th>A1SXASF6GYG96I</th>\n",
       "      <td>05 21, 2012</td>\n",
       "      <td>Fun game</td>\n",
       "      <td>I found this at a perfect time since my daught...</td>\n",
       "      <td>1337558400</td>\n",
       "      <td>B004A9SDD8</td>\n",
       "      <td>5.0</td>\n",
       "      <td>[0, 0]</td>\n",
       "      <td>Barbara Gibbs</td>\n",
       "      <td>A1SXASF6GYG96I</td>\n",
       "      <td>Android Apps</td>\n",
       "    </tr>\n",
       "    <tr>\n",
       "      <th>A2B54P9ZDYH167</th>\n",
       "      <td>12 6, 2012</td>\n",
       "      <td>We love our Monkeys!</td>\n",
       "      <td>My 1 year old goes back to this game over and ...</td>\n",
       "      <td>1354752000</td>\n",
       "      <td>B004A9SDD8</td>\n",
       "      <td>5.0</td>\n",
       "      <td>[3, 4]</td>\n",
       "      <td>Brooke Greenstreet \"Babylove\"</td>\n",
       "      <td>A2B54P9ZDYH167</td>\n",
       "      <td>Android Apps</td>\n",
       "    </tr>\n",
       "    <tr>\n",
       "      <th>AFOFZDTX5UC6D</th>\n",
       "      <td>02 1, 2014</td>\n",
       "      <td>This is my granddaughters favorite app on my K...</td>\n",
       "      <td>There are three different versions of the song...</td>\n",
       "      <td>1391212800</td>\n",
       "      <td>B004A9SDD8</td>\n",
       "      <td>5.0</td>\n",
       "      <td>[1, 1]</td>\n",
       "      <td>C. Galindo</td>\n",
       "      <td>AFOFZDTX5UC6D</td>\n",
       "      <td>Android Apps</td>\n",
       "    </tr>\n",
       "  </tbody>\n",
       "</table>\n",
       "</div>"
      ],
      "text/plain": [
       "                 reviewTime  \\\n",
       "reviewerID                    \n",
       "A1N4O8VOJZTDVB   11 2, 2013   \n",
       "A2HQWU6HUKIEC7   12 5, 2011   \n",
       "A1SXASF6GYG96I  05 21, 2012   \n",
       "A2B54P9ZDYH167   12 6, 2012   \n",
       "AFOFZDTX5UC6D    02 1, 2014   \n",
       "\n",
       "                                                          summary  \\\n",
       "reviewerID                                                          \n",
       "A1N4O8VOJZTDVB                                        Really cute   \n",
       "A2HQWU6HUKIEC7                                2-year-old loves it   \n",
       "A1SXASF6GYG96I                                           Fun game   \n",
       "A2B54P9ZDYH167                               We love our Monkeys!   \n",
       "AFOFZDTX5UC6D   This is my granddaughters favorite app on my K...   \n",
       "\n",
       "                                                       reviewText  \\\n",
       "reviewerID                                                          \n",
       "A1N4O8VOJZTDVB  Loves the song, so he really couldn't wait to ...   \n",
       "A2HQWU6HUKIEC7  Oh, how my little grandson loves this app. He'...   \n",
       "A1SXASF6GYG96I  I found this at a perfect time since my daught...   \n",
       "A2B54P9ZDYH167  My 1 year old goes back to this game over and ...   \n",
       "AFOFZDTX5UC6D   There are three different versions of the song...   \n",
       "\n",
       "                unixReviewTime        asin  overall helpful  \\\n",
       "reviewerID                                                    \n",
       "A1N4O8VOJZTDVB      1383350400  B004A9SDD8      3.0  [1, 1]   \n",
       "A2HQWU6HUKIEC7      1323043200  B004A9SDD8      5.0  [0, 0]   \n",
       "A1SXASF6GYG96I      1337558400  B004A9SDD8      5.0  [0, 0]   \n",
       "A2B54P9ZDYH167      1354752000  B004A9SDD8      5.0  [3, 4]   \n",
       "AFOFZDTX5UC6D       1391212800  B004A9SDD8      5.0  [1, 1]   \n",
       "\n",
       "                                 reviewerName      reviewerID   ProductType  \n",
       "reviewerID                                                                   \n",
       "A1N4O8VOJZTDVB                 Annette Yancey  A1N4O8VOJZTDVB  Android Apps  \n",
       "A2HQWU6HUKIEC7        Audiobook lover \"Kathy\"  A2HQWU6HUKIEC7  Android Apps  \n",
       "A1SXASF6GYG96I                  Barbara Gibbs  A1SXASF6GYG96I  Android Apps  \n",
       "A2B54P9ZDYH167  Brooke Greenstreet \"Babylove\"  A2B54P9ZDYH167  Android Apps  \n",
       "AFOFZDTX5UC6D                      C. Galindo   AFOFZDTX5UC6D  Android Apps  "
      ]
     },
     "execution_count": 120,
     "metadata": {},
     "output_type": "execute_result"
    }
   ],
   "source": [
    "sus = (df_AA5_head['reviewText'].notnull())\n",
    "suspect = pd.DataFrame()\n",
    "suspect = df_AA5_head[sus]\n",
    "suspect"
   ]
  },
  {
   "cell_type": "code",
   "execution_count": 121,
   "metadata": {
    "collapsed": false
   },
   "outputs": [
    {
     "name": "stderr",
     "output_type": "stream",
     "text": [
      "C:\\Program Files\\Anaconda33\\lib\\site-packages\\ipykernel\\__main__.py:1: SettingWithCopyWarning: \n",
      "A value is trying to be set on a copy of a slice from a DataFrame.\n",
      "Try using .loc[row_indexer,col_indexer] = value instead\n",
      "\n",
      "See the caveats in the documentation: http://pandas.pydata.org/pandas-docs/stable/indexing.html#indexing-view-versus-copy\n",
      "  if __name__ == '__main__':\n"
     ]
    },
    {
     "data": {
      "text/html": [
       "<div>\n",
       "<table border=\"1\" class=\"dataframe\">\n",
       "  <thead>\n",
       "    <tr style=\"text-align: right;\">\n",
       "      <th></th>\n",
       "      <th>reviewTime</th>\n",
       "      <th>summary</th>\n",
       "      <th>reviewText</th>\n",
       "      <th>unixReviewTime</th>\n",
       "      <th>asin</th>\n",
       "      <th>overall</th>\n",
       "      <th>helpful</th>\n",
       "      <th>reviewerName</th>\n",
       "      <th>reviewerID</th>\n",
       "      <th>ProductType</th>\n",
       "      <th>charcount_reviewtext</th>\n",
       "    </tr>\n",
       "    <tr>\n",
       "      <th>reviewerID</th>\n",
       "      <th></th>\n",
       "      <th></th>\n",
       "      <th></th>\n",
       "      <th></th>\n",
       "      <th></th>\n",
       "      <th></th>\n",
       "      <th></th>\n",
       "      <th></th>\n",
       "      <th></th>\n",
       "      <th></th>\n",
       "      <th></th>\n",
       "    </tr>\n",
       "  </thead>\n",
       "  <tbody>\n",
       "    <tr>\n",
       "      <th>A1N4O8VOJZTDVB</th>\n",
       "      <td>11 2, 2013</td>\n",
       "      <td>Really cute</td>\n",
       "      <td>Loves the song, so he really couldn't wait to ...</td>\n",
       "      <td>1383350400</td>\n",
       "      <td>B004A9SDD8</td>\n",
       "      <td>3.0</td>\n",
       "      <td>[1, 1]</td>\n",
       "      <td>Annette Yancey</td>\n",
       "      <td>A1N4O8VOJZTDVB</td>\n",
       "      <td>Android Apps</td>\n",
       "      <td>206</td>\n",
       "    </tr>\n",
       "    <tr>\n",
       "      <th>A2HQWU6HUKIEC7</th>\n",
       "      <td>12 5, 2011</td>\n",
       "      <td>2-year-old loves it</td>\n",
       "      <td>Oh, how my little grandson loves this app. He'...</td>\n",
       "      <td>1323043200</td>\n",
       "      <td>B004A9SDD8</td>\n",
       "      <td>5.0</td>\n",
       "      <td>[0, 0]</td>\n",
       "      <td>Audiobook lover \"Kathy\"</td>\n",
       "      <td>A2HQWU6HUKIEC7</td>\n",
       "      <td>Android Apps</td>\n",
       "      <td>255</td>\n",
       "    </tr>\n",
       "    <tr>\n",
       "      <th>A1SXASF6GYG96I</th>\n",
       "      <td>05 21, 2012</td>\n",
       "      <td>Fun game</td>\n",
       "      <td>I found this at a perfect time since my daught...</td>\n",
       "      <td>1337558400</td>\n",
       "      <td>B004A9SDD8</td>\n",
       "      <td>5.0</td>\n",
       "      <td>[0, 0]</td>\n",
       "      <td>Barbara Gibbs</td>\n",
       "      <td>A1SXASF6GYG96I</td>\n",
       "      <td>Android Apps</td>\n",
       "      <td>288</td>\n",
       "    </tr>\n",
       "    <tr>\n",
       "      <th>A2B54P9ZDYH167</th>\n",
       "      <td>12 6, 2012</td>\n",
       "      <td>We love our Monkeys!</td>\n",
       "      <td>My 1 year old goes back to this game over and ...</td>\n",
       "      <td>1354752000</td>\n",
       "      <td>B004A9SDD8</td>\n",
       "      <td>5.0</td>\n",
       "      <td>[3, 4]</td>\n",
       "      <td>Brooke Greenstreet \"Babylove\"</td>\n",
       "      <td>A2B54P9ZDYH167</td>\n",
       "      <td>Android Apps</td>\n",
       "      <td>186</td>\n",
       "    </tr>\n",
       "    <tr>\n",
       "      <th>AFOFZDTX5UC6D</th>\n",
       "      <td>02 1, 2014</td>\n",
       "      <td>This is my granddaughters favorite app on my K...</td>\n",
       "      <td>There are three different versions of the song...</td>\n",
       "      <td>1391212800</td>\n",
       "      <td>B004A9SDD8</td>\n",
       "      <td>5.0</td>\n",
       "      <td>[1, 1]</td>\n",
       "      <td>C. Galindo</td>\n",
       "      <td>AFOFZDTX5UC6D</td>\n",
       "      <td>Android Apps</td>\n",
       "      <td>746</td>\n",
       "    </tr>\n",
       "  </tbody>\n",
       "</table>\n",
       "</div>"
      ],
      "text/plain": [
       "                 reviewTime  \\\n",
       "reviewerID                    \n",
       "A1N4O8VOJZTDVB   11 2, 2013   \n",
       "A2HQWU6HUKIEC7   12 5, 2011   \n",
       "A1SXASF6GYG96I  05 21, 2012   \n",
       "A2B54P9ZDYH167   12 6, 2012   \n",
       "AFOFZDTX5UC6D    02 1, 2014   \n",
       "\n",
       "                                                          summary  \\\n",
       "reviewerID                                                          \n",
       "A1N4O8VOJZTDVB                                        Really cute   \n",
       "A2HQWU6HUKIEC7                                2-year-old loves it   \n",
       "A1SXASF6GYG96I                                           Fun game   \n",
       "A2B54P9ZDYH167                               We love our Monkeys!   \n",
       "AFOFZDTX5UC6D   This is my granddaughters favorite app on my K...   \n",
       "\n",
       "                                                       reviewText  \\\n",
       "reviewerID                                                          \n",
       "A1N4O8VOJZTDVB  Loves the song, so he really couldn't wait to ...   \n",
       "A2HQWU6HUKIEC7  Oh, how my little grandson loves this app. He'...   \n",
       "A1SXASF6GYG96I  I found this at a perfect time since my daught...   \n",
       "A2B54P9ZDYH167  My 1 year old goes back to this game over and ...   \n",
       "AFOFZDTX5UC6D   There are three different versions of the song...   \n",
       "\n",
       "                unixReviewTime        asin  overall helpful  \\\n",
       "reviewerID                                                    \n",
       "A1N4O8VOJZTDVB      1383350400  B004A9SDD8      3.0  [1, 1]   \n",
       "A2HQWU6HUKIEC7      1323043200  B004A9SDD8      5.0  [0, 0]   \n",
       "A1SXASF6GYG96I      1337558400  B004A9SDD8      5.0  [0, 0]   \n",
       "A2B54P9ZDYH167      1354752000  B004A9SDD8      5.0  [3, 4]   \n",
       "AFOFZDTX5UC6D       1391212800  B004A9SDD8      5.0  [1, 1]   \n",
       "\n",
       "                                 reviewerName      reviewerID   ProductType  \\\n",
       "reviewerID                                                                    \n",
       "A1N4O8VOJZTDVB                 Annette Yancey  A1N4O8VOJZTDVB  Android Apps   \n",
       "A2HQWU6HUKIEC7        Audiobook lover \"Kathy\"  A2HQWU6HUKIEC7  Android Apps   \n",
       "A1SXASF6GYG96I                  Barbara Gibbs  A1SXASF6GYG96I  Android Apps   \n",
       "A2B54P9ZDYH167  Brooke Greenstreet \"Babylove\"  A2B54P9ZDYH167  Android Apps   \n",
       "AFOFZDTX5UC6D                      C. Galindo   AFOFZDTX5UC6D  Android Apps   \n",
       "\n",
       "                charcount_reviewtext  \n",
       "reviewerID                            \n",
       "A1N4O8VOJZTDVB                   206  \n",
       "A2HQWU6HUKIEC7                   255  \n",
       "A1SXASF6GYG96I                   288  \n",
       "A2B54P9ZDYH167                   186  \n",
       "AFOFZDTX5UC6D                    746  "
      ]
     },
     "execution_count": 121,
     "metadata": {},
     "output_type": "execute_result"
    }
   ],
   "source": [
    "df_AA5_head['charcount_reviewtext'] = suspect.apply(calculate_charcount,axis=1)\n",
    "df_AA5_head                                                    "
   ]
  },
  {
   "cell_type": "markdown",
   "metadata": {},
   "source": [
    "###### Checking if helpful denominator is not a zero and not Nan"
   ]
  },
  {
   "cell_type": "code",
   "execution_count": 122,
   "metadata": {
    "collapsed": false
   },
   "outputs": [],
   "source": [
    "sus1 = (df_AA5_head['helpful'].str[1] != 0.0) & (df_AA5_head['helpful'].dropna()) \n",
    "\n",
    "suspect1 = df_AA5_head.loc[sus1]"
   ]
  },
  {
   "cell_type": "code",
   "execution_count": 123,
   "metadata": {
    "collapsed": false
   },
   "outputs": [
    {
     "data": {
      "text/html": [
       "<div>\n",
       "<table border=\"1\" class=\"dataframe\">\n",
       "  <thead>\n",
       "    <tr style=\"text-align: right;\">\n",
       "      <th></th>\n",
       "      <th>reviewTime</th>\n",
       "      <th>summary</th>\n",
       "      <th>reviewText</th>\n",
       "      <th>unixReviewTime</th>\n",
       "      <th>asin</th>\n",
       "      <th>overall</th>\n",
       "      <th>helpful</th>\n",
       "      <th>reviewerName</th>\n",
       "      <th>reviewerID</th>\n",
       "      <th>ProductType</th>\n",
       "      <th>charcount_reviewtext</th>\n",
       "    </tr>\n",
       "    <tr>\n",
       "      <th>reviewerID</th>\n",
       "      <th></th>\n",
       "      <th></th>\n",
       "      <th></th>\n",
       "      <th></th>\n",
       "      <th></th>\n",
       "      <th></th>\n",
       "      <th></th>\n",
       "      <th></th>\n",
       "      <th></th>\n",
       "      <th></th>\n",
       "      <th></th>\n",
       "    </tr>\n",
       "  </thead>\n",
       "  <tbody>\n",
       "    <tr>\n",
       "      <th>A1N4O8VOJZTDVB</th>\n",
       "      <td>11 2, 2013</td>\n",
       "      <td>Really cute</td>\n",
       "      <td>Loves the song, so he really couldn't wait to ...</td>\n",
       "      <td>1383350400</td>\n",
       "      <td>B004A9SDD8</td>\n",
       "      <td>3.0</td>\n",
       "      <td>[1, 1]</td>\n",
       "      <td>Annette Yancey</td>\n",
       "      <td>A1N4O8VOJZTDVB</td>\n",
       "      <td>Android Apps</td>\n",
       "      <td>206</td>\n",
       "    </tr>\n",
       "    <tr>\n",
       "      <th>A2B54P9ZDYH167</th>\n",
       "      <td>12 6, 2012</td>\n",
       "      <td>We love our Monkeys!</td>\n",
       "      <td>My 1 year old goes back to this game over and ...</td>\n",
       "      <td>1354752000</td>\n",
       "      <td>B004A9SDD8</td>\n",
       "      <td>5.0</td>\n",
       "      <td>[3, 4]</td>\n",
       "      <td>Brooke Greenstreet \"Babylove\"</td>\n",
       "      <td>A2B54P9ZDYH167</td>\n",
       "      <td>Android Apps</td>\n",
       "      <td>186</td>\n",
       "    </tr>\n",
       "    <tr>\n",
       "      <th>AFOFZDTX5UC6D</th>\n",
       "      <td>02 1, 2014</td>\n",
       "      <td>This is my granddaughters favorite app on my K...</td>\n",
       "      <td>There are three different versions of the song...</td>\n",
       "      <td>1391212800</td>\n",
       "      <td>B004A9SDD8</td>\n",
       "      <td>5.0</td>\n",
       "      <td>[1, 1]</td>\n",
       "      <td>C. Galindo</td>\n",
       "      <td>AFOFZDTX5UC6D</td>\n",
       "      <td>Android Apps</td>\n",
       "      <td>746</td>\n",
       "    </tr>\n",
       "  </tbody>\n",
       "</table>\n",
       "</div>"
      ],
      "text/plain": [
       "                reviewTime                                            summary  \\\n",
       "reviewerID                                                                      \n",
       "A1N4O8VOJZTDVB  11 2, 2013                                        Really cute   \n",
       "A2B54P9ZDYH167  12 6, 2012                               We love our Monkeys!   \n",
       "AFOFZDTX5UC6D   02 1, 2014  This is my granddaughters favorite app on my K...   \n",
       "\n",
       "                                                       reviewText  \\\n",
       "reviewerID                                                          \n",
       "A1N4O8VOJZTDVB  Loves the song, so he really couldn't wait to ...   \n",
       "A2B54P9ZDYH167  My 1 year old goes back to this game over and ...   \n",
       "AFOFZDTX5UC6D   There are three different versions of the song...   \n",
       "\n",
       "                unixReviewTime        asin  overall helpful  \\\n",
       "reviewerID                                                    \n",
       "A1N4O8VOJZTDVB      1383350400  B004A9SDD8      3.0  [1, 1]   \n",
       "A2B54P9ZDYH167      1354752000  B004A9SDD8      5.0  [3, 4]   \n",
       "AFOFZDTX5UC6D       1391212800  B004A9SDD8      5.0  [1, 1]   \n",
       "\n",
       "                                 reviewerName      reviewerID   ProductType  \\\n",
       "reviewerID                                                                    \n",
       "A1N4O8VOJZTDVB                 Annette Yancey  A1N4O8VOJZTDVB  Android Apps   \n",
       "A2B54P9ZDYH167  Brooke Greenstreet \"Babylove\"  A2B54P9ZDYH167  Android Apps   \n",
       "AFOFZDTX5UC6D                      C. Galindo   AFOFZDTX5UC6D  Android Apps   \n",
       "\n",
       "                charcount_reviewtext  \n",
       "reviewerID                            \n",
       "A1N4O8VOJZTDVB                   206  \n",
       "A2B54P9ZDYH167                   186  \n",
       "AFOFZDTX5UC6D                    746  "
      ]
     },
     "execution_count": 123,
     "metadata": {},
     "output_type": "execute_result"
    }
   ],
   "source": [
    "suspect1"
   ]
  },
  {
   "cell_type": "code",
   "execution_count": 124,
   "metadata": {
    "collapsed": false
   },
   "outputs": [
    {
     "data": {
      "text/plain": [
       "reviewerID\n",
       "A1N4O8VOJZTDVB    [1, 1]\n",
       "A2B54P9ZDYH167    [3, 4]\n",
       "AFOFZDTX5UC6D     [1, 1]\n",
       "Name: helpful, dtype: object"
      ]
     },
     "execution_count": 124,
     "metadata": {},
     "output_type": "execute_result"
    }
   ],
   "source": [
    "suspect1['helpful']"
   ]
  },
  {
   "cell_type": "markdown",
   "metadata": {},
   "source": [
    "###### Helpful Numerator"
   ]
  },
  {
   "cell_type": "code",
   "execution_count": 126,
   "metadata": {
    "collapsed": false
   },
   "outputs": [
    {
     "data": {
      "text/plain": [
       "reviewerID\n",
       "A1N4O8VOJZTDVB    1\n",
       "A2HQWU6HUKIEC7    0\n",
       "A1SXASF6GYG96I    0\n",
       "A2B54P9ZDYH167    3\n",
       "AFOFZDTX5UC6D     1\n",
       "Name: helpful, dtype: int64"
      ]
     },
     "execution_count": 126,
     "metadata": {},
     "output_type": "execute_result"
    }
   ],
   "source": [
    "df_AA5_head['helpful'].str[0]"
   ]
  },
  {
   "cell_type": "markdown",
   "metadata": {},
   "source": [
    "###### Helpful Denominator"
   ]
  },
  {
   "cell_type": "code",
   "execution_count": 127,
   "metadata": {
    "collapsed": false
   },
   "outputs": [
    {
     "data": {
      "text/plain": [
       "reviewerID\n",
       "A1N4O8VOJZTDVB    1\n",
       "A2HQWU6HUKIEC7    0\n",
       "A1SXASF6GYG96I    0\n",
       "A2B54P9ZDYH167    4\n",
       "AFOFZDTX5UC6D     1\n",
       "Name: helpful, dtype: int64"
      ]
     },
     "execution_count": 127,
     "metadata": {},
     "output_type": "execute_result"
    }
   ],
   "source": [
    "df_AA5_head['helpful'].str[1]"
   ]
  },
  {
   "cell_type": "code",
   "execution_count": 128,
   "metadata": {
    "collapsed": false
   },
   "outputs": [
    {
     "data": {
      "text/plain": [
       "reviewerID\n",
       "A1N4O8VOJZTDVB    False\n",
       "A2HQWU6HUKIEC7    False\n",
       "A1SXASF6GYG96I    False\n",
       "A2B54P9ZDYH167    False\n",
       "AFOFZDTX5UC6D     False\n",
       "Name: helpful, dtype: bool"
      ]
     },
     "execution_count": 128,
     "metadata": {},
     "output_type": "execute_result"
    }
   ],
   "source": [
    "sus2 = (df_AA5_head['helpful'].isnull()) \n",
    "sus2"
   ]
  },
  {
   "cell_type": "markdown",
   "metadata": {},
   "source": [
    "###### Adding  Helpful Percentage, Helpful Numerator & Helpful Denominator columns"
   ]
  },
  {
   "cell_type": "code",
   "execution_count": 129,
   "metadata": {
    "collapsed": false
   },
   "outputs": [
    {
     "name": "stderr",
     "output_type": "stream",
     "text": [
      "C:\\Program Files\\Anaconda33\\lib\\site-packages\\ipykernel\\__main__.py:1: SettingWithCopyWarning: \n",
      "A value is trying to be set on a copy of a slice from a DataFrame.\n",
      "Try using .loc[row_indexer,col_indexer] = value instead\n",
      "\n",
      "See the caveats in the documentation: http://pandas.pydata.org/pandas-docs/stable/indexing.html#indexing-view-versus-copy\n",
      "  if __name__ == '__main__':\n",
      "C:\\Program Files\\Anaconda33\\lib\\site-packages\\ipykernel\\__main__.py:2: SettingWithCopyWarning: \n",
      "A value is trying to be set on a copy of a slice from a DataFrame.\n",
      "Try using .loc[row_indexer,col_indexer] = value instead\n",
      "\n",
      "See the caveats in the documentation: http://pandas.pydata.org/pandas-docs/stable/indexing.html#indexing-view-versus-copy\n",
      "  from ipykernel import kernelapp as app\n",
      "C:\\Program Files\\Anaconda33\\lib\\site-packages\\ipykernel\\__main__.py:3: SettingWithCopyWarning: \n",
      "A value is trying to be set on a copy of a slice from a DataFrame.\n",
      "Try using .loc[row_indexer,col_indexer] = value instead\n",
      "\n",
      "See the caveats in the documentation: http://pandas.pydata.org/pandas-docs/stable/indexing.html#indexing-view-versus-copy\n",
      "  app.launch_new_instance()\n"
     ]
    }
   ],
   "source": [
    "df_AA5_head['helpfulpercentage'] = (np.divide(suspect1['helpful'].str[0],suspect1['helpful'].str[1])* 100).astype(np.int64)\n",
    "df_AA5_head['helpful_numerator'] = suspect1['helpful'].str[0].astype(np.int64)\n",
    "df_AA5_head['helpful_denominator'] = suspect1['helpful'].str[1].astype(np.int64)"
   ]
  },
  {
   "cell_type": "code",
   "execution_count": 130,
   "metadata": {
    "collapsed": false
   },
   "outputs": [
    {
     "data": {
      "text/html": [
       "<div>\n",
       "<table border=\"1\" class=\"dataframe\">\n",
       "  <thead>\n",
       "    <tr style=\"text-align: right;\">\n",
       "      <th></th>\n",
       "      <th>reviewTime</th>\n",
       "      <th>summary</th>\n",
       "      <th>reviewText</th>\n",
       "      <th>unixReviewTime</th>\n",
       "      <th>asin</th>\n",
       "      <th>overall</th>\n",
       "      <th>helpful</th>\n",
       "      <th>reviewerName</th>\n",
       "      <th>reviewerID</th>\n",
       "      <th>ProductType</th>\n",
       "      <th>charcount_reviewtext</th>\n",
       "      <th>helpfulpercentage</th>\n",
       "      <th>helpful_numerator</th>\n",
       "      <th>helpful_denominator</th>\n",
       "    </tr>\n",
       "    <tr>\n",
       "      <th>reviewerID</th>\n",
       "      <th></th>\n",
       "      <th></th>\n",
       "      <th></th>\n",
       "      <th></th>\n",
       "      <th></th>\n",
       "      <th></th>\n",
       "      <th></th>\n",
       "      <th></th>\n",
       "      <th></th>\n",
       "      <th></th>\n",
       "      <th></th>\n",
       "      <th></th>\n",
       "      <th></th>\n",
       "      <th></th>\n",
       "    </tr>\n",
       "  </thead>\n",
       "  <tbody>\n",
       "    <tr>\n",
       "      <th>A1N4O8VOJZTDVB</th>\n",
       "      <td>11 2, 2013</td>\n",
       "      <td>Really cute</td>\n",
       "      <td>Loves the song, so he really couldn't wait to ...</td>\n",
       "      <td>1383350400</td>\n",
       "      <td>B004A9SDD8</td>\n",
       "      <td>3.0</td>\n",
       "      <td>[1, 1]</td>\n",
       "      <td>Annette Yancey</td>\n",
       "      <td>A1N4O8VOJZTDVB</td>\n",
       "      <td>Android Apps</td>\n",
       "      <td>206</td>\n",
       "      <td>100.0</td>\n",
       "      <td>1.0</td>\n",
       "      <td>1.0</td>\n",
       "    </tr>\n",
       "    <tr>\n",
       "      <th>A2HQWU6HUKIEC7</th>\n",
       "      <td>12 5, 2011</td>\n",
       "      <td>2-year-old loves it</td>\n",
       "      <td>Oh, how my little grandson loves this app. He'...</td>\n",
       "      <td>1323043200</td>\n",
       "      <td>B004A9SDD8</td>\n",
       "      <td>5.0</td>\n",
       "      <td>[0, 0]</td>\n",
       "      <td>Audiobook lover \"Kathy\"</td>\n",
       "      <td>A2HQWU6HUKIEC7</td>\n",
       "      <td>Android Apps</td>\n",
       "      <td>255</td>\n",
       "      <td>NaN</td>\n",
       "      <td>NaN</td>\n",
       "      <td>NaN</td>\n",
       "    </tr>\n",
       "    <tr>\n",
       "      <th>A1SXASF6GYG96I</th>\n",
       "      <td>05 21, 2012</td>\n",
       "      <td>Fun game</td>\n",
       "      <td>I found this at a perfect time since my daught...</td>\n",
       "      <td>1337558400</td>\n",
       "      <td>B004A9SDD8</td>\n",
       "      <td>5.0</td>\n",
       "      <td>[0, 0]</td>\n",
       "      <td>Barbara Gibbs</td>\n",
       "      <td>A1SXASF6GYG96I</td>\n",
       "      <td>Android Apps</td>\n",
       "      <td>288</td>\n",
       "      <td>NaN</td>\n",
       "      <td>NaN</td>\n",
       "      <td>NaN</td>\n",
       "    </tr>\n",
       "    <tr>\n",
       "      <th>A2B54P9ZDYH167</th>\n",
       "      <td>12 6, 2012</td>\n",
       "      <td>We love our Monkeys!</td>\n",
       "      <td>My 1 year old goes back to this game over and ...</td>\n",
       "      <td>1354752000</td>\n",
       "      <td>B004A9SDD8</td>\n",
       "      <td>5.0</td>\n",
       "      <td>[3, 4]</td>\n",
       "      <td>Brooke Greenstreet \"Babylove\"</td>\n",
       "      <td>A2B54P9ZDYH167</td>\n",
       "      <td>Android Apps</td>\n",
       "      <td>186</td>\n",
       "      <td>75.0</td>\n",
       "      <td>3.0</td>\n",
       "      <td>4.0</td>\n",
       "    </tr>\n",
       "    <tr>\n",
       "      <th>AFOFZDTX5UC6D</th>\n",
       "      <td>02 1, 2014</td>\n",
       "      <td>This is my granddaughters favorite app on my K...</td>\n",
       "      <td>There are three different versions of the song...</td>\n",
       "      <td>1391212800</td>\n",
       "      <td>B004A9SDD8</td>\n",
       "      <td>5.0</td>\n",
       "      <td>[1, 1]</td>\n",
       "      <td>C. Galindo</td>\n",
       "      <td>AFOFZDTX5UC6D</td>\n",
       "      <td>Android Apps</td>\n",
       "      <td>746</td>\n",
       "      <td>100.0</td>\n",
       "      <td>1.0</td>\n",
       "      <td>1.0</td>\n",
       "    </tr>\n",
       "  </tbody>\n",
       "</table>\n",
       "</div>"
      ],
      "text/plain": [
       "                 reviewTime  \\\n",
       "reviewerID                    \n",
       "A1N4O8VOJZTDVB   11 2, 2013   \n",
       "A2HQWU6HUKIEC7   12 5, 2011   \n",
       "A1SXASF6GYG96I  05 21, 2012   \n",
       "A2B54P9ZDYH167   12 6, 2012   \n",
       "AFOFZDTX5UC6D    02 1, 2014   \n",
       "\n",
       "                                                          summary  \\\n",
       "reviewerID                                                          \n",
       "A1N4O8VOJZTDVB                                        Really cute   \n",
       "A2HQWU6HUKIEC7                                2-year-old loves it   \n",
       "A1SXASF6GYG96I                                           Fun game   \n",
       "A2B54P9ZDYH167                               We love our Monkeys!   \n",
       "AFOFZDTX5UC6D   This is my granddaughters favorite app on my K...   \n",
       "\n",
       "                                                       reviewText  \\\n",
       "reviewerID                                                          \n",
       "A1N4O8VOJZTDVB  Loves the song, so he really couldn't wait to ...   \n",
       "A2HQWU6HUKIEC7  Oh, how my little grandson loves this app. He'...   \n",
       "A1SXASF6GYG96I  I found this at a perfect time since my daught...   \n",
       "A2B54P9ZDYH167  My 1 year old goes back to this game over and ...   \n",
       "AFOFZDTX5UC6D   There are three different versions of the song...   \n",
       "\n",
       "                unixReviewTime        asin  overall helpful  \\\n",
       "reviewerID                                                    \n",
       "A1N4O8VOJZTDVB      1383350400  B004A9SDD8      3.0  [1, 1]   \n",
       "A2HQWU6HUKIEC7      1323043200  B004A9SDD8      5.0  [0, 0]   \n",
       "A1SXASF6GYG96I      1337558400  B004A9SDD8      5.0  [0, 0]   \n",
       "A2B54P9ZDYH167      1354752000  B004A9SDD8      5.0  [3, 4]   \n",
       "AFOFZDTX5UC6D       1391212800  B004A9SDD8      5.0  [1, 1]   \n",
       "\n",
       "                                 reviewerName      reviewerID   ProductType  \\\n",
       "reviewerID                                                                    \n",
       "A1N4O8VOJZTDVB                 Annette Yancey  A1N4O8VOJZTDVB  Android Apps   \n",
       "A2HQWU6HUKIEC7        Audiobook lover \"Kathy\"  A2HQWU6HUKIEC7  Android Apps   \n",
       "A1SXASF6GYG96I                  Barbara Gibbs  A1SXASF6GYG96I  Android Apps   \n",
       "A2B54P9ZDYH167  Brooke Greenstreet \"Babylove\"  A2B54P9ZDYH167  Android Apps   \n",
       "AFOFZDTX5UC6D                      C. Galindo   AFOFZDTX5UC6D  Android Apps   \n",
       "\n",
       "                charcount_reviewtext  helpfulpercentage  helpful_numerator  \\\n",
       "reviewerID                                                                   \n",
       "A1N4O8VOJZTDVB                   206              100.0                1.0   \n",
       "A2HQWU6HUKIEC7                   255                NaN                NaN   \n",
       "A1SXASF6GYG96I                   288                NaN                NaN   \n",
       "A2B54P9ZDYH167                   186               75.0                3.0   \n",
       "AFOFZDTX5UC6D                    746              100.0                1.0   \n",
       "\n",
       "                helpful_denominator  \n",
       "reviewerID                           \n",
       "A1N4O8VOJZTDVB                  1.0  \n",
       "A2HQWU6HUKIEC7                  NaN  \n",
       "A1SXASF6GYG96I                  NaN  \n",
       "A2B54P9ZDYH167                  4.0  \n",
       "AFOFZDTX5UC6D                   1.0  "
      ]
     },
     "execution_count": 130,
     "metadata": {},
     "output_type": "execute_result"
    }
   ],
   "source": [
    "df_AA5_head"
   ]
  },
  {
   "cell_type": "code",
   "execution_count": 131,
   "metadata": {
    "collapsed": true
   },
   "outputs": [],
   "source": [
    "def calculate_wordcount(row):\n",
    "    return len(row['reviewText'].split())"
   ]
  },
  {
   "cell_type": "code",
   "execution_count": 132,
   "metadata": {
    "collapsed": false
   },
   "outputs": [
    {
     "data": {
      "text/html": [
       "<div>\n",
       "<table border=\"1\" class=\"dataframe\">\n",
       "  <thead>\n",
       "    <tr style=\"text-align: right;\">\n",
       "      <th></th>\n",
       "      <th>reviewTime</th>\n",
       "      <th>summary</th>\n",
       "      <th>reviewText</th>\n",
       "      <th>unixReviewTime</th>\n",
       "      <th>asin</th>\n",
       "      <th>overall</th>\n",
       "      <th>helpful</th>\n",
       "      <th>reviewerName</th>\n",
       "      <th>reviewerID</th>\n",
       "      <th>ProductType</th>\n",
       "      <th>charcount_reviewtext</th>\n",
       "      <th>helpfulpercentage</th>\n",
       "      <th>helpful_numerator</th>\n",
       "      <th>helpful_denominator</th>\n",
       "    </tr>\n",
       "    <tr>\n",
       "      <th>reviewerID</th>\n",
       "      <th></th>\n",
       "      <th></th>\n",
       "      <th></th>\n",
       "      <th></th>\n",
       "      <th></th>\n",
       "      <th></th>\n",
       "      <th></th>\n",
       "      <th></th>\n",
       "      <th></th>\n",
       "      <th></th>\n",
       "      <th></th>\n",
       "      <th></th>\n",
       "      <th></th>\n",
       "      <th></th>\n",
       "    </tr>\n",
       "  </thead>\n",
       "  <tbody>\n",
       "    <tr>\n",
       "      <th>A1N4O8VOJZTDVB</th>\n",
       "      <td>11 2, 2013</td>\n",
       "      <td>Really cute</td>\n",
       "      <td>Loves the song, so he really couldn't wait to ...</td>\n",
       "      <td>1383350400</td>\n",
       "      <td>B004A9SDD8</td>\n",
       "      <td>3.0</td>\n",
       "      <td>[1, 1]</td>\n",
       "      <td>Annette Yancey</td>\n",
       "      <td>A1N4O8VOJZTDVB</td>\n",
       "      <td>Android Apps</td>\n",
       "      <td>206</td>\n",
       "      <td>100.0</td>\n",
       "      <td>1.0</td>\n",
       "      <td>1.0</td>\n",
       "    </tr>\n",
       "    <tr>\n",
       "      <th>A2HQWU6HUKIEC7</th>\n",
       "      <td>12 5, 2011</td>\n",
       "      <td>2-year-old loves it</td>\n",
       "      <td>Oh, how my little grandson loves this app. He'...</td>\n",
       "      <td>1323043200</td>\n",
       "      <td>B004A9SDD8</td>\n",
       "      <td>5.0</td>\n",
       "      <td>[0, 0]</td>\n",
       "      <td>Audiobook lover \"Kathy\"</td>\n",
       "      <td>A2HQWU6HUKIEC7</td>\n",
       "      <td>Android Apps</td>\n",
       "      <td>255</td>\n",
       "      <td>NaN</td>\n",
       "      <td>NaN</td>\n",
       "      <td>NaN</td>\n",
       "    </tr>\n",
       "    <tr>\n",
       "      <th>A1SXASF6GYG96I</th>\n",
       "      <td>05 21, 2012</td>\n",
       "      <td>Fun game</td>\n",
       "      <td>I found this at a perfect time since my daught...</td>\n",
       "      <td>1337558400</td>\n",
       "      <td>B004A9SDD8</td>\n",
       "      <td>5.0</td>\n",
       "      <td>[0, 0]</td>\n",
       "      <td>Barbara Gibbs</td>\n",
       "      <td>A1SXASF6GYG96I</td>\n",
       "      <td>Android Apps</td>\n",
       "      <td>288</td>\n",
       "      <td>NaN</td>\n",
       "      <td>NaN</td>\n",
       "      <td>NaN</td>\n",
       "    </tr>\n",
       "    <tr>\n",
       "      <th>A2B54P9ZDYH167</th>\n",
       "      <td>12 6, 2012</td>\n",
       "      <td>We love our Monkeys!</td>\n",
       "      <td>My 1 year old goes back to this game over and ...</td>\n",
       "      <td>1354752000</td>\n",
       "      <td>B004A9SDD8</td>\n",
       "      <td>5.0</td>\n",
       "      <td>[3, 4]</td>\n",
       "      <td>Brooke Greenstreet \"Babylove\"</td>\n",
       "      <td>A2B54P9ZDYH167</td>\n",
       "      <td>Android Apps</td>\n",
       "      <td>186</td>\n",
       "      <td>75.0</td>\n",
       "      <td>3.0</td>\n",
       "      <td>4.0</td>\n",
       "    </tr>\n",
       "    <tr>\n",
       "      <th>AFOFZDTX5UC6D</th>\n",
       "      <td>02 1, 2014</td>\n",
       "      <td>This is my granddaughters favorite app on my K...</td>\n",
       "      <td>There are three different versions of the song...</td>\n",
       "      <td>1391212800</td>\n",
       "      <td>B004A9SDD8</td>\n",
       "      <td>5.0</td>\n",
       "      <td>[1, 1]</td>\n",
       "      <td>C. Galindo</td>\n",
       "      <td>AFOFZDTX5UC6D</td>\n",
       "      <td>Android Apps</td>\n",
       "      <td>746</td>\n",
       "      <td>100.0</td>\n",
       "      <td>1.0</td>\n",
       "      <td>1.0</td>\n",
       "    </tr>\n",
       "  </tbody>\n",
       "</table>\n",
       "</div>"
      ],
      "text/plain": [
       "                 reviewTime  \\\n",
       "reviewerID                    \n",
       "A1N4O8VOJZTDVB   11 2, 2013   \n",
       "A2HQWU6HUKIEC7   12 5, 2011   \n",
       "A1SXASF6GYG96I  05 21, 2012   \n",
       "A2B54P9ZDYH167   12 6, 2012   \n",
       "AFOFZDTX5UC6D    02 1, 2014   \n",
       "\n",
       "                                                          summary  \\\n",
       "reviewerID                                                          \n",
       "A1N4O8VOJZTDVB                                        Really cute   \n",
       "A2HQWU6HUKIEC7                                2-year-old loves it   \n",
       "A1SXASF6GYG96I                                           Fun game   \n",
       "A2B54P9ZDYH167                               We love our Monkeys!   \n",
       "AFOFZDTX5UC6D   This is my granddaughters favorite app on my K...   \n",
       "\n",
       "                                                       reviewText  \\\n",
       "reviewerID                                                          \n",
       "A1N4O8VOJZTDVB  Loves the song, so he really couldn't wait to ...   \n",
       "A2HQWU6HUKIEC7  Oh, how my little grandson loves this app. He'...   \n",
       "A1SXASF6GYG96I  I found this at a perfect time since my daught...   \n",
       "A2B54P9ZDYH167  My 1 year old goes back to this game over and ...   \n",
       "AFOFZDTX5UC6D   There are three different versions of the song...   \n",
       "\n",
       "                unixReviewTime        asin  overall helpful  \\\n",
       "reviewerID                                                    \n",
       "A1N4O8VOJZTDVB      1383350400  B004A9SDD8      3.0  [1, 1]   \n",
       "A2HQWU6HUKIEC7      1323043200  B004A9SDD8      5.0  [0, 0]   \n",
       "A1SXASF6GYG96I      1337558400  B004A9SDD8      5.0  [0, 0]   \n",
       "A2B54P9ZDYH167      1354752000  B004A9SDD8      5.0  [3, 4]   \n",
       "AFOFZDTX5UC6D       1391212800  B004A9SDD8      5.0  [1, 1]   \n",
       "\n",
       "                                 reviewerName      reviewerID   ProductType  \\\n",
       "reviewerID                                                                    \n",
       "A1N4O8VOJZTDVB                 Annette Yancey  A1N4O8VOJZTDVB  Android Apps   \n",
       "A2HQWU6HUKIEC7        Audiobook lover \"Kathy\"  A2HQWU6HUKIEC7  Android Apps   \n",
       "A1SXASF6GYG96I                  Barbara Gibbs  A1SXASF6GYG96I  Android Apps   \n",
       "A2B54P9ZDYH167  Brooke Greenstreet \"Babylove\"  A2B54P9ZDYH167  Android Apps   \n",
       "AFOFZDTX5UC6D                      C. Galindo   AFOFZDTX5UC6D  Android Apps   \n",
       "\n",
       "                charcount_reviewtext  helpfulpercentage  helpful_numerator  \\\n",
       "reviewerID                                                                   \n",
       "A1N4O8VOJZTDVB                   206              100.0                1.0   \n",
       "A2HQWU6HUKIEC7                   255                NaN                NaN   \n",
       "A1SXASF6GYG96I                   288                NaN                NaN   \n",
       "A2B54P9ZDYH167                   186               75.0                3.0   \n",
       "AFOFZDTX5UC6D                    746              100.0                1.0   \n",
       "\n",
       "                helpful_denominator  \n",
       "reviewerID                           \n",
       "A1N4O8VOJZTDVB                  1.0  \n",
       "A2HQWU6HUKIEC7                  NaN  \n",
       "A1SXASF6GYG96I                  NaN  \n",
       "A2B54P9ZDYH167                  4.0  \n",
       "AFOFZDTX5UC6D                   1.0  "
      ]
     },
     "execution_count": 132,
     "metadata": {},
     "output_type": "execute_result"
    }
   ],
   "source": [
    "sus4 = (df_AA5_head['reviewText'].notnull())\n",
    "\n",
    "suspect4 = df_AA5_head[sus4]\n",
    "suspect4"
   ]
  },
  {
   "cell_type": "code",
   "execution_count": 133,
   "metadata": {
    "collapsed": false
   },
   "outputs": [
    {
     "name": "stderr",
     "output_type": "stream",
     "text": [
      "C:\\Program Files\\Anaconda33\\lib\\site-packages\\ipykernel\\__main__.py:1: SettingWithCopyWarning: \n",
      "A value is trying to be set on a copy of a slice from a DataFrame.\n",
      "Try using .loc[row_indexer,col_indexer] = value instead\n",
      "\n",
      "See the caveats in the documentation: http://pandas.pydata.org/pandas-docs/stable/indexing.html#indexing-view-versus-copy\n",
      "  if __name__ == '__main__':\n"
     ]
    },
    {
     "data": {
      "text/html": [
       "<div>\n",
       "<table border=\"1\" class=\"dataframe\">\n",
       "  <thead>\n",
       "    <tr style=\"text-align: right;\">\n",
       "      <th></th>\n",
       "      <th>reviewTime</th>\n",
       "      <th>summary</th>\n",
       "      <th>reviewText</th>\n",
       "      <th>unixReviewTime</th>\n",
       "      <th>asin</th>\n",
       "      <th>overall</th>\n",
       "      <th>helpful</th>\n",
       "      <th>reviewerName</th>\n",
       "      <th>reviewerID</th>\n",
       "      <th>ProductType</th>\n",
       "      <th>charcount_reviewtext</th>\n",
       "      <th>helpfulpercentage</th>\n",
       "      <th>helpful_numerator</th>\n",
       "      <th>helpful_denominator</th>\n",
       "      <th>wordcount_reviewtext</th>\n",
       "    </tr>\n",
       "    <tr>\n",
       "      <th>reviewerID</th>\n",
       "      <th></th>\n",
       "      <th></th>\n",
       "      <th></th>\n",
       "      <th></th>\n",
       "      <th></th>\n",
       "      <th></th>\n",
       "      <th></th>\n",
       "      <th></th>\n",
       "      <th></th>\n",
       "      <th></th>\n",
       "      <th></th>\n",
       "      <th></th>\n",
       "      <th></th>\n",
       "      <th></th>\n",
       "      <th></th>\n",
       "    </tr>\n",
       "  </thead>\n",
       "  <tbody>\n",
       "    <tr>\n",
       "      <th>A1N4O8VOJZTDVB</th>\n",
       "      <td>11 2, 2013</td>\n",
       "      <td>Really cute</td>\n",
       "      <td>Loves the song, so he really couldn't wait to ...</td>\n",
       "      <td>1383350400</td>\n",
       "      <td>B004A9SDD8</td>\n",
       "      <td>3.0</td>\n",
       "      <td>[1, 1]</td>\n",
       "      <td>Annette Yancey</td>\n",
       "      <td>A1N4O8VOJZTDVB</td>\n",
       "      <td>Android Apps</td>\n",
       "      <td>206</td>\n",
       "      <td>100.0</td>\n",
       "      <td>1.0</td>\n",
       "      <td>1.0</td>\n",
       "      <td>41</td>\n",
       "    </tr>\n",
       "    <tr>\n",
       "      <th>A2HQWU6HUKIEC7</th>\n",
       "      <td>12 5, 2011</td>\n",
       "      <td>2-year-old loves it</td>\n",
       "      <td>Oh, how my little grandson loves this app. He'...</td>\n",
       "      <td>1323043200</td>\n",
       "      <td>B004A9SDD8</td>\n",
       "      <td>5.0</td>\n",
       "      <td>[0, 0]</td>\n",
       "      <td>Audiobook lover \"Kathy\"</td>\n",
       "      <td>A2HQWU6HUKIEC7</td>\n",
       "      <td>Android Apps</td>\n",
       "      <td>255</td>\n",
       "      <td>NaN</td>\n",
       "      <td>NaN</td>\n",
       "      <td>NaN</td>\n",
       "      <td>47</td>\n",
       "    </tr>\n",
       "    <tr>\n",
       "      <th>A1SXASF6GYG96I</th>\n",
       "      <td>05 21, 2012</td>\n",
       "      <td>Fun game</td>\n",
       "      <td>I found this at a perfect time since my daught...</td>\n",
       "      <td>1337558400</td>\n",
       "      <td>B004A9SDD8</td>\n",
       "      <td>5.0</td>\n",
       "      <td>[0, 0]</td>\n",
       "      <td>Barbara Gibbs</td>\n",
       "      <td>A1SXASF6GYG96I</td>\n",
       "      <td>Android Apps</td>\n",
       "      <td>288</td>\n",
       "      <td>NaN</td>\n",
       "      <td>NaN</td>\n",
       "      <td>NaN</td>\n",
       "      <td>52</td>\n",
       "    </tr>\n",
       "    <tr>\n",
       "      <th>A2B54P9ZDYH167</th>\n",
       "      <td>12 6, 2012</td>\n",
       "      <td>We love our Monkeys!</td>\n",
       "      <td>My 1 year old goes back to this game over and ...</td>\n",
       "      <td>1354752000</td>\n",
       "      <td>B004A9SDD8</td>\n",
       "      <td>5.0</td>\n",
       "      <td>[3, 4]</td>\n",
       "      <td>Brooke Greenstreet \"Babylove\"</td>\n",
       "      <td>A2B54P9ZDYH167</td>\n",
       "      <td>Android Apps</td>\n",
       "      <td>186</td>\n",
       "      <td>75.0</td>\n",
       "      <td>3.0</td>\n",
       "      <td>4.0</td>\n",
       "      <td>40</td>\n",
       "    </tr>\n",
       "    <tr>\n",
       "      <th>AFOFZDTX5UC6D</th>\n",
       "      <td>02 1, 2014</td>\n",
       "      <td>This is my granddaughters favorite app on my K...</td>\n",
       "      <td>There are three different versions of the song...</td>\n",
       "      <td>1391212800</td>\n",
       "      <td>B004A9SDD8</td>\n",
       "      <td>5.0</td>\n",
       "      <td>[1, 1]</td>\n",
       "      <td>C. Galindo</td>\n",
       "      <td>AFOFZDTX5UC6D</td>\n",
       "      <td>Android Apps</td>\n",
       "      <td>746</td>\n",
       "      <td>100.0</td>\n",
       "      <td>1.0</td>\n",
       "      <td>1.0</td>\n",
       "      <td>134</td>\n",
       "    </tr>\n",
       "  </tbody>\n",
       "</table>\n",
       "</div>"
      ],
      "text/plain": [
       "                 reviewTime  \\\n",
       "reviewerID                    \n",
       "A1N4O8VOJZTDVB   11 2, 2013   \n",
       "A2HQWU6HUKIEC7   12 5, 2011   \n",
       "A1SXASF6GYG96I  05 21, 2012   \n",
       "A2B54P9ZDYH167   12 6, 2012   \n",
       "AFOFZDTX5UC6D    02 1, 2014   \n",
       "\n",
       "                                                          summary  \\\n",
       "reviewerID                                                          \n",
       "A1N4O8VOJZTDVB                                        Really cute   \n",
       "A2HQWU6HUKIEC7                                2-year-old loves it   \n",
       "A1SXASF6GYG96I                                           Fun game   \n",
       "A2B54P9ZDYH167                               We love our Monkeys!   \n",
       "AFOFZDTX5UC6D   This is my granddaughters favorite app on my K...   \n",
       "\n",
       "                                                       reviewText  \\\n",
       "reviewerID                                                          \n",
       "A1N4O8VOJZTDVB  Loves the song, so he really couldn't wait to ...   \n",
       "A2HQWU6HUKIEC7  Oh, how my little grandson loves this app. He'...   \n",
       "A1SXASF6GYG96I  I found this at a perfect time since my daught...   \n",
       "A2B54P9ZDYH167  My 1 year old goes back to this game over and ...   \n",
       "AFOFZDTX5UC6D   There are three different versions of the song...   \n",
       "\n",
       "                unixReviewTime        asin  overall helpful  \\\n",
       "reviewerID                                                    \n",
       "A1N4O8VOJZTDVB      1383350400  B004A9SDD8      3.0  [1, 1]   \n",
       "A2HQWU6HUKIEC7      1323043200  B004A9SDD8      5.0  [0, 0]   \n",
       "A1SXASF6GYG96I      1337558400  B004A9SDD8      5.0  [0, 0]   \n",
       "A2B54P9ZDYH167      1354752000  B004A9SDD8      5.0  [3, 4]   \n",
       "AFOFZDTX5UC6D       1391212800  B004A9SDD8      5.0  [1, 1]   \n",
       "\n",
       "                                 reviewerName      reviewerID   ProductType  \\\n",
       "reviewerID                                                                    \n",
       "A1N4O8VOJZTDVB                 Annette Yancey  A1N4O8VOJZTDVB  Android Apps   \n",
       "A2HQWU6HUKIEC7        Audiobook lover \"Kathy\"  A2HQWU6HUKIEC7  Android Apps   \n",
       "A1SXASF6GYG96I                  Barbara Gibbs  A1SXASF6GYG96I  Android Apps   \n",
       "A2B54P9ZDYH167  Brooke Greenstreet \"Babylove\"  A2B54P9ZDYH167  Android Apps   \n",
       "AFOFZDTX5UC6D                      C. Galindo   AFOFZDTX5UC6D  Android Apps   \n",
       "\n",
       "                charcount_reviewtext  helpfulpercentage  helpful_numerator  \\\n",
       "reviewerID                                                                   \n",
       "A1N4O8VOJZTDVB                   206              100.0                1.0   \n",
       "A2HQWU6HUKIEC7                   255                NaN                NaN   \n",
       "A1SXASF6GYG96I                   288                NaN                NaN   \n",
       "A2B54P9ZDYH167                   186               75.0                3.0   \n",
       "AFOFZDTX5UC6D                    746              100.0                1.0   \n",
       "\n",
       "                helpful_denominator  wordcount_reviewtext  \n",
       "reviewerID                                                 \n",
       "A1N4O8VOJZTDVB                  1.0                    41  \n",
       "A2HQWU6HUKIEC7                  NaN                    47  \n",
       "A1SXASF6GYG96I                  NaN                    52  \n",
       "A2B54P9ZDYH167                  4.0                    40  \n",
       "AFOFZDTX5UC6D                   1.0                   134  "
      ]
     },
     "execution_count": 133,
     "metadata": {},
     "output_type": "execute_result"
    }
   ],
   "source": [
    "df_AA5_head['wordcount_reviewtext'] = suspect4.apply(calculate_wordcount,axis=1)\n",
    "df_AA5_head            "
   ]
  },
  {
   "cell_type": "markdown",
   "metadata": {},
   "source": [
    "###### Splitting the unixReviewTime field"
   ]
  },
  {
   "cell_type": "code",
   "execution_count": 134,
   "metadata": {
    "collapsed": false
   },
   "outputs": [
    {
     "name": "stdout",
     "output_type": "stream",
     "text": [
      "2008-02-06 00:00:00\n",
      "2008\n",
      "2\n",
      "6\n",
      "Wednesday\n"
     ]
    }
   ],
   "source": [
    "import calendar\n",
    "date = datetime.datetime.utcfromtimestamp(1202256000)\n",
    "print(date)\n",
    "print(date.year)\n",
    "print(date.month)\n",
    "print(date.day)\n",
    "print(calendar.day_name[date.weekday()])"
   ]
  },
  {
   "cell_type": "code",
   "execution_count": 135,
   "metadata": {
    "collapsed": false
   },
   "outputs": [
    {
     "name": "stderr",
     "output_type": "stream",
     "text": [
      "C:\\Program Files\\Anaconda33\\lib\\site-packages\\ipykernel\\__main__.py:4: SettingWithCopyWarning: \n",
      "A value is trying to be set on a copy of a slice from a DataFrame.\n",
      "Try using .loc[row_indexer,col_indexer] = value instead\n",
      "\n",
      "See the caveats in the documentation: http://pandas.pydata.org/pandas-docs/stable/indexing.html#indexing-view-versus-copy\n"
     ]
    }
   ],
   "source": [
    "def GetReview_year(row):\n",
    "    return datetime.datetime.utcfromtimestamp(row['unixReviewTime']).year\n",
    "                                               \n",
    "df_AA5_head['ReviewYear'] = df_AA5_head.apply(GetReview_year,axis=1)"
   ]
  },
  {
   "cell_type": "code",
   "execution_count": 136,
   "metadata": {
    "collapsed": false
   },
   "outputs": [
    {
     "name": "stderr",
     "output_type": "stream",
     "text": [
      "C:\\Program Files\\Anaconda33\\lib\\site-packages\\ipykernel\\__main__.py:4: SettingWithCopyWarning: \n",
      "A value is trying to be set on a copy of a slice from a DataFrame.\n",
      "Try using .loc[row_indexer,col_indexer] = value instead\n",
      "\n",
      "See the caveats in the documentation: http://pandas.pydata.org/pandas-docs/stable/indexing.html#indexing-view-versus-copy\n"
     ]
    }
   ],
   "source": [
    "def GetReview_month(row):\n",
    "    return datetime.datetime.utcfromtimestamp(row['unixReviewTime']).month\n",
    "                                               \n",
    "df_AA5_head['ReviewMonth'] = df_AA5_head.apply(GetReview_month,axis=1)"
   ]
  },
  {
   "cell_type": "code",
   "execution_count": 137,
   "metadata": {
    "collapsed": false
   },
   "outputs": [
    {
     "name": "stderr",
     "output_type": "stream",
     "text": [
      "C:\\Program Files\\Anaconda33\\lib\\site-packages\\ipykernel\\__main__.py:4: SettingWithCopyWarning: \n",
      "A value is trying to be set on a copy of a slice from a DataFrame.\n",
      "Try using .loc[row_indexer,col_indexer] = value instead\n",
      "\n",
      "See the caveats in the documentation: http://pandas.pydata.org/pandas-docs/stable/indexing.html#indexing-view-versus-copy\n"
     ]
    }
   ],
   "source": [
    "def GetReview_day(row):\n",
    "    return datetime.datetime.utcfromtimestamp(row['unixReviewTime']).day\n",
    "                                               \n",
    "df_AA5_head['ReviewDay'] = df_AA5_head.apply(GetReview_day,axis=1)"
   ]
  },
  {
   "cell_type": "code",
   "execution_count": 138,
   "metadata": {
    "collapsed": false
   },
   "outputs": [
    {
     "name": "stderr",
     "output_type": "stream",
     "text": [
      "C:\\Program Files\\Anaconda33\\lib\\site-packages\\ipykernel\\__main__.py:4: SettingWithCopyWarning: \n",
      "A value is trying to be set on a copy of a slice from a DataFrame.\n",
      "Try using .loc[row_indexer,col_indexer] = value instead\n",
      "\n",
      "See the caveats in the documentation: http://pandas.pydata.org/pandas-docs/stable/indexing.html#indexing-view-versus-copy\n"
     ]
    }
   ],
   "source": [
    "def GetReview_dayofweek(row):\n",
    "    return calendar.day_name[datetime.datetime.utcfromtimestamp(row['unixReviewTime']).weekday()]\n",
    "                                               \n",
    "df_AA5_head['ReviewDayofWeek'] = df_AA5_head.apply(GetReview_dayofweek,axis=1)"
   ]
  },
  {
   "cell_type": "code",
   "execution_count": 139,
   "metadata": {
    "collapsed": false
   },
   "outputs": [
    {
     "data": {
      "text/html": [
       "<div>\n",
       "<table border=\"1\" class=\"dataframe\">\n",
       "  <thead>\n",
       "    <tr style=\"text-align: right;\">\n",
       "      <th></th>\n",
       "      <th>reviewTime</th>\n",
       "      <th>summary</th>\n",
       "      <th>reviewText</th>\n",
       "      <th>unixReviewTime</th>\n",
       "      <th>asin</th>\n",
       "      <th>overall</th>\n",
       "      <th>helpful</th>\n",
       "      <th>reviewerName</th>\n",
       "      <th>reviewerID</th>\n",
       "      <th>ProductType</th>\n",
       "      <th>charcount_reviewtext</th>\n",
       "      <th>helpfulpercentage</th>\n",
       "      <th>helpful_numerator</th>\n",
       "      <th>helpful_denominator</th>\n",
       "      <th>wordcount_reviewtext</th>\n",
       "      <th>ReviewYear</th>\n",
       "      <th>ReviewMonth</th>\n",
       "      <th>ReviewDay</th>\n",
       "      <th>ReviewDayofWeek</th>\n",
       "    </tr>\n",
       "    <tr>\n",
       "      <th>reviewerID</th>\n",
       "      <th></th>\n",
       "      <th></th>\n",
       "      <th></th>\n",
       "      <th></th>\n",
       "      <th></th>\n",
       "      <th></th>\n",
       "      <th></th>\n",
       "      <th></th>\n",
       "      <th></th>\n",
       "      <th></th>\n",
       "      <th></th>\n",
       "      <th></th>\n",
       "      <th></th>\n",
       "      <th></th>\n",
       "      <th></th>\n",
       "      <th></th>\n",
       "      <th></th>\n",
       "      <th></th>\n",
       "      <th></th>\n",
       "    </tr>\n",
       "  </thead>\n",
       "  <tbody>\n",
       "    <tr>\n",
       "      <th>A1N4O8VOJZTDVB</th>\n",
       "      <td>11 2, 2013</td>\n",
       "      <td>Really cute</td>\n",
       "      <td>Loves the song, so he really couldn't wait to ...</td>\n",
       "      <td>1383350400</td>\n",
       "      <td>B004A9SDD8</td>\n",
       "      <td>3.0</td>\n",
       "      <td>[1, 1]</td>\n",
       "      <td>Annette Yancey</td>\n",
       "      <td>A1N4O8VOJZTDVB</td>\n",
       "      <td>Android Apps</td>\n",
       "      <td>206</td>\n",
       "      <td>100.0</td>\n",
       "      <td>1.0</td>\n",
       "      <td>1.0</td>\n",
       "      <td>41</td>\n",
       "      <td>2013</td>\n",
       "      <td>11</td>\n",
       "      <td>2</td>\n",
       "      <td>Saturday</td>\n",
       "    </tr>\n",
       "    <tr>\n",
       "      <th>A2HQWU6HUKIEC7</th>\n",
       "      <td>12 5, 2011</td>\n",
       "      <td>2-year-old loves it</td>\n",
       "      <td>Oh, how my little grandson loves this app. He'...</td>\n",
       "      <td>1323043200</td>\n",
       "      <td>B004A9SDD8</td>\n",
       "      <td>5.0</td>\n",
       "      <td>[0, 0]</td>\n",
       "      <td>Audiobook lover \"Kathy\"</td>\n",
       "      <td>A2HQWU6HUKIEC7</td>\n",
       "      <td>Android Apps</td>\n",
       "      <td>255</td>\n",
       "      <td>NaN</td>\n",
       "      <td>NaN</td>\n",
       "      <td>NaN</td>\n",
       "      <td>47</td>\n",
       "      <td>2011</td>\n",
       "      <td>12</td>\n",
       "      <td>5</td>\n",
       "      <td>Monday</td>\n",
       "    </tr>\n",
       "    <tr>\n",
       "      <th>A1SXASF6GYG96I</th>\n",
       "      <td>05 21, 2012</td>\n",
       "      <td>Fun game</td>\n",
       "      <td>I found this at a perfect time since my daught...</td>\n",
       "      <td>1337558400</td>\n",
       "      <td>B004A9SDD8</td>\n",
       "      <td>5.0</td>\n",
       "      <td>[0, 0]</td>\n",
       "      <td>Barbara Gibbs</td>\n",
       "      <td>A1SXASF6GYG96I</td>\n",
       "      <td>Android Apps</td>\n",
       "      <td>288</td>\n",
       "      <td>NaN</td>\n",
       "      <td>NaN</td>\n",
       "      <td>NaN</td>\n",
       "      <td>52</td>\n",
       "      <td>2012</td>\n",
       "      <td>5</td>\n",
       "      <td>21</td>\n",
       "      <td>Monday</td>\n",
       "    </tr>\n",
       "    <tr>\n",
       "      <th>A2B54P9ZDYH167</th>\n",
       "      <td>12 6, 2012</td>\n",
       "      <td>We love our Monkeys!</td>\n",
       "      <td>My 1 year old goes back to this game over and ...</td>\n",
       "      <td>1354752000</td>\n",
       "      <td>B004A9SDD8</td>\n",
       "      <td>5.0</td>\n",
       "      <td>[3, 4]</td>\n",
       "      <td>Brooke Greenstreet \"Babylove\"</td>\n",
       "      <td>A2B54P9ZDYH167</td>\n",
       "      <td>Android Apps</td>\n",
       "      <td>186</td>\n",
       "      <td>75.0</td>\n",
       "      <td>3.0</td>\n",
       "      <td>4.0</td>\n",
       "      <td>40</td>\n",
       "      <td>2012</td>\n",
       "      <td>12</td>\n",
       "      <td>6</td>\n",
       "      <td>Thursday</td>\n",
       "    </tr>\n",
       "    <tr>\n",
       "      <th>AFOFZDTX5UC6D</th>\n",
       "      <td>02 1, 2014</td>\n",
       "      <td>This is my granddaughters favorite app on my K...</td>\n",
       "      <td>There are three different versions of the song...</td>\n",
       "      <td>1391212800</td>\n",
       "      <td>B004A9SDD8</td>\n",
       "      <td>5.0</td>\n",
       "      <td>[1, 1]</td>\n",
       "      <td>C. Galindo</td>\n",
       "      <td>AFOFZDTX5UC6D</td>\n",
       "      <td>Android Apps</td>\n",
       "      <td>746</td>\n",
       "      <td>100.0</td>\n",
       "      <td>1.0</td>\n",
       "      <td>1.0</td>\n",
       "      <td>134</td>\n",
       "      <td>2014</td>\n",
       "      <td>2</td>\n",
       "      <td>1</td>\n",
       "      <td>Saturday</td>\n",
       "    </tr>\n",
       "  </tbody>\n",
       "</table>\n",
       "</div>"
      ],
      "text/plain": [
       "                 reviewTime  \\\n",
       "reviewerID                    \n",
       "A1N4O8VOJZTDVB   11 2, 2013   \n",
       "A2HQWU6HUKIEC7   12 5, 2011   \n",
       "A1SXASF6GYG96I  05 21, 2012   \n",
       "A2B54P9ZDYH167   12 6, 2012   \n",
       "AFOFZDTX5UC6D    02 1, 2014   \n",
       "\n",
       "                                                          summary  \\\n",
       "reviewerID                                                          \n",
       "A1N4O8VOJZTDVB                                        Really cute   \n",
       "A2HQWU6HUKIEC7                                2-year-old loves it   \n",
       "A1SXASF6GYG96I                                           Fun game   \n",
       "A2B54P9ZDYH167                               We love our Monkeys!   \n",
       "AFOFZDTX5UC6D   This is my granddaughters favorite app on my K...   \n",
       "\n",
       "                                                       reviewText  \\\n",
       "reviewerID                                                          \n",
       "A1N4O8VOJZTDVB  Loves the song, so he really couldn't wait to ...   \n",
       "A2HQWU6HUKIEC7  Oh, how my little grandson loves this app. He'...   \n",
       "A1SXASF6GYG96I  I found this at a perfect time since my daught...   \n",
       "A2B54P9ZDYH167  My 1 year old goes back to this game over and ...   \n",
       "AFOFZDTX5UC6D   There are three different versions of the song...   \n",
       "\n",
       "                unixReviewTime        asin  overall helpful  \\\n",
       "reviewerID                                                    \n",
       "A1N4O8VOJZTDVB      1383350400  B004A9SDD8      3.0  [1, 1]   \n",
       "A2HQWU6HUKIEC7      1323043200  B004A9SDD8      5.0  [0, 0]   \n",
       "A1SXASF6GYG96I      1337558400  B004A9SDD8      5.0  [0, 0]   \n",
       "A2B54P9ZDYH167      1354752000  B004A9SDD8      5.0  [3, 4]   \n",
       "AFOFZDTX5UC6D       1391212800  B004A9SDD8      5.0  [1, 1]   \n",
       "\n",
       "                                 reviewerName      reviewerID   ProductType  \\\n",
       "reviewerID                                                                    \n",
       "A1N4O8VOJZTDVB                 Annette Yancey  A1N4O8VOJZTDVB  Android Apps   \n",
       "A2HQWU6HUKIEC7        Audiobook lover \"Kathy\"  A2HQWU6HUKIEC7  Android Apps   \n",
       "A1SXASF6GYG96I                  Barbara Gibbs  A1SXASF6GYG96I  Android Apps   \n",
       "A2B54P9ZDYH167  Brooke Greenstreet \"Babylove\"  A2B54P9ZDYH167  Android Apps   \n",
       "AFOFZDTX5UC6D                      C. Galindo   AFOFZDTX5UC6D  Android Apps   \n",
       "\n",
       "                charcount_reviewtext  helpfulpercentage  helpful_numerator  \\\n",
       "reviewerID                                                                   \n",
       "A1N4O8VOJZTDVB                   206              100.0                1.0   \n",
       "A2HQWU6HUKIEC7                   255                NaN                NaN   \n",
       "A1SXASF6GYG96I                   288                NaN                NaN   \n",
       "A2B54P9ZDYH167                   186               75.0                3.0   \n",
       "AFOFZDTX5UC6D                    746              100.0                1.0   \n",
       "\n",
       "                helpful_denominator  wordcount_reviewtext  ReviewYear  \\\n",
       "reviewerID                                                              \n",
       "A1N4O8VOJZTDVB                  1.0                    41        2013   \n",
       "A2HQWU6HUKIEC7                  NaN                    47        2011   \n",
       "A1SXASF6GYG96I                  NaN                    52        2012   \n",
       "A2B54P9ZDYH167                  4.0                    40        2012   \n",
       "AFOFZDTX5UC6D                   1.0                   134        2014   \n",
       "\n",
       "                ReviewMonth  ReviewDay ReviewDayofWeek  \n",
       "reviewerID                                              \n",
       "A1N4O8VOJZTDVB           11          2        Saturday  \n",
       "A2HQWU6HUKIEC7           12          5          Monday  \n",
       "A1SXASF6GYG96I            5         21          Monday  \n",
       "A2B54P9ZDYH167           12          6        Thursday  \n",
       "AFOFZDTX5UC6D             2          1        Saturday  "
      ]
     },
     "execution_count": 139,
     "metadata": {},
     "output_type": "execute_result"
    }
   ],
   "source": [
    "df_AA5_head"
   ]
  },
  {
   "cell_type": "markdown",
   "metadata": {},
   "source": [
    "###### Finding Seasons of the Year in reviewTime data per def below\n",
    "Spring runs from March 1 to May 31;\n",
    "Summer runs from June 1 to August 31;\n",
    "Fall (autumn) runs from September 1 to November 30; and\n",
    "Winter runs from December 1 to February 28 (February 29 in a leap year)."
   ]
  },
  {
   "cell_type": "markdown",
   "metadata": {},
   "source": [
    "# Data Visualization"
   ]
  },
  {
   "cell_type": "code",
   "execution_count": 74,
   "metadata": {
    "collapsed": true
   },
   "outputs": [],
   "source": [
    "%matplotlib inline"
   ]
  },
  {
   "cell_type": "code",
   "execution_count": 75,
   "metadata": {
    "collapsed": false
   },
   "outputs": [
    {
     "data": {
      "text/html": [
       "<div>\n",
       "<table border=\"1\" class=\"dataframe\">\n",
       "  <thead>\n",
       "    <tr style=\"text-align: right;\">\n",
       "      <th></th>\n",
       "      <th>asin</th>\n",
       "      <th>helpful</th>\n",
       "      <th>overall</th>\n",
       "      <th>reviewText</th>\n",
       "      <th>reviewTime</th>\n",
       "      <th>reviewerID</th>\n",
       "      <th>reviewerName</th>\n",
       "      <th>summary</th>\n",
       "      <th>unixReviewTime</th>\n",
       "      <th>wc_reviewtext</th>\n",
       "      <th>helpfulpercentage</th>\n",
       "      <th>helpful_numerator</th>\n",
       "      <th>helpful_denominator</th>\n",
       "    </tr>\n",
       "    <tr>\n",
       "      <th>reviewerID</th>\n",
       "      <th></th>\n",
       "      <th></th>\n",
       "      <th></th>\n",
       "      <th></th>\n",
       "      <th></th>\n",
       "      <th></th>\n",
       "      <th></th>\n",
       "      <th></th>\n",
       "      <th></th>\n",
       "      <th></th>\n",
       "      <th></th>\n",
       "      <th></th>\n",
       "      <th></th>\n",
       "    </tr>\n",
       "  </thead>\n",
       "  <tbody>\n",
       "    <tr>\n",
       "      <th>A1N4O8VOJZTDVB</th>\n",
       "      <td>B004A9SDD8</td>\n",
       "      <td>[1, 1]</td>\n",
       "      <td>3.0</td>\n",
       "      <td>Loves the song, so he really couldn't wait to ...</td>\n",
       "      <td>11 2, 2013</td>\n",
       "      <td>A1N4O8VOJZTDVB</td>\n",
       "      <td>Annette Yancey</td>\n",
       "      <td>Really cute</td>\n",
       "      <td>1383350400</td>\n",
       "      <td>206.0</td>\n",
       "      <td>100.0</td>\n",
       "      <td>1.0</td>\n",
       "      <td>1.0</td>\n",
       "    </tr>\n",
       "    <tr>\n",
       "      <th>A2HQWU6HUKIEC7</th>\n",
       "      <td>B004A9SDD8</td>\n",
       "      <td>[0, 0]</td>\n",
       "      <td>5.0</td>\n",
       "      <td>Oh, how my little grandson loves this app. He'...</td>\n",
       "      <td>12 5, 2011</td>\n",
       "      <td>A2HQWU6HUKIEC7</td>\n",
       "      <td>Audiobook lover \"Kathy\"</td>\n",
       "      <td>2-year-old loves it</td>\n",
       "      <td>1323043200</td>\n",
       "      <td>255.0</td>\n",
       "      <td>NaN</td>\n",
       "      <td>NaN</td>\n",
       "      <td>NaN</td>\n",
       "    </tr>\n",
       "    <tr>\n",
       "      <th>A1SXASF6GYG96I</th>\n",
       "      <td>B004A9SDD8</td>\n",
       "      <td>[0, 0]</td>\n",
       "      <td>5.0</td>\n",
       "      <td>I found this at a perfect time since my daught...</td>\n",
       "      <td>05 21, 2012</td>\n",
       "      <td>A1SXASF6GYG96I</td>\n",
       "      <td>Barbara Gibbs</td>\n",
       "      <td>Fun game</td>\n",
       "      <td>1337558400</td>\n",
       "      <td>288.0</td>\n",
       "      <td>NaN</td>\n",
       "      <td>NaN</td>\n",
       "      <td>NaN</td>\n",
       "    </tr>\n",
       "    <tr>\n",
       "      <th>A2B54P9ZDYH167</th>\n",
       "      <td>B004A9SDD8</td>\n",
       "      <td>[3, 4]</td>\n",
       "      <td>5.0</td>\n",
       "      <td>My 1 year old goes back to this game over and ...</td>\n",
       "      <td>12 6, 2012</td>\n",
       "      <td>A2B54P9ZDYH167</td>\n",
       "      <td>Brooke Greenstreet \"Babylove\"</td>\n",
       "      <td>We love our Monkeys!</td>\n",
       "      <td>1354752000</td>\n",
       "      <td>186.0</td>\n",
       "      <td>75.0</td>\n",
       "      <td>3.0</td>\n",
       "      <td>4.0</td>\n",
       "    </tr>\n",
       "    <tr>\n",
       "      <th>AFOFZDTX5UC6D</th>\n",
       "      <td>B004A9SDD8</td>\n",
       "      <td>[1, 1]</td>\n",
       "      <td>5.0</td>\n",
       "      <td>There are three different versions of the song...</td>\n",
       "      <td>02 1, 2014</td>\n",
       "      <td>AFOFZDTX5UC6D</td>\n",
       "      <td>C. Galindo</td>\n",
       "      <td>This is my granddaughters favorite app on my K...</td>\n",
       "      <td>1391212800</td>\n",
       "      <td>746.0</td>\n",
       "      <td>100.0</td>\n",
       "      <td>1.0</td>\n",
       "      <td>1.0</td>\n",
       "    </tr>\n",
       "  </tbody>\n",
       "</table>\n",
       "</div>"
      ],
      "text/plain": [
       "                      asin helpful  overall  \\\n",
       "reviewerID                                    \n",
       "A1N4O8VOJZTDVB  B004A9SDD8  [1, 1]      3.0   \n",
       "A2HQWU6HUKIEC7  B004A9SDD8  [0, 0]      5.0   \n",
       "A1SXASF6GYG96I  B004A9SDD8  [0, 0]      5.0   \n",
       "A2B54P9ZDYH167  B004A9SDD8  [3, 4]      5.0   \n",
       "AFOFZDTX5UC6D   B004A9SDD8  [1, 1]      5.0   \n",
       "\n",
       "                                                       reviewText  \\\n",
       "reviewerID                                                          \n",
       "A1N4O8VOJZTDVB  Loves the song, so he really couldn't wait to ...   \n",
       "A2HQWU6HUKIEC7  Oh, how my little grandson loves this app. He'...   \n",
       "A1SXASF6GYG96I  I found this at a perfect time since my daught...   \n",
       "A2B54P9ZDYH167  My 1 year old goes back to this game over and ...   \n",
       "AFOFZDTX5UC6D   There are three different versions of the song...   \n",
       "\n",
       "                 reviewTime      reviewerID                   reviewerName  \\\n",
       "reviewerID                                                                   \n",
       "A1N4O8VOJZTDVB   11 2, 2013  A1N4O8VOJZTDVB                 Annette Yancey   \n",
       "A2HQWU6HUKIEC7   12 5, 2011  A2HQWU6HUKIEC7        Audiobook lover \"Kathy\"   \n",
       "A1SXASF6GYG96I  05 21, 2012  A1SXASF6GYG96I                  Barbara Gibbs   \n",
       "A2B54P9ZDYH167   12 6, 2012  A2B54P9ZDYH167  Brooke Greenstreet \"Babylove\"   \n",
       "AFOFZDTX5UC6D    02 1, 2014   AFOFZDTX5UC6D                     C. Galindo   \n",
       "\n",
       "                                                          summary  \\\n",
       "reviewerID                                                          \n",
       "A1N4O8VOJZTDVB                                        Really cute   \n",
       "A2HQWU6HUKIEC7                                2-year-old loves it   \n",
       "A1SXASF6GYG96I                                           Fun game   \n",
       "A2B54P9ZDYH167                               We love our Monkeys!   \n",
       "AFOFZDTX5UC6D   This is my granddaughters favorite app on my K...   \n",
       "\n",
       "                unixReviewTime  wc_reviewtext  helpfulpercentage  \\\n",
       "reviewerID                                                         \n",
       "A1N4O8VOJZTDVB      1383350400          206.0              100.0   \n",
       "A2HQWU6HUKIEC7      1323043200          255.0                NaN   \n",
       "A1SXASF6GYG96I      1337558400          288.0                NaN   \n",
       "A2B54P9ZDYH167      1354752000          186.0               75.0   \n",
       "AFOFZDTX5UC6D       1391212800          746.0              100.0   \n",
       "\n",
       "                helpful_numerator  helpful_denominator  \n",
       "reviewerID                                              \n",
       "A1N4O8VOJZTDVB                1.0                  1.0  \n",
       "A2HQWU6HUKIEC7                NaN                  NaN  \n",
       "A1SXASF6GYG96I                NaN                  NaN  \n",
       "A2B54P9ZDYH167                3.0                  4.0  \n",
       "AFOFZDTX5UC6D                 1.0                  1.0  "
      ]
     },
     "execution_count": 75,
     "metadata": {},
     "output_type": "execute_result"
    }
   ],
   "source": [
    "sus2 = (merged_df_AA5_head['wc_reviewtext'].notnull() & merged_df_AA5_head['overall'].notnull())\n",
    "\n",
    "suspect2 = merged_df_AA5_head.loc[sus2]\n",
    "suspect2"
   ]
  },
  {
   "cell_type": "code",
   "execution_count": 76,
   "metadata": {
    "collapsed": false
   },
   "outputs": [
    {
     "data": {
      "image/png": "[encoded data removed]",
      "text/plain": [
       "<matplotlib.figure.Figure at 0x227ec15d630>"
      ]
     },
     "metadata": {},
     "output_type": "display_data"
    }
   ],
   "source": [
    "fig, ax = plt.subplots()\n",
    "ax.scatter(suspect2['wc_reviewtext'], suspect2['overall'].dropna(), color = 'darkgreen', marker='^')\n",
    "plt.show()"
   ]
  },
  {
   "cell_type": "code",
   "execution_count": 77,
   "metadata": {
    "collapsed": false
   },
   "outputs": [
    {
     "data": {
      "text/html": [
       "<div>\n",
       "<table border=\"1\" class=\"dataframe\">\n",
       "  <thead>\n",
       "    <tr style=\"text-align: right;\">\n",
       "      <th></th>\n",
       "      <th>asin</th>\n",
       "      <th>helpful</th>\n",
       "      <th>overall</th>\n",
       "      <th>reviewText</th>\n",
       "      <th>reviewTime</th>\n",
       "      <th>reviewerID</th>\n",
       "      <th>reviewerName</th>\n",
       "      <th>summary</th>\n",
       "      <th>unixReviewTime</th>\n",
       "      <th>wc_reviewtext</th>\n",
       "      <th>helpfulpercentage</th>\n",
       "      <th>helpful_numerator</th>\n",
       "      <th>helpful_denominator</th>\n",
       "    </tr>\n",
       "    <tr>\n",
       "      <th>reviewerID</th>\n",
       "      <th></th>\n",
       "      <th></th>\n",
       "      <th></th>\n",
       "      <th></th>\n",
       "      <th></th>\n",
       "      <th></th>\n",
       "      <th></th>\n",
       "      <th></th>\n",
       "      <th></th>\n",
       "      <th></th>\n",
       "      <th></th>\n",
       "      <th></th>\n",
       "      <th></th>\n",
       "    </tr>\n",
       "  </thead>\n",
       "  <tbody>\n",
       "    <tr>\n",
       "      <th>A1N4O8VOJZTDVB</th>\n",
       "      <td>B004A9SDD8</td>\n",
       "      <td>[1, 1]</td>\n",
       "      <td>3.0</td>\n",
       "      <td>Loves the song, so he really couldn't wait to ...</td>\n",
       "      <td>11 2, 2013</td>\n",
       "      <td>A1N4O8VOJZTDVB</td>\n",
       "      <td>Annette Yancey</td>\n",
       "      <td>Really cute</td>\n",
       "      <td>1383350400</td>\n",
       "      <td>206.0</td>\n",
       "      <td>100.0</td>\n",
       "      <td>1.0</td>\n",
       "      <td>1.0</td>\n",
       "    </tr>\n",
       "    <tr>\n",
       "      <th>A2B54P9ZDYH167</th>\n",
       "      <td>B004A9SDD8</td>\n",
       "      <td>[3, 4]</td>\n",
       "      <td>5.0</td>\n",
       "      <td>My 1 year old goes back to this game over and ...</td>\n",
       "      <td>12 6, 2012</td>\n",
       "      <td>A2B54P9ZDYH167</td>\n",
       "      <td>Brooke Greenstreet \"Babylove\"</td>\n",
       "      <td>We love our Monkeys!</td>\n",
       "      <td>1354752000</td>\n",
       "      <td>186.0</td>\n",
       "      <td>75.0</td>\n",
       "      <td>3.0</td>\n",
       "      <td>4.0</td>\n",
       "    </tr>\n",
       "    <tr>\n",
       "      <th>AFOFZDTX5UC6D</th>\n",
       "      <td>B004A9SDD8</td>\n",
       "      <td>[1, 1]</td>\n",
       "      <td>5.0</td>\n",
       "      <td>There are three different versions of the song...</td>\n",
       "      <td>02 1, 2014</td>\n",
       "      <td>AFOFZDTX5UC6D</td>\n",
       "      <td>C. Galindo</td>\n",
       "      <td>This is my granddaughters favorite app on my K...</td>\n",
       "      <td>1391212800</td>\n",
       "      <td>746.0</td>\n",
       "      <td>100.0</td>\n",
       "      <td>1.0</td>\n",
       "      <td>1.0</td>\n",
       "    </tr>\n",
       "  </tbody>\n",
       "</table>\n",
       "</div>"
      ],
      "text/plain": [
       "                      asin helpful  overall  \\\n",
       "reviewerID                                    \n",
       "A1N4O8VOJZTDVB  B004A9SDD8  [1, 1]      3.0   \n",
       "A2B54P9ZDYH167  B004A9SDD8  [3, 4]      5.0   \n",
       "AFOFZDTX5UC6D   B004A9SDD8  [1, 1]      5.0   \n",
       "\n",
       "                                                       reviewText  reviewTime  \\\n",
       "reviewerID                                                                      \n",
       "A1N4O8VOJZTDVB  Loves the song, so he really couldn't wait to ...  11 2, 2013   \n",
       "A2B54P9ZDYH167  My 1 year old goes back to this game over and ...  12 6, 2012   \n",
       "AFOFZDTX5UC6D   There are three different versions of the song...  02 1, 2014   \n",
       "\n",
       "                    reviewerID                   reviewerName  \\\n",
       "reviewerID                                                      \n",
       "A1N4O8VOJZTDVB  A1N4O8VOJZTDVB                 Annette Yancey   \n",
       "A2B54P9ZDYH167  A2B54P9ZDYH167  Brooke Greenstreet \"Babylove\"   \n",
       "AFOFZDTX5UC6D    AFOFZDTX5UC6D                     C. Galindo   \n",
       "\n",
       "                                                          summary  \\\n",
       "reviewerID                                                          \n",
       "A1N4O8VOJZTDVB                                        Really cute   \n",
       "A2B54P9ZDYH167                               We love our Monkeys!   \n",
       "AFOFZDTX5UC6D   This is my granddaughters favorite app on my K...   \n",
       "\n",
       "                unixReviewTime  wc_reviewtext  helpfulpercentage  \\\n",
       "reviewerID                                                         \n",
       "A1N4O8VOJZTDVB      1383350400          206.0              100.0   \n",
       "A2B54P9ZDYH167      1354752000          186.0               75.0   \n",
       "AFOFZDTX5UC6D       1391212800          746.0              100.0   \n",
       "\n",
       "                helpful_numerator  helpful_denominator  \n",
       "reviewerID                                              \n",
       "A1N4O8VOJZTDVB                1.0                  1.0  \n",
       "A2B54P9ZDYH167                3.0                  4.0  \n",
       "AFOFZDTX5UC6D                 1.0                  1.0  "
      ]
     },
     "execution_count": 77,
     "metadata": {},
     "output_type": "execute_result"
    }
   ],
   "source": [
    "sus3 = (merged_df_AA5_head['helpful_denominator'].notnull() & merged_df_AA5_head['overall'].notnull())\n",
    "\n",
    "suspect3 = merged_df_AA5_head.loc[sus3]\n",
    "suspect3"
   ]
  },
  {
   "cell_type": "code",
   "execution_count": 78,
   "metadata": {
    "collapsed": false
   },
   "outputs": [
    {
     "data": {
      "image/png": "[encoded data removed]",
      "text/plain": [
       "<matplotlib.figure.Figure at 0x227e59a35f8>"
      ]
     },
     "metadata": {},
     "output_type": "display_data"
    }
   ],
   "source": [
    "fig, ax = plt.subplots()\n",
    "ax.scatter( suspect3['helpful_denominator'].dropna(), suspect3['overall'].dropna(), color = 'darkgreen', marker='^')\n",
    "plt.show()"
   ]
  },
  {
   "cell_type": "markdown",
   "metadata": {},
   "source": [
    "###### Histogram of overall counts"
   ]
  },
  {
   "cell_type": "code",
   "execution_count": 88,
   "metadata": {
    "collapsed": false
   },
   "outputs": [
    {
     "data": {
      "image/png": "[encoded data removed]",
      "text/plain": [
       "<matplotlib.figure.Figure at 0x227d6d3d710>"
      ]
     },
     "metadata": {},
     "output_type": "display_data"
    }
   ],
   "source": [
    "import numpy as np\n",
    "import seaborn as sns\n",
    "import matplotlib.pyplot as plt\n",
    "sns.set(style=\"darkgrid\")\n",
    "\n",
    "#mdfh = sns.load_dataset(\"merged_df_AA5_head\")\n",
    "#g = sns.FacetGrid(mdfh, row=\"ReviewYear\", col=\"overall\", margin_titles=True)\n",
    "#bins = np.linspace(0, 60, 13)\n",
    "\n",
    "\n",
    "#n_data = len(merged_df_AA5_head['overall'])\n",
    "#n_bins = int(np.sqrt(n_data))\n",
    "#print(n_bins)\n",
    "\n",
    "_ = plt.hist(merged_df_AA5_head['overall'])\n",
    "_ = plt.title('overall score counts')\n",
    "_ = plt.xlabel('overall score')\n",
    "_ = plt.ylabel('count')\n",
    "\n",
    "plt.show()\n",
    "#g.map(plt.hist, \"overall\", color=\"steelblue\", bins=bins, lw=0)"
   ]
  },
  {
   "cell_type": "markdown",
   "metadata": {},
   "source": [
    "###### Beeswarm plots using seaborn"
   ]
  },
  {
   "cell_type": "code",
   "execution_count": 89,
   "metadata": {
    "collapsed": false
   },
   "outputs": [
    {
     "data": {
      "image/png": "[encoded data removed]",
      "text/plain": [
       "<matplotlib.figure.Figure at 0x227ce351278>"
      ]
     },
     "metadata": {},
     "output_type": "display_data"
    }
   ],
   "source": [
    "_ = sns.swarmplot(x='ReviewDay', y='overall', data=merged_df_AA5_head)\n",
    "_ = plt.xlabel('ReviewDate')\n",
    "_ = plt.ylabel('overall')\n",
    "plt.show()"
   ]
  },
  {
   "cell_type": "code",
   "execution_count": 90,
   "metadata": {
    "collapsed": false
   },
   "outputs": [
    {
     "data": {
      "image/png": "[encoded data removed]",
      "text/plain": [
       "<matplotlib.figure.Figure at 0x227c4ecd4a8>"
      ]
     },
     "metadata": {},
     "output_type": "display_data"
    }
   ],
   "source": [
    "_ = sns.swarmplot(x='ReviewDayofWeek', y='overall', data=merged_df_AA5_head)\n",
    "_ = plt.xlabel('ReviewDayofWeek')\n",
    "_ = plt.ylabel('overall')\n",
    "plt.show()"
   ]
  },
  {
   "cell_type": "code",
   "execution_count": 91,
   "metadata": {
    "collapsed": false
   },
   "outputs": [
    {
     "data": {
      "image/png": "[encoded data removed]",
      "text/plain": [
       "<matplotlib.figure.Figure at 0x227eff6b080>"
      ]
     },
     "metadata": {},
     "output_type": "display_data"
    }
   ],
   "source": [
    "_ = sns.swarmplot(x='ReviewMonth', y='overall', data=merged_df_AA5_head)\n",
    "_ = plt.xlabel('ReviewMonth')\n",
    "_ = plt.ylabel('overall')\n",
    "plt.show()"
   ]
  },
  {
   "cell_type": "code",
   "execution_count": 92,
   "metadata": {
    "collapsed": false
   },
   "outputs": [
    {
     "data": {
      "image/png": "[encoded data removed]",
      "text/plain": [
       "<matplotlib.figure.Figure at 0x227d8e41978>"
      ]
     },
     "metadata": {},
     "output_type": "display_data"
    }
   ],
   "source": [
    "_ = sns.swarmplot(x='ReviewYear', y='overall', data=merged_df_AA5_head)\n",
    "_ = plt.xlabel('ReviewYear')\n",
    "_ = plt.ylabel('overall')\n",
    "plt.show()"
   ]
  },
  {
   "cell_type": "code",
   "execution_count": 93,
   "metadata": {
    "collapsed": false
   },
   "outputs": [
    {
     "data": {
      "image/png": "[encoded data removed]",
      "text/plain": [
       "<matplotlib.figure.Figure at 0x227e5a00f28>"
      ]
     },
     "metadata": {},
     "output_type": "display_data"
    }
   ],
   "source": [
    "_ = sns.swarmplot(x='overall', y='wordcount_reviewtext', data=merged_df_AA5_head)\n",
    "_ = plt.xlabel('overall')\n",
    "_ = plt.ylabel('wordcount_reviewtext')\n",
    "plt.show()"
   ]
  },
  {
   "cell_type": "code",
   "execution_count": 94,
   "metadata": {
    "collapsed": true
   },
   "outputs": [],
   "source": [
    "def ecdf(data):\n",
    "    \"\"\"Compute ECDF for a one-dimensional array of measurements.\"\"\"\n",
    "\n",
    "    # Number of data points: n\n",
    "    n = len(data)\n",
    "\n",
    "    # x-data for the ECDF: x\n",
    "\n",
    "    x = np.sort(data)\n",
    "\n",
    "    # y-data for the ECDF: y\n",
    "    y = np.arange(1, n+1) / n\n",
    "\n",
    "    return x, y"
   ]
  },
  {
   "cell_type": "code",
   "execution_count": 95,
   "metadata": {
    "collapsed": false
   },
   "outputs": [
    {
     "data": {
      "image/png": "[encoded data removed]",
      "text/plain": [
       "<matplotlib.figure.Figure at 0x227c31454e0>"
      ]
     },
     "metadata": {},
     "output_type": "display_data"
    }
   ],
   "source": [
    "# Compute ECDF for overall score: x_overall, y_overall\n",
    "x_overall, y_overall = ecdf(merged_df_AA5_head['overall'])\n",
    "\n",
    "# Generate plot\n",
    "_ = plt.plot(x_overall, y_overall, marker='.', linestyle='none')\n",
    "\n",
    "# Make the margins nice\n",
    "plt.margins(0.02)\n",
    "\n",
    "# Label the axes\n",
    "_ = plt.xlabel('overall')\n",
    "_ = plt.ylabel('ECDF')\n",
    "\n",
    "# Display the plot\n",
    "plt.show()\n"
   ]
  },
  {
   "cell_type": "code",
   "execution_count": 96,
   "metadata": {
    "collapsed": false
   },
   "outputs": [
    {
     "data": {
      "text/plain": [
       "sys.version_info(major=3, minor=5, micro=4, releaselevel='final', serial=0)"
      ]
     },
     "execution_count": 96,
     "metadata": {},
     "output_type": "execute_result"
    }
   ],
   "source": [
    "import sys\n",
    "sys.version\n",
    "sys.version_info"
   ]
  },
  {
   "cell_type": "code",
   "execution_count": 97,
   "metadata": {
    "collapsed": false
   },
   "outputs": [],
   "source": [
    "# install rpy2 using conda\n",
    "#conda install rpy2 v 2.9 for python 3.54"
   ]
  },
  {
   "cell_type": "code",
   "execution_count": 98,
   "metadata": {
    "collapsed": false
   },
   "outputs": [
    {
     "data": {
      "image/png": "[encoded data removed]",
      "text/plain": [
       "<matplotlib.figure.Figure at 0x227f0407080>"
      ]
     },
     "metadata": {},
     "output_type": "display_data"
    }
   ],
   "source": [
    "uniform_data = (merged_df_AA5_head['overall'],merged_df_AA5_head['ReviewMonth'])\n",
    "ax = sns.heatmap(uniform_data)"
   ]
  },
  {
   "cell_type": "code",
   "execution_count": 99,
   "metadata": {
    "collapsed": false
   },
   "outputs": [
    {
     "data": {
      "image/png": "[encoded data removed]",
      "text/plain": [
       "<matplotlib.figure.Figure at 0x227d0ac9e80>"
      ]
     },
     "metadata": {},
     "output_type": "display_data"
    }
   ],
   "source": [
    "uniform_data = (merged_df_AA5_head['overall'],merged_df_AA5_head['wc_reviewtext'])\n",
    "#uniform_data = np.random.rand(10, 12)\n",
    "ax = sns.heatmap(uniform_data)"
   ]
  },
  {
   "cell_type": "code",
   "execution_count": 100,
   "metadata": {
    "collapsed": false
   },
   "outputs": [
    {
     "data": {
      "image/png": "[encoded data removed]",
      "text/plain": [
       "<matplotlib.figure.Figure at 0x227e6588be0>"
      ]
     },
     "metadata": {},
     "output_type": "display_data"
    }
   ],
   "source": [
    "uniform_data = (merged_df_AA5_head['wc_reviewtext'],merged_df_AA5_head['overall'])\n",
    "#uniform_data = np.random.rand(10, 12)\n",
    "ax = sns.heatmap(uniform_data)"
   ]
  },
  {
   "cell_type": "code",
   "execution_count": 101,
   "metadata": {
    "collapsed": false
   },
   "outputs": [
    {
     "data": {
      "text/html": [
       "<div>\n",
       "<table border=\"1\" class=\"dataframe\">\n",
       "  <thead>\n",
       "    <tr style=\"text-align: right;\">\n",
       "      <th></th>\n",
       "      <th>asin</th>\n",
       "      <th>helpful</th>\n",
       "      <th>overall</th>\n",
       "      <th>reviewText</th>\n",
       "      <th>reviewTime</th>\n",
       "      <th>reviewerID</th>\n",
       "      <th>reviewerName</th>\n",
       "      <th>summary</th>\n",
       "      <th>unixReviewTime</th>\n",
       "      <th>wc_reviewtext</th>\n",
       "      <th>helpfulpercentage</th>\n",
       "      <th>helpful_numerator</th>\n",
       "      <th>helpful_denominator</th>\n",
       "      <th>wordcount_reviewtext</th>\n",
       "      <th>ReviewYear</th>\n",
       "      <th>ReviewMonth</th>\n",
       "      <th>ReviewDay</th>\n",
       "      <th>ReviewDayofWeek</th>\n",
       "    </tr>\n",
       "    <tr>\n",
       "      <th>reviewerID</th>\n",
       "      <th></th>\n",
       "      <th></th>\n",
       "      <th></th>\n",
       "      <th></th>\n",
       "      <th></th>\n",
       "      <th></th>\n",
       "      <th></th>\n",
       "      <th></th>\n",
       "      <th></th>\n",
       "      <th></th>\n",
       "      <th></th>\n",
       "      <th></th>\n",
       "      <th></th>\n",
       "      <th></th>\n",
       "      <th></th>\n",
       "      <th></th>\n",
       "      <th></th>\n",
       "      <th></th>\n",
       "    </tr>\n",
       "  </thead>\n",
       "  <tbody>\n",
       "    <tr>\n",
       "      <th>A1N4O8VOJZTDVB</th>\n",
       "      <td>B004A9SDD8</td>\n",
       "      <td>[1, 1]</td>\n",
       "      <td>3.0</td>\n",
       "      <td>Loves the song, so he really couldn't wait to ...</td>\n",
       "      <td>11 2, 2013</td>\n",
       "      <td>A1N4O8VOJZTDVB</td>\n",
       "      <td>Annette Yancey</td>\n",
       "      <td>Really cute</td>\n",
       "      <td>1383350400</td>\n",
       "      <td>206.0</td>\n",
       "      <td>100.0</td>\n",
       "      <td>1.0</td>\n",
       "      <td>1.0</td>\n",
       "      <td>41.0</td>\n",
       "      <td>2013</td>\n",
       "      <td>11</td>\n",
       "      <td>2</td>\n",
       "      <td>Saturday</td>\n",
       "    </tr>\n",
       "    <tr>\n",
       "      <th>A2B54P9ZDYH167</th>\n",
       "      <td>B004A9SDD8</td>\n",
       "      <td>[3, 4]</td>\n",
       "      <td>5.0</td>\n",
       "      <td>My 1 year old goes back to this game over and ...</td>\n",
       "      <td>12 6, 2012</td>\n",
       "      <td>A2B54P9ZDYH167</td>\n",
       "      <td>Brooke Greenstreet \"Babylove\"</td>\n",
       "      <td>We love our Monkeys!</td>\n",
       "      <td>1354752000</td>\n",
       "      <td>186.0</td>\n",
       "      <td>75.0</td>\n",
       "      <td>3.0</td>\n",
       "      <td>4.0</td>\n",
       "      <td>40.0</td>\n",
       "      <td>2012</td>\n",
       "      <td>12</td>\n",
       "      <td>6</td>\n",
       "      <td>Thursday</td>\n",
       "    </tr>\n",
       "    <tr>\n",
       "      <th>AFOFZDTX5UC6D</th>\n",
       "      <td>B004A9SDD8</td>\n",
       "      <td>[1, 1]</td>\n",
       "      <td>5.0</td>\n",
       "      <td>There are three different versions of the song...</td>\n",
       "      <td>02 1, 2014</td>\n",
       "      <td>AFOFZDTX5UC6D</td>\n",
       "      <td>C. Galindo</td>\n",
       "      <td>This is my granddaughters favorite app on my K...</td>\n",
       "      <td>1391212800</td>\n",
       "      <td>746.0</td>\n",
       "      <td>100.0</td>\n",
       "      <td>1.0</td>\n",
       "      <td>1.0</td>\n",
       "      <td>134.0</td>\n",
       "      <td>2014</td>\n",
       "      <td>2</td>\n",
       "      <td>1</td>\n",
       "      <td>Saturday</td>\n",
       "    </tr>\n",
       "  </tbody>\n",
       "</table>\n",
       "</div>"
      ],
      "text/plain": [
       "                      asin helpful  overall  \\\n",
       "reviewerID                                    \n",
       "A1N4O8VOJZTDVB  B004A9SDD8  [1, 1]      3.0   \n",
       "A2B54P9ZDYH167  B004A9SDD8  [3, 4]      5.0   \n",
       "AFOFZDTX5UC6D   B004A9SDD8  [1, 1]      5.0   \n",
       "\n",
       "                                                       reviewText  reviewTime  \\\n",
       "reviewerID                                                                      \n",
       "A1N4O8VOJZTDVB  Loves the song, so he really couldn't wait to ...  11 2, 2013   \n",
       "A2B54P9ZDYH167  My 1 year old goes back to this game over and ...  12 6, 2012   \n",
       "AFOFZDTX5UC6D   There are three different versions of the song...  02 1, 2014   \n",
       "\n",
       "                    reviewerID                   reviewerName  \\\n",
       "reviewerID                                                      \n",
       "A1N4O8VOJZTDVB  A1N4O8VOJZTDVB                 Annette Yancey   \n",
       "A2B54P9ZDYH167  A2B54P9ZDYH167  Brooke Greenstreet \"Babylove\"   \n",
       "AFOFZDTX5UC6D    AFOFZDTX5UC6D                     C. Galindo   \n",
       "\n",
       "                                                          summary  \\\n",
       "reviewerID                                                          \n",
       "A1N4O8VOJZTDVB                                        Really cute   \n",
       "A2B54P9ZDYH167                               We love our Monkeys!   \n",
       "AFOFZDTX5UC6D   This is my granddaughters favorite app on my K...   \n",
       "\n",
       "                unixReviewTime  wc_reviewtext  helpfulpercentage  \\\n",
       "reviewerID                                                         \n",
       "A1N4O8VOJZTDVB      1383350400          206.0              100.0   \n",
       "A2B54P9ZDYH167      1354752000          186.0               75.0   \n",
       "AFOFZDTX5UC6D       1391212800          746.0              100.0   \n",
       "\n",
       "                helpful_numerator  helpful_denominator  wordcount_reviewtext  \\\n",
       "reviewerID                                                                     \n",
       "A1N4O8VOJZTDVB                1.0                  1.0                  41.0   \n",
       "A2B54P9ZDYH167                3.0                  4.0                  40.0   \n",
       "AFOFZDTX5UC6D                 1.0                  1.0                 134.0   \n",
       "\n",
       "                ReviewYear  ReviewMonth  ReviewDay ReviewDayofWeek  \n",
       "reviewerID                                                          \n",
       "A1N4O8VOJZTDVB        2013           11          2        Saturday  \n",
       "A2B54P9ZDYH167        2012           12          6        Thursday  \n",
       "AFOFZDTX5UC6D         2014            2          1        Saturday  "
      ]
     },
     "execution_count": 101,
     "metadata": {},
     "output_type": "execute_result"
    }
   ],
   "source": [
    "tempnewdf = merged_df_AA5_head.dropna()\n",
    "tempnewdf"
   ]
  },
  {
   "cell_type": "code",
   "execution_count": 102,
   "metadata": {
    "collapsed": false
   },
   "outputs": [
    {
     "data": {
      "text/html": [
       "<div>\n",
       "<table border=\"1\" class=\"dataframe\">\n",
       "  <thead>\n",
       "    <tr style=\"text-align: right;\">\n",
       "      <th></th>\n",
       "      <th>overall</th>\n",
       "      <th>wc_reviewtext</th>\n",
       "      <th>helpfulpercentage</th>\n",
       "      <th>helpful_numerator</th>\n",
       "      <th>helpful_denominator</th>\n",
       "      <th>wordcount_reviewtext</th>\n",
       "      <th>ReviewYear</th>\n",
       "      <th>ReviewMonth</th>\n",
       "      <th>ReviewDay</th>\n",
       "    </tr>\n",
       "  </thead>\n",
       "  <tbody>\n",
       "    <tr>\n",
       "      <th>0</th>\n",
       "      <td>3.0</td>\n",
       "      <td>206.0</td>\n",
       "      <td>100.0</td>\n",
       "      <td>1.0</td>\n",
       "      <td>1.0</td>\n",
       "      <td>41.0</td>\n",
       "      <td>2013</td>\n",
       "      <td>11</td>\n",
       "      <td>2</td>\n",
       "    </tr>\n",
       "    <tr>\n",
       "      <th>1</th>\n",
       "      <td>5.0</td>\n",
       "      <td>186.0</td>\n",
       "      <td>75.0</td>\n",
       "      <td>3.0</td>\n",
       "      <td>4.0</td>\n",
       "      <td>40.0</td>\n",
       "      <td>2012</td>\n",
       "      <td>12</td>\n",
       "      <td>6</td>\n",
       "    </tr>\n",
       "    <tr>\n",
       "      <th>2</th>\n",
       "      <td>5.0</td>\n",
       "      <td>746.0</td>\n",
       "      <td>100.0</td>\n",
       "      <td>1.0</td>\n",
       "      <td>1.0</td>\n",
       "      <td>134.0</td>\n",
       "      <td>2014</td>\n",
       "      <td>2</td>\n",
       "      <td>1</td>\n",
       "    </tr>\n",
       "  </tbody>\n",
       "</table>\n",
       "</div>"
      ],
      "text/plain": [
       "   overall  wc_reviewtext  helpfulpercentage  helpful_numerator  \\\n",
       "0      3.0          206.0              100.0                1.0   \n",
       "1      5.0          186.0               75.0                3.0   \n",
       "2      5.0          746.0              100.0                1.0   \n",
       "\n",
       "   helpful_denominator  wordcount_reviewtext  ReviewYear  ReviewMonth  \\\n",
       "0                  1.0                  41.0        2013           11   \n",
       "1                  4.0                  40.0        2012           12   \n",
       "2                  1.0                 134.0        2014            2   \n",
       "\n",
       "   ReviewDay  \n",
       "0          2  \n",
       "1          6  \n",
       "2          1  "
      ]
     },
     "execution_count": 102,
     "metadata": {},
     "output_type": "execute_result"
    }
   ],
   "source": [
    "score_data = tempnewdf.iloc[:,[2,9,10,11,12,13,14,15,16]]\n",
    "score_data.reset_index(drop=True, inplace=True)\n",
    "score_data"
   ]
  },
  {
   "cell_type": "code",
   "execution_count": 103,
   "metadata": {
    "collapsed": false
   },
   "outputs": [
    {
     "data": {
      "image/png": "[encoded data removed]",
      "text/plain": [
       "<matplotlib.figure.Figure at 0x227df4455f8>"
      ]
     },
     "metadata": {},
     "output_type": "display_data"
    }
   ],
   "source": [
    "#uniform_data = (merged_df_AA5_head.dropna())\n",
    "#uniform_data = np.random.rand(10, 12)\n",
    "ax = sns.heatmap(score_data,annot=True, fmt=\"g\", cmap='viridis')"
   ]
  },
  {
   "cell_type": "code",
   "execution_count": 104,
   "metadata": {
    "collapsed": false
   },
   "outputs": [
    {
     "data": {
      "image/png": "[encoded data removed]",
      "text/plain": [
       "<matplotlib.figure.Figure at 0x227ea399438>"
      ]
     },
     "metadata": {},
     "output_type": "display_data"
    }
   ],
   "source": [
    "newdata = score_data.pivot(\"overall\",\"ReviewYear\",\"helpful_numerator\")\n",
    "ax = sns.heatmap(newdata,annot=True, fmt=\"g\", cmap='YlGnBu')"
   ]
  },
  {
   "cell_type": "code",
   "execution_count": 105,
   "metadata": {
    "collapsed": false
   },
   "outputs": [
    {
     "data": {
      "image/png": "[encoded data removed]",
      "text/plain": [
       "<matplotlib.figure.Figure at 0x227ea5a02b0>"
      ]
     },
     "metadata": {},
     "output_type": "display_data"
    }
   ],
   "source": [
    "sns.set(color_codes=True)\n",
    "#iris = sns.load_dataset(\"score_data\")\n",
    "#species = iris.pop(\"overall\")\n",
    "g = sns.clustermap(score_data,metric=\"correlation\",annot=True, fmt=\"g\", cmap='YlGnBu')"
   ]
  },
  {
   "cell_type": "code",
   "execution_count": 106,
   "metadata": {
    "collapsed": false
   },
   "outputs": [
    {
     "data": {
      "text/plain": [
       "<seaborn.axisgrid.PairGrid at 0x227ea5a0518>"
      ]
     },
     "execution_count": 106,
     "metadata": {},
     "output_type": "execute_result"
    },
    {
     "data": {
      "image/png": "[encoded data removed]",
      "text/plain": [
       "<matplotlib.figure.Figure at 0x227ea5a05c0>"
      ]
     },
     "metadata": {},
     "output_type": "display_data"
    }
   ],
   "source": [
    "sns.pairplot(score_data,hue='overall',palette='Set1')"
   ]
  },
  {
   "cell_type": "markdown",
   "metadata": {},
   "source": [
    "# NLTK and NLP Processing of ReviewText data"
   ]
  },
  {
   "cell_type": "code",
   "execution_count": null,
   "metadata": {
    "collapsed": true
   },
   "outputs": [],
   "source": [
    "# wordcloud\n",
    "%matplotlib inline \n",
    "\n",
    "import matplotlib.pyplot as plt\n",
    "from wordcloud import WordCloud, STOPWORDS\n",
    "import nltk\n",
    "\n",
    "data = open(\"sfgate.html\",'r').read()\n",
    "text = nltk.clean_html(data)\n",
    "cleaned = nltk.word_tokenize(text.lower())\n",
    "wordlist = [x for x in cleaned if (len(x)>=2 and x.isalpha())]\n",
    "wordcloud = WordCloud(stopwords=STOPWORDS, background_color='white').generate(\" \".join(wordlist))\n",
    "plt.figure(figsize=(15,10))\n",
    "plt.imshow(wordcloud)\n",
    "plt.axis('off')\n",
    "plt.show()"
   ]
  },
  {
   "cell_type": "code",
   "execution_count": 107,
   "metadata": {
    "collapsed": false
   },
   "outputs": [],
   "source": [
    "import rpy2.interactive.packages as p\n",
    "import seaborn as sns\n",
    "%matplotlib inline"
   ]
  },
  {
   "cell_type": "code",
   "execution_count": 108,
   "metadata": {
    "collapsed": false
   },
   "outputs": [
    {
     "data": {
      "text/html": [
       "\n",
       "    <span>ListVector with 4 elements.</span>\n",
       "    <table>\n",
       "      <tbody>\n",
       "      \n",
       "      <tr>\n",
       "      <th>\n",
       "        rowInd\n",
       "      </th>\n",
       "      <td>\n",
       "        \n",
       "    <span>IntVector with 10 elements.</span>\n",
       "    <table>\n",
       "      <tbody>\n",
       "      <tr>\n",
       "      \n",
       "      <td>\n",
       "        5\n",
       "      </td>\n",
       "      \n",
       "      <td>\n",
       "        7\n",
       "      </td>\n",
       "      \n",
       "      <td>\n",
       "        1\n",
       "      </td>\n",
       "      \n",
       "      <td>\n",
       "        10\n",
       "      </td>\n",
       "      \n",
       "      <td>\n",
       "        ...\n",
       "      </td>\n",
       "      \n",
       "      <td>\n",
       "        3\n",
       "      </td>\n",
       "      \n",
       "      <td>\n",
       "        2\n",
       "      </td>\n",
       "      \n",
       "      <td>\n",
       "        8\n",
       "      </td>\n",
       "      \n",
       "      <td>\n",
       "        4\n",
       "      </td>\n",
       "      \n",
       "      </tr>\n",
       "      </tbody>\n",
       "    </table>\n",
       "    \n",
       "      </td>\n",
       "      </tr>\n",
       "      \n",
       "      <tr>\n",
       "      <th>\n",
       "        colInd\n",
       "      </th>\n",
       "      <td>\n",
       "        \n",
       "    <span>IntVector with 10 elements.</span>\n",
       "    <table>\n",
       "      <tbody>\n",
       "      <tr>\n",
       "      \n",
       "      <td>\n",
       "        8\n",
       "      </td>\n",
       "      \n",
       "      <td>\n",
       "        10\n",
       "      </td>\n",
       "      \n",
       "      <td>\n",
       "        2\n",
       "      </td>\n",
       "      \n",
       "      <td>\n",
       "        7\n",
       "      </td>\n",
       "      \n",
       "      <td>\n",
       "        ...\n",
       "      </td>\n",
       "      \n",
       "      <td>\n",
       "        6\n",
       "      </td>\n",
       "      \n",
       "      <td>\n",
       "        5\n",
       "      </td>\n",
       "      \n",
       "      <td>\n",
       "        3\n",
       "      </td>\n",
       "      \n",
       "      <td>\n",
       "        9\n",
       "      </td>\n",
       "      \n",
       "      </tr>\n",
       "      </tbody>\n",
       "    </table>\n",
       "    \n",
       "      </td>\n",
       "      </tr>\n",
       "      \n",
       "      <tr>\n",
       "      <th>\n",
       "        Rowv\n",
       "      </th>\n",
       "      <td>\n",
       "        NULL\n",
       "      </td>\n",
       "      </tr>\n",
       "      \n",
       "      <tr>\n",
       "      <th>\n",
       "        Colv\n",
       "      </th>\n",
       "      <td>\n",
       "        NULL\n",
       "      </td>\n",
       "      </tr>\n",
       "      \n",
       "      </tbody>\n",
       "    </table>\n",
       "    "
      ],
      "text/plain": [
       "R object with classes: ('list',) mapped to:\n",
       "<ListVector - Python:0x00000227A5F974C8 / R:0x00000227A705ECA8>\n",
       "[IntVector, IntVector, RNULLType, RNULLType]\n",
       "  rowInd: <class 'rpy2.robjects.vectors.IntVector'>\n",
       "  R object with classes: ('integer',) mapped to:\n",
       "<IntVector - Python:0x0000022789E72E88 / R:0x00000227A5E50708>\n",
       "[5, 7, 1, 10, ..., 3, 2, 8, 4]\n",
       "  colInd: <class 'rpy2.robjects.vectors.IntVector'>\n",
       "  R object with classes: ('integer',) mapped to:\n",
       "<IntVector - Python:0x00000227EA7810C8 / R:0x00000227A423F7F0>\n",
       "[8, 10, 2, 7, ..., 6, 5, 3, 9]\n",
       "  Rowv: <class 'rpy2.rinterface.RNULLType'>\n",
       "  rpy2.rinterface.NULL\n",
       "  Colv: <class 'rpy2.rinterface.RNULLType'>\n",
       "  rpy2.rinterface.NULL"
      ]
     },
     "execution_count": 108,
     "metadata": {},
     "output_type": "execute_result"
    }
   ],
   "source": [
    "import rpy2.robjects as ro\n",
    "import rpy2.robjects.numpy2ri\n",
    "ro.numpy2ri.activate() \n",
    "R = ro.r\n",
    "%matplotlib inline\n",
    "#R.heatmap(uniform_data.iloc[:,[0,1]])\n",
    "\n",
    "\n",
    "data = np.random.random((10, 10))\n",
    "# #R.png(file='/tmp/out.png')\n",
    "R.heatmap(data)\n",
    "#R.heatmap(np.array((merged_df_AA5_head['overall']).astype(int),(merged_df_AA5_head['overall']).astype(int)))\n",
    "# R(\"dev.off()\")"
   ]
  },
  {
   "cell_type": "code",
   "execution_count": 109,
   "metadata": {
    "collapsed": false
   },
   "outputs": [],
   "source": [
    "# ## load the R package ISLR\n",
    "# infert = p.importr(\"ISLR\")\n",
    "\n",
    "# # load the Auto dataset\n",
    "# auto_df = com.load_data('merged_df_AA5_head')\n",
    "\n",
    "# # calculate the correlation matrix\n",
    "# corr = auto_df.corr()\n",
    "\n",
    "# # plot the heatmap\n",
    "# sns.heatmap(corr, \n",
    "#         xticklabels=corr.columns,\n",
    "#         yticklabels=corr.columns)"
   ]
  },
  {
   "cell_type": "code",
   "execution_count": 110,
   "metadata": {
    "collapsed": false
   },
   "outputs": [],
   "source": [
    "# Import necessary modules\n",
    "import nltk"
   ]
  },
  {
   "cell_type": "code",
   "execution_count": 111,
   "metadata": {
    "collapsed": true
   },
   "outputs": [],
   "source": [
    "from nltk.tokenize import word_tokenize \n",
    "from nltk.tokenize import sent_tokenize"
   ]
  },
  {
   "cell_type": "code",
   "execution_count": 112,
   "metadata": {
    "collapsed": false
   },
   "outputs": [
    {
     "data": {
      "text/plain": [
       "\"Loves the song, so he really couldn't wait to play this. A little less interesting for him so he doesn't play long, but he is almost 3 and likes to play the older games, but really cute for a younger child.\""
      ]
     },
     "execution_count": 112,
     "metadata": {},
     "output_type": "execute_result"
    }
   ],
   "source": [
    "merged_df_AA5_head['reviewText'][0]"
   ]
  },
  {
   "cell_type": "code",
   "execution_count": 113,
   "metadata": {
    "collapsed": false
   },
   "outputs": [],
   "source": [
    "#import nltk\n",
    "#nltk.download()"
   ]
  },
  {
   "cell_type": "code",
   "execution_count": 114,
   "metadata": {
    "collapsed": false
   },
   "outputs": [
    {
     "data": {
      "text/plain": [
       "reviewerID\n",
       "A1N4O8VOJZTDVB    Loves the song, so he really couldn't wait to ...\n",
       "A2HQWU6HUKIEC7    Oh, how my little grandson loves this app. He'...\n",
       "A1SXASF6GYG96I    I found this at a perfect time since my daught...\n",
       "A2B54P9ZDYH167    My 1 year old goes back to this game over and ...\n",
       "AFOFZDTX5UC6D     There are three different versions of the song...\n",
       "A1ZUSQ3TC3EC4C                                                  NaN\n",
       "AC05OAXD72X1V                                                   NaN\n",
       "A2RVMFOKBVM21I                                                  NaN\n",
       "A3NBSRGUWQGCMZ                                                  NaN\n",
       "A2KTVCVZJ8GPD2                                                  NaN\n",
       "Name: reviewText, dtype: object"
      ]
     },
     "execution_count": 114,
     "metadata": {},
     "output_type": "execute_result"
    }
   ],
   "source": [
    "test = merged_df_AA5_head['reviewText']\n",
    "test"
   ]
  },
  {
   "cell_type": "code",
   "execution_count": 115,
   "metadata": {
    "collapsed": false
   },
   "outputs": [
    {
     "data": {
      "text/html": [
       "<div>\n",
       "<table border=\"1\" class=\"dataframe\">\n",
       "  <thead>\n",
       "    <tr style=\"text-align: right;\">\n",
       "      <th></th>\n",
       "      <th>reviewText</th>\n",
       "    </tr>\n",
       "    <tr>\n",
       "      <th>reviewerID</th>\n",
       "      <th></th>\n",
       "    </tr>\n",
       "  </thead>\n",
       "  <tbody>\n",
       "    <tr>\n",
       "      <th>A1N4O8VOJZTDVB</th>\n",
       "      <td>Loves the song, so he really couldn't wait to ...</td>\n",
       "    </tr>\n",
       "    <tr>\n",
       "      <th>A2HQWU6HUKIEC7</th>\n",
       "      <td>Oh, how my little grandson loves this app. He'...</td>\n",
       "    </tr>\n",
       "    <tr>\n",
       "      <th>A1SXASF6GYG96I</th>\n",
       "      <td>I found this at a perfect time since my daught...</td>\n",
       "    </tr>\n",
       "    <tr>\n",
       "      <th>A2B54P9ZDYH167</th>\n",
       "      <td>My 1 year old goes back to this game over and ...</td>\n",
       "    </tr>\n",
       "    <tr>\n",
       "      <th>AFOFZDTX5UC6D</th>\n",
       "      <td>There are three different versions of the song...</td>\n",
       "    </tr>\n",
       "    <tr>\n",
       "      <th>A1ZUSQ3TC3EC4C</th>\n",
       "      <td>NaN</td>\n",
       "    </tr>\n",
       "    <tr>\n",
       "      <th>AC05OAXD72X1V</th>\n",
       "      <td>NaN</td>\n",
       "    </tr>\n",
       "    <tr>\n",
       "      <th>A2RVMFOKBVM21I</th>\n",
       "      <td>NaN</td>\n",
       "    </tr>\n",
       "    <tr>\n",
       "      <th>A3NBSRGUWQGCMZ</th>\n",
       "      <td>NaN</td>\n",
       "    </tr>\n",
       "    <tr>\n",
       "      <th>A2KTVCVZJ8GPD2</th>\n",
       "      <td>NaN</td>\n",
       "    </tr>\n",
       "  </tbody>\n",
       "</table>\n",
       "</div>"
      ],
      "text/plain": [
       "                                                       reviewText\n",
       "reviewerID                                                       \n",
       "A1N4O8VOJZTDVB  Loves the song, so he really couldn't wait to ...\n",
       "A2HQWU6HUKIEC7  Oh, how my little grandson loves this app. He'...\n",
       "A1SXASF6GYG96I  I found this at a perfect time since my daught...\n",
       "A2B54P9ZDYH167  My 1 year old goes back to this game over and ...\n",
       "AFOFZDTX5UC6D   There are three different versions of the song...\n",
       "A1ZUSQ3TC3EC4C                                                NaN\n",
       "AC05OAXD72X1V                                                 NaN\n",
       "A2RVMFOKBVM21I                                                NaN\n",
       "A3NBSRGUWQGCMZ                                                NaN\n",
       "A2KTVCVZJ8GPD2                                                NaN"
      ]
     },
     "execution_count": 115,
     "metadata": {},
     "output_type": "execute_result"
    }
   ],
   "source": [
    "merged_df_AA5_head.loc[:,['reviewText']]"
   ]
  },
  {
   "cell_type": "code",
   "execution_count": 116,
   "metadata": {
    "collapsed": false
   },
   "outputs": [
    {
     "name": "stdout",
     "output_type": "stream",
     "text": [
      "Loves the song, so he really couldn't wait to play this. A little less interesting for him so he doesn't play long, but he is almost 3 and likes to play the older games, but really cute for a younger child.\n",
      "Oh, how my little grandson loves this app. He's always asking for \"Monkey.\" Grandma has tired of it long before he has. Finding the items on each page that he can touch and activate is endlessly entertaining for him, at least for now. Well worth the $.99.\n",
      "I found this at a perfect time since my daughter's favorite song at the moment is five little monkeys. It's easy for little ones to operate and fun with all the things you can play with. The different generes are nice too, gives its a little variety.  Worth the money. Highly recommended!\n",
      "My 1 year old goes back to this game over and over again.  It is simple but very easy for a toddler to use.  I've even caught my 5 year old playing it as well.  Good app for little guys!\n",
      "There are three different versions of the song. The game itself keeps her occupied as everything she clicks on does something! There is an airplane that flies around the room, a telephone that rings and is plays a message, the lamp turns off the light and you see the monkeys eyes going up and down in the dark, a dog that barks when you click the window and then chases a cat out from under the bed every third time, the picture on the wall becomes an interactive portrait, the traffic light stops/starts the monkeys jumping, alarm clock rings, plant grows (and produces bananas), ball bounces, toy truck rumbles and honks.... lots to keep a toddler occupied! Oh! The monkeys jump on and fall off the bed! Mama calls the doctor, etc! It's great.\n",
      "nan\n",
      "nan\n",
      "nan\n",
      "nan\n",
      "nan\n"
     ]
    }
   ],
   "source": [
    "for index, row in merged_df_AA5_head.iterrows():\n",
    "    print(row['reviewText'])"
   ]
  },
  {
   "cell_type": "code",
   "execution_count": 117,
   "metadata": {
    "collapsed": false
   },
   "outputs": [
    {
     "name": "stdout",
     "output_type": "stream",
     "text": [
      " Loves the song, so he really couldn't wait to play this. A little less interesting for him so he doesn't play long, but he is almost 3 and likes to play the older games, but really cute for a younger child.Oh, how my little grandson loves this app. He's always asking for \"Monkey.\" Grandma has tired of it long before he has. Finding the items on each page that he can touch and activate is endlessly entertaining for him, at least for now. Well worth the $.99.I found this at a perfect time since my daughter's favorite song at the moment is five little monkeys. It's easy for little ones to operate and fun with all the things you can play with. The different generes are nice too, gives its a little variety.  Worth the money. Highly recommended!My 1 year old goes back to this game over and over again.  It is simple but very easy for a toddler to use.  I've even caught my 5 year old playing it as well.  Good app for little guys!There are three different versions of the song. The game itself keeps her occupied as everything she clicks on does something! There is an airplane that flies around the room, a telephone that rings and is plays a message, the lamp turns off the light and you see the monkeys eyes going up and down in the dark, a dog that barks when you click the window and then chases a cat out from under the bed every third time, the picture on the wall becomes an interactive portrait, the traffic light stops/starts the monkeys jumping, alarm clock rings, plant grows (and produces bananas), ball bounces, toy truck rumbles and honks.... lots to keep a toddler occupied! Oh! The monkeys jump on and fall off the bed! Mama calls the doctor, etc! It's great.\n"
     ]
    }
   ],
   "source": [
    "allReviewText = ' '\n",
    "for index, row in merged_df_AA5_head.iterrows():\n",
    "#    print(type(row['reviewText']))\n",
    "    if pd.notnull(row['reviewText']):\n",
    "        allReviewText = allReviewText + row['reviewText']\n",
    "print(allReviewText)"
   ]
  },
  {
   "cell_type": "code",
   "execution_count": 118,
   "metadata": {
    "collapsed": false
   },
   "outputs": [
    {
     "name": "stdout",
     "output_type": "stream",
     "text": [
      "{'It', 'different', 'with', '``', 'in', 'going', 'every', 'ones', '1', 'old', 'back', '.99.I', 'page', 'and', 'five', 'bed', 'cute', 'barks', '5', 'jumping', 'items', 'alarm', 'Highly', 'occupied', 'honks', 'truck', 'game', 'worth', '$', '(', 'Good', 'to', 'as', 'nice', 'less', 'when', ')', 'My', 'her', 'dark', 'easy', 'could', 'for', 'loves', 'always', 'doctor', 'my', 'stops/starts', 'of', 'toddler', 'at', 'least', 'found', 'fun', 'recommended', 'something', 'rings', 'grows', 'under', 'its', 'calls', 'simple', 'clock', 'is', 'airplane', 'a', 'each', 'goes', 'off', 'endlessly', 'but', 'app', 'dog', 'third', 'so', 'that', 'really', 'click', 'older', 'bananas', 'Worth', 'play', 'favorite', 'guys', 'caught', \"n't\", 'does', 'portrait', 'year', 'games', 'from', 'Well', 'bounces', 'He', 'up', 'child.Oh', 'again', 'him', 'jump', 'see', 'lamp', 'Mama', 'Grandma', 'itself', 'rumbles', \"'ve\", 'tired', 'daughter', 'room', 'very', 'likes', 'Oh', 'around', '...', 'playing', 'before', 'it', 'since', 'you', 'generes', 'song', 'etc', 'clicks', 'down', 'flies', 'window', \"''\", \"'s\", 'traffic', 'long', 'this', 'gives', 'three', 'wait', 'toy', 'lots', 'operate', 'interactive', 'how', 'touch', 'on', 'perfect', 'are', 'money', 'great', 'over', 'now', 'Loves', 'things', 'ball', 'out', 'monkeys', '.', 'too', 'then', 'younger', 'grandson', 'telephone', 'plays', 'even', 'cat', 'the', 'Monkey', 'versions', 'produces', 'use', 'I', 'message', 'There', 'plant', 'she', 'he', 'can', '3', 'The', 'interesting', 'an', 'keeps', 'becomes', 'light', 'wall', 'entertaining', 'fall', 'eyes', 'turns', ',', 'almost', 'A', 'variety', 'keep', '!', 'little', 'everything', 'all', 'chases', 'activate', 'moment', 'asking', 'time', 'picture', 'Finding', 'well', 'has'}\n"
     ]
    }
   ],
   "source": [
    "# Split merged_df_AA5_head into sentences: sentences\n",
    "#sentences = sent_tokenize(merged_df_AA5_head['reviewText'][0])\n",
    "\n",
    "# Use word_tokenize to tokenize the fourth sentence: tokenized_sent\n",
    "#tokenized_sent = word_tokenize(sentences[0])\n",
    "\n",
    "# Make a set of unique tokens in the entire scene: unique_tokens\n",
    "#unique_tokens = set(word_tokenize(merged_df_AA5_head['reviewText'][0]))\n",
    "unique_tokens = set(word_tokenize(allReviewText))\n",
    "\n",
    "# Print the unique tokens result\n",
    "print(unique_tokens) "
   ]
  },
  {
   "cell_type": "code",
   "execution_count": 119,
   "metadata": {
    "collapsed": true
   },
   "outputs": [],
   "source": [
    "# Import WordNetLemmatizer\n",
    "from nltk.stem import WordNetLemmatizer\n",
    "from collections import Counter\n",
    "from nltk.corpus import stopwords"
   ]
  },
  {
   "cell_type": "code",
   "execution_count": 120,
   "metadata": {
    "collapsed": true
   },
   "outputs": [],
   "source": [
    "#In Python, searching a set is much faster than searching a list, \n",
    "# so convert the stop words to a set\n",
    "stopword_list = set(stopwords.words(\"english\"))"
   ]
  },
  {
   "cell_type": "code",
   "execution_count": 121,
   "metadata": {
    "collapsed": false
   },
   "outputs": [
    {
     "data": {
      "text/plain": [
       "{'!',\n",
       " '$',\n",
       " \"''\",\n",
       " \"'s\",\n",
       " \"'ve\",\n",
       " '(',\n",
       " ')',\n",
       " ',',\n",
       " '.',\n",
       " '...',\n",
       " '.99.I',\n",
       " '1',\n",
       " '3',\n",
       " '5',\n",
       " 'A',\n",
       " 'Finding',\n",
       " 'Good',\n",
       " 'Grandma',\n",
       " 'He',\n",
       " 'Highly',\n",
       " 'I',\n",
       " 'It',\n",
       " 'Loves',\n",
       " 'Mama',\n",
       " 'Monkey',\n",
       " 'My',\n",
       " 'Oh',\n",
       " 'The',\n",
       " 'There',\n",
       " 'Well',\n",
       " 'Worth',\n",
       " '``',\n",
       " 'a',\n",
       " 'activate',\n",
       " 'again',\n",
       " 'airplane',\n",
       " 'alarm',\n",
       " 'all',\n",
       " 'almost',\n",
       " 'always',\n",
       " 'an',\n",
       " 'and',\n",
       " 'app',\n",
       " 'are',\n",
       " 'around',\n",
       " 'as',\n",
       " 'asking',\n",
       " 'at',\n",
       " 'back',\n",
       " 'ball',\n",
       " 'bananas',\n",
       " 'barks',\n",
       " 'becomes',\n",
       " 'bed',\n",
       " 'before',\n",
       " 'bounces',\n",
       " 'but',\n",
       " 'calls',\n",
       " 'can',\n",
       " 'cat',\n",
       " 'caught',\n",
       " 'chases',\n",
       " 'child.Oh',\n",
       " 'click',\n",
       " 'clicks',\n",
       " 'clock',\n",
       " 'could',\n",
       " 'cute',\n",
       " 'dark',\n",
       " 'daughter',\n",
       " 'different',\n",
       " 'doctor',\n",
       " 'does',\n",
       " 'dog',\n",
       " 'down',\n",
       " 'each',\n",
       " 'easy',\n",
       " 'endlessly',\n",
       " 'entertaining',\n",
       " 'etc',\n",
       " 'even',\n",
       " 'every',\n",
       " 'everything',\n",
       " 'eyes',\n",
       " 'fall',\n",
       " 'favorite',\n",
       " 'five',\n",
       " 'flies',\n",
       " 'for',\n",
       " 'found',\n",
       " 'from',\n",
       " 'fun',\n",
       " 'game',\n",
       " 'games',\n",
       " 'generes',\n",
       " 'gives',\n",
       " 'goes',\n",
       " 'going',\n",
       " 'grandson',\n",
       " 'great',\n",
       " 'grows',\n",
       " 'guys',\n",
       " 'has',\n",
       " 'he',\n",
       " 'her',\n",
       " 'him',\n",
       " 'honks',\n",
       " 'how',\n",
       " 'in',\n",
       " 'interactive',\n",
       " 'interesting',\n",
       " 'is',\n",
       " 'it',\n",
       " 'items',\n",
       " 'its',\n",
       " 'itself',\n",
       " 'jump',\n",
       " 'jumping',\n",
       " 'keep',\n",
       " 'keeps',\n",
       " 'lamp',\n",
       " 'least',\n",
       " 'less',\n",
       " 'light',\n",
       " 'likes',\n",
       " 'little',\n",
       " 'long',\n",
       " 'lots',\n",
       " 'loves',\n",
       " 'message',\n",
       " 'moment',\n",
       " 'money',\n",
       " 'monkeys',\n",
       " 'my',\n",
       " \"n't\",\n",
       " 'nice',\n",
       " 'now',\n",
       " 'occupied',\n",
       " 'of',\n",
       " 'off',\n",
       " 'old',\n",
       " 'older',\n",
       " 'on',\n",
       " 'ones',\n",
       " 'operate',\n",
       " 'out',\n",
       " 'over',\n",
       " 'page',\n",
       " 'perfect',\n",
       " 'picture',\n",
       " 'plant',\n",
       " 'play',\n",
       " 'playing',\n",
       " 'plays',\n",
       " 'portrait',\n",
       " 'produces',\n",
       " 'really',\n",
       " 'recommended',\n",
       " 'rings',\n",
       " 'room',\n",
       " 'rumbles',\n",
       " 'see',\n",
       " 'she',\n",
       " 'simple',\n",
       " 'since',\n",
       " 'so',\n",
       " 'something',\n",
       " 'song',\n",
       " 'stops/starts',\n",
       " 'telephone',\n",
       " 'that',\n",
       " 'the',\n",
       " 'then',\n",
       " 'things',\n",
       " 'third',\n",
       " 'this',\n",
       " 'three',\n",
       " 'time',\n",
       " 'tired',\n",
       " 'to',\n",
       " 'toddler',\n",
       " 'too',\n",
       " 'touch',\n",
       " 'toy',\n",
       " 'traffic',\n",
       " 'truck',\n",
       " 'turns',\n",
       " 'under',\n",
       " 'up',\n",
       " 'use',\n",
       " 'variety',\n",
       " 'versions',\n",
       " 'very',\n",
       " 'wait',\n",
       " 'wall',\n",
       " 'well',\n",
       " 'when',\n",
       " 'window',\n",
       " 'with',\n",
       " 'worth',\n",
       " 'year',\n",
       " 'you',\n",
       " 'younger'}"
      ]
     },
     "execution_count": 121,
     "metadata": {},
     "output_type": "execute_result"
    }
   ],
   "source": [
    "unique_tokens"
   ]
  },
  {
   "cell_type": "code",
   "execution_count": 122,
   "metadata": {
    "collapsed": false
   },
   "outputs": [
    {
     "data": {
      "text/plain": [
       "['It',\n",
       " 'different',\n",
       " 'with',\n",
       " 'in',\n",
       " 'going',\n",
       " 'every',\n",
       " 'ones',\n",
       " 'old',\n",
       " 'back',\n",
       " 'page',\n",
       " 'and',\n",
       " 'five',\n",
       " 'bed',\n",
       " 'cute',\n",
       " 'barks',\n",
       " 'jumping',\n",
       " 'items',\n",
       " 'alarm',\n",
       " 'Highly',\n",
       " 'occupied',\n",
       " 'honks',\n",
       " 'truck',\n",
       " 'game',\n",
       " 'worth',\n",
       " 'Good',\n",
       " 'to',\n",
       " 'as',\n",
       " 'nice',\n",
       " 'less',\n",
       " 'when',\n",
       " 'My',\n",
       " 'her',\n",
       " 'dark',\n",
       " 'easy',\n",
       " 'could',\n",
       " 'for',\n",
       " 'loves',\n",
       " 'always',\n",
       " 'doctor',\n",
       " 'my',\n",
       " 'of',\n",
       " 'toddler',\n",
       " 'at',\n",
       " 'least',\n",
       " 'found',\n",
       " 'fun',\n",
       " 'recommended',\n",
       " 'something',\n",
       " 'rings',\n",
       " 'grows',\n",
       " 'under',\n",
       " 'its',\n",
       " 'calls',\n",
       " 'simple',\n",
       " 'clock',\n",
       " 'is',\n",
       " 'airplane',\n",
       " 'a',\n",
       " 'each',\n",
       " 'goes',\n",
       " 'off',\n",
       " 'endlessly',\n",
       " 'but',\n",
       " 'app',\n",
       " 'dog',\n",
       " 'third',\n",
       " 'so',\n",
       " 'that',\n",
       " 'really',\n",
       " 'click',\n",
       " 'older',\n",
       " 'bananas',\n",
       " 'Worth',\n",
       " 'play',\n",
       " 'favorite',\n",
       " 'guys',\n",
       " 'caught',\n",
       " 'does',\n",
       " 'portrait',\n",
       " 'year',\n",
       " 'games',\n",
       " 'from',\n",
       " 'Well',\n",
       " 'bounces',\n",
       " 'He',\n",
       " 'up',\n",
       " 'again',\n",
       " 'him',\n",
       " 'jump',\n",
       " 'see',\n",
       " 'lamp',\n",
       " 'Mama',\n",
       " 'Grandma',\n",
       " 'itself',\n",
       " 'rumbles',\n",
       " 'tired',\n",
       " 'daughter',\n",
       " 'room',\n",
       " 'very',\n",
       " 'likes',\n",
       " 'Oh',\n",
       " 'around',\n",
       " 'playing',\n",
       " 'before',\n",
       " 'it',\n",
       " 'since',\n",
       " 'you',\n",
       " 'generes',\n",
       " 'song',\n",
       " 'etc',\n",
       " 'clicks',\n",
       " 'down',\n",
       " 'flies',\n",
       " 'window',\n",
       " 'traffic',\n",
       " 'long',\n",
       " 'this',\n",
       " 'gives',\n",
       " 'three',\n",
       " 'wait',\n",
       " 'toy',\n",
       " 'lots',\n",
       " 'operate',\n",
       " 'interactive',\n",
       " 'how',\n",
       " 'touch',\n",
       " 'on',\n",
       " 'perfect',\n",
       " 'are',\n",
       " 'money',\n",
       " 'great',\n",
       " 'over',\n",
       " 'now',\n",
       " 'Loves',\n",
       " 'things',\n",
       " 'ball',\n",
       " 'out',\n",
       " 'monkeys',\n",
       " 'too',\n",
       " 'then',\n",
       " 'younger',\n",
       " 'grandson',\n",
       " 'telephone',\n",
       " 'plays',\n",
       " 'even',\n",
       " 'cat',\n",
       " 'the',\n",
       " 'Monkey',\n",
       " 'versions',\n",
       " 'produces',\n",
       " 'use',\n",
       " 'I',\n",
       " 'message',\n",
       " 'There',\n",
       " 'plant',\n",
       " 'she',\n",
       " 'he',\n",
       " 'can',\n",
       " 'The',\n",
       " 'interesting',\n",
       " 'an',\n",
       " 'keeps',\n",
       " 'becomes',\n",
       " 'light',\n",
       " 'wall',\n",
       " 'entertaining',\n",
       " 'fall',\n",
       " 'eyes',\n",
       " 'turns',\n",
       " 'almost',\n",
       " 'A',\n",
       " 'variety',\n",
       " 'keep',\n",
       " 'little',\n",
       " 'everything',\n",
       " 'all',\n",
       " 'chases',\n",
       " 'activate',\n",
       " 'moment',\n",
       " 'asking',\n",
       " 'time',\n",
       " 'picture',\n",
       " 'Finding',\n",
       " 'well',\n",
       " 'has']"
      ]
     },
     "execution_count": 122,
     "metadata": {},
     "output_type": "execute_result"
    }
   ],
   "source": [
    "# Retain alphabetic words: alpha_only\n",
    "alpha_only = [t for t in unique_tokens if t.isalpha()]\n",
    "alpha_only"
   ]
  },
  {
   "cell_type": "code",
   "execution_count": 123,
   "metadata": {
    "collapsed": false
   },
   "outputs": [
    {
     "data": {
      "text/plain": [
       "['It',\n",
       " 'different',\n",
       " 'going',\n",
       " 'every',\n",
       " 'ones',\n",
       " 'old',\n",
       " 'back',\n",
       " 'page',\n",
       " 'five',\n",
       " 'bed',\n",
       " 'cute',\n",
       " 'barks',\n",
       " 'jumping',\n",
       " 'items',\n",
       " 'alarm',\n",
       " 'Highly',\n",
       " 'occupied',\n",
       " 'honks',\n",
       " 'truck',\n",
       " 'game',\n",
       " 'worth',\n",
       " 'Good',\n",
       " 'nice',\n",
       " 'less',\n",
       " 'My',\n",
       " 'dark',\n",
       " 'easy',\n",
       " 'could',\n",
       " 'loves',\n",
       " 'always',\n",
       " 'doctor',\n",
       " 'toddler',\n",
       " 'least',\n",
       " 'found',\n",
       " 'fun',\n",
       " 'recommended',\n",
       " 'something',\n",
       " 'rings',\n",
       " 'grows',\n",
       " 'calls',\n",
       " 'simple',\n",
       " 'clock',\n",
       " 'airplane',\n",
       " 'goes',\n",
       " 'endlessly',\n",
       " 'app',\n",
       " 'dog',\n",
       " 'third',\n",
       " 'really',\n",
       " 'click',\n",
       " 'older',\n",
       " 'bananas',\n",
       " 'Worth',\n",
       " 'play',\n",
       " 'favorite',\n",
       " 'guys',\n",
       " 'caught',\n",
       " 'portrait',\n",
       " 'year',\n",
       " 'games',\n",
       " 'Well',\n",
       " 'bounces',\n",
       " 'He',\n",
       " 'jump',\n",
       " 'see',\n",
       " 'lamp',\n",
       " 'Mama',\n",
       " 'Grandma',\n",
       " 'rumbles',\n",
       " 'tired',\n",
       " 'daughter',\n",
       " 'room',\n",
       " 'likes',\n",
       " 'Oh',\n",
       " 'around',\n",
       " 'playing',\n",
       " 'since',\n",
       " 'generes',\n",
       " 'song',\n",
       " 'etc',\n",
       " 'clicks',\n",
       " 'flies',\n",
       " 'window',\n",
       " 'traffic',\n",
       " 'long',\n",
       " 'gives',\n",
       " 'three',\n",
       " 'wait',\n",
       " 'toy',\n",
       " 'lots',\n",
       " 'operate',\n",
       " 'interactive',\n",
       " 'touch',\n",
       " 'perfect',\n",
       " 'money',\n",
       " 'great',\n",
       " 'Loves',\n",
       " 'things',\n",
       " 'ball',\n",
       " 'monkeys',\n",
       " 'younger',\n",
       " 'grandson',\n",
       " 'telephone',\n",
       " 'plays',\n",
       " 'even',\n",
       " 'cat',\n",
       " 'Monkey',\n",
       " 'versions',\n",
       " 'produces',\n",
       " 'use',\n",
       " 'I',\n",
       " 'message',\n",
       " 'There',\n",
       " 'plant',\n",
       " 'The',\n",
       " 'interesting',\n",
       " 'keeps',\n",
       " 'becomes',\n",
       " 'light',\n",
       " 'wall',\n",
       " 'entertaining',\n",
       " 'fall',\n",
       " 'eyes',\n",
       " 'turns',\n",
       " 'almost',\n",
       " 'A',\n",
       " 'variety',\n",
       " 'keep',\n",
       " 'little',\n",
       " 'everything',\n",
       " 'chases',\n",
       " 'activate',\n",
       " 'moment',\n",
       " 'asking',\n",
       " 'time',\n",
       " 'picture',\n",
       " 'Finding',\n",
       " 'well']"
      ]
     },
     "execution_count": 123,
     "metadata": {},
     "output_type": "execute_result"
    }
   ],
   "source": [
    "# Remove all stop words: no_stops\n",
    "no_stops = [t for t in alpha_only if t not in stopword_list]\n",
    "no_stops"
   ]
  },
  {
   "cell_type": "code",
   "execution_count": 124,
   "metadata": {
    "collapsed": true
   },
   "outputs": [],
   "source": [
    "# Instantiate the WordNetLemmatizer\n",
    "wordnet_lemmatizer = WordNetLemmatizer()"
   ]
  },
  {
   "cell_type": "code",
   "execution_count": 125,
   "metadata": {
    "collapsed": false
   },
   "outputs": [
    {
     "data": {
      "text/plain": [
       "['It',\n",
       " 'different',\n",
       " 'going',\n",
       " 'every',\n",
       " 'one',\n",
       " 'old',\n",
       " 'back',\n",
       " 'page',\n",
       " 'five',\n",
       " 'bed',\n",
       " 'cute',\n",
       " 'bark',\n",
       " 'jumping',\n",
       " 'item',\n",
       " 'alarm',\n",
       " 'Highly',\n",
       " 'occupied',\n",
       " 'honk',\n",
       " 'truck',\n",
       " 'game',\n",
       " 'worth',\n",
       " 'Good',\n",
       " 'nice',\n",
       " 'le',\n",
       " 'My',\n",
       " 'dark',\n",
       " 'easy',\n",
       " 'could',\n",
       " 'love',\n",
       " 'always',\n",
       " 'doctor',\n",
       " 'toddler',\n",
       " 'least',\n",
       " 'found',\n",
       " 'fun',\n",
       " 'recommended',\n",
       " 'something',\n",
       " 'ring',\n",
       " 'grows',\n",
       " 'call',\n",
       " 'simple',\n",
       " 'clock',\n",
       " 'airplane',\n",
       " 'go',\n",
       " 'endlessly',\n",
       " 'app',\n",
       " 'dog',\n",
       " 'third',\n",
       " 'really',\n",
       " 'click',\n",
       " 'older',\n",
       " 'banana',\n",
       " 'Worth',\n",
       " 'play',\n",
       " 'favorite',\n",
       " 'guy',\n",
       " 'caught',\n",
       " 'portrait',\n",
       " 'year',\n",
       " 'game',\n",
       " 'Well',\n",
       " 'bounce',\n",
       " 'He',\n",
       " 'jump',\n",
       " 'see',\n",
       " 'lamp',\n",
       " 'Mama',\n",
       " 'Grandma',\n",
       " 'rumble',\n",
       " 'tired',\n",
       " 'daughter',\n",
       " 'room',\n",
       " 'like',\n",
       " 'Oh',\n",
       " 'around',\n",
       " 'playing',\n",
       " 'since',\n",
       " 'generes',\n",
       " 'song',\n",
       " 'etc',\n",
       " 'click',\n",
       " 'fly',\n",
       " 'window',\n",
       " 'traffic',\n",
       " 'long',\n",
       " 'give',\n",
       " 'three',\n",
       " 'wait',\n",
       " 'toy',\n",
       " 'lot',\n",
       " 'operate',\n",
       " 'interactive',\n",
       " 'touch',\n",
       " 'perfect',\n",
       " 'money',\n",
       " 'great',\n",
       " 'Loves',\n",
       " 'thing',\n",
       " 'ball',\n",
       " 'monkey',\n",
       " 'younger',\n",
       " 'grandson',\n",
       " 'telephone',\n",
       " 'play',\n",
       " 'even',\n",
       " 'cat',\n",
       " 'Monkey',\n",
       " 'version',\n",
       " 'produce',\n",
       " 'use',\n",
       " 'I',\n",
       " 'message',\n",
       " 'There',\n",
       " 'plant',\n",
       " 'The',\n",
       " 'interesting',\n",
       " 'keep',\n",
       " 'becomes',\n",
       " 'light',\n",
       " 'wall',\n",
       " 'entertaining',\n",
       " 'fall',\n",
       " 'eye',\n",
       " 'turn',\n",
       " 'almost',\n",
       " 'A',\n",
       " 'variety',\n",
       " 'keep',\n",
       " 'little',\n",
       " 'everything',\n",
       " 'chase',\n",
       " 'activate',\n",
       " 'moment',\n",
       " 'asking',\n",
       " 'time',\n",
       " 'picture',\n",
       " 'Finding',\n",
       " 'well']"
      ]
     },
     "execution_count": 125,
     "metadata": {},
     "output_type": "execute_result"
    }
   ],
   "source": [
    "# Lemmatize all tokens into a new list: lemmatized\n",
    "lemmatized = [wordnet_lemmatizer.lemmatize(t) for t in no_stops]\n",
    "lemmatized"
   ]
  },
  {
   "cell_type": "code",
   "execution_count": 126,
   "metadata": {
    "collapsed": false
   },
   "outputs": [
    {
     "data": {
      "text/plain": [
       "Counter({'A': 1,\n",
       "         'Finding': 1,\n",
       "         'Good': 1,\n",
       "         'Grandma': 1,\n",
       "         'He': 1,\n",
       "         'Highly': 1,\n",
       "         'I': 1,\n",
       "         'It': 1,\n",
       "         'Loves': 1,\n",
       "         'Mama': 1,\n",
       "         'Monkey': 1,\n",
       "         'My': 1,\n",
       "         'Oh': 1,\n",
       "         'The': 1,\n",
       "         'There': 1,\n",
       "         'Well': 1,\n",
       "         'Worth': 1,\n",
       "         'activate': 1,\n",
       "         'airplane': 1,\n",
       "         'alarm': 1,\n",
       "         'almost': 1,\n",
       "         'always': 1,\n",
       "         'app': 1,\n",
       "         'around': 1,\n",
       "         'asking': 1,\n",
       "         'back': 1,\n",
       "         'ball': 1,\n",
       "         'banana': 1,\n",
       "         'bark': 1,\n",
       "         'becomes': 1,\n",
       "         'bed': 1,\n",
       "         'bounce': 1,\n",
       "         'call': 1,\n",
       "         'cat': 1,\n",
       "         'caught': 1,\n",
       "         'chase': 1,\n",
       "         'click': 2,\n",
       "         'clock': 1,\n",
       "         'could': 1,\n",
       "         'cute': 1,\n",
       "         'dark': 1,\n",
       "         'daughter': 1,\n",
       "         'different': 1,\n",
       "         'doctor': 1,\n",
       "         'dog': 1,\n",
       "         'easy': 1,\n",
       "         'endlessly': 1,\n",
       "         'entertaining': 1,\n",
       "         'etc': 1,\n",
       "         'even': 1,\n",
       "         'every': 1,\n",
       "         'everything': 1,\n",
       "         'eye': 1,\n",
       "         'fall': 1,\n",
       "         'favorite': 1,\n",
       "         'five': 1,\n",
       "         'fly': 1,\n",
       "         'found': 1,\n",
       "         'fun': 1,\n",
       "         'game': 2,\n",
       "         'generes': 1,\n",
       "         'give': 1,\n",
       "         'go': 1,\n",
       "         'going': 1,\n",
       "         'grandson': 1,\n",
       "         'great': 1,\n",
       "         'grows': 1,\n",
       "         'guy': 1,\n",
       "         'honk': 1,\n",
       "         'interactive': 1,\n",
       "         'interesting': 1,\n",
       "         'item': 1,\n",
       "         'jump': 1,\n",
       "         'jumping': 1,\n",
       "         'keep': 2,\n",
       "         'lamp': 1,\n",
       "         'le': 1,\n",
       "         'least': 1,\n",
       "         'light': 1,\n",
       "         'like': 1,\n",
       "         'little': 1,\n",
       "         'long': 1,\n",
       "         'lot': 1,\n",
       "         'love': 1,\n",
       "         'message': 1,\n",
       "         'moment': 1,\n",
       "         'money': 1,\n",
       "         'monkey': 1,\n",
       "         'nice': 1,\n",
       "         'occupied': 1,\n",
       "         'old': 1,\n",
       "         'older': 1,\n",
       "         'one': 1,\n",
       "         'operate': 1,\n",
       "         'page': 1,\n",
       "         'perfect': 1,\n",
       "         'picture': 1,\n",
       "         'plant': 1,\n",
       "         'play': 2,\n",
       "         'playing': 1,\n",
       "         'portrait': 1,\n",
       "         'produce': 1,\n",
       "         'really': 1,\n",
       "         'recommended': 1,\n",
       "         'ring': 1,\n",
       "         'room': 1,\n",
       "         'rumble': 1,\n",
       "         'see': 1,\n",
       "         'simple': 1,\n",
       "         'since': 1,\n",
       "         'something': 1,\n",
       "         'song': 1,\n",
       "         'telephone': 1,\n",
       "         'thing': 1,\n",
       "         'third': 1,\n",
       "         'three': 1,\n",
       "         'time': 1,\n",
       "         'tired': 1,\n",
       "         'toddler': 1,\n",
       "         'touch': 1,\n",
       "         'toy': 1,\n",
       "         'traffic': 1,\n",
       "         'truck': 1,\n",
       "         'turn': 1,\n",
       "         'use': 1,\n",
       "         'variety': 1,\n",
       "         'version': 1,\n",
       "         'wait': 1,\n",
       "         'wall': 1,\n",
       "         'well': 1,\n",
       "         'window': 1,\n",
       "         'worth': 1,\n",
       "         'year': 1,\n",
       "         'younger': 1})"
      ]
     },
     "execution_count": 126,
     "metadata": {},
     "output_type": "execute_result"
    }
   ],
   "source": [
    "# Create the bag-of-words: bow\n",
    "bow = Counter(lemmatized)\n",
    "bow"
   ]
  },
  {
   "cell_type": "code",
   "execution_count": 127,
   "metadata": {
    "collapsed": false
   },
   "outputs": [
    {
     "name": "stdout",
     "output_type": "stream",
     "text": [
      "[('game', 2), ('click', 2), ('play', 2), ('keep', 2), ('tired', 1), ('recommended', 1), ('go', 1), ('different', 1), ('could', 1), ('cat', 1)]\n"
     ]
    }
   ],
   "source": [
    "# Print the 10 most common tokens\n",
    "print(bow.most_common(10))"
   ]
  },
  {
   "cell_type": "code",
   "execution_count": 130,
   "metadata": {
    "collapsed": false
   },
   "outputs": [],
   "source": [
    "import spacy"
   ]
  },
  {
   "cell_type": "code",
   "execution_count": null,
   "metadata": {
    "collapsed": false
   },
   "outputs": [],
   "source": [
    "#import en_core_web_sm\n",
    "#nlp = en_core_web_sm.load()"
   ]
  },
  {
   "cell_type": "code",
   "execution_count": 131,
   "metadata": {
    "collapsed": false
   },
   "outputs": [],
   "source": [
    "from spacy.lang.en import English"
   ]
  },
  {
   "cell_type": "code",
   "execution_count": 132,
   "metadata": {
    "collapsed": false
   },
   "outputs": [],
   "source": [
    "# Instantiate the English model: nlp\n",
    "#python -m spacy download en\n",
    "nlp = spacy.load('en', tagger=False, parser=False, matcher=False)\n"
   ]
  },
  {
   "cell_type": "code",
   "execution_count": 133,
   "metadata": {
    "collapsed": false
   },
   "outputs": [
    {
     "name": "stdout",
     "output_type": "stream",
     "text": [
      "CARDINAL almost 3\n",
      "WORK_OF_ART Monkey\n",
      "PERSON Grandma\n",
      "CARDINAL five\n",
      "DATE 1 year old\n",
      "DATE 5 year old\n",
      "NORP guys!There\n",
      "CARDINAL three\n",
      "ORDINAL third\n"
     ]
    }
   ],
   "source": [
    "# Create a new document: doc\n",
    "#doc = nlp(merged_df_AA5_head['reviewText'][0])\n",
    "doc = nlp(allReviewText)\n",
    "\n",
    "# Print all of the found entities and their labels\n",
    "for ent in doc.ents:\n",
    "    print(ent.label_, ent.text)"
   ]
  },
  {
   "cell_type": "code",
   "execution_count": 134,
   "metadata": {
    "collapsed": false
   },
   "outputs": [
    {
     "data": {
      "text/html": [
       "<div>\n",
       "<table border=\"1\" class=\"dataframe\">\n",
       "  <thead>\n",
       "    <tr style=\"text-align: right;\">\n",
       "      <th></th>\n",
       "      <th>TEXT</th>\n",
       "      <th>LEMMA</th>\n",
       "      <th>POS</th>\n",
       "      <th>TAG</th>\n",
       "      <th>DEP</th>\n",
       "      <th>SHAPE</th>\n",
       "      <th>IS_ALPHA</th>\n",
       "      <th>IS_STOP</th>\n",
       "    </tr>\n",
       "  </thead>\n",
       "  <tbody>\n",
       "    <tr>\n",
       "      <th>0</th>\n",
       "      <td></td>\n",
       "      <td></td>\n",
       "      <td>SPACE</td>\n",
       "      <td></td>\n",
       "      <td></td>\n",
       "      <td></td>\n",
       "      <td>False</td>\n",
       "      <td>False</td>\n",
       "    </tr>\n",
       "    <tr>\n",
       "      <th>1</th>\n",
       "      <td>Loves</td>\n",
       "      <td>love</td>\n",
       "      <td>VERB</td>\n",
       "      <td>VBZ</td>\n",
       "      <td>ccomp</td>\n",
       "      <td>Xxxxx</td>\n",
       "      <td>True</td>\n",
       "      <td>False</td>\n",
       "    </tr>\n",
       "    <tr>\n",
       "      <th>2</th>\n",
       "      <td>the</td>\n",
       "      <td>the</td>\n",
       "      <td>DET</td>\n",
       "      <td>DT</td>\n",
       "      <td>det</td>\n",
       "      <td>xxx</td>\n",
       "      <td>True</td>\n",
       "      <td>True</td>\n",
       "    </tr>\n",
       "    <tr>\n",
       "      <th>3</th>\n",
       "      <td>song</td>\n",
       "      <td>song</td>\n",
       "      <td>NOUN</td>\n",
       "      <td>NN</td>\n",
       "      <td>dobj</td>\n",
       "      <td>xxxx</td>\n",
       "      <td>True</td>\n",
       "      <td>False</td>\n",
       "    </tr>\n",
       "    <tr>\n",
       "      <th>4</th>\n",
       "      <td>,</td>\n",
       "      <td>,</td>\n",
       "      <td>PUNCT</td>\n",
       "      <td>,</td>\n",
       "      <td>punct</td>\n",
       "      <td>,</td>\n",
       "      <td>False</td>\n",
       "      <td>False</td>\n",
       "    </tr>\n",
       "    <tr>\n",
       "      <th>5</th>\n",
       "      <td>so</td>\n",
       "      <td>so</td>\n",
       "      <td>CCONJ</td>\n",
       "      <td>CC</td>\n",
       "      <td>mark</td>\n",
       "      <td>xx</td>\n",
       "      <td>True</td>\n",
       "      <td>True</td>\n",
       "    </tr>\n",
       "    <tr>\n",
       "      <th>6</th>\n",
       "      <td>he</td>\n",
       "      <td>-PRON-</td>\n",
       "      <td>PRON</td>\n",
       "      <td>PRP</td>\n",
       "      <td>nsubj</td>\n",
       "      <td>xx</td>\n",
       "      <td>True</td>\n",
       "      <td>True</td>\n",
       "    </tr>\n",
       "    <tr>\n",
       "      <th>7</th>\n",
       "      <td>really</td>\n",
       "      <td>really</td>\n",
       "      <td>ADV</td>\n",
       "      <td>RB</td>\n",
       "      <td>advmod</td>\n",
       "      <td>xxxx</td>\n",
       "      <td>True</td>\n",
       "      <td>True</td>\n",
       "    </tr>\n",
       "    <tr>\n",
       "      <th>8</th>\n",
       "      <td>could</td>\n",
       "      <td>could</td>\n",
       "      <td>VERB</td>\n",
       "      <td>MD</td>\n",
       "      <td>aux</td>\n",
       "      <td>xxxx</td>\n",
       "      <td>True</td>\n",
       "      <td>True</td>\n",
       "    </tr>\n",
       "    <tr>\n",
       "      <th>9</th>\n",
       "      <td>n't</td>\n",
       "      <td>not</td>\n",
       "      <td>ADV</td>\n",
       "      <td>RB</td>\n",
       "      <td>neg</td>\n",
       "      <td>x'x</td>\n",
       "      <td>False</td>\n",
       "      <td>False</td>\n",
       "    </tr>\n",
       "    <tr>\n",
       "      <th>10</th>\n",
       "      <td>wait</td>\n",
       "      <td>wait</td>\n",
       "      <td>VERB</td>\n",
       "      <td>VB</td>\n",
       "      <td>ROOT</td>\n",
       "      <td>xxxx</td>\n",
       "      <td>True</td>\n",
       "      <td>False</td>\n",
       "    </tr>\n",
       "    <tr>\n",
       "      <th>11</th>\n",
       "      <td>to</td>\n",
       "      <td>to</td>\n",
       "      <td>PART</td>\n",
       "      <td>TO</td>\n",
       "      <td>aux</td>\n",
       "      <td>xx</td>\n",
       "      <td>True</td>\n",
       "      <td>True</td>\n",
       "    </tr>\n",
       "    <tr>\n",
       "      <th>12</th>\n",
       "      <td>play</td>\n",
       "      <td>play</td>\n",
       "      <td>VERB</td>\n",
       "      <td>VB</td>\n",
       "      <td>xcomp</td>\n",
       "      <td>xxxx</td>\n",
       "      <td>True</td>\n",
       "      <td>False</td>\n",
       "    </tr>\n",
       "    <tr>\n",
       "      <th>13</th>\n",
       "      <td>this</td>\n",
       "      <td>this</td>\n",
       "      <td>DET</td>\n",
       "      <td>DT</td>\n",
       "      <td>dobj</td>\n",
       "      <td>xxxx</td>\n",
       "      <td>True</td>\n",
       "      <td>True</td>\n",
       "    </tr>\n",
       "    <tr>\n",
       "      <th>14</th>\n",
       "      <td>.</td>\n",
       "      <td>.</td>\n",
       "      <td>PUNCT</td>\n",
       "      <td>.</td>\n",
       "      <td>punct</td>\n",
       "      <td>.</td>\n",
       "      <td>False</td>\n",
       "      <td>False</td>\n",
       "    </tr>\n",
       "    <tr>\n",
       "      <th>15</th>\n",
       "      <td>A</td>\n",
       "      <td>a</td>\n",
       "      <td>DET</td>\n",
       "      <td>DT</td>\n",
       "      <td>det</td>\n",
       "      <td>X</td>\n",
       "      <td>True</td>\n",
       "      <td>False</td>\n",
       "    </tr>\n",
       "    <tr>\n",
       "      <th>16</th>\n",
       "      <td>little</td>\n",
       "      <td>little</td>\n",
       "      <td>ADJ</td>\n",
       "      <td>JJ</td>\n",
       "      <td>advmod</td>\n",
       "      <td>xxxx</td>\n",
       "      <td>True</td>\n",
       "      <td>False</td>\n",
       "    </tr>\n",
       "    <tr>\n",
       "      <th>17</th>\n",
       "      <td>less</td>\n",
       "      <td>less</td>\n",
       "      <td>ADV</td>\n",
       "      <td>RBR</td>\n",
       "      <td>advmod</td>\n",
       "      <td>xxxx</td>\n",
       "      <td>True</td>\n",
       "      <td>True</td>\n",
       "    </tr>\n",
       "    <tr>\n",
       "      <th>18</th>\n",
       "      <td>interesting</td>\n",
       "      <td>interesting</td>\n",
       "      <td>ADJ</td>\n",
       "      <td>JJ</td>\n",
       "      <td>ROOT</td>\n",
       "      <td>xxxx</td>\n",
       "      <td>True</td>\n",
       "      <td>False</td>\n",
       "    </tr>\n",
       "    <tr>\n",
       "      <th>19</th>\n",
       "      <td>for</td>\n",
       "      <td>for</td>\n",
       "      <td>ADP</td>\n",
       "      <td>IN</td>\n",
       "      <td>prep</td>\n",
       "      <td>xxx</td>\n",
       "      <td>True</td>\n",
       "      <td>True</td>\n",
       "    </tr>\n",
       "    <tr>\n",
       "      <th>20</th>\n",
       "      <td>him</td>\n",
       "      <td>-PRON-</td>\n",
       "      <td>PRON</td>\n",
       "      <td>PRP</td>\n",
       "      <td>pobj</td>\n",
       "      <td>xxx</td>\n",
       "      <td>True</td>\n",
       "      <td>True</td>\n",
       "    </tr>\n",
       "    <tr>\n",
       "      <th>21</th>\n",
       "      <td>so</td>\n",
       "      <td>so</td>\n",
       "      <td>ADV</td>\n",
       "      <td>RB</td>\n",
       "      <td>mark</td>\n",
       "      <td>xx</td>\n",
       "      <td>True</td>\n",
       "      <td>True</td>\n",
       "    </tr>\n",
       "    <tr>\n",
       "      <th>22</th>\n",
       "      <td>he</td>\n",
       "      <td>-PRON-</td>\n",
       "      <td>PRON</td>\n",
       "      <td>PRP</td>\n",
       "      <td>nsubj</td>\n",
       "      <td>xx</td>\n",
       "      <td>True</td>\n",
       "      <td>True</td>\n",
       "    </tr>\n",
       "    <tr>\n",
       "      <th>23</th>\n",
       "      <td>does</td>\n",
       "      <td>do</td>\n",
       "      <td>VERB</td>\n",
       "      <td>VBZ</td>\n",
       "      <td>aux</td>\n",
       "      <td>xxxx</td>\n",
       "      <td>True</td>\n",
       "      <td>True</td>\n",
       "    </tr>\n",
       "    <tr>\n",
       "      <th>24</th>\n",
       "      <td>n't</td>\n",
       "      <td>not</td>\n",
       "      <td>ADV</td>\n",
       "      <td>RB</td>\n",
       "      <td>neg</td>\n",
       "      <td>x'x</td>\n",
       "      <td>False</td>\n",
       "      <td>False</td>\n",
       "    </tr>\n",
       "    <tr>\n",
       "      <th>25</th>\n",
       "      <td>play</td>\n",
       "      <td>play</td>\n",
       "      <td>VERB</td>\n",
       "      <td>VB</td>\n",
       "      <td>ROOT</td>\n",
       "      <td>xxxx</td>\n",
       "      <td>True</td>\n",
       "      <td>False</td>\n",
       "    </tr>\n",
       "    <tr>\n",
       "      <th>26</th>\n",
       "      <td>long</td>\n",
       "      <td>long</td>\n",
       "      <td>ADV</td>\n",
       "      <td>RB</td>\n",
       "      <td>advmod</td>\n",
       "      <td>xxxx</td>\n",
       "      <td>True</td>\n",
       "      <td>False</td>\n",
       "    </tr>\n",
       "    <tr>\n",
       "      <th>27</th>\n",
       "      <td>,</td>\n",
       "      <td>,</td>\n",
       "      <td>PUNCT</td>\n",
       "      <td>,</td>\n",
       "      <td>punct</td>\n",
       "      <td>,</td>\n",
       "      <td>False</td>\n",
       "      <td>False</td>\n",
       "    </tr>\n",
       "    <tr>\n",
       "      <th>28</th>\n",
       "      <td>but</td>\n",
       "      <td>but</td>\n",
       "      <td>CCONJ</td>\n",
       "      <td>CC</td>\n",
       "      <td>cc</td>\n",
       "      <td>xxx</td>\n",
       "      <td>True</td>\n",
       "      <td>True</td>\n",
       "    </tr>\n",
       "    <tr>\n",
       "      <th>29</th>\n",
       "      <td>he</td>\n",
       "      <td>-PRON-</td>\n",
       "      <td>PRON</td>\n",
       "      <td>PRP</td>\n",
       "      <td>nsubj</td>\n",
       "      <td>xx</td>\n",
       "      <td>True</td>\n",
       "      <td>True</td>\n",
       "    </tr>\n",
       "    <tr>\n",
       "      <th>...</th>\n",
       "      <td>...</td>\n",
       "      <td>...</td>\n",
       "      <td>...</td>\n",
       "      <td>...</td>\n",
       "      <td>...</td>\n",
       "      <td>...</td>\n",
       "      <td>...</td>\n",
       "      <td>...</td>\n",
       "    </tr>\n",
       "    <tr>\n",
       "      <th>337</th>\n",
       "      <td>lots</td>\n",
       "      <td>lot</td>\n",
       "      <td>NOUN</td>\n",
       "      <td>NNS</td>\n",
       "      <td>ROOT</td>\n",
       "      <td>xxxx</td>\n",
       "      <td>True</td>\n",
       "      <td>False</td>\n",
       "    </tr>\n",
       "    <tr>\n",
       "      <th>338</th>\n",
       "      <td>to</td>\n",
       "      <td>to</td>\n",
       "      <td>PART</td>\n",
       "      <td>TO</td>\n",
       "      <td>aux</td>\n",
       "      <td>xx</td>\n",
       "      <td>True</td>\n",
       "      <td>True</td>\n",
       "    </tr>\n",
       "    <tr>\n",
       "      <th>339</th>\n",
       "      <td>keep</td>\n",
       "      <td>keep</td>\n",
       "      <td>VERB</td>\n",
       "      <td>VB</td>\n",
       "      <td>advcl</td>\n",
       "      <td>xxxx</td>\n",
       "      <td>True</td>\n",
       "      <td>True</td>\n",
       "    </tr>\n",
       "    <tr>\n",
       "      <th>340</th>\n",
       "      <td>a</td>\n",
       "      <td>a</td>\n",
       "      <td>DET</td>\n",
       "      <td>DT</td>\n",
       "      <td>det</td>\n",
       "      <td>x</td>\n",
       "      <td>True</td>\n",
       "      <td>True</td>\n",
       "    </tr>\n",
       "    <tr>\n",
       "      <th>341</th>\n",
       "      <td>toddler</td>\n",
       "      <td>toddler</td>\n",
       "      <td>NOUN</td>\n",
       "      <td>NN</td>\n",
       "      <td>dobj</td>\n",
       "      <td>xxxx</td>\n",
       "      <td>True</td>\n",
       "      <td>False</td>\n",
       "    </tr>\n",
       "    <tr>\n",
       "      <th>342</th>\n",
       "      <td>occupied</td>\n",
       "      <td>occupy</td>\n",
       "      <td>VERB</td>\n",
       "      <td>VBN</td>\n",
       "      <td>acl</td>\n",
       "      <td>xxxx</td>\n",
       "      <td>True</td>\n",
       "      <td>False</td>\n",
       "    </tr>\n",
       "    <tr>\n",
       "      <th>343</th>\n",
       "      <td>!</td>\n",
       "      <td>!</td>\n",
       "      <td>PUNCT</td>\n",
       "      <td>.</td>\n",
       "      <td>punct</td>\n",
       "      <td>!</td>\n",
       "      <td>False</td>\n",
       "      <td>False</td>\n",
       "    </tr>\n",
       "    <tr>\n",
       "      <th>344</th>\n",
       "      <td>Oh</td>\n",
       "      <td>oh</td>\n",
       "      <td>INTJ</td>\n",
       "      <td>UH</td>\n",
       "      <td>ROOT</td>\n",
       "      <td>Xx</td>\n",
       "      <td>True</td>\n",
       "      <td>False</td>\n",
       "    </tr>\n",
       "    <tr>\n",
       "      <th>345</th>\n",
       "      <td>!</td>\n",
       "      <td>!</td>\n",
       "      <td>PUNCT</td>\n",
       "      <td>.</td>\n",
       "      <td>punct</td>\n",
       "      <td>!</td>\n",
       "      <td>False</td>\n",
       "      <td>False</td>\n",
       "    </tr>\n",
       "    <tr>\n",
       "      <th>346</th>\n",
       "      <td>The</td>\n",
       "      <td>the</td>\n",
       "      <td>DET</td>\n",
       "      <td>DT</td>\n",
       "      <td>det</td>\n",
       "      <td>Xxx</td>\n",
       "      <td>True</td>\n",
       "      <td>False</td>\n",
       "    </tr>\n",
       "    <tr>\n",
       "      <th>347</th>\n",
       "      <td>monkeys</td>\n",
       "      <td>monkey</td>\n",
       "      <td>NOUN</td>\n",
       "      <td>NNS</td>\n",
       "      <td>nsubj</td>\n",
       "      <td>xxxx</td>\n",
       "      <td>True</td>\n",
       "      <td>False</td>\n",
       "    </tr>\n",
       "    <tr>\n",
       "      <th>348</th>\n",
       "      <td>jump</td>\n",
       "      <td>jump</td>\n",
       "      <td>VERB</td>\n",
       "      <td>VBP</td>\n",
       "      <td>ROOT</td>\n",
       "      <td>xxxx</td>\n",
       "      <td>True</td>\n",
       "      <td>False</td>\n",
       "    </tr>\n",
       "    <tr>\n",
       "      <th>349</th>\n",
       "      <td>on</td>\n",
       "      <td>on</td>\n",
       "      <td>PART</td>\n",
       "      <td>RP</td>\n",
       "      <td>prt</td>\n",
       "      <td>xx</td>\n",
       "      <td>True</td>\n",
       "      <td>True</td>\n",
       "    </tr>\n",
       "    <tr>\n",
       "      <th>350</th>\n",
       "      <td>and</td>\n",
       "      <td>and</td>\n",
       "      <td>CCONJ</td>\n",
       "      <td>CC</td>\n",
       "      <td>cc</td>\n",
       "      <td>xxx</td>\n",
       "      <td>True</td>\n",
       "      <td>True</td>\n",
       "    </tr>\n",
       "    <tr>\n",
       "      <th>351</th>\n",
       "      <td>fall</td>\n",
       "      <td>fall</td>\n",
       "      <td>VERB</td>\n",
       "      <td>VB</td>\n",
       "      <td>conj</td>\n",
       "      <td>xxxx</td>\n",
       "      <td>True</td>\n",
       "      <td>False</td>\n",
       "    </tr>\n",
       "    <tr>\n",
       "      <th>352</th>\n",
       "      <td>off</td>\n",
       "      <td>off</td>\n",
       "      <td>ADP</td>\n",
       "      <td>IN</td>\n",
       "      <td>prep</td>\n",
       "      <td>xxx</td>\n",
       "      <td>True</td>\n",
       "      <td>True</td>\n",
       "    </tr>\n",
       "    <tr>\n",
       "      <th>353</th>\n",
       "      <td>the</td>\n",
       "      <td>the</td>\n",
       "      <td>DET</td>\n",
       "      <td>DT</td>\n",
       "      <td>det</td>\n",
       "      <td>xxx</td>\n",
       "      <td>True</td>\n",
       "      <td>True</td>\n",
       "    </tr>\n",
       "    <tr>\n",
       "      <th>354</th>\n",
       "      <td>bed</td>\n",
       "      <td>bed</td>\n",
       "      <td>NOUN</td>\n",
       "      <td>NN</td>\n",
       "      <td>pobj</td>\n",
       "      <td>xxx</td>\n",
       "      <td>True</td>\n",
       "      <td>False</td>\n",
       "    </tr>\n",
       "    <tr>\n",
       "      <th>355</th>\n",
       "      <td>!</td>\n",
       "      <td>!</td>\n",
       "      <td>PUNCT</td>\n",
       "      <td>.</td>\n",
       "      <td>punct</td>\n",
       "      <td>!</td>\n",
       "      <td>False</td>\n",
       "      <td>False</td>\n",
       "    </tr>\n",
       "    <tr>\n",
       "      <th>356</th>\n",
       "      <td>Mama</td>\n",
       "      <td>mama</td>\n",
       "      <td>PROPN</td>\n",
       "      <td>NNP</td>\n",
       "      <td>nsubj</td>\n",
       "      <td>Xxxx</td>\n",
       "      <td>True</td>\n",
       "      <td>False</td>\n",
       "    </tr>\n",
       "    <tr>\n",
       "      <th>357</th>\n",
       "      <td>calls</td>\n",
       "      <td>call</td>\n",
       "      <td>VERB</td>\n",
       "      <td>VBZ</td>\n",
       "      <td>ROOT</td>\n",
       "      <td>xxxx</td>\n",
       "      <td>True</td>\n",
       "      <td>False</td>\n",
       "    </tr>\n",
       "    <tr>\n",
       "      <th>358</th>\n",
       "      <td>the</td>\n",
       "      <td>the</td>\n",
       "      <td>DET</td>\n",
       "      <td>DT</td>\n",
       "      <td>det</td>\n",
       "      <td>xxx</td>\n",
       "      <td>True</td>\n",
       "      <td>True</td>\n",
       "    </tr>\n",
       "    <tr>\n",
       "      <th>359</th>\n",
       "      <td>doctor</td>\n",
       "      <td>doctor</td>\n",
       "      <td>NOUN</td>\n",
       "      <td>NN</td>\n",
       "      <td>dobj</td>\n",
       "      <td>xxxx</td>\n",
       "      <td>True</td>\n",
       "      <td>False</td>\n",
       "    </tr>\n",
       "    <tr>\n",
       "      <th>360</th>\n",
       "      <td>,</td>\n",
       "      <td>,</td>\n",
       "      <td>PUNCT</td>\n",
       "      <td>,</td>\n",
       "      <td>punct</td>\n",
       "      <td>,</td>\n",
       "      <td>False</td>\n",
       "      <td>False</td>\n",
       "    </tr>\n",
       "    <tr>\n",
       "      <th>361</th>\n",
       "      <td>etc</td>\n",
       "      <td>etc</td>\n",
       "      <td>X</td>\n",
       "      <td>FW</td>\n",
       "      <td>npadvmod</td>\n",
       "      <td>xxx</td>\n",
       "      <td>True</td>\n",
       "      <td>False</td>\n",
       "    </tr>\n",
       "    <tr>\n",
       "      <th>362</th>\n",
       "      <td>!</td>\n",
       "      <td>!</td>\n",
       "      <td>PUNCT</td>\n",
       "      <td>.</td>\n",
       "      <td>punct</td>\n",
       "      <td>!</td>\n",
       "      <td>False</td>\n",
       "      <td>False</td>\n",
       "    </tr>\n",
       "    <tr>\n",
       "      <th>363</th>\n",
       "      <td>It</td>\n",
       "      <td>-PRON-</td>\n",
       "      <td>PRON</td>\n",
       "      <td>PRP</td>\n",
       "      <td>nsubj</td>\n",
       "      <td>Xx</td>\n",
       "      <td>True</td>\n",
       "      <td>False</td>\n",
       "    </tr>\n",
       "    <tr>\n",
       "      <th>364</th>\n",
       "      <td>'s</td>\n",
       "      <td>be</td>\n",
       "      <td>VERB</td>\n",
       "      <td>VBZ</td>\n",
       "      <td>ROOT</td>\n",
       "      <td>'x</td>\n",
       "      <td>False</td>\n",
       "      <td>False</td>\n",
       "    </tr>\n",
       "    <tr>\n",
       "      <th>365</th>\n",
       "      <td>great</td>\n",
       "      <td>great</td>\n",
       "      <td>ADJ</td>\n",
       "      <td>JJ</td>\n",
       "      <td>acomp</td>\n",
       "      <td>xxxx</td>\n",
       "      <td>True</td>\n",
       "      <td>False</td>\n",
       "    </tr>\n",
       "    <tr>\n",
       "      <th>366</th>\n",
       "      <td>.</td>\n",
       "      <td>.</td>\n",
       "      <td>PUNCT</td>\n",
       "      <td>.</td>\n",
       "      <td>punct</td>\n",
       "      <td>.</td>\n",
       "      <td>False</td>\n",
       "      <td>False</td>\n",
       "    </tr>\n",
       "  </tbody>\n",
       "</table>\n",
       "<p>367 rows × 8 columns</p>\n",
       "</div>"
      ],
      "text/plain": [
       "            TEXT        LEMMA    POS  TAG       DEP  SHAPE IS_ALPHA IS_STOP\n",
       "0                              SPACE                          False   False\n",
       "1          Loves         love   VERB  VBZ     ccomp  Xxxxx     True   False\n",
       "2            the          the    DET   DT       det    xxx     True    True\n",
       "3           song         song   NOUN   NN      dobj   xxxx     True   False\n",
       "4              ,            ,  PUNCT    ,     punct      ,    False   False\n",
       "5             so           so  CCONJ   CC      mark     xx     True    True\n",
       "6             he       -PRON-   PRON  PRP     nsubj     xx     True    True\n",
       "7         really       really    ADV   RB    advmod   xxxx     True    True\n",
       "8          could        could   VERB   MD       aux   xxxx     True    True\n",
       "9            n't          not    ADV   RB       neg    x'x    False   False\n",
       "10          wait         wait   VERB   VB      ROOT   xxxx     True   False\n",
       "11            to           to   PART   TO       aux     xx     True    True\n",
       "12          play         play   VERB   VB     xcomp   xxxx     True   False\n",
       "13          this         this    DET   DT      dobj   xxxx     True    True\n",
       "14             .            .  PUNCT    .     punct      .    False   False\n",
       "15             A            a    DET   DT       det      X     True   False\n",
       "16        little       little    ADJ   JJ    advmod   xxxx     True   False\n",
       "17          less         less    ADV  RBR    advmod   xxxx     True    True\n",
       "18   interesting  interesting    ADJ   JJ      ROOT   xxxx     True   False\n",
       "19           for          for    ADP   IN      prep    xxx     True    True\n",
       "20           him       -PRON-   PRON  PRP      pobj    xxx     True    True\n",
       "21            so           so    ADV   RB      mark     xx     True    True\n",
       "22            he       -PRON-   PRON  PRP     nsubj     xx     True    True\n",
       "23          does           do   VERB  VBZ       aux   xxxx     True    True\n",
       "24           n't          not    ADV   RB       neg    x'x    False   False\n",
       "25          play         play   VERB   VB      ROOT   xxxx     True   False\n",
       "26          long         long    ADV   RB    advmod   xxxx     True   False\n",
       "27             ,            ,  PUNCT    ,     punct      ,    False   False\n",
       "28           but          but  CCONJ   CC        cc    xxx     True    True\n",
       "29            he       -PRON-   PRON  PRP     nsubj     xx     True    True\n",
       "..           ...          ...    ...  ...       ...    ...      ...     ...\n",
       "337         lots          lot   NOUN  NNS      ROOT   xxxx     True   False\n",
       "338           to           to   PART   TO       aux     xx     True    True\n",
       "339         keep         keep   VERB   VB     advcl   xxxx     True    True\n",
       "340            a            a    DET   DT       det      x     True    True\n",
       "341      toddler      toddler   NOUN   NN      dobj   xxxx     True   False\n",
       "342     occupied       occupy   VERB  VBN       acl   xxxx     True   False\n",
       "343            !            !  PUNCT    .     punct      !    False   False\n",
       "344           Oh           oh   INTJ   UH      ROOT     Xx     True   False\n",
       "345            !            !  PUNCT    .     punct      !    False   False\n",
       "346          The          the    DET   DT       det    Xxx     True   False\n",
       "347      monkeys       monkey   NOUN  NNS     nsubj   xxxx     True   False\n",
       "348         jump         jump   VERB  VBP      ROOT   xxxx     True   False\n",
       "349           on           on   PART   RP       prt     xx     True    True\n",
       "350          and          and  CCONJ   CC        cc    xxx     True    True\n",
       "351         fall         fall   VERB   VB      conj   xxxx     True   False\n",
       "352          off          off    ADP   IN      prep    xxx     True    True\n",
       "353          the          the    DET   DT       det    xxx     True    True\n",
       "354          bed          bed   NOUN   NN      pobj    xxx     True   False\n",
       "355            !            !  PUNCT    .     punct      !    False   False\n",
       "356         Mama         mama  PROPN  NNP     nsubj   Xxxx     True   False\n",
       "357        calls         call   VERB  VBZ      ROOT   xxxx     True   False\n",
       "358          the          the    DET   DT       det    xxx     True    True\n",
       "359       doctor       doctor   NOUN   NN      dobj   xxxx     True   False\n",
       "360            ,            ,  PUNCT    ,     punct      ,    False   False\n",
       "361          etc          etc      X   FW  npadvmod    xxx     True   False\n",
       "362            !            !  PUNCT    .     punct      !    False   False\n",
       "363           It       -PRON-   PRON  PRP     nsubj     Xx     True   False\n",
       "364           's           be   VERB  VBZ      ROOT     'x    False   False\n",
       "365        great        great    ADJ   JJ     acomp   xxxx     True   False\n",
       "366            .            .  PUNCT    .     punct      .    False   False\n",
       "\n",
       "[367 rows x 8 columns]"
      ]
     },
     "execution_count": 134,
     "metadata": {},
     "output_type": "execute_result"
    }
   ],
   "source": [
    "doc = nlp(allReviewText)\n",
    "# for token in doc:\n",
    "#     print(token.text, token.lemma_, token.pos_, token.tag_, token.dep_, token.shape_, token.is_alpha, token.is_stop)\n",
    "token_data = [(token.text, token.lemma_, token.pos_, token.tag_, token.dep_, token.shape_, token.is_alpha, token.is_stop) for token in doc]\n",
    "#token_data\n",
    "\n",
    "tokendf = pd.DataFrame(token_data)\n",
    "tokendf.columns = ['TEXT','LEMMA','POS','TAG','DEP','SHAPE','IS_ALPHA','IS_STOP']\n",
    "tokendf"
   ]
  },
  {
   "cell_type": "code",
   "execution_count": 135,
   "metadata": {
    "collapsed": false
   },
   "outputs": [],
   "source": [
    "#CTRL + / for commenting/uncommenting lines\n",
    "# def normalize_corpus(corpus):\n",
    "#     normalized_corpus = []    \n",
    "#     for text in corpus:\n",
    "#         text = text.lower()\n",
    "#         text = expand_contractions(text)\n",
    "#         text = remove_characters(text)\n",
    "#         tokens = tokenize_text(text)\n",
    "#         tokens = remove_stopwords(tokens)\n",
    "#         tokens = remove_repeated_characters(tokens)\n",
    "#         tokens = correct(tokens)\n",
    "#         tokens = Lemmatize_tokens(tokens)\n",
    "#         text = ' '.join(tokens)\n",
    "#         normalized_corpus.append(text)\n",
    "                    \n",
    "#     return normalized_corpus"
   ]
  },
  {
   "cell_type": "code",
   "execution_count": 136,
   "metadata": {
    "collapsed": false
   },
   "outputs": [
    {
     "ename": "NameError",
     "evalue": "name 'expand_contractions' is not defined",
     "output_type": "error",
     "traceback": [
      "\u001b[0;31m---------------------------------------------------------------------------\u001b[0m",
      "\u001b[0;31mNameError\u001b[0m                                 Traceback (most recent call last)",
      "\u001b[0;32m<ipython-input-136-80034023e0f9>\u001b[0m in \u001b[0;36m<module>\u001b[0;34m()\u001b[0m\n\u001b[0;32m----> 1\u001b[0;31m \u001b[0mnc\u001b[0m \u001b[1;33m=\u001b[0m \u001b[0mnormalize_corpus\u001b[0m\u001b[1;33m(\u001b[0m\u001b[0mallReviewText\u001b[0m\u001b[1;33m)\u001b[0m\u001b[1;33m\u001b[0m\u001b[0m\n\u001b[0m\u001b[1;32m      2\u001b[0m \u001b[0mnc\u001b[0m\u001b[1;33m\u001b[0m\u001b[0m\n",
      "\u001b[0;32m<ipython-input-135-7c5db5f41168>\u001b[0m in \u001b[0;36mnormalize_corpus\u001b[0;34m(corpus)\u001b[0m\n\u001b[1;32m      4\u001b[0m     \u001b[1;32mfor\u001b[0m \u001b[0mtext\u001b[0m \u001b[1;32min\u001b[0m \u001b[0mcorpus\u001b[0m\u001b[1;33m:\u001b[0m\u001b[1;33m\u001b[0m\u001b[0m\n\u001b[1;32m      5\u001b[0m         \u001b[0mtext\u001b[0m \u001b[1;33m=\u001b[0m \u001b[0mtext\u001b[0m\u001b[1;33m.\u001b[0m\u001b[0mlower\u001b[0m\u001b[1;33m(\u001b[0m\u001b[1;33m)\u001b[0m\u001b[1;33m\u001b[0m\u001b[0m\n\u001b[0;32m----> 6\u001b[0;31m         \u001b[0mtext\u001b[0m \u001b[1;33m=\u001b[0m \u001b[0mexpand_contractions\u001b[0m\u001b[1;33m(\u001b[0m\u001b[0mtext\u001b[0m\u001b[1;33m)\u001b[0m\u001b[1;33m\u001b[0m\u001b[0m\n\u001b[0m\u001b[1;32m      7\u001b[0m         \u001b[0mtext\u001b[0m \u001b[1;33m=\u001b[0m \u001b[0mremove_characters\u001b[0m\u001b[1;33m(\u001b[0m\u001b[0mtext\u001b[0m\u001b[1;33m)\u001b[0m\u001b[1;33m\u001b[0m\u001b[0m\n\u001b[1;32m      8\u001b[0m         \u001b[0mtokens\u001b[0m \u001b[1;33m=\u001b[0m \u001b[0mtokenize_text\u001b[0m\u001b[1;33m(\u001b[0m\u001b[0mtext\u001b[0m\u001b[1;33m)\u001b[0m\u001b[1;33m\u001b[0m\u001b[0m\n",
      "\u001b[0;31mNameError\u001b[0m: name 'expand_contractions' is not defined"
     ]
    }
   ],
   "source": [
    "nc = normalize_corpus(allReviewText)\n",
    "nc"
   ]
  },
  {
   "cell_type": "code",
   "execution_count": null,
   "metadata": {
    "collapsed": true
   },
   "outputs": [],
   "source": [
    "# sns.style = sns.set()\n",
    "\n",
    "# _ = plt.hist(versicolor_petal_length)\n",
    "\n",
    "# plt.show()\n"
   ]
  },
  {
   "cell_type": "markdown",
   "metadata": {},
   "source": [
    "##############################################################################################################################"
   ]
  },
  {
   "cell_type": "markdown",
   "metadata": {},
   "source": [
    "###### Working with entire dataset now"
   ]
  },
  {
   "cell_type": "code",
   "execution_count": null,
   "metadata": {
    "collapsed": true
   },
   "outputs": [],
   "source": [
    " df_RT_AA5.columns = [' reviewerID','asin','overall','unixReviewTime']"
   ]
  },
  {
   "cell_type": "code",
   "execution_count": null,
   "metadata": {
    "collapsed": false
   },
   "outputs": [],
   "source": [
    "df_RT_AA5.shape"
   ]
  },
  {
   "cell_type": "code",
   "execution_count": null,
   "metadata": {
    "collapsed": true
   },
   "outputs": [],
   "source": [
    "merged_df_AA5_wholeinner = pd.merge(df_AA5, df_RT_AA5, how='inner')"
   ]
  },
  {
   "cell_type": "code",
   "execution_count": null,
   "metadata": {
    "collapsed": false
   },
   "outputs": [],
   "source": [
    "merged_df_AA5_wholeinner.shape"
   ]
  },
  {
   "cell_type": "code",
   "execution_count": null,
   "metadata": {
    "collapsed": false
   },
   "outputs": [],
   "source": [
    "print(merged_df_AA5_wholeinner.head())"
   ]
  },
  {
   "cell_type": "code",
   "execution_count": null,
   "metadata": {
    "collapsed": false
   },
   "outputs": [],
   "source": [
    "merged_df_AA5_wholeouter = pd.merge(df_AA5, df_RT_AA5, how='outer')\n",
    "merged_df_AA5_wholeouter.shape\n",
    "print(merged_df_AA5_wholeouter.head())"
   ]
  },
  {
   "cell_type": "code",
   "execution_count": null,
   "metadata": {
    "collapsed": false
   },
   "outputs": [],
   "source": [
    "merged_df_AA5_wholeouter.shape"
   ]
  },
  {
   "cell_type": "code",
   "execution_count": null,
   "metadata": {
    "collapsed": false
   },
   "outputs": [],
   "source": [
    "merged_df_AA5_wholeouter.isnull().values.any()"
   ]
  },
  {
   "cell_type": "code",
   "execution_count": null,
   "metadata": {
    "collapsed": true
   },
   "outputs": [],
   "source": [
    "merged_df_AA5_wholeouter.isnull().values.count"
   ]
  },
  {
   "cell_type": "code",
   "execution_count": null,
   "metadata": {
    "collapsed": false
   },
   "outputs": [],
   "source": [
    "merged_df_AA5_wholeouter.describe"
   ]
  },
  {
   "cell_type": "code",
   "execution_count": null,
   "metadata": {
    "collapsed": false
   },
   "outputs": [],
   "source": [
    "merged_df_AA5_wholeouter.isnull().sum().sum()"
   ]
  },
  {
   "cell_type": "code",
   "execution_count": null,
   "metadata": {
    "collapsed": false
   },
   "outputs": [],
   "source": [
    "%pylab"
   ]
  },
  {
   "cell_type": "code",
   "execution_count": null,
   "metadata": {
    "collapsed": false
   },
   "outputs": [],
   "source": [
    "%pylab inline"
   ]
  },
  {
   "cell_type": "code",
   "execution_count": null,
   "metadata": {
    "collapsed": false
   },
   "outputs": [],
   "source": [
    "plot\n"
   ]
  },
  {
   "cell_type": "code",
   "execution_count": null,
   "metadata": {
    "collapsed": false
   },
   "outputs": [],
   "source": [
    "plt.plot(merged_df_AA5_wholeouter['overall'])"
   ]
  },
  {
   "cell_type": "code",
   "execution_count": null,
   "metadata": {
    "collapsed": false
   },
   "outputs": [],
   "source": [
    "plt.hist(merged_df_AA5_wholeouter['overall'])\n",
    "plt.show"
   ]
  },
  {
   "cell_type": "code",
   "execution_count": null,
   "metadata": {
    "collapsed": false
   },
   "outputs": [],
   "source": [
    "merged_df_AA5_wholeouter['overall'].value_counts()"
   ]
  },
  {
   "cell_type": "code",
   "execution_count": null,
   "metadata": {
    "collapsed": true
   },
   "outputs": [],
   "source": [
    "fig = plt.figure()"
   ]
  },
  {
   "cell_type": "code",
   "execution_count": null,
   "metadata": {
    "collapsed": true
   },
   "outputs": [],
   "source": [
    "ax = fig.add.subplot(111)"
   ]
  },
  {
   "cell_type": "code",
   "execution_count": null,
   "metadata": {
    "collapsed": true
   },
   "outputs": [],
   "source": [
    "ax = fig.add_subplot(111)"
   ]
  },
  {
   "cell_type": "code",
   "execution_count": null,
   "metadata": {
    "collapsed": false
   },
   "outputs": [],
   "source": [
    "import numpy as np\n",
    "fig, ax = plt.subplots()\n",
    "ax.scatter(np.linspace(-1, 1, 10974305), merged_df_AA5_wholeouter['overall'],color = 'darkgreen', marker='^')"
   ]
  },
  {
   "cell_type": "code",
   "execution_count": null,
   "metadata": {
    "collapsed": false
   },
   "outputs": [],
   "source": [
    "import numpy as np\n",
    "\n",
    "sus1 = (merged_df_AA5_wholeouter['helpful'].str[1] != 0.0) & (merged_df_AA5_wholeouter['helpful'].dropna()) \n",
    "# Create a DataFrame with the suspicious row: susmerged_df_AA5['helpful'].str[1] != 0.0pect\n",
    "suspect = merged_df_AA5_wholeouter.loc[sus1]\n",
    "#print(suspect['helpful'])\n",
    "#print(suspect)\n",
    "merged_df_AA5_wholeouter['helpfulpercentage'] = (np.divide(suspect['helpful'].str[0],suspect['helpful'].str[1])* 100).astype(np.int64)\n",
    "merged_df_AA5_wholeouter['helpful_numerator'] = suspect['helpful'].str[0].astype(np.int64)\n",
    "merged_df_AA5_wholeouter['helpful_denominator'] = suspect['helpful'].str[1].astype(np.int64)\n",
    "\n",
    "def calculate_charlen(row):\n",
    "    return len(row['reviewText'])\n",
    "sus = (merged_df_AA5_wholeouter['reviewText'].notnull())\n",
    "# Create a DataFrame with the suspicious row: susmerged_df_AA5['helpful'].str[1] != 0.0pect\n",
    "suspect = merged_df_AA5_wholeouter[sus]\n",
    "merged_df_AA5_wholeouter['charCount_reviewText'] = suspect.apply(calculate_charlen,axis=1)\n",
    "#merged_df_AA5_wholeouter       \n",
    "\n",
    "def calculate_wordcount(row):\n",
    "    return len(row['reviewText'].split())\n",
    "sus1 = (merged_df_AA5_wholeouter['reviewText'].notnull())\n",
    "# Create a DataFrame with the suspicious row: susmerged_df_AA5['helpful'].str[1] != 0.0pect\n",
    "suspect1 = merged_df_AA5_wholeouter[sus1]\n",
    "merged_df_AA5_wholeouter['wordCount_reviewText'] = suspect1.apply(calculate_charlen,axis=1)\n",
    "merged_df_AA5_wholeouter \n",
    "#print(merged_df_AA5_wholeouter.dropna())\n",
    "\n",
    "fig, ax = plt.subplots()\n",
    "ax.scatter(merged_df_AA5_wholeouter.dropna()['wordCount_reviewText'],merged_df_AA5_wholeouter.dropna()['overall'],color = 'darkgreen', marker='^')\n",
    "plt.title(\"Word Count vs Overall Score\")\n",
    "plt.xlabel(\"Word Count\")\n",
    "plt.ylabel(\"Overall Score\")\n",
    "plt.show\n",
    "\n",
    "fig, ax = plt.subplots()\n",
    "ax.scatter(merged_df_AA5_wholeouter.dropna()['charCount_reviewText'],merged_df_AA5_wholeouter.dropna()['overall'],color = 'darkgreen', marker='^')\n",
    "plt.title(\"Character Count vs Overall Score\")\n",
    "plt.xlabel(\"Character Count\")\n",
    "plt.ylabel(\"Overall Score\")\n",
    "plt.show\n",
    "\n",
    "fig, ax = plt.subplots()\n",
    "ax.scatter(merged_df_AA5_wholeouter.dropna()['helpful_denominator'],merged_df_AA5_wholeouter.dropna()['overall'],color = 'darkgreen', marker='^')\n",
    "plt.title(\"Helpfull Total Reviews vs Overall Score\")\n",
    "plt.xlabel(\"Helpful Total Reviews\")\n",
    "plt.ylabel(\"Overall Score\")\n",
    "plt.show"
   ]
  },
  {
   "cell_type": "code",
   "execution_count": null,
   "metadata": {
    "collapsed": true
   },
   "outputs": [],
   "source": [
    "plt.hist(merged_df_AA5_wholeouter['overall',])\n",
    "plt.show"
   ]
  },
  {
   "cell_type": "code",
   "execution_count": null,
   "metadata": {
    "collapsed": false
   },
   "outputs": [],
   "source": [
    "merged_df_AA5_wholeouter "
   ]
  },
  {
   "cell_type": "code",
   "execution_count": null,
   "metadata": {
    "collapsed": false
   },
   "outputs": [],
   "source": [
    "print(merged_df_AA5_wholeouter['overall'][0])\n",
    "print(merged_df_AA5_wholeouter['reviewText'][0])"
   ]
  },
  {
   "cell_type": "code",
   "execution_count": null,
   "metadata": {
    "collapsed": false
   },
   "outputs": [],
   "source": [
    "import numpy as np\n",
    "\n",
    "sus1 = (merged_df_AA5_wholeouter['helpful'].str[1] != 0.0) & (merged_df_AA5_wholeouter['helpful'].dropna()) & (merged_df_AA5_wholeouter['helpful'].str[1] > 2000)\n",
    "# Create a DataFrame with the suspicious row: susmerged_df_AA5['helpful'].str[1] != 0.0pect\n",
    "suspect = merged_df_AA5_wholeouter.loc[sus1]\n",
    "#print(suspect['helpful'])\n",
    "#print(suspect)\n",
    "merged_df_AA5_wholeouter['helpfulpercentage'] = (divide(suspect['helpful'].str[0],suspect['helpful'].str[1])* 100).astype(int64)\n",
    "merged_df_AA5_wholeouter['helpful_numerator'] = suspect['helpful'].str[0].astype(int64)\n",
    "merged_df_AA5_wholeouter['helpful_denominator'] = suspect['helpful'].str[1].astype(int64)\n",
    "#print(merged_df_AA5_wholeouter.dropna())\n",
    "plt.plot(merged_df_AA5_wholeouter.dropna()['helpful_denominator'],merged_df_AA5_wholeouter.dropna()['overall'])\n",
    "\n",
    "fig, ax = plt.subplots()\n",
    "ax.scatter(merged_df_AA5_wholeouter.dropna()['helpful_denominator'],merged_df_AA5_wholeouter.dropna()['overall'],color = 'darkgreen', marker='^')\n",
    "\n",
    "#x = np.arange(10)\n",
    "#fig, ax = plt.subplots()\n",
    "#ax.stackplot(x, merged_df_AA5_wholeouter.dropna()['helpfulpercentage'])\n",
    "#ax.set_title('100 % stacked area chart')\n",
    "#ax.set_ylabel('Percent (%)')\n",
    "#ax.margins(0, 0) # Set margins to avoid \"whitespace\"\n",
    "\n",
    "plt.show()"
   ]
  },
  {
   "cell_type": "code",
   "execution_count": null,
   "metadata": {
    "collapsed": false
   },
   "outputs": [],
   "source": [
    "import numpy as np\n",
    "fig, ax = plt.subplots()\n",
    "ax.scatter(np.linspace(-1, 1, 10974305), merged_df_AA5_wholeouter['overall'],color = 'darkgreen', marker='^')"
   ]
  },
  {
   "cell_type": "code",
   "execution_count": null,
   "metadata": {
    "collapsed": false
   },
   "outputs": [],
   "source": [
    "plt.show"
   ]
  },
  {
   "cell_type": "code",
   "execution_count": null,
   "metadata": {
    "collapsed": false
   },
   "outputs": [],
   "source": [
    "import numpy as np\n",
    "fig, ax = plt.subplots()\n",
    "ax = merged_df_AA5_wholeouter['overall'].plot(kind='area', stacked=True, title='100 % stacked area chart')\n",
    "plt.show"
   ]
  },
  {
   "cell_type": "code",
   "execution_count": null,
   "metadata": {
    "collapsed": false
   },
   "outputs": [],
   "source": [
    "merged_df_AA5_wholeouter.columns"
   ]
  },
  {
   "cell_type": "code",
   "execution_count": null,
   "metadata": {
    "collapsed": false
   },
   "outputs": [],
   "source": [
    "merged_df_AA5_wholeouter.groupby(['reviewerID','asin'])['overall'].mean()"
   ]
  },
  {
   "cell_type": "code",
   "execution_count": null,
   "metadata": {
    "collapsed": false
   },
   "outputs": [],
   "source": [
    "merged_df_AA5_wholeouter.groupby('asin')['overall'].mean()"
   ]
  },
  {
   "cell_type": "code",
   "execution_count": null,
   "metadata": {
    "collapsed": false
   },
   "outputs": [],
   "source": [
    "df_meta_AA5_wholeouter = merged_df_AA5_wholeouter.groupby('reviewerID')['overall'].mean()"
   ]
  },
  {
   "cell_type": "code",
   "execution_count": null,
   "metadata": {
    "collapsed": false
   },
   "outputs": [],
   "source": [
    "df_meta_AA5_wholeouter.describe"
   ]
  },
  {
   "cell_type": "code",
   "execution_count": null,
   "metadata": {
    "collapsed": true
   },
   "outputs": [],
   "source": []
  }
 ],
 "metadata": {
  "anaconda-cloud": {},
  "kernelspec": {
   "display_name": "Python [conda root]",
   "language": "python",
   "name": "conda-root-py"
  },
  "language_info": {
   "codemirror_mode": {
    "name": "ipython",
    "version": 3
   },
   "file_extension": ".py",
   "mimetype": "text/x-python",
   "name": "python",
   "nbconvert_exporter": "python",
   "pygments_lexer": "ipython3",
   "version": "3.5.4"
  },
  "nbpresent": {
   "slides": {
    "0398551d-3e27-4bb0-969f-a65b103be71f": {
     "id": "0398551d-3e27-4bb0-969f-a65b103be71f",
     "prev": "723e529b-4279-4b13-a99f-1b5780f6d049",
     "regions": {
      "62faf884-b234-4964-9a31-ec49da684b11": {
       "attrs": {
        "height": 0.8,
        "width": 0.8,
        "x": 0.1,
        "y": 0.1
       },
       "content": {
        "cell": "6281cbdb-6808-4665-a53a-458cfcefb31e",
        "part": "whole"
       },
       "id": "62faf884-b234-4964-9a31-ec49da684b11"
      }
     }
    },
    "03ba7199-ef47-448a-976a-92ffc3654986": {
     "id": "03ba7199-ef47-448a-976a-92ffc3654986",
     "prev": "55f7e70a-b5e2-4e9e-b9e5-c7254d157618",
     "regions": {
      "22a79d17-64b3-496b-9b8d-709c45100b2f": {
       "attrs": {
        "height": 0.8,
        "width": 0.8,
        "x": 0.1,
        "y": 0.1
       },
       "content": {
        "cell": "bae6a2c8-e783-4b9a-80f3-f85991b3c95c",
        "part": "whole"
       },
       "id": "22a79d17-64b3-496b-9b8d-709c45100b2f"
      }
     }
    },
    "07d2631b-3ae5-4007-bc0d-664a0d1afb53": {
     "id": "07d2631b-3ae5-4007-bc0d-664a0d1afb53",
     "prev": "c3887d2c-227a-412f-a639-873e40abbd72",
     "regions": {
      "2e1d3940-4420-4e9c-9f99-b77ba6368496": {
       "attrs": {
        "height": 0.8,
        "width": 0.8,
        "x": 0.1,
        "y": 0.1
       },
       "content": {
        "cell": "87a2e2a3-5f54-4c3e-86db-d6708e31438a",
        "part": "whole"
       },
       "id": "2e1d3940-4420-4e9c-9f99-b77ba6368496"
      }
     }
    },
    "07e0c952-0aad-4af0-837c-9855dbec4fda": {
     "id": "07e0c952-0aad-4af0-837c-9855dbec4fda",
     "prev": "fa5ac177-01b1-43a3-8d25-a4b99efe3e03",
     "regions": {
      "6f2e51c0-b613-40f8-a48d-5cea7df38b95": {
       "attrs": {
        "height": 0.8,
        "width": 0.8,
        "x": 0.1,
        "y": 0.1
       },
       "content": {
        "cell": "585ee428-331e-4aac-a858-80b6bc09d411",
        "part": "whole"
       },
       "id": "6f2e51c0-b613-40f8-a48d-5cea7df38b95"
      }
     }
    },
    "08e04caa-f0ca-49e6-9f19-f83c77b2a37a": {
     "id": "08e04caa-f0ca-49e6-9f19-f83c77b2a37a",
     "prev": "961a5057-cab1-4e99-8179-c662b344517d",
     "regions": {
      "179463f8-10b4-4a83-a696-98e8b8009433": {
       "attrs": {
        "height": 0.8,
        "width": 0.8,
        "x": 0.1,
        "y": 0.1
       },
       "content": {
        "cell": "61702c20-2975-48a4-83dc-caf46a44818a",
        "part": "whole"
       },
       "id": "179463f8-10b4-4a83-a696-98e8b8009433"
      }
     }
    },
    "09e6c337-69df-4532-bb3a-e5c413f9a439": {
     "id": "09e6c337-69df-4532-bb3a-e5c413f9a439",
     "prev": "f7d6ec0e-ba48-4460-8524-a75955fda034",
     "regions": {
      "ed3870a2-db6b-474f-bd63-19fbd3d25dab": {
       "attrs": {
        "height": 0.8,
        "width": 0.8,
        "x": 0.1,
        "y": 0.1
       },
       "content": {
        "cell": "8aa319e8-451e-4fe6-939f-1fa5e41a53b6",
        "part": "whole"
       },
       "id": "ed3870a2-db6b-474f-bd63-19fbd3d25dab"
      }
     }
    },
    "0be15516-92e5-433b-b81d-be86d95ab54c": {
     "id": "0be15516-92e5-433b-b81d-be86d95ab54c",
     "prev": "8e5b1671-49ee-428a-a032-9945d052afd6",
     "regions": {
      "4a13945f-1740-446b-9e27-1e3bb0dae825": {
       "attrs": {
        "height": 0.8,
        "width": 0.8,
        "x": 0.1,
        "y": 0.1
       },
       "content": {
        "cell": "cc39640e-6723-4fa5-8870-1733f0231946",
        "part": "whole"
       },
       "id": "4a13945f-1740-446b-9e27-1e3bb0dae825"
      }
     }
    },
    "0c764d8f-e255-4bf6-a64f-03bfa8ccbf9b": {
     "id": "0c764d8f-e255-4bf6-a64f-03bfa8ccbf9b",
     "prev": "1c81b1c2-affb-41d9-8167-1a6111471988",
     "regions": {
      "2147e937-81c3-4fcd-a378-01165bd900d1": {
       "attrs": {
        "height": 0.8,
        "width": 0.8,
        "x": 0.1,
        "y": 0.1
       },
       "content": {
        "cell": "baeaa18f-f176-433f-866b-afde5e859141",
        "part": "whole"
       },
       "id": "2147e937-81c3-4fcd-a378-01165bd900d1"
      }
     }
    },
    "0d6281a0-5eef-4b3e-88cc-ae20818b686c": {
     "id": "0d6281a0-5eef-4b3e-88cc-ae20818b686c",
     "prev": "63466305-54e2-435a-a203-a83ecbb7837e",
     "regions": {
      "63845b65-4a59-4d22-83e5-22fedcf020ac": {
       "attrs": {
        "height": 0.8,
        "width": 0.8,
        "x": 0.1,
        "y": 0.1
       },
       "content": {
        "cell": "9cf9a758-cc6d-496d-97a6-8719cade6d5e",
        "part": "whole"
       },
       "id": "63845b65-4a59-4d22-83e5-22fedcf020ac"
      }
     }
    },
    "0dc1a7f3-d2ca-4784-b5bf-dac3fa6d0983": {
     "id": "0dc1a7f3-d2ca-4784-b5bf-dac3fa6d0983",
     "prev": "6f51d639-3bdf-4139-9654-03935211f7e5",
     "regions": {
      "75e33261-1e51-4069-8c95-26e24e5d2eb7": {
       "attrs": {
        "height": 0.8,
        "width": 0.8,
        "x": 0.1,
        "y": 0.1
       },
       "content": {
        "cell": "499ebb32-f99d-4224-ac0e-b53c06c5468b",
        "part": "whole"
       },
       "id": "75e33261-1e51-4069-8c95-26e24e5d2eb7"
      }
     }
    },
    "1058fd86-82c5-4736-97c5-00b699e34bb6": {
     "id": "1058fd86-82c5-4736-97c5-00b699e34bb6",
     "prev": "9bae4ddf-5708-4ce4-acfd-50805859d7c4",
     "regions": {
      "d248af98-05f8-4685-af6b-bbb767062335": {
       "attrs": {
        "height": 0.8,
        "width": 0.8,
        "x": 0.1,
        "y": 0.1
       },
       "content": {
        "cell": "cb26f707-5249-4ce3-a9f7-6351716c3f44",
        "part": "whole"
       },
       "id": "d248af98-05f8-4685-af6b-bbb767062335"
      }
     }
    },
    "1867aa3c-c961-4b86-b280-119be034947f": {
     "id": "1867aa3c-c961-4b86-b280-119be034947f",
     "prev": "3839514f-890d-4f34-ac3a-eeda816d205d",
     "regions": {
      "8598e198-057b-4381-b408-48527a7cd16b": {
       "attrs": {
        "height": 0.8,
        "width": 0.8,
        "x": 0.1,
        "y": 0.1
       },
       "content": {
        "cell": "88253cea-e327-4423-8241-f82431c5db90",
        "part": "whole"
       },
       "id": "8598e198-057b-4381-b408-48527a7cd16b"
      }
     }
    },
    "187ea941-c535-4119-971e-82db1b578b67": {
     "id": "187ea941-c535-4119-971e-82db1b578b67",
     "prev": "f24711b9-5571-475a-8e49-d82345660b25",
     "regions": {
      "a582511b-b043-4fc0-b93c-1a1d7ebf3b3c": {
       "attrs": {
        "height": 0.8,
        "width": 0.8,
        "x": 0.1,
        "y": 0.1
       },
       "content": {
        "cell": "eed894db-d3c7-4e25-b66b-ca257dc091b1",
        "part": "whole"
       },
       "id": "a582511b-b043-4fc0-b93c-1a1d7ebf3b3c"
      }
     }
    },
    "1a5729d7-438d-46fa-8c2e-55df1f69e2d0": {
     "id": "1a5729d7-438d-46fa-8c2e-55df1f69e2d0",
     "prev": "d08bffd0-a52f-4a4e-8c55-bb1a1eb119a6",
     "regions": {
      "aa26ca7c-6e47-47ea-a76f-9f481e34d19b": {
       "attrs": {
        "height": 0.8,
        "width": 0.8,
        "x": 0.1,
        "y": 0.1
       },
       "content": {
        "cell": "7d83cdac-5f53-46b6-a181-225731c75cc8",
        "part": "whole"
       },
       "id": "aa26ca7c-6e47-47ea-a76f-9f481e34d19b"
      }
     }
    },
    "1c81b1c2-affb-41d9-8167-1a6111471988": {
     "id": "1c81b1c2-affb-41d9-8167-1a6111471988",
     "prev": "3b926435-eacc-4bfc-861b-d3a18dd04af4",
     "regions": {
      "ce843f60-74ff-4ac7-838a-a992ac311b94": {
       "attrs": {
        "height": 0.8,
        "width": 0.8,
        "x": 0.1,
        "y": 0.1
       },
       "content": {
        "cell": "e3a0b808-9be5-4ea0-b878-033506303738",
        "part": "whole"
       },
       "id": "ce843f60-74ff-4ac7-838a-a992ac311b94"
      }
     }
    },
    "1cae5375-a665-4a71-b9a4-f2ac3cf7477d": {
     "id": "1cae5375-a665-4a71-b9a4-f2ac3cf7477d",
     "prev": "7b863230-fee9-4a08-a61b-7d9268192d03",
     "regions": {
      "d9b41310-95c9-4594-87a0-12929a87a674": {
       "attrs": {
        "height": 0.8,
        "width": 0.8,
        "x": 0.1,
        "y": 0.1
       },
       "content": {
        "cell": "8b57d2ca-6c6a-4150-b9cf-848e4a547a6b",
        "part": "whole"
       },
       "id": "d9b41310-95c9-4594-87a0-12929a87a674"
      }
     }
    },
    "1ee03190-b983-49cf-98dc-77a65abdb0c4": {
     "id": "1ee03190-b983-49cf-98dc-77a65abdb0c4",
     "prev": "f8918f13-4630-435b-b9ce-6862d7ffd9ff",
     "regions": {
      "abac5cd1-fbe3-4062-9a4b-e118b7d36dd1": {
       "attrs": {
        "height": 0.8,
        "width": 0.8,
        "x": 0.1,
        "y": 0.1
       },
       "content": {
        "cell": "f8c9b61b-27a7-4bcb-83a6-4efe3c59d6fc",
        "part": "whole"
       },
       "id": "abac5cd1-fbe3-4062-9a4b-e118b7d36dd1"
      }
     }
    },
    "24c55203-575c-45a1-a0bd-cc16e7b9f7f3": {
     "id": "24c55203-575c-45a1-a0bd-cc16e7b9f7f3",
     "prev": "67c3be4b-ca19-4b88-afba-292ad04b49e7",
     "regions": {
      "a5a405ee-14d0-4b73-b973-156f02b1e2c1": {
       "attrs": {
        "height": 0.8,
        "width": 0.8,
        "x": 0.1,
        "y": 0.1
       },
       "content": {
        "cell": "4d937ead-d71f-468d-960b-ab08bf3c9c20",
        "part": "whole"
       },
       "id": "a5a405ee-14d0-4b73-b973-156f02b1e2c1"
      }
     }
    },
    "25a5f553-821b-4926-947c-89f94b9335c0": {
     "id": "25a5f553-821b-4926-947c-89f94b9335c0",
     "prev": "cf19cfa4-a5a5-464d-965a-6a014e011bb6",
     "regions": {
      "109f058d-9817-4819-940b-54a978f1cb61": {
       "attrs": {
        "height": 0.8,
        "width": 0.8,
        "x": 0.1,
        "y": 0.1
       },
       "content": {
        "cell": "0ac7eb7a-5b78-4062-891b-8b2bbdd4ac8e",
        "part": "whole"
       },
       "id": "109f058d-9817-4819-940b-54a978f1cb61"
      }
     }
    },
    "25dc1c78-be45-427a-ac1f-b34224932125": {
     "id": "25dc1c78-be45-427a-ac1f-b34224932125",
     "prev": "7fae851b-07b9-4a47-8d63-8243c772e7d0",
     "regions": {
      "becaa386-be6c-49bf-8250-1609436a2913": {
       "attrs": {
        "height": 0.8,
        "width": 0.8,
        "x": 0.1,
        "y": 0.1
       },
       "content": {
        "cell": "bcb6e6c7-5b12-4efc-86d0-464cec8c3562",
        "part": "whole"
       },
       "id": "becaa386-be6c-49bf-8250-1609436a2913"
      }
     }
    },
    "2d96d611-b4e4-4d41-b0db-0d6d3bdb35d3": {
     "id": "2d96d611-b4e4-4d41-b0db-0d6d3bdb35d3",
     "prev": "a12e1e3c-36d5-4a3e-8e1c-afa0f86cb5b1",
     "regions": {
      "10e610ca-1d4e-4183-a08e-6156e40b229f": {
       "attrs": {
        "height": 0.8,
        "width": 0.8,
        "x": 0.1,
        "y": 0.1
       },
       "content": {
        "cell": "415fe6ac-b6b1-4eb8-bf65-8cbd424645ea",
        "part": "whole"
       },
       "id": "10e610ca-1d4e-4183-a08e-6156e40b229f"
      }
     }
    },
    "3839514f-890d-4f34-ac3a-eeda816d205d": {
     "id": "3839514f-890d-4f34-ac3a-eeda816d205d",
     "prev": "07e0c952-0aad-4af0-837c-9855dbec4fda",
     "regions": {
      "a34ef5b9-0412-45d3-8990-67ca4d6e8651": {
       "attrs": {
        "height": 0.8,
        "width": 0.8,
        "x": 0.1,
        "y": 0.1
       },
       "content": {
        "cell": "5dc19195-9cf6-40d0-9b83-1023478202fc",
        "part": "whole"
       },
       "id": "a34ef5b9-0412-45d3-8990-67ca4d6e8651"
      }
     }
    },
    "3b926435-eacc-4bfc-861b-d3a18dd04af4": {
     "id": "3b926435-eacc-4bfc-861b-d3a18dd04af4",
     "prev": "81f571a8-e84b-4f9e-a27f-a5e0a78a3de6",
     "regions": {
      "def5fb41-466c-4f1c-aa10-924615ee06af": {
       "attrs": {
        "height": 0.8,
        "width": 0.8,
        "x": 0.1,
        "y": 0.1
       },
       "content": {
        "cell": "5d9169a3-762b-4f46-8fc6-89043e271fcf",
        "part": "whole"
       },
       "id": "def5fb41-466c-4f1c-aa10-924615ee06af"
      }
     }
    },
    "3c0f0b6f-4f7d-4f1e-b077-77a57e5f1fac": {
     "id": "3c0f0b6f-4f7d-4f1e-b077-77a57e5f1fac",
     "prev": "f4549cf3-6a48-486e-bcfd-55bff2e48d43",
     "regions": {
      "a05ed5b4-0f48-45e6-888b-e34059f73a7c": {
       "attrs": {
        "height": 0.8,
        "width": 0.8,
        "x": 0.1,
        "y": 0.1
       },
       "content": {
        "cell": "dab2d2b2-f38b-4b1c-a3f7-6e7fbbe2e0de",
        "part": "whole"
       },
       "id": "a05ed5b4-0f48-45e6-888b-e34059f73a7c"
      }
     }
    },
    "3f5171fa-02b3-4981-b8d3-3ab42e6e4d1e": {
     "id": "3f5171fa-02b3-4981-b8d3-3ab42e6e4d1e",
     "prev": "f50588fc-9b05-4ffd-9067-2c56ccb0ada3",
     "regions": {
      "20d1928e-c331-4a37-befb-ba5fc4dc0b84": {
       "attrs": {
        "height": 0.8,
        "width": 0.8,
        "x": 0.1,
        "y": 0.1
       },
       "content": {
        "cell": "6ee6ef1b-40c6-4983-b77a-d0baac07ebcc",
        "part": "whole"
       },
       "id": "20d1928e-c331-4a37-befb-ba5fc4dc0b84"
      }
     }
    },
    "41bd30c0-806a-433b-86e8-7d269b2701a0": {
     "id": "41bd30c0-806a-433b-86e8-7d269b2701a0",
     "prev": "61491719-1847-4390-a7d5-2542e3a3ef75",
     "regions": {
      "67f1db09-42d4-4dfb-89fa-29c4a0cfa042": {
       "attrs": {
        "height": 0.8,
        "width": 0.8,
        "x": 0.1,
        "y": 0.1
       },
       "content": {
        "cell": "736632ff-e0e0-40bd-bbed-702ea063fa68",
        "part": "whole"
       },
       "id": "67f1db09-42d4-4dfb-89fa-29c4a0cfa042"
      }
     }
    },
    "431bb463-a4a8-4b41-98cb-1c285fc2bcaf": {
     "id": "431bb463-a4a8-4b41-98cb-1c285fc2bcaf",
     "prev": "7727fc59-30e5-484e-8ad6-9ce5e8b17c69",
     "regions": {
      "b32ca3d5-84ca-4958-ba21-7d43234d7a17": {
       "attrs": {
        "height": 0.8,
        "width": 0.8,
        "x": 0.1,
        "y": 0.1
       },
       "content": {
        "cell": "9f746b8a-fc87-404c-a723-13a817b59791",
        "part": "whole"
       },
       "id": "b32ca3d5-84ca-4958-ba21-7d43234d7a17"
      }
     }
    },
    "45c0939e-0438-4d8b-8c10-5fde3ece5a71": {
     "id": "45c0939e-0438-4d8b-8c10-5fde3ece5a71",
     "prev": null,
     "regions": {
      "4a82ef1e-f03b-4933-b3c4-9fbba220b9c8": {
       "attrs": {
        "height": 0.8,
        "width": 0.8,
        "x": 0.1,
        "y": 0.1
       },
       "content": {
        "cell": "ac8bf680-7b57-4532-8f8b-7ea37be49890",
        "part": "whole"
       },
       "id": "4a82ef1e-f03b-4933-b3c4-9fbba220b9c8"
      }
     }
    },
    "471898c9-28eb-4687-aa21-d97f2a560caa": {
     "id": "471898c9-28eb-4687-aa21-d97f2a560caa",
     "prev": "95874585-b7c1-43c1-b550-5ef9520c0418",
     "regions": {
      "059fabc7-868c-4ba5-baff-4fa2eef3e6ca": {
       "attrs": {
        "height": 0.8,
        "width": 0.8,
        "x": 0.1,
        "y": 0.1
       },
       "content": {
        "cell": "6ab1f229-7b0f-408a-8be5-d25c67140f74",
        "part": "whole"
       },
       "id": "059fabc7-868c-4ba5-baff-4fa2eef3e6ca"
      }
     }
    },
    "479ac6e6-8ef3-4ee9-8326-edb76091f392": {
     "id": "479ac6e6-8ef3-4ee9-8326-edb76091f392",
     "prev": "eb8ffa7d-4547-47f6-a19e-87784214e7c4",
     "regions": {
      "57544c16-002a-41cf-b788-1f55dac1c7b8": {
       "attrs": {
        "height": 0.8,
        "width": 0.8,
        "x": 0.1,
        "y": 0.1
       },
       "content": {
        "cell": "dbafbd8e-a5d6-4bef-ac39-bd3da877e805",
        "part": "whole"
       },
       "id": "57544c16-002a-41cf-b788-1f55dac1c7b8"
      }
     }
    },
    "4a4019de-4db5-4be8-8ff4-164742f7928c": {
     "id": "4a4019de-4db5-4be8-8ff4-164742f7928c",
     "prev": "1cae5375-a665-4a71-b9a4-f2ac3cf7477d",
     "regions": {
      "df4b9384-07ff-4af5-8d71-aca3811402c6": {
       "attrs": {
        "height": 0.8,
        "width": 0.8,
        "x": 0.1,
        "y": 0.1
       },
       "content": {
        "cell": "ad1ea4a4-26e8-4b2a-8847-7e1b6f530ab2",
        "part": "whole"
       },
       "id": "df4b9384-07ff-4af5-8d71-aca3811402c6"
      }
     }
    },
    "52ffcad8-ade7-46f3-9b3a-a1583dcf4584": {
     "id": "52ffcad8-ade7-46f3-9b3a-a1583dcf4584",
     "prev": "cce4ec10-ec80-4dfc-beb4-85be5a78fe2a",
     "regions": {
      "be973e51-8ac7-4ff6-a312-727ff17fa400": {
       "attrs": {
        "height": 0.8,
        "width": 0.8,
        "x": 0.1,
        "y": 0.1
       },
       "content": {
        "cell": "445bc45f-f416-4881-9021-9e0e96851ce4",
        "part": "whole"
       },
       "id": "be973e51-8ac7-4ff6-a312-727ff17fa400"
      }
     }
    },
    "532a6b9e-cabf-471d-adbc-c40ea7223016": {
     "id": "532a6b9e-cabf-471d-adbc-c40ea7223016",
     "prev": "a1a6ea95-95c1-4e94-b5fc-26801b2e0e38",
     "regions": {
      "04df8b1a-d35e-4a91-8880-54a85a4cd105": {
       "attrs": {
        "height": 0.8,
        "width": 0.8,
        "x": 0.1,
        "y": 0.1
       },
       "content": {
        "cell": "2cfcb01a-fa44-44a5-bd5e-a0032ce86c53",
        "part": "whole"
       },
       "id": "04df8b1a-d35e-4a91-8880-54a85a4cd105"
      }
     }
    },
    "55f7e70a-b5e2-4e9e-b9e5-c7254d157618": {
     "id": "55f7e70a-b5e2-4e9e-b9e5-c7254d157618",
     "prev": "8f0562e9-3327-4a36-97fb-40924892e234",
     "regions": {
      "383fadc3-4655-4d57-9756-f52dd3e2e01a": {
       "attrs": {
        "height": 0.8,
        "width": 0.8,
        "x": 0.1,
        "y": 0.1
       },
       "content": {
        "cell": "ad50db2e-f39a-43a0-a6e9-2cdcfc983082",
        "part": "whole"
       },
       "id": "383fadc3-4655-4d57-9756-f52dd3e2e01a"
      }
     }
    },
    "55fc00ea-ae14-4302-8fb3-3e314096e3ec": {
     "id": "55fc00ea-ae14-4302-8fb3-3e314096e3ec",
     "prev": "0c764d8f-e255-4bf6-a64f-03bfa8ccbf9b",
     "regions": {
      "43664013-4c90-4557-8356-b8437c67fb65": {
       "attrs": {
        "height": 0.8,
        "width": 0.8,
        "x": 0.1,
        "y": 0.1
       },
       "content": {
        "cell": "c008351c-4495-4dde-a9d7-34e03bf82d6d",
        "part": "whole"
       },
       "id": "43664013-4c90-4557-8356-b8437c67fb65"
      }
     }
    },
    "5b98f8e1-68a0-4a7b-a6e4-cb9c92674c44": {
     "id": "5b98f8e1-68a0-4a7b-a6e4-cb9c92674c44",
     "prev": "75e74bad-8e2d-40c5-b797-ec47784044bc",
     "regions": {
      "0013dfe8-bbf1-4277-bba6-03071b4da925": {
       "attrs": {
        "height": 0.8,
        "width": 0.8,
        "x": 0.1,
        "y": 0.1
       },
       "content": {
        "cell": "07482ed2-f74a-4d63-b25c-819d98edadc9",
        "part": "whole"
       },
       "id": "0013dfe8-bbf1-4277-bba6-03071b4da925"
      }
     }
    },
    "5f16dcd4-9cee-45f0-ae2c-e9ab91efb462": {
     "id": "5f16dcd4-9cee-45f0-ae2c-e9ab91efb462",
     "prev": "7a48893e-51f2-4a81-b684-f363f1f8c75d",
     "regions": {
      "cbbe8f15-a90e-4f09-bed8-1c448ed39f22": {
       "attrs": {
        "height": 0.8,
        "width": 0.8,
        "x": 0.1,
        "y": 0.1
       },
       "content": {
        "cell": "5b6b19db-f06b-46e1-8a7e-497ee9f386e8",
        "part": "whole"
       },
       "id": "cbbe8f15-a90e-4f09-bed8-1c448ed39f22"
      }
     }
    },
    "5fcd3db7-dd75-4f2e-9562-10fa02f68c12": {
     "id": "5fcd3db7-dd75-4f2e-9562-10fa02f68c12",
     "prev": "c260f8be-a0ab-4822-97d6-301234f7b941",
     "regions": {
      "3aeba24b-32d5-4c69-8447-8a5c2e0c2264": {
       "attrs": {
        "height": 0.8,
        "width": 0.8,
        "x": 0.1,
        "y": 0.1
       },
       "content": {
        "cell": "aae71b9b-5264-46b7-b2d9-1ba7269ab939",
        "part": "whole"
       },
       "id": "3aeba24b-32d5-4c69-8447-8a5c2e0c2264"
      }
     }
    },
    "61491719-1847-4390-a7d5-2542e3a3ef75": {
     "id": "61491719-1847-4390-a7d5-2542e3a3ef75",
     "prev": "f03829a0-6d67-4670-9fdc-4a48a290aedd",
     "regions": {
      "26adda2a-8728-4856-96fe-0ae13743e00e": {
       "attrs": {
        "height": 0.8,
        "width": 0.8,
        "x": 0.1,
        "y": 0.1
       },
       "content": {
        "cell": "40c074bc-bc7f-4f7f-a4e4-b76f8b5570fa",
        "part": "whole"
       },
       "id": "26adda2a-8728-4856-96fe-0ae13743e00e"
      }
     }
    },
    "6232f430-3673-461a-ae66-2701fb776153": {
     "id": "6232f430-3673-461a-ae66-2701fb776153",
     "prev": "187ea941-c535-4119-971e-82db1b578b67",
     "regions": {
      "c4cecaaa-3f40-4778-b909-b888e9ce2011": {
       "attrs": {
        "height": 0.8,
        "width": 0.8,
        "x": 0.1,
        "y": 0.1
       },
       "content": {
        "cell": "0b156049-8b90-4b19-bc6b-7e3d2f484581",
        "part": "whole"
       },
       "id": "c4cecaaa-3f40-4778-b909-b888e9ce2011"
      }
     }
    },
    "63466305-54e2-435a-a203-a83ecbb7837e": {
     "id": "63466305-54e2-435a-a203-a83ecbb7837e",
     "prev": "ed05e93d-ae04-43e9-a3b0-c67e65de5549",
     "regions": {
      "4222f32e-7f06-4d9e-be46-66a961d0467a": {
       "attrs": {
        "height": 0.8,
        "width": 0.8,
        "x": 0.1,
        "y": 0.1
       },
       "content": {
        "cell": "821b0b5b-4d85-4046-93fc-5fc486b7a5cd",
        "part": "whole"
       },
       "id": "4222f32e-7f06-4d9e-be46-66a961d0467a"
      }
     }
    },
    "66c0cd64-a283-44e3-9db6-4a660eef1bd7": {
     "id": "66c0cd64-a283-44e3-9db6-4a660eef1bd7",
     "prev": "9882d670-9777-4a42-8a04-7a39608318f3",
     "regions": {
      "3a86fa2f-1a63-4900-a758-a59a984a8c19": {
       "attrs": {
        "height": 0.8,
        "width": 0.8,
        "x": 0.1,
        "y": 0.1
       },
       "content": {
        "cell": "ca0b98b3-da89-4bd0-b079-229cf72f133e",
        "part": "whole"
       },
       "id": "3a86fa2f-1a63-4900-a758-a59a984a8c19"
      }
     }
    },
    "66c51667-8228-4ac3-bcce-c4909e5bb6c7": {
     "id": "66c51667-8228-4ac3-bcce-c4909e5bb6c7",
     "prev": "b9305cdf-d72b-43ab-af68-9ac158ca35b9",
     "regions": {
      "5cca5286-8541-49d5-af24-f4cec1160a53": {
       "attrs": {
        "height": 0.8,
        "width": 0.8,
        "x": 0.1,
        "y": 0.1
       },
       "content": {
        "cell": "b3c00c88-ec1f-4e63-811b-e95dd4ea7e6c",
        "part": "whole"
       },
       "id": "5cca5286-8541-49d5-af24-f4cec1160a53"
      }
     }
    },
    "67c3be4b-ca19-4b88-afba-292ad04b49e7": {
     "id": "67c3be4b-ca19-4b88-afba-292ad04b49e7",
     "prev": "7a4c84e2-9c20-469e-87e8-407e51c46dbf",
     "regions": {
      "3d63fe03-d5f2-4cbf-b1da-6a2e7ee12602": {
       "attrs": {
        "height": 0.8,
        "width": 0.8,
        "x": 0.1,
        "y": 0.1
       },
       "content": {
        "cell": "48cac050-5fb6-4e4a-a226-d29f968fce50",
        "part": "whole"
       },
       "id": "3d63fe03-d5f2-4cbf-b1da-6a2e7ee12602"
      }
     }
    },
    "6a7160df-450d-488e-8467-1f3fc2f23976": {
     "id": "6a7160df-450d-488e-8467-1f3fc2f23976",
     "prev": "479ac6e6-8ef3-4ee9-8326-edb76091f392",
     "regions": {
      "dd4dc6a7-f3ed-4ea9-b821-b9c5f15bdea7": {
       "attrs": {
        "height": 0.8,
        "width": 0.8,
        "x": 0.1,
        "y": 0.1
       },
       "content": {
        "cell": "e4e1baa6-a201-4b39-9fe4-884d2a02cf52",
        "part": "whole"
       },
       "id": "dd4dc6a7-f3ed-4ea9-b821-b9c5f15bdea7"
      }
     }
    },
    "6f51d639-3bdf-4139-9654-03935211f7e5": {
     "id": "6f51d639-3bdf-4139-9654-03935211f7e5",
     "prev": "c4324ab1-8463-432b-aba4-e99b1402efaf",
     "regions": {
      "121709a9-b9b9-460c-8b45-48691b1257c6": {
       "attrs": {
        "height": 0.8,
        "width": 0.8,
        "x": 0.1,
        "y": 0.1
       },
       "content": {
        "cell": "145e504e-2cdf-40fb-8e03-e8b044829539",
        "part": "whole"
       },
       "id": "121709a9-b9b9-460c-8b45-48691b1257c6"
      }
     }
    },
    "723e529b-4279-4b13-a99f-1b5780f6d049": {
     "id": "723e529b-4279-4b13-a99f-1b5780f6d049",
     "prev": "08e04caa-f0ca-49e6-9f19-f83c77b2a37a",
     "regions": {
      "36619c79-bcc1-404f-9908-18a98b98d545": {
       "attrs": {
        "height": 0.8,
        "width": 0.8,
        "x": 0.1,
        "y": 0.1
       },
       "content": {
        "cell": "7c0938c6-826f-4852-85f6-1f93be428ae9",
        "part": "whole"
       },
       "id": "36619c79-bcc1-404f-9908-18a98b98d545"
      }
     }
    },
    "72597e74-2196-4cb0-9345-0143254ebf2d": {
     "id": "72597e74-2196-4cb0-9345-0143254ebf2d",
     "prev": "471898c9-28eb-4687-aa21-d97f2a560caa",
     "regions": {
      "4889009a-a196-45a2-9903-5234728a7ba8": {
       "attrs": {
        "height": 0.8,
        "width": 0.8,
        "x": 0.1,
        "y": 0.1
       },
       "content": {
        "cell": "a9625688-2f2e-48ef-a34d-48698e8f93fb",
        "part": "whole"
       },
       "id": "4889009a-a196-45a2-9903-5234728a7ba8"
      }
     }
    },
    "75e74bad-8e2d-40c5-b797-ec47784044bc": {
     "id": "75e74bad-8e2d-40c5-b797-ec47784044bc",
     "prev": "c1c0305e-1314-4a58-af43-a4e8b5cf66df",
     "regions": {
      "86aedc31-49ef-47ce-942a-693e112703f5": {
       "attrs": {
        "height": 0.8,
        "width": 0.8,
        "x": 0.1,
        "y": 0.1
       },
       "content": {
        "cell": "e046708b-b7fd-4387-aec5-c538ce27986f",
        "part": "whole"
       },
       "id": "86aedc31-49ef-47ce-942a-693e112703f5"
      }
     }
    },
    "7727fc59-30e5-484e-8ad6-9ce5e8b17c69": {
     "id": "7727fc59-30e5-484e-8ad6-9ce5e8b17c69",
     "prev": "a3b0c703-f0a7-47ec-9a26-eff3e8d8e865",
     "regions": {
      "cd393d50-5421-4dcd-9dea-89f4a54c0e06": {
       "attrs": {
        "height": 0.8,
        "width": 0.8,
        "x": 0.1,
        "y": 0.1
       },
       "content": {
        "cell": "740f89f3-ec29-4027-847f-5be89ccf451b",
        "part": "whole"
       },
       "id": "cd393d50-5421-4dcd-9dea-89f4a54c0e06"
      }
     }
    },
    "7a48893e-51f2-4a81-b684-f363f1f8c75d": {
     "id": "7a48893e-51f2-4a81-b684-f363f1f8c75d",
     "prev": "0dc1a7f3-d2ca-4784-b5bf-dac3fa6d0983",
     "regions": {
      "1e1792e2-5318-496d-9146-4adbdb6dbdc8": {
       "attrs": {
        "height": 0.8,
        "width": 0.8,
        "x": 0.1,
        "y": 0.1
       },
       "content": {
        "cell": "ed14a0be-5d86-46ef-bfea-a495dcc78865",
        "part": "whole"
       },
       "id": "1e1792e2-5318-496d-9146-4adbdb6dbdc8"
      }
     }
    },
    "7a4c84e2-9c20-469e-87e8-407e51c46dbf": {
     "id": "7a4c84e2-9c20-469e-87e8-407e51c46dbf",
     "prev": "6232f430-3673-461a-ae66-2701fb776153",
     "regions": {
      "d6d220d7-11a8-4e0a-99fe-8e3178e3b62d": {
       "attrs": {
        "height": 0.8,
        "width": 0.8,
        "x": 0.1,
        "y": 0.1
       },
       "content": {
        "cell": "8996ceba-1303-4c64-95c7-9020e68121c6",
        "part": "whole"
       },
       "id": "d6d220d7-11a8-4e0a-99fe-8e3178e3b62d"
      }
     }
    },
    "7b863230-fee9-4a08-a61b-7d9268192d03": {
     "id": "7b863230-fee9-4a08-a61b-7d9268192d03",
     "prev": "c0ec1084-11be-4239-9994-bf4870973e41",
     "regions": {
      "17c7a0e6-a550-43de-bbe1-397129ddd535": {
       "attrs": {
        "height": 0.8,
        "width": 0.8,
        "x": 0.1,
        "y": 0.1
       },
       "content": {
        "cell": "f2133715-8f17-48c2-abb9-55d1ffad2c77",
        "part": "whole"
       },
       "id": "17c7a0e6-a550-43de-bbe1-397129ddd535"
      }
     }
    },
    "7c52a06c-b0e4-47f7-83c7-2aa0387bf4e5": {
     "id": "7c52a06c-b0e4-47f7-83c7-2aa0387bf4e5",
     "prev": "dec67221-7f96-44a1-ad60-568ef6e884f3",
     "regions": {
      "8ea152f9-e45d-4feb-987f-f5adc250ed47": {
       "attrs": {
        "height": 0.8,
        "width": 0.8,
        "x": 0.1,
        "y": 0.1
       },
       "content": {
        "cell": "651b18a8-aafb-41cf-9bb7-420ec5d55ebd",
        "part": "whole"
       },
       "id": "8ea152f9-e45d-4feb-987f-f5adc250ed47"
      }
     }
    },
    "7fae851b-07b9-4a47-8d63-8243c772e7d0": {
     "id": "7fae851b-07b9-4a47-8d63-8243c772e7d0",
     "prev": "09e6c337-69df-4532-bb3a-e5c413f9a439",
     "regions": {
      "38c9dc57-0848-43c4-a1e7-a8506841907e": {
       "attrs": {
        "height": 0.8,
        "width": 0.8,
        "x": 0.1,
        "y": 0.1
       },
       "content": {
        "cell": "cc65707c-7a03-445d-93b4-570db848a45f",
        "part": "whole"
       },
       "id": "38c9dc57-0848-43c4-a1e7-a8506841907e"
      }
     }
    },
    "81f571a8-e84b-4f9e-a27f-a5e0a78a3de6": {
     "id": "81f571a8-e84b-4f9e-a27f-a5e0a78a3de6",
     "prev": "66c0cd64-a283-44e3-9db6-4a660eef1bd7",
     "regions": {
      "287b9a7d-91d7-44f7-a0cd-291c775cd23b": {
       "attrs": {
        "height": 0.8,
        "width": 0.8,
        "x": 0.1,
        "y": 0.1
       },
       "content": {
        "cell": "46ca49d6-c61f-4292-9cbd-1df28dc86720",
        "part": "whole"
       },
       "id": "287b9a7d-91d7-44f7-a0cd-291c775cd23b"
      }
     }
    },
    "85429c09-7c0e-4b6f-96b3-a1d838b8dc91": {
     "id": "85429c09-7c0e-4b6f-96b3-a1d838b8dc91",
     "prev": "a07e7714-1d53-4bd7-abd1-5e64a40073a1",
     "regions": {
      "c3182483-e117-4a68-9e8b-374f69d22938": {
       "attrs": {
        "height": 0.8,
        "width": 0.8,
        "x": 0.1,
        "y": 0.1
       },
       "content": {
        "cell": "1881a316-d87d-49d2-9fd9-19c540b3de48",
        "part": "whole"
       },
       "id": "c3182483-e117-4a68-9e8b-374f69d22938"
      }
     }
    },
    "85dfa132-5480-43f0-8211-d91c66a94356": {
     "id": "85dfa132-5480-43f0-8211-d91c66a94356",
     "prev": "24c55203-575c-45a1-a0bd-cc16e7b9f7f3",
     "regions": {
      "c9df9287-35a2-4025-aad6-a4dfbd012044": {
       "attrs": {
        "height": 0.8,
        "width": 0.8,
        "x": 0.1,
        "y": 0.1
       },
       "content": {
        "cell": "f2d39889-632d-41b5-ab32-5b8ce7123a65",
        "part": "whole"
       },
       "id": "c9df9287-35a2-4025-aad6-a4dfbd012044"
      }
     }
    },
    "8648aa49-246a-4283-9bbb-d41e6144d1cf": {
     "id": "8648aa49-246a-4283-9bbb-d41e6144d1cf",
     "prev": "85429c09-7c0e-4b6f-96b3-a1d838b8dc91",
     "regions": {
      "20684615-1dac-421d-b969-43eecc3fbca4": {
       "attrs": {
        "height": 0.8,
        "width": 0.8,
        "x": 0.1,
        "y": 0.1
       },
       "content": {
        "cell": "bbfff1b7-b572-42fb-a7be-faffbc9fa13c",
        "part": "whole"
       },
       "id": "20684615-1dac-421d-b969-43eecc3fbca4"
      }
     }
    },
    "87614eee-3d9e-4d47-afe1-43414517517b": {
     "id": "87614eee-3d9e-4d47-afe1-43414517517b",
     "prev": "5fcd3db7-dd75-4f2e-9562-10fa02f68c12",
     "regions": {
      "d0c9f9ea-876c-4239-8de7-bd9110affab4": {
       "attrs": {
        "height": 0.8,
        "width": 0.8,
        "x": 0.1,
        "y": 0.1
       },
       "content": {
        "cell": "ef8a5222-5d50-43e6-9d7b-cf6e18a2cc78",
        "part": "whole"
       },
       "id": "d0c9f9ea-876c-4239-8de7-bd9110affab4"
      }
     }
    },
    "8b4c852c-3ccd-444b-97cc-f35966fc3811": {
     "id": "8b4c852c-3ccd-444b-97cc-f35966fc3811",
     "prev": "45c0939e-0438-4d8b-8c10-5fde3ece5a71",
     "regions": {
      "29c54dfe-378d-49a1-85a3-b929b78e42be": {
       "attrs": {
        "height": 0.8,
        "width": 0.8,
        "x": 0.1,
        "y": 0.1
       },
       "content": {
        "cell": "25848b1d-4537-412d-b89b-c6857a128ac7",
        "part": "whole"
       },
       "id": "29c54dfe-378d-49a1-85a3-b929b78e42be"
      }
     }
    },
    "8c5bead7-da3d-4e8b-aef5-a2d42f8b6b7c": {
     "id": "8c5bead7-da3d-4e8b-aef5-a2d42f8b6b7c",
     "prev": "ad549f66-d8fe-4816-bd3c-3cb220f8eccc",
     "regions": {
      "109705ef-8707-4a9d-ad89-2dc8da5d82f7": {
       "attrs": {
        "height": 0.8,
        "width": 0.8,
        "x": 0.1,
        "y": 0.1
       },
       "content": {
        "cell": "774fef7e-89ea-4a30-b0fd-899fc07d4959",
        "part": "whole"
       },
       "id": "109705ef-8707-4a9d-ad89-2dc8da5d82f7"
      }
     }
    },
    "8e5b1671-49ee-428a-a032-9945d052afd6": {
     "id": "8e5b1671-49ee-428a-a032-9945d052afd6",
     "prev": "72597e74-2196-4cb0-9345-0143254ebf2d",
     "regions": {
      "5f483bea-df1d-4d0a-b425-7a5ef181ffbf": {
       "attrs": {
        "height": 0.8,
        "width": 0.8,
        "x": 0.1,
        "y": 0.1
       },
       "content": {
        "cell": "1de5a64c-3b22-4d60-8308-f51ebcf37e6c",
        "part": "whole"
       },
       "id": "5f483bea-df1d-4d0a-b425-7a5ef181ffbf"
      }
     }
    },
    "8f0562e9-3327-4a36-97fb-40924892e234": {
     "id": "8f0562e9-3327-4a36-97fb-40924892e234",
     "prev": "8b4c852c-3ccd-444b-97cc-f35966fc3811",
     "regions": {
      "33154870-a437-4b63-aac6-7f48cc84d04b": {
       "attrs": {
        "height": 0.8,
        "width": 0.8,
        "x": 0.1,
        "y": 0.1
       },
       "content": {
        "cell": "4adfcfc7-2ce5-4b3a-9e34-479afdf4b509",
        "part": "whole"
       },
       "id": "33154870-a437-4b63-aac6-7f48cc84d04b"
      }
     }
    },
    "95874585-b7c1-43c1-b550-5ef9520c0418": {
     "id": "95874585-b7c1-43c1-b550-5ef9520c0418",
     "prev": "d3ce524f-5805-462b-bedb-5197bbad77c0",
     "regions": {
      "0d418d79-77c4-45c0-9f29-f255de89eee2": {
       "attrs": {
        "height": 0.8,
        "width": 0.8,
        "x": 0.1,
        "y": 0.1
       },
       "content": {
        "cell": "b41932b6-d94f-46fa-a83b-928f004b3b4b",
        "part": "whole"
       },
       "id": "0d418d79-77c4-45c0-9f29-f255de89eee2"
      }
     }
    },
    "961a5057-cab1-4e99-8179-c662b344517d": {
     "id": "961a5057-cab1-4e99-8179-c662b344517d",
     "prev": "da930ec8-aa44-412e-8f62-f122256dfb44",
     "regions": {
      "cbbd80ef-89a1-4c90-9d98-46b83c79a238": {
       "attrs": {
        "height": 0.8,
        "width": 0.8,
        "x": 0.1,
        "y": 0.1
       },
       "content": {
        "cell": "86dc7017-6040-4d01-a5e1-ddd19e926468",
        "part": "whole"
       },
       "id": "cbbd80ef-89a1-4c90-9d98-46b83c79a238"
      }
     }
    },
    "9882d670-9777-4a42-8a04-7a39608318f3": {
     "id": "9882d670-9777-4a42-8a04-7a39608318f3",
     "prev": "1867aa3c-c961-4b86-b280-119be034947f",
     "regions": {
      "10934bbc-caeb-4eca-a93a-6416a2bb6686": {
       "attrs": {
        "height": 0.8,
        "width": 0.8,
        "x": 0.1,
        "y": 0.1
       },
       "content": {
        "cell": "ce84d494-c97a-4a86-880a-d09b303ec32d",
        "part": "whole"
       },
       "id": "10934bbc-caeb-4eca-a93a-6416a2bb6686"
      }
     }
    },
    "9a54002a-5e91-42f4-beff-ad2c72e346ba": {
     "id": "9a54002a-5e91-42f4-beff-ad2c72e346ba",
     "prev": "25a5f553-821b-4926-947c-89f94b9335c0",
     "regions": {
      "e5d601a6-574c-4846-b75e-4fb4510d90b6": {
       "attrs": {
        "height": 0.8,
        "width": 0.8,
        "x": 0.1,
        "y": 0.1
       },
       "content": {
        "cell": "e635dc47-9c4e-4b6a-9b01-6e5d3c244113",
        "part": "whole"
       },
       "id": "e5d601a6-574c-4846-b75e-4fb4510d90b6"
      }
     }
    },
    "9bae4ddf-5708-4ce4-acfd-50805859d7c4": {
     "id": "9bae4ddf-5708-4ce4-acfd-50805859d7c4",
     "prev": "52ffcad8-ade7-46f3-9b3a-a1583dcf4584",
     "regions": {
      "30657933-c9a9-4df7-8ded-5e1a4411b0d8": {
       "attrs": {
        "height": 0.8,
        "width": 0.8,
        "x": 0.1,
        "y": 0.1
       },
       "content": {
        "cell": "50a99de6-ff9e-4add-82be-6e228f0e809a",
        "part": "whole"
       },
       "id": "30657933-c9a9-4df7-8ded-5e1a4411b0d8"
      }
     }
    },
    "a07e7714-1d53-4bd7-abd1-5e64a40073a1": {
     "id": "a07e7714-1d53-4bd7-abd1-5e64a40073a1",
     "prev": "a4efb118-a99f-4f54-89df-4a17c4929431",
     "regions": {
      "50ac0eeb-d45c-4fac-b970-04b41d45dff8": {
       "attrs": {
        "height": 0.8,
        "width": 0.8,
        "x": 0.1,
        "y": 0.1
       },
       "content": {
        "cell": "98dba109-1417-45f6-b361-079ca821aeab",
        "part": "whole"
       },
       "id": "50ac0eeb-d45c-4fac-b970-04b41d45dff8"
      }
     }
    },
    "a12e1e3c-36d5-4a3e-8e1c-afa0f86cb5b1": {
     "id": "a12e1e3c-36d5-4a3e-8e1c-afa0f86cb5b1",
     "prev": "d6dd16bc-f7a8-4397-ab0c-173af0ae6ebb",
     "regions": {
      "e8a7657f-d730-4872-bcd4-1710a9f97019": {
       "attrs": {
        "height": 0.8,
        "width": 0.8,
        "x": 0.1,
        "y": 0.1
       },
       "content": {
        "cell": "3d3f0dea-f271-4022-a36c-2ab0cbdd3fa2",
        "part": "whole"
       },
       "id": "e8a7657f-d730-4872-bcd4-1710a9f97019"
      }
     }
    },
    "a1a6ea95-95c1-4e94-b5fc-26801b2e0e38": {
     "id": "a1a6ea95-95c1-4e94-b5fc-26801b2e0e38",
     "prev": "87614eee-3d9e-4d47-afe1-43414517517b",
     "regions": {
      "ce0e4f33-2f2a-485c-bd13-0cffaf7898f5": {
       "attrs": {
        "height": 0.8,
        "width": 0.8,
        "x": 0.1,
        "y": 0.1
       },
       "content": {
        "cell": "d3b1eee7-46ea-4663-90ce-09c83ca867fd",
        "part": "whole"
       },
       "id": "ce0e4f33-2f2a-485c-bd13-0cffaf7898f5"
      }
     }
    },
    "a3b0c703-f0a7-47ec-9a26-eff3e8d8e865": {
     "id": "a3b0c703-f0a7-47ec-9a26-eff3e8d8e865",
     "prev": "d8f15ee7-5499-4283-a3ec-58ab6de26594",
     "regions": {
      "a050a225-37a9-4a35-b369-bab51087a4ba": {
       "attrs": {
        "height": 0.8,
        "width": 0.8,
        "x": 0.1,
        "y": 0.1
       },
       "content": {
        "cell": "605e5874-75f3-48da-9351-317c533417a9",
        "part": "whole"
       },
       "id": "a050a225-37a9-4a35-b369-bab51087a4ba"
      }
     }
    },
    "a4efb118-a99f-4f54-89df-4a17c4929431": {
     "id": "a4efb118-a99f-4f54-89df-4a17c4929431",
     "prev": "9a54002a-5e91-42f4-beff-ad2c72e346ba",
     "regions": {
      "a3d9b57b-477f-46a8-ab31-53fdd9e05744": {
       "attrs": {
        "height": 0.8,
        "width": 0.8,
        "x": 0.1,
        "y": 0.1
       },
       "content": {
        "cell": "4cc32350-3275-40a0-a049-590181244fcd",
        "part": "whole"
       },
       "id": "a3d9b57b-477f-46a8-ab31-53fdd9e05744"
      }
     }
    },
    "aca33591-7bb8-4b5f-af97-4bbde39130e7": {
     "id": "aca33591-7bb8-4b5f-af97-4bbde39130e7",
     "prev": "1a5729d7-438d-46fa-8c2e-55df1f69e2d0",
     "regions": {
      "2018855e-aa65-4338-af22-e08f4f502dc7": {
       "attrs": {
        "height": 0.8,
        "width": 0.8,
        "x": 0.1,
        "y": 0.1
       },
       "content": {
        "cell": "0010f661-3b1b-4798-b3a1-22baea77772d",
        "part": "whole"
       },
       "id": "2018855e-aa65-4338-af22-e08f4f502dc7"
      }
     }
    },
    "ad549f66-d8fe-4816-bd3c-3cb220f8eccc": {
     "id": "ad549f66-d8fe-4816-bd3c-3cb220f8eccc",
     "prev": "ca54b436-bb58-4055-bb0f-a6e36cbc1d21",
     "regions": {
      "9ca4d127-5810-4516-a067-06e2176df333": {
       "attrs": {
        "height": 0.8,
        "width": 0.8,
        "x": 0.1,
        "y": 0.1
       },
       "content": {
        "cell": "08cdb599-0113-427c-9b8e-a47d3313a4bc",
        "part": "whole"
       },
       "id": "9ca4d127-5810-4516-a067-06e2176df333"
      }
     }
    },
    "b1a4c652-0a8d-45eb-a482-45dfaebf7aa6": {
     "id": "b1a4c652-0a8d-45eb-a482-45dfaebf7aa6",
     "prev": "d1a70b75-8250-42a1-a6a8-542e6f2799c2",
     "regions": {
      "0b9c85e3-360c-49c3-9e30-ee00a47982e0": {
       "attrs": {
        "height": 0.8,
        "width": 0.8,
        "x": 0.1,
        "y": 0.1
       },
       "content": {
        "cell": "0d843915-f4f3-40e9-8162-378ae2207385",
        "part": "whole"
       },
       "id": "0b9c85e3-360c-49c3-9e30-ee00a47982e0"
      }
     }
    },
    "b9305cdf-d72b-43ab-af68-9ac158ca35b9": {
     "id": "b9305cdf-d72b-43ab-af68-9ac158ca35b9",
     "prev": "0d6281a0-5eef-4b3e-88cc-ae20818b686c",
     "regions": {
      "1b1083d3-8e45-4a3e-b80d-7aedffd1f333": {
       "attrs": {
        "height": 0.8,
        "width": 0.8,
        "x": 0.1,
        "y": 0.1
       },
       "content": {
        "cell": "bca09c27-3277-4ec5-9b3b-5fa3b1c443d0",
        "part": "whole"
       },
       "id": "1b1083d3-8e45-4a3e-b80d-7aedffd1f333"
      }
     }
    },
    "c0ec1084-11be-4239-9994-bf4870973e41": {
     "id": "c0ec1084-11be-4239-9994-bf4870973e41",
     "prev": "3f5171fa-02b3-4981-b8d3-3ab42e6e4d1e",
     "regions": {
      "dd817ba9-add5-40f9-bfb4-84a3794d0127": {
       "attrs": {
        "height": 0.8,
        "width": 0.8,
        "x": 0.1,
        "y": 0.1
       },
       "content": {
        "cell": "ad8db883-7df3-4dcf-bc99-e328fdcb3bd0",
        "part": "whole"
       },
       "id": "dd817ba9-add5-40f9-bfb4-84a3794d0127"
      }
     }
    },
    "c1c0305e-1314-4a58-af43-a4e8b5cf66df": {
     "id": "c1c0305e-1314-4a58-af43-a4e8b5cf66df",
     "prev": "07d2631b-3ae5-4007-bc0d-664a0d1afb53",
     "regions": {
      "9f6858a4-5fee-4775-8720-767defb94d4e": {
       "attrs": {
        "height": 0.8,
        "width": 0.8,
        "x": 0.1,
        "y": 0.1
       },
       "content": {
        "cell": "cdc2a0b0-6844-4b92-9cbf-f72bc6a1fcd8",
        "part": "whole"
       },
       "id": "9f6858a4-5fee-4775-8720-767defb94d4e"
      }
     }
    },
    "c260f8be-a0ab-4822-97d6-301234f7b941": {
     "id": "c260f8be-a0ab-4822-97d6-301234f7b941",
     "prev": "f9e86113-99be-4a64-8240-818bbb09e5b2",
     "regions": {
      "42971a26-5652-48a0-877e-60b438028dfc": {
       "attrs": {
        "height": 0.8,
        "width": 0.8,
        "x": 0.1,
        "y": 0.1
       },
       "content": {
        "cell": "5a5d974c-be20-4739-bab3-013583b75788",
        "part": "whole"
       },
       "id": "42971a26-5652-48a0-877e-60b438028dfc"
      }
     }
    },
    "c3887d2c-227a-412f-a639-873e40abbd72": {
     "id": "c3887d2c-227a-412f-a639-873e40abbd72",
     "prev": "0be15516-92e5-433b-b81d-be86d95ab54c",
     "regions": {
      "a07ad556-6d45-4079-9e12-403857950a71": {
       "attrs": {
        "height": 0.8,
        "width": 0.8,
        "x": 0.1,
        "y": 0.1
       },
       "content": {
        "cell": "7f99abca-534f-49fb-8f02-519b483c39e3",
        "part": "whole"
       },
       "id": "a07ad556-6d45-4079-9e12-403857950a71"
      }
     }
    },
    "c4324ab1-8463-432b-aba4-e99b1402efaf": {
     "id": "c4324ab1-8463-432b-aba4-e99b1402efaf",
     "prev": "03ba7199-ef47-448a-976a-92ffc3654986",
     "regions": {
      "4902e643-0508-4976-b2d7-a8f764b76d86": {
       "attrs": {
        "height": 0.8,
        "width": 0.8,
        "x": 0.1,
        "y": 0.1
       },
       "content": {
        "cell": "e0405820-3650-4052-81ca-5ada0a4b8fb8",
        "part": "whole"
       },
       "id": "4902e643-0508-4976-b2d7-a8f764b76d86"
      }
     }
    },
    "c789e6bb-d40e-4733-a8b9-86bd9105c0f6": {
     "id": "c789e6bb-d40e-4733-a8b9-86bd9105c0f6",
     "prev": "1058fd86-82c5-4736-97c5-00b699e34bb6",
     "regions": {
      "e7c4ebb8-7ff2-4f0e-b3f7-39508280d0d7": {
       "attrs": {
        "height": 0.8,
        "width": 0.8,
        "x": 0.1,
        "y": 0.1
       },
       "content": {
        "cell": "4c0ba792-7b09-481f-a14c-8bacc93fa5cf",
        "part": "whole"
       },
       "id": "e7c4ebb8-7ff2-4f0e-b3f7-39508280d0d7"
      }
     }
    },
    "ca54b436-bb58-4055-bb0f-a6e36cbc1d21": {
     "id": "ca54b436-bb58-4055-bb0f-a6e36cbc1d21",
     "prev": "aca33591-7bb8-4b5f-af97-4bbde39130e7",
     "regions": {
      "9983009f-4660-4a21-81f8-6eff781927f2": {
       "attrs": {
        "height": 0.8,
        "width": 0.8,
        "x": 0.1,
        "y": 0.1
       },
       "content": {
        "cell": "ae456360-4967-46e2-8f39-0fad3af4dea3",
        "part": "whole"
       },
       "id": "9983009f-4660-4a21-81f8-6eff781927f2"
      }
     }
    },
    "cce4ec10-ec80-4dfc-beb4-85be5a78fe2a": {
     "id": "cce4ec10-ec80-4dfc-beb4-85be5a78fe2a",
     "prev": "3c0f0b6f-4f7d-4f1e-b077-77a57e5f1fac",
     "regions": {
      "0d77684f-3d79-4c68-95f3-2a006131affe": {
       "attrs": {
        "height": 0.8,
        "width": 0.8,
        "x": 0.1,
        "y": 0.1
       },
       "content": {
        "cell": "27f8139f-3f69-4fc4-b7da-d7e882c28281",
        "part": "whole"
       },
       "id": "0d77684f-3d79-4c68-95f3-2a006131affe"
      }
     }
    },
    "cf19cfa4-a5a5-464d-965a-6a014e011bb6": {
     "id": "cf19cfa4-a5a5-464d-965a-6a014e011bb6",
     "prev": "8c5bead7-da3d-4e8b-aef5-a2d42f8b6b7c",
     "regions": {
      "697e8f71-2c62-4a84-86cf-e3c23aa2ddd5": {
       "attrs": {
        "height": 0.8,
        "width": 0.8,
        "x": 0.1,
        "y": 0.1
       },
       "content": {
        "cell": "4cbb7d85-6ced-4ca7-908b-4c8a3c07cb47",
        "part": "whole"
       },
       "id": "697e8f71-2c62-4a84-86cf-e3c23aa2ddd5"
      }
     }
    },
    "d08bffd0-a52f-4a4e-8c55-bb1a1eb119a6": {
     "id": "d08bffd0-a52f-4a4e-8c55-bb1a1eb119a6",
     "prev": "55fc00ea-ae14-4302-8fb3-3e314096e3ec",
     "regions": {
      "e93c8b22-835b-40b5-85ab-42d49829eb91": {
       "attrs": {
        "height": 0.8,
        "width": 0.8,
        "x": 0.1,
        "y": 0.1
       },
       "content": {
        "cell": "bdeb7802-26a4-4bc9-a050-c8b581a3d8fe",
        "part": "whole"
       },
       "id": "e93c8b22-835b-40b5-85ab-42d49829eb91"
      }
     }
    },
    "d1a70b75-8250-42a1-a6a8-542e6f2799c2": {
     "id": "d1a70b75-8250-42a1-a6a8-542e6f2799c2",
     "prev": "41bd30c0-806a-433b-86e8-7d269b2701a0",
     "regions": {
      "730aaa13-58bf-4283-9b2b-8e9aaa0c0ff6": {
       "attrs": {
        "height": 0.8,
        "width": 0.8,
        "x": 0.1,
        "y": 0.1
       },
       "content": {
        "cell": "22834e59-a013-41fe-b68f-aa492750633d",
        "part": "whole"
       },
       "id": "730aaa13-58bf-4283-9b2b-8e9aaa0c0ff6"
      }
     }
    },
    "d3ce524f-5805-462b-bedb-5197bbad77c0": {
     "id": "d3ce524f-5805-462b-bedb-5197bbad77c0",
     "prev": "7c52a06c-b0e4-47f7-83c7-2aa0387bf4e5",
     "regions": {
      "49ed440a-4ff3-4f4f-9f21-c3c2c24bceda": {
       "attrs": {
        "height": 0.8,
        "width": 0.8,
        "x": 0.1,
        "y": 0.1
       },
       "content": {
        "cell": "1c422e03-64e8-42b5-9bfa-2bb5eb25d34f",
        "part": "whole"
       },
       "id": "49ed440a-4ff3-4f4f-9f21-c3c2c24bceda"
      }
     }
    },
    "d6dd16bc-f7a8-4397-ab0c-173af0ae6ebb": {
     "id": "d6dd16bc-f7a8-4397-ab0c-173af0ae6ebb",
     "prev": "e6a6c5f9-8e99-4332-9212-bce318163e2c",
     "regions": {
      "76fadc06-b860-4c85-9911-b1f3cea886a9": {
       "attrs": {
        "height": 0.8,
        "width": 0.8,
        "x": 0.1,
        "y": 0.1
       },
       "content": {
        "cell": "860b137d-a1d3-4cee-9f86-19ae93b13fa6",
        "part": "whole"
       },
       "id": "76fadc06-b860-4c85-9911-b1f3cea886a9"
      }
     }
    },
    "d8f15ee7-5499-4283-a3ec-58ab6de26594": {
     "id": "d8f15ee7-5499-4283-a3ec-58ab6de26594",
     "prev": "b1a4c652-0a8d-45eb-a482-45dfaebf7aa6",
     "regions": {
      "db57c606-3bba-46ca-a187-2679e1e072d2": {
       "attrs": {
        "height": 0.8,
        "width": 0.8,
        "x": 0.1,
        "y": 0.1
       },
       "content": {
        "cell": "31e0837e-675a-4b31-87e4-d1738cab3960",
        "part": "whole"
       },
       "id": "db57c606-3bba-46ca-a187-2679e1e072d2"
      }
     }
    },
    "da930ec8-aa44-412e-8f62-f122256dfb44": {
     "id": "da930ec8-aa44-412e-8f62-f122256dfb44",
     "prev": "6a7160df-450d-488e-8467-1f3fc2f23976",
     "regions": {
      "58f4fdd5-9456-4e77-a288-2f7bd8cf45af": {
       "attrs": {
        "height": 0.8,
        "width": 0.8,
        "x": 0.1,
        "y": 0.1
       },
       "content": {
        "cell": "9c0b87ec-5261-45ed-a1e8-b3412ba7ca69",
        "part": "whole"
       },
       "id": "58f4fdd5-9456-4e77-a288-2f7bd8cf45af"
      }
     }
    },
    "dec67221-7f96-44a1-ad60-568ef6e884f3": {
     "id": "dec67221-7f96-44a1-ad60-568ef6e884f3",
     "prev": "532a6b9e-cabf-471d-adbc-c40ea7223016",
     "regions": {
      "3e615447-45eb-4e6b-a9f7-ed42d109f7ac": {
       "attrs": {
        "height": 0.8,
        "width": 0.8,
        "x": 0.1,
        "y": 0.1
       },
       "content": {
        "cell": "1b95b432-504e-4c25-a668-5d4076b255e9",
        "part": "whole"
       },
       "id": "3e615447-45eb-4e6b-a9f7-ed42d109f7ac"
      }
     }
    },
    "e28da4f5-df99-42af-9352-2b53513737c1": {
     "id": "e28da4f5-df99-42af-9352-2b53513737c1",
     "prev": "4a4019de-4db5-4be8-8ff4-164742f7928c",
     "regions": {
      "e4a6d7b3-ed4b-4c43-9781-d80644d87877": {
       "attrs": {
        "height": 0.8,
        "width": 0.8,
        "x": 0.1,
        "y": 0.1
       },
       "content": {
        "cell": "0e0e71bb-1ff4-4fbb-831f-436123a9a57d",
        "part": "whole"
       },
       "id": "e4a6d7b3-ed4b-4c43-9781-d80644d87877"
      }
     }
    },
    "e6a6c5f9-8e99-4332-9212-bce318163e2c": {
     "id": "e6a6c5f9-8e99-4332-9212-bce318163e2c",
     "prev": "c789e6bb-d40e-4733-a8b9-86bd9105c0f6",
     "regions": {
      "258f0556-5901-4ebd-b13f-1aa7b7434efb": {
       "attrs": {
        "height": 0.8,
        "width": 0.8,
        "x": 0.1,
        "y": 0.1
       },
       "content": {
        "cell": "f5ea014b-bbcc-428d-9406-c61b1688f2bd",
        "part": "whole"
       },
       "id": "258f0556-5901-4ebd-b13f-1aa7b7434efb"
      }
     }
    },
    "eb8ffa7d-4547-47f6-a19e-87784214e7c4": {
     "id": "eb8ffa7d-4547-47f6-a19e-87784214e7c4",
     "prev": "8648aa49-246a-4283-9bbb-d41e6144d1cf",
     "regions": {
      "19a2cf41-2f73-46c9-a197-0959bb4912ee": {
       "attrs": {
        "height": 0.8,
        "width": 0.8,
        "x": 0.1,
        "y": 0.1
       },
       "content": {
        "cell": "92455ade-0148-4946-9bfd-187c8827c4c5",
        "part": "whole"
       },
       "id": "19a2cf41-2f73-46c9-a197-0959bb4912ee"
      }
     }
    },
    "ed05e93d-ae04-43e9-a3b0-c67e65de5549": {
     "id": "ed05e93d-ae04-43e9-a3b0-c67e65de5549",
     "prev": "5b98f8e1-68a0-4a7b-a6e4-cb9c92674c44",
     "regions": {
      "d3ec8385-04b0-4f2b-ad9d-a66462ec0694": {
       "attrs": {
        "height": 0.8,
        "width": 0.8,
        "x": 0.1,
        "y": 0.1
       },
       "content": {
        "cell": "90d77434-0d77-4c7b-83de-8fd581bf19e5",
        "part": "whole"
       },
       "id": "d3ec8385-04b0-4f2b-ad9d-a66462ec0694"
      }
     }
    },
    "f03829a0-6d67-4670-9fdc-4a48a290aedd": {
     "id": "f03829a0-6d67-4670-9fdc-4a48a290aedd",
     "prev": "1ee03190-b983-49cf-98dc-77a65abdb0c4",
     "regions": {
      "17a58338-58b0-4878-ba3d-69dd03a49489": {
       "attrs": {
        "height": 0.8,
        "width": 0.8,
        "x": 0.1,
        "y": 0.1
       },
       "content": {
        "cell": "e50adfc6-d468-4b51-aa31-3ea215e9080d",
        "part": "whole"
       },
       "id": "17a58338-58b0-4878-ba3d-69dd03a49489"
      }
     }
    },
    "f197d31c-6364-4d78-93af-560271523c87": {
     "id": "f197d31c-6364-4d78-93af-560271523c87",
     "prev": "2d96d611-b4e4-4d41-b0db-0d6d3bdb35d3",
     "regions": {
      "e5220e88-125d-431f-bf40-91b11dcb2ef0": {
       "attrs": {
        "height": 0.8,
        "width": 0.8,
        "x": 0.1,
        "y": 0.1
       },
       "content": {
        "cell": "0ce4c0c1-f9c8-4a39-830c-3b947dac0be7",
        "part": "whole"
       },
       "id": "e5220e88-125d-431f-bf40-91b11dcb2ef0"
      }
     }
    },
    "f24711b9-5571-475a-8e49-d82345660b25": {
     "id": "f24711b9-5571-475a-8e49-d82345660b25",
     "prev": "f197d31c-6364-4d78-93af-560271523c87",
     "regions": {
      "73bf8c3a-e928-494f-8679-5244dd83e7a4": {
       "attrs": {
        "height": 0.8,
        "width": 0.8,
        "x": 0.1,
        "y": 0.1
       },
       "content": {
        "cell": "147c4f04-50cb-478d-b3ea-807e8b60496c",
        "part": "whole"
       },
       "id": "73bf8c3a-e928-494f-8679-5244dd83e7a4"
      }
     }
    },
    "f4549cf3-6a48-486e-bcfd-55bff2e48d43": {
     "id": "f4549cf3-6a48-486e-bcfd-55bff2e48d43",
     "prev": "431bb463-a4a8-4b41-98cb-1c285fc2bcaf",
     "regions": {
      "498c1800-430a-4626-931c-561db326ba13": {
       "attrs": {
        "height": 0.8,
        "width": 0.8,
        "x": 0.1,
        "y": 0.1
       },
       "content": {
        "cell": "d3d797b6-a4f1-40b4-8960-75882778c725",
        "part": "whole"
       },
       "id": "498c1800-430a-4626-931c-561db326ba13"
      }
     }
    },
    "f50588fc-9b05-4ffd-9067-2c56ccb0ada3": {
     "id": "f50588fc-9b05-4ffd-9067-2c56ccb0ada3",
     "prev": "25dc1c78-be45-427a-ac1f-b34224932125",
     "regions": {
      "bfe46e4f-ca81-4474-b0ef-770093ab6078": {
       "attrs": {
        "height": 0.8,
        "width": 0.8,
        "x": 0.1,
        "y": 0.1
       },
       "content": {
        "cell": "83aab36d-60ec-40c4-8f50-d59fe8a532e5",
        "part": "whole"
       },
       "id": "bfe46e4f-ca81-4474-b0ef-770093ab6078"
      }
     }
    },
    "f7d6ec0e-ba48-4460-8524-a75955fda034": {
     "id": "f7d6ec0e-ba48-4460-8524-a75955fda034",
     "prev": "85dfa132-5480-43f0-8211-d91c66a94356",
     "regions": {
      "faaf3255-8434-4427-8f69-f77aabf4ba84": {
       "attrs": {
        "height": 0.8,
        "width": 0.8,
        "x": 0.1,
        "y": 0.1
       },
       "content": {
        "cell": "f3fb49fd-7a49-4141-bb7b-34ac22ab3621",
        "part": "whole"
       },
       "id": "faaf3255-8434-4427-8f69-f77aabf4ba84"
      }
     }
    },
    "f8918f13-4630-435b-b9ce-6862d7ffd9ff": {
     "id": "f8918f13-4630-435b-b9ce-6862d7ffd9ff",
     "prev": "5f16dcd4-9cee-45f0-ae2c-e9ab91efb462",
     "regions": {
      "1074aea6-1af4-40f2-b422-136ee5b59433": {
       "attrs": {
        "height": 0.8,
        "width": 0.8,
        "x": 0.1,
        "y": 0.1
       },
       "content": {
        "cell": "2e6c643a-42d9-4666-89b1-ae8209f13f8c",
        "part": "whole"
       },
       "id": "1074aea6-1af4-40f2-b422-136ee5b59433"
      }
     }
    },
    "f9e86113-99be-4a64-8240-818bbb09e5b2": {
     "id": "f9e86113-99be-4a64-8240-818bbb09e5b2",
     "prev": "0398551d-3e27-4bb0-969f-a65b103be71f",
     "regions": {
      "c0601b36-b6dd-45f0-a7a9-be637a27ed16": {
       "attrs": {
        "height": 0.8,
        "width": 0.8,
        "x": 0.1,
        "y": 0.1
       },
       "content": {
        "cell": "6db80ae9-4704-4286-b59e-9ec1f1d170a3",
        "part": "whole"
       },
       "id": "c0601b36-b6dd-45f0-a7a9-be637a27ed16"
      }
     }
    },
    "fa5ac177-01b1-43a3-8d25-a4b99efe3e03": {
     "id": "fa5ac177-01b1-43a3-8d25-a4b99efe3e03",
     "prev": "e28da4f5-df99-42af-9352-2b53513737c1",
     "regions": {
      "163850ad-7ec1-4cfa-bb81-e66d539a23bb": {
       "attrs": {
        "height": 0.8,
        "width": 0.8,
        "x": 0.1,
        "y": 0.1
       },
       "content": {
        "cell": "74c87caf-001f-4597-b479-8652166d0e87",
        "part": "whole"
       },
       "id": "163850ad-7ec1-4cfa-bb81-e66d539a23bb"
      }
     }
    }
   },
   "themes": {}
  }
 },
 "nbformat": 4,
 "nbformat_minor": 2
}
